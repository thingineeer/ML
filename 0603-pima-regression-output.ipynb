{
 "cells": [
  {
   "cell_type": "markdown",
   "metadata": {
    "id": "H8f1LQOFbHeE"
   },
   "source": [
    "## 데이터셋 출처\n",
    "* [Pima Indians Diabetes Database | Kaggle](https://www.kaggle.com/uciml/pima-indians-diabetes-database)\n",
    "* https://scikit-learn.org/stable/modules/generated/sklearn.datasets.load_diabetes.html\n",
    "\n",
    "\n",
    "### 데이터 구성\n",
    "\n",
    "* Pregnancies : 임신 횟수\n",
    "* Glucose : 2시간 동안의 경구 포도당 내성 검사에서 혈장 포도당 농도 \n",
    "* BloodPressure : 이완기 혈압 (mm Hg)\n",
    "* SkinThickness : 삼두근 피부 주름 두께 (mm), 체지방을 추정하는데 사용되는 값\n",
    "* Insulin : 2시간 혈청 인슐린 (mu U / ml)\n",
    "* BMI : 체질량 지수 (체중kg / 키(m)^2)\n",
    "* DiabetesPedigreeFunction : 당뇨병 혈통 기능\n",
    "* Age : 나이\n",
    "* Outcome : 768개 중에 268개의 결과 클래스 변수(0 또는 1)는 1이고 나머지는 0입니다.\n",
    "\n",
    "\n",
    "## 필요한 라이브러리 로드"
   ]
  },
  {
   "cell_type": "code",
   "execution_count": 20,
   "metadata": {
    "ExecuteTime": {
     "end_time": "2022-06-15T13:19:20.201251Z",
     "start_time": "2022-06-15T13:19:20.163348Z"
    },
    "id": "kqTMfN3pbHeJ"
   },
   "outputs": [],
   "source": [
    "# 데이터 분석을 위한 pandas, 수치계산을 위한 numpy\n",
    "# 시각화를 위한 seaborn, matplotlib.pyplot 을 로드합니다. \n",
    "\n",
    "import pandas as pd\n",
    "import numpy as np\n",
    "import seaborn as sns\n",
    "import matplotlib.pyplot as plt"
   ]
  },
  {
   "cell_type": "markdown",
   "metadata": {
    "id": "VGq9j0whbHeL"
   },
   "source": [
    "## 데이터셋 로드"
   ]
  },
  {
   "cell_type": "code",
   "execution_count": 21,
   "metadata": {
    "ExecuteTime": {
     "end_time": "2022-06-15T13:19:21.764052Z",
     "start_time": "2022-06-15T13:19:21.060673Z"
    },
    "id": "nuBr8EzKbHeM"
   },
   "outputs": [
    {
     "data": {
      "text/plain": [
       "(768, 9)"
      ]
     },
     "execution_count": 21,
     "metadata": {},
     "output_type": "execute_result"
    }
   ],
   "source": [
    "df = pd.read_csv(\"http://bit.ly/data-diabetes-csv\")\n",
    "df.shape"
   ]
  },
  {
   "cell_type": "code",
   "execution_count": 22,
   "metadata": {
    "ExecuteTime": {
     "end_time": "2022-06-15T13:19:22.131989Z",
     "start_time": "2022-06-15T13:19:22.100058Z"
    },
    "id": "Ut3YRr6XbHeM"
   },
   "outputs": [
    {
     "data": {
      "text/html": [
       "<div>\n",
       "<style scoped>\n",
       "    .dataframe tbody tr th:only-of-type {\n",
       "        vertical-align: middle;\n",
       "    }\n",
       "\n",
       "    .dataframe tbody tr th {\n",
       "        vertical-align: top;\n",
       "    }\n",
       "\n",
       "    .dataframe thead th {\n",
       "        text-align: right;\n",
       "    }\n",
       "</style>\n",
       "<table border=\"1\" class=\"dataframe\">\n",
       "  <thead>\n",
       "    <tr style=\"text-align: right;\">\n",
       "      <th></th>\n",
       "      <th>Pregnancies</th>\n",
       "      <th>Glucose</th>\n",
       "      <th>BloodPressure</th>\n",
       "      <th>SkinThickness</th>\n",
       "      <th>Insulin</th>\n",
       "      <th>BMI</th>\n",
       "      <th>DiabetesPedigreeFunction</th>\n",
       "      <th>Age</th>\n",
       "      <th>Outcome</th>\n",
       "    </tr>\n",
       "  </thead>\n",
       "  <tbody>\n",
       "    <tr>\n",
       "      <th>0</th>\n",
       "      <td>6</td>\n",
       "      <td>148</td>\n",
       "      <td>72</td>\n",
       "      <td>35</td>\n",
       "      <td>0</td>\n",
       "      <td>33.6</td>\n",
       "      <td>0.627</td>\n",
       "      <td>50</td>\n",
       "      <td>1</td>\n",
       "    </tr>\n",
       "    <tr>\n",
       "      <th>1</th>\n",
       "      <td>1</td>\n",
       "      <td>85</td>\n",
       "      <td>66</td>\n",
       "      <td>29</td>\n",
       "      <td>0</td>\n",
       "      <td>26.6</td>\n",
       "      <td>0.351</td>\n",
       "      <td>31</td>\n",
       "      <td>0</td>\n",
       "    </tr>\n",
       "    <tr>\n",
       "      <th>2</th>\n",
       "      <td>8</td>\n",
       "      <td>183</td>\n",
       "      <td>64</td>\n",
       "      <td>0</td>\n",
       "      <td>0</td>\n",
       "      <td>23.3</td>\n",
       "      <td>0.672</td>\n",
       "      <td>32</td>\n",
       "      <td>1</td>\n",
       "    </tr>\n",
       "    <tr>\n",
       "      <th>3</th>\n",
       "      <td>1</td>\n",
       "      <td>89</td>\n",
       "      <td>66</td>\n",
       "      <td>23</td>\n",
       "      <td>94</td>\n",
       "      <td>28.1</td>\n",
       "      <td>0.167</td>\n",
       "      <td>21</td>\n",
       "      <td>0</td>\n",
       "    </tr>\n",
       "    <tr>\n",
       "      <th>4</th>\n",
       "      <td>0</td>\n",
       "      <td>137</td>\n",
       "      <td>40</td>\n",
       "      <td>35</td>\n",
       "      <td>168</td>\n",
       "      <td>43.1</td>\n",
       "      <td>2.288</td>\n",
       "      <td>33</td>\n",
       "      <td>1</td>\n",
       "    </tr>\n",
       "  </tbody>\n",
       "</table>\n",
       "</div>"
      ],
      "text/plain": [
       "   Pregnancies  Glucose  BloodPressure  SkinThickness  Insulin   BMI  \\\n",
       "0            6      148             72             35        0  33.6   \n",
       "1            1       85             66             29        0  26.6   \n",
       "2            8      183             64              0        0  23.3   \n",
       "3            1       89             66             23       94  28.1   \n",
       "4            0      137             40             35      168  43.1   \n",
       "\n",
       "   DiabetesPedigreeFunction  Age  Outcome  \n",
       "0                     0.627   50        1  \n",
       "1                     0.351   31        0  \n",
       "2                     0.672   32        1  \n",
       "3                     0.167   21        0  \n",
       "4                     2.288   33        1  "
      ]
     },
     "execution_count": 22,
     "metadata": {},
     "output_type": "execute_result"
    }
   ],
   "source": [
    "df.head()"
   ]
  },
  {
   "cell_type": "code",
   "execution_count": 23,
   "metadata": {
    "ExecuteTime": {
     "end_time": "2022-06-15T13:19:22.835406Z",
     "start_time": "2022-06-15T13:19:22.819462Z"
    }
   },
   "outputs": [
    {
     "data": {
      "text/plain": [
       "Pregnancies                  17\n",
       "Glucose                     136\n",
       "BloodPressure                47\n",
       "SkinThickness                51\n",
       "Insulin                     186\n",
       "BMI                         248\n",
       "DiabetesPedigreeFunction    517\n",
       "Age                          52\n",
       "Outcome                       2\n",
       "dtype: int64"
      ]
     },
     "execution_count": 23,
     "metadata": {},
     "output_type": "execute_result"
    }
   ],
   "source": [
    "df.nunique()"
   ]
  },
  {
   "cell_type": "markdown",
   "metadata": {
    "id": "87cp7cAGbHeN"
   },
   "source": [
    "## 학습, 예측 데이터셋 나누기"
   ]
  },
  {
   "cell_type": "code",
   "execution_count": 24,
   "metadata": {
    "ExecuteTime": {
     "end_time": "2022-06-15T13:19:25.233875Z",
     "start_time": "2022-06-15T13:19:25.026395Z"
    },
    "id": "GGc1yB0AbHeO"
   },
   "outputs": [
    {
     "data": {
      "text/plain": [
       "<AxesSubplot:xlabel='Insulin', ylabel='Density'>"
      ]
     },
     "execution_count": 24,
     "metadata": {},
     "output_type": "execute_result"
    },
    {
     "data": {
      "image/png": "[encoded data removed]",
      "text/plain": [
       "<Figure size 432x288 with 1 Axes>"
      ]
     },
     "metadata": {
      "needs_background": "light"
     },
     "output_type": "display_data"
    }
   ],
   "source": [
    "# label 값을 기준으로 나눕니다.\n",
    "# 나누기 전에 label 값을 시각화 합니다.\n",
    "sns.kdeplot(data=df, x=\"Insulin\", hue=\"Outcome\")"
   ]
  },
  {
   "cell_type": "code",
   "execution_count": 25,
   "metadata": {
    "ExecuteTime": {
     "end_time": "2022-06-15T13:19:25.657996Z",
     "start_time": "2022-06-15T13:19:25.644035Z"
    },
    "id": "PaPU6V6pbHeP"
   },
   "outputs": [
    {
     "data": {
      "text/plain": [
       "(394, 9)"
      ]
     },
     "execution_count": 25,
     "metadata": {},
     "output_type": "execute_result"
    }
   ],
   "source": [
    "# train 세트를 만듭니다.\n",
    "train = df[df[\"Insulin\"] > 0]\n",
    "train.shape"
   ]
  },
  {
   "cell_type": "code",
   "execution_count": 38,
   "metadata": {
    "ExecuteTime": {
     "end_time": "2022-06-15T13:23:02.212577Z",
     "start_time": "2022-06-15T13:23:02.203633Z"
    }
   },
   "outputs": [
    {
     "data": {
      "text/plain": [
       "0       True\n",
       "1       True\n",
       "2       True\n",
       "3      False\n",
       "4      False\n",
       "       ...  \n",
       "763    False\n",
       "764     True\n",
       "765    False\n",
       "766     True\n",
       "767     True\n",
       "Name: Insulin, Length: 768, dtype: bool"
      ]
     },
     "execution_count": 38,
     "metadata": {},
     "output_type": "execute_result"
    }
   ],
   "source": [
    "df[\"Insulin\"] == 0"
   ]
  },
  {
   "cell_type": "code",
   "execution_count": 27,
   "metadata": {
    "ExecuteTime": {
     "end_time": "2022-06-15T13:19:26.559722Z",
     "start_time": "2022-06-15T13:19:26.547757Z"
    },
    "id": "M8GhahfzbHeP"
   },
   "outputs": [
    {
     "data": {
      "text/plain": [
       "(374, 9)"
      ]
     },
     "execution_count": 27,
     "metadata": {},
     "output_type": "execute_result"
    }
   ],
   "source": [
    "# test 세트를 만듭니다.\n",
    "test = df[df[\"Insulin\"] == 0]\n",
    "test.shape"
   ]
  },
  {
   "cell_type": "markdown",
   "metadata": {
    "id": "lrsNcNqGbHeY"
   },
   "source": [
    "## 정답값이자 예측해야 될 값"
   ]
  },
  {
   "cell_type": "code",
   "execution_count": 28,
   "metadata": {
    "ExecuteTime": {
     "end_time": "2022-06-15T13:19:27.428181Z",
     "start_time": "2022-06-15T13:19:27.422244Z"
    },
    "id": "rovGnHKwbHeZ"
   },
   "outputs": [
    {
     "data": {
      "text/plain": [
       "'Insulin'"
      ]
     },
     "execution_count": 28,
     "metadata": {},
     "output_type": "execute_result"
    }
   ],
   "source": [
    "# label_name 이라는 변수에 예측할 컬럼의 이름을 담습니다.\n",
    "label_name = \"Insulin\"\n",
    "label_name"
   ]
  },
  {
   "cell_type": "markdown",
   "metadata": {
    "id": "BUhNuf7lbHeX"
   },
   "source": [
    "\n",
    "## 학습, 예측에 사용할 컬럼"
   ]
  },
  {
   "cell_type": "code",
   "execution_count": 39,
   "metadata": {
    "ExecuteTime": {
     "end_time": "2022-06-15T13:23:50.914877Z",
     "start_time": "2022-06-15T13:23:50.894933Z"
    },
    "id": "WAEgFp_BbHeY",
    "scrolled": true
   },
   "outputs": [
    {
     "data": {
      "text/plain": [
       "['Pregnancies',\n",
       " 'Glucose',\n",
       " 'BloodPressure',\n",
       " 'SkinThickness',\n",
       " 'BMI',\n",
       " 'DiabetesPedigreeFunction',\n",
       " 'Age',\n",
       " 'Outcome']"
      ]
     },
     "execution_count": 39,
     "metadata": {},
     "output_type": "execute_result"
    }
   ],
   "source": [
    "# feature_names 라는 변수에 학습과 예측에 사용할 컬럼명을 가져옵니다.\n",
    "# 컬럼명을 리스트로 가져오고 사용하지 않을 컬럼을 제거합니다.\n",
    "feature_names = df.columns.tolist()\n",
    "feature_names.remove(label_name)\n",
    "feature_names"
   ]
  },
  {
   "cell_type": "markdown",
   "metadata": {
    "id": "XRbVxpI1bHea"
   },
   "source": [
    "## 학습, 예측 데이터셋 만들기"
   ]
  },
  {
   "cell_type": "code",
   "execution_count": 40,
   "metadata": {
    "ExecuteTime": {
     "end_time": "2022-06-15T13:23:58.177108Z",
     "start_time": "2022-06-15T13:23:58.157152Z"
    },
    "id": "Y3Pk1w_hbHea"
   },
   "outputs": [
    {
     "data": {
      "text/plain": [
       "(394, 8)"
      ]
     },
     "execution_count": 40,
     "metadata": {},
     "output_type": "execute_result"
    }
   ],
   "source": [
    "# 학습 세트 만들기 예) 시험의 기출문제\n",
    "X_train = train[feature_names]\n",
    "X_train.shape"
   ]
  },
  {
   "cell_type": "code",
   "execution_count": 41,
   "metadata": {
    "ExecuteTime": {
     "end_time": "2022-06-15T13:24:00.478879Z",
     "start_time": "2022-06-15T13:24:00.471924Z"
    },
    "id": "jwgLPwEabHeb"
   },
   "outputs": [
    {
     "data": {
      "text/plain": [
       "(394,)"
      ]
     },
     "execution_count": 41,
     "metadata": {},
     "output_type": "execute_result"
    }
   ],
   "source": [
    "# 정답 값을 만들어 줍니다. 예) 기출문제의 정답\n",
    "y_train = train[label_name] # label_name = 'Insulin'\n",
    "y_train.shape"
   ]
  },
  {
   "cell_type": "code",
   "execution_count": 32,
   "metadata": {
    "ExecuteTime": {
     "end_time": "2022-06-15T13:19:32.069524Z",
     "start_time": "2022-06-15T13:19:32.055530Z"
    },
    "id": "-rDUo9zCbHeb"
   },
   "outputs": [
    {
     "data": {
      "text/plain": [
       "(374, 8)"
      ]
     },
     "execution_count": 32,
     "metadata": {},
     "output_type": "execute_result"
    }
   ],
   "source": [
    "# 예측에 사용할 데이터세트를 만듭니다. 예) 실전 시험 문제\n",
    "X_test = test[feature_names]\n",
    "X_test.shape"
   ]
  },
  {
   "cell_type": "code",
   "execution_count": 48,
   "metadata": {
    "ExecuteTime": {
     "end_time": "2022-06-15T13:31:05.204215Z",
     "start_time": "2022-06-15T13:31:05.193215Z"
    },
    "id": "tUaV_7g6bHec"
   },
   "outputs": [
    {
     "data": {
      "text/plain": [
       "(374,)"
      ]
     },
     "execution_count": 48,
     "metadata": {},
     "output_type": "execute_result"
    }
   ],
   "source": [
    "# 예측의 정답값 예) 실전 시험 문제의 정답\n",
    "y_test = test[label_name]\n",
    "y_test.shape"
   ]
  },
  {
   "cell_type": "markdown",
   "metadata": {
    "id": "_upaCTy0bHec"
   },
   "source": [
    "## 머신러닝 알고리즘 가져오기"
   ]
  },
  {
   "cell_type": "code",
   "execution_count": 43,
   "metadata": {
    "ExecuteTime": {
     "end_time": "2022-06-15T13:30:12.940090Z",
     "start_time": "2022-06-15T13:30:12.933172Z"
    },
    "id": "u7JDJNstbHed"
   },
   "outputs": [
    {
     "data": {
      "text/plain": [
       "DecisionTreeRegressor(random_state=42)"
      ]
     },
     "execution_count": 43,
     "metadata": {},
     "output_type": "execute_result"
    }
   ],
   "source": [
    "from sklearn.tree import DecisionTreeRegressor\n",
    "\n",
    "model = DecisionTreeRegressor(random_state=42)\n",
    "model"
   ]
  },
  {
   "cell_type": "markdown",
   "metadata": {
    "id": "aTEfr4f4bHef"
   },
   "source": [
    "\n",
    "## 학습(훈련)\n",
    "* 시험을 볼 때 기출문제(X_train)와 정답(y_train)을 보고 공부하는 과정과 유사합니다."
   ]
  },
  {
   "cell_type": "code",
   "execution_count": 49,
   "metadata": {
    "ExecuteTime": {
     "end_time": "2022-06-15T13:31:09.160262Z",
     "start_time": "2022-06-15T13:31:09.148295Z"
    },
    "id": "c4KvUp4qbHeg",
    "scrolled": false
   },
   "outputs": [
    {
     "data": {
      "text/plain": [
       "DecisionTreeRegressor(random_state=42)"
      ]
     },
     "execution_count": 49,
     "metadata": {},
     "output_type": "execute_result"
    }
   ],
   "source": [
    "model.fit(X_train, y_train)"
   ]
  },
  {
   "cell_type": "markdown",
   "metadata": {
    "id": "cr4lb0XAbHei"
   },
   "source": [
    "## cross validation 으로 학습 세트의 오차 측정하기"
   ]
  },
  {
   "cell_type": "code",
   "execution_count": 50,
   "metadata": {
    "ExecuteTime": {
     "end_time": "2022-06-15T13:31:10.171791Z",
     "start_time": "2022-06-15T13:31:10.160821Z"
    }
   },
   "outputs": [
    {
     "data": {
      "text/plain": [
       "DecisionTreeRegressor(random_state=42)"
      ]
     },
     "execution_count": 50,
     "metadata": {},
     "output_type": "execute_result"
    }
   ],
   "source": [
    "model"
   ]
  },
  {
   "cell_type": "code",
   "execution_count": 51,
   "metadata": {
    "ExecuteTime": {
     "end_time": "2022-06-15T13:31:10.701438Z",
     "start_time": "2022-06-15T13:31:10.681492Z"
    }
   },
   "outputs": [
    {
     "data": {
      "text/plain": [
       "((394, 8), (394,))"
      ]
     },
     "execution_count": 51,
     "metadata": {},
     "output_type": "execute_result"
    }
   ],
   "source": [
    "X_train.shape, y_train.shape"
   ]
  },
  {
   "cell_type": "code",
   "execution_count": 56,
   "metadata": {
    "ExecuteTime": {
     "end_time": "2022-06-15T13:37:26.818951Z",
     "start_time": "2022-06-15T13:37:21.284337Z"
    },
    "id": "yIG1qVWKbHem"
   },
   "outputs": [
    {
     "name": "stderr",
     "output_type": "stream",
     "text": [
      "[Parallel(n_jobs=-1)]: Using backend LokyBackend with 8 concurrent workers.\n",
      "[Parallel(n_jobs=-1)]: Done   2 out of   5 | elapsed:    5.4s remaining:    8.1s\n",
      "[Parallel(n_jobs=-1)]: Done   5 out of   5 | elapsed:    5.4s remaining:    0.0s\n",
      "[Parallel(n_jobs=-1)]: Done   5 out of   5 | elapsed:    5.4s finished\n"
     ]
    },
    {
     "data": {
      "text/plain": [
       "array([ 25., 480.,  55., 145., 495.])"
      ]
     },
     "execution_count": 56,
     "metadata": {},
     "output_type": "execute_result"
    }
   ],
   "source": [
    "# model_selection의 cross_val_predict 로 cv 로 조각을 나눠 valid 데이터의 학습결과 측정하기\n",
    "# y_predict\n",
    "\n",
    "from sklearn.model_selection import cross_val_predict\n",
    "\n",
    "y_valid_predict = cross_val_predict(model, X_train, y_train, cv=5, n_jobs=-1, verbose=2)\n",
    "y_valid_predict[:5]"
   ]
  },
  {
   "cell_type": "code",
   "execution_count": 57,
   "metadata": {
    "ExecuteTime": {
     "end_time": "2022-06-15T13:37:26.833909Z",
     "start_time": "2022-06-15T13:37:26.822944Z"
    },
    "id": "L3q3hIEVbHeo"
   },
   "outputs": [
    {
     "data": {
      "text/plain": [
       "3"
      ]
     },
     "execution_count": 57,
     "metadata": {},
     "output_type": "execute_result"
    }
   ],
   "source": [
    "# 정답을 정확하게 맞춘 갯수\n",
    "(y_train == y_valid_predict).sum()"
   ]
  },
  {
   "cell_type": "code",
   "execution_count": 58,
   "metadata": {
    "ExecuteTime": {
     "end_time": "2022-06-15T13:37:26.848870Z",
     "start_time": "2022-06-15T13:37:26.835907Z"
    }
   },
   "outputs": [
    {
     "data": {
      "text/plain": [
       "0.007614213197969543"
      ]
     },
     "execution_count": 58,
     "metadata": {},
     "output_type": "execute_result"
    }
   ],
   "source": [
    "(y_train == y_valid_predict).mean()"
   ]
  },
  {
   "cell_type": "code",
   "execution_count": 59,
   "metadata": {
    "ExecuteTime": {
     "end_time": "2022-06-15T13:37:26.863830Z",
     "start_time": "2022-06-15T13:37:26.852860Z"
    },
    "id": "NHqSW9S1bHer"
   },
   "outputs": [
    {
     "data": {
      "text/plain": [
       "(394,)"
      ]
     },
     "execution_count": 59,
     "metadata": {},
     "output_type": "execute_result"
    }
   ],
   "source": [
    "# 전체 예측해야 하는 train 데이터의 갯수\n",
    "y_train.shape"
   ]
  },
  {
   "cell_type": "code",
   "execution_count": 82,
   "metadata": {
    "ExecuteTime": {
     "end_time": "2022-06-15T14:13:55.839465Z",
     "start_time": "2022-06-15T14:13:55.821397Z"
    }
   },
   "outputs": [
    {
     "data": {
      "text/plain": [
       "array([ 25., 480.,  55., 145., 495., 130., 220., 285., 176., 155., 237.,\n",
       "       120.,  56., 415., 185.,  25.,  99., 215., 265., 210.,  90., 265.,\n",
       "        59., 495., 125., 277., 220.,  94., 180.,  44., 115.,  86., 135.,\n",
       "       291., 115.,  75., 100., 480.,  78.,  57., 180., 155.,  15.,  54.,\n",
       "       220., 115., 330., 122.,  66.,  84., 168., 231.,  32., 194.,  58.,\n",
       "       579.,  75.,  54., 106., 120., 106.,  96., 321.,  49., 318.,  70.,\n",
       "        87., 152., 158., 291.,  99., 145., 231., 167., 100., 165.,  25.,\n",
       "       210., 190., 150., 110.,  87., 293.,  66.,  49., 342., 100.,  89.,\n",
       "        49., 846., 110., 192., 204., 130., 235., 182., 191., 166.,  49.,\n",
       "       105., 207., 115., 250.,  74., 140., 215., 152., 167., 215.,  71.,\n",
       "        56., 249., 120., 540.,  43.,  37., 207., 210., 130., 465., 310.,\n",
       "       146.,  40., 190., 392., 237., 200., 190., 142.,  60., 110.,  89.,\n",
       "       182., 144., 495., 600., 235., 150.,  86., 200., 125., 176., 210.,\n",
       "       250., 293.,  79., 152.,  46., 291.,  48.,  74., 110.,  64., 105.,\n",
       "       167.,  78., 225.,  50., 116.,  44., 285., 106., 130., 480., 120.,\n",
       "        83., 175.,  18.,  56., 120., 150., 120.,  50., 194., 105.,  49.,\n",
       "        23., 478.,  49., 280., 225., 130.,  64.,  23., 146., 321., 192.,\n",
       "       125.,  90., 342., 210.,  36.,  48., 115., 116., 192.,  40.,  75.,\n",
       "        82., 300.,  57.,  90., 106.,  82., 478., 100., 122., 271., 250.,\n",
       "       106., 480., 148., 152., 270., 318., 230.,  51., 200., 168., 543.,\n",
       "       130., 235., 215.,  71.,  76.,  76., 100., 100.,  50.,  18., 188.,\n",
       "       116.,  23.,  18., 160.,  77., 130., 110.,  89.,  45., 291.,  76.,\n",
       "       105.,  70.,  96., 278., 135., 180.,  18.,  66., 130., 310., 321.,\n",
       "        50., 180.,  60., 132.,  29., 278., 196., 200., 275.,  76.,  83.,\n",
       "       100., 225., 402., 110.,  45., 200.,  49., 100.,  64., 275.,  50.,\n",
       "        48., 108., 130., 190., 205.,  66.,  60., 171., 280., 176., 114.,\n",
       "        71.,  43.,  50., 135., 744.,  43.,  92.,  92., 115., 258., 387.,\n",
       "        74., 116., 100., 180., 200.,  36., 130., 280., 200.,  76.,  88.,\n",
       "       159.,  76.,  48., 168., 159.,  38.,  70., 135.,  63., 180., 304.,\n",
       "       140.,  76., 105.,  18.,  77.,  94., 231.,  92.,  18., 110.,  78.,\n",
       "        75., 370., 175., 478., 110.,  88., 176., 160.,  94., 545.,  71.,\n",
       "       105.,  56., 277., 237.,  94., 126., 318., 180.,  18., 480.,  36.,\n",
       "        66.,  72., 190.,  64., 271., 310.,  94., 293., 130., 190., 176.,\n",
       "       110.,  83.,  36., 293., 122., 110., 180., 130.,  63., 140., 126.,\n",
       "       135., 176., 130.,  14.,  63., 231.,  84., 215.,  63., 105., 271.,\n",
       "        78.,  48., 192., 370., 207.,  94.,  60., 110., 110.])"
      ]
     },
     "execution_count": 82,
     "metadata": {},
     "output_type": "execute_result"
    }
   ],
   "source": [
    "y_valid_predict"
   ]
  },
  {
   "cell_type": "markdown",
   "metadata": {
    "id": "Z6nFPUqLbHeu"
   },
   "source": [
    "### 실제값과 예측값의 차이 시각화 하기"
   ]
  },
  {
   "cell_type": "code",
   "execution_count": 60,
   "metadata": {
    "ExecuteTime": {
     "end_time": "2022-06-15T13:37:27.344876Z",
     "start_time": "2022-06-15T13:37:26.865825Z"
    },
    "id": "Nso4Mv4AbHev",
    "scrolled": false
   },
   "outputs": [
    {
     "data": {
      "text/plain": [
       "<AxesSubplot:xlabel='Insulin'>"
      ]
     },
     "execution_count": 60,
     "metadata": {},
     "output_type": "execute_result"
    },
    {
     "data": {
      "image/png": "[encoded data removed]",
      "text/plain": [
       "<Figure size 432x288 with 1 Axes>"
      ]
     },
     "metadata": {
      "needs_background": "light"
     },
     "output_type": "display_data"
    }
   ],
   "source": [
    "# regplot 으로 결과 값을 비교합니다.\n",
    "sns.regplot(x=y_train, y=y_valid_predict)"
   ]
  },
  {
   "cell_type": "code",
   "execution_count": 61,
   "metadata": {
    "ExecuteTime": {
     "end_time": "2022-06-15T13:37:27.840545Z",
     "start_time": "2022-06-15T13:37:27.347869Z"
    },
    "id": "ucsZfxQCbHew"
   },
   "outputs": [
    {
     "data": {
      "text/plain": [
       "<seaborn.axisgrid.JointGrid at 0x1e3b8be0280>"
      ]
     },
     "execution_count": 61,
     "metadata": {},
     "output_type": "execute_result"
    },
    {
     "data": {
      "image/png": "[encoded data removed]",
      "text/plain": [
       "<Figure size 432x432 with 3 Axes>"
      ]
     },
     "metadata": {
      "needs_background": "light"
     },
     "output_type": "display_data"
    }
   ],
   "source": [
    "# jointplot 으로 실제값과 예측값을 비교합니다.\n",
    "sns.jointplot(x=y_train, y=y_valid_predict, kind=\"hex\")"
   ]
  },
  {
   "cell_type": "code",
   "execution_count": 62,
   "metadata": {
    "ExecuteTime": {
     "end_time": "2022-06-15T13:37:28.080937Z",
     "start_time": "2022-06-15T13:37:27.842542Z"
    },
    "id": "duHy9bhebHex"
   },
   "outputs": [
    {
     "data": {
      "text/plain": [
       "<AxesSubplot:xlabel='Insulin'>"
      ]
     },
     "execution_count": 62,
     "metadata": {},
     "output_type": "execute_result"
    },
    {
     "data": {
      "image/png": "[encoded data removed]",
      "text/plain": [
       "<Figure size 432x288 with 1 Axes>"
      ]
     },
     "metadata": {
      "needs_background": "light"
     },
     "output_type": "display_data"
    }
   ],
   "source": [
    "# residplot 으로 잔차(오차값)을 시각화 합니다.\n",
    "sns.residplot(x=y_train, y=y_valid_predict)"
   ]
  },
  {
   "cell_type": "code",
   "execution_count": 63,
   "metadata": {
    "ExecuteTime": {
     "end_time": "2022-06-15T13:37:28.095890Z",
     "start_time": "2022-06-15T13:37:28.085920Z"
    },
    "id": "RqV9PpFFbHex"
   },
   "outputs": [
    {
     "data": {
      "text/plain": [
       "-0.14429295602725567"
      ]
     },
     "execution_count": 63,
     "metadata": {},
     "output_type": "execute_result"
    }
   ],
   "source": [
    "# r2_score 를 구합니다.\n",
    "from sklearn.metrics import r2_score\n",
    "\n",
    "r2_score(y_train, y_valid_predict)"
   ]
  },
  {
   "cell_type": "code",
   "execution_count": 64,
   "metadata": {
    "ExecuteTime": {
     "end_time": "2022-06-15T13:37:28.125809Z",
     "start_time": "2022-06-15T13:37:28.099880Z"
    },
    "id": "CaMXwhkPbHe0"
   },
   "outputs": [
    {
     "data": {
      "text/html": [
       "<div>\n",
       "<style scoped>\n",
       "    .dataframe tbody tr th:only-of-type {\n",
       "        vertical-align: middle;\n",
       "    }\n",
       "\n",
       "    .dataframe tbody tr th {\n",
       "        vertical-align: top;\n",
       "    }\n",
       "\n",
       "    .dataframe thead th {\n",
       "        text-align: right;\n",
       "    }\n",
       "</style>\n",
       "<table border=\"1\" class=\"dataframe\">\n",
       "  <thead>\n",
       "    <tr style=\"text-align: right;\">\n",
       "      <th></th>\n",
       "      <th>y_train</th>\n",
       "      <th>y_valid_predict</th>\n",
       "    </tr>\n",
       "  </thead>\n",
       "  <tbody>\n",
       "    <tr>\n",
       "      <th>3</th>\n",
       "      <td>94</td>\n",
       "      <td>25.0</td>\n",
       "    </tr>\n",
       "    <tr>\n",
       "      <th>4</th>\n",
       "      <td>168</td>\n",
       "      <td>480.0</td>\n",
       "    </tr>\n",
       "    <tr>\n",
       "      <th>6</th>\n",
       "      <td>88</td>\n",
       "      <td>55.0</td>\n",
       "    </tr>\n",
       "    <tr>\n",
       "      <th>8</th>\n",
       "      <td>543</td>\n",
       "      <td>145.0</td>\n",
       "    </tr>\n",
       "    <tr>\n",
       "      <th>13</th>\n",
       "      <td>846</td>\n",
       "      <td>495.0</td>\n",
       "    </tr>\n",
       "    <tr>\n",
       "      <th>...</th>\n",
       "      <td>...</td>\n",
       "      <td>...</td>\n",
       "    </tr>\n",
       "    <tr>\n",
       "      <th>753</th>\n",
       "      <td>510</td>\n",
       "      <td>207.0</td>\n",
       "    </tr>\n",
       "    <tr>\n",
       "      <th>755</th>\n",
       "      <td>110</td>\n",
       "      <td>94.0</td>\n",
       "    </tr>\n",
       "    <tr>\n",
       "      <th>760</th>\n",
       "      <td>16</td>\n",
       "      <td>60.0</td>\n",
       "    </tr>\n",
       "    <tr>\n",
       "      <th>763</th>\n",
       "      <td>180</td>\n",
       "      <td>110.0</td>\n",
       "    </tr>\n",
       "    <tr>\n",
       "      <th>765</th>\n",
       "      <td>112</td>\n",
       "      <td>110.0</td>\n",
       "    </tr>\n",
       "  </tbody>\n",
       "</table>\n",
       "<p>394 rows × 2 columns</p>\n",
       "</div>"
      ],
      "text/plain": [
       "     y_train  y_valid_predict\n",
       "3         94             25.0\n",
       "4        168            480.0\n",
       "6         88             55.0\n",
       "8        543            145.0\n",
       "13       846            495.0\n",
       "..       ...              ...\n",
       "753      510            207.0\n",
       "755      110             94.0\n",
       "760       16             60.0\n",
       "763      180            110.0\n",
       "765      112            110.0\n",
       "\n",
       "[394 rows x 2 columns]"
      ]
     },
     "execution_count": 64,
     "metadata": {},
     "output_type": "execute_result"
    }
   ],
   "source": [
    "# y_train, y_predict 값을 데이터프레임으로 만듭니다.\n",
    "df_y = pd.DataFrame({\"y_train\": y_train, \"y_valid_predict\": y_valid_predict})\n",
    "df_y"
   ]
  },
  {
   "cell_type": "code",
   "execution_count": 65,
   "metadata": {
    "ExecuteTime": {
     "end_time": "2022-06-15T13:37:28.604935Z",
     "start_time": "2022-06-15T13:37:28.127804Z"
    },
    "id": "zJ3eIIIzbHe1",
    "scrolled": false
   },
   "outputs": [
    {
     "data": {
      "text/plain": [
       "<seaborn.axisgrid.FacetGrid at 0x1e3b8cd9bb0>"
      ]
     },
     "execution_count": 65,
     "metadata": {},
     "output_type": "execute_result"
    },
    {
     "data": {
      "image/png": "[encoded data removed]",
      "text/plain": [
       "<Figure size 830.875x144 with 1 Axes>"
      ]
     },
     "metadata": {
      "needs_background": "light"
     },
     "output_type": "display_data"
    }
   ],
   "source": [
    "# distplot으로 정답값과 예측값의 분포를 그립니다.\n",
    "sns.displot(df_y, kde=True, height=2, aspect=5)"
   ]
  },
  {
   "cell_type": "markdown",
   "metadata": {
    "id": "XrfmAoCsbHe3"
   },
   "source": [
    "## 오차 구하기"
   ]
  },
  {
   "cell_type": "code",
   "execution_count": 66,
   "metadata": {
    "ExecuteTime": {
     "end_time": "2022-06-15T13:37:28.619897Z",
     "start_time": "2022-06-15T13:37:28.606931Z"
    }
   },
   "outputs": [
    {
     "data": {
      "text/plain": [
       "3      94\n",
       "4     168\n",
       "6      88\n",
       "8     543\n",
       "13    846\n",
       "Name: Insulin, dtype: int64"
      ]
     },
     "execution_count": 66,
     "metadata": {},
     "output_type": "execute_result"
    }
   ],
   "source": [
    "y_train[:5]"
   ]
  },
  {
   "cell_type": "code",
   "execution_count": 67,
   "metadata": {
    "ExecuteTime": {
     "end_time": "2022-06-15T13:37:28.895051Z",
     "start_time": "2022-06-15T13:37:28.889052Z"
    }
   },
   "outputs": [
    {
     "data": {
      "text/plain": [
       "array([ 25., 480.,  55., 145., 495.])"
      ]
     },
     "execution_count": 67,
     "metadata": {},
     "output_type": "execute_result"
    }
   ],
   "source": [
    "y_valid_predict[:5]"
   ]
  },
  {
   "cell_type": "code",
   "execution_count": 68,
   "metadata": {
    "ExecuteTime": {
     "end_time": "2022-06-15T13:37:29.337322Z",
     "start_time": "2022-06-15T13:37:29.327347Z"
    },
    "id": "yOR6CmCkbHe3"
   },
   "outputs": [
    {
     "data": {
      "text/plain": [
       "3       69.0\n",
       "4     -312.0\n",
       "6       33.0\n",
       "8      398.0\n",
       "13     351.0\n",
       "       ...  \n",
       "753    303.0\n",
       "755     16.0\n",
       "760    -44.0\n",
       "763     70.0\n",
       "765      2.0\n",
       "Name: Insulin, Length: 394, dtype: float64"
      ]
     },
     "execution_count": 68,
     "metadata": {},
     "output_type": "execute_result"
    }
   ],
   "source": [
    "# 오차값 구하기\n",
    "error = y_train - y_valid_predict\n",
    "error"
   ]
  },
  {
   "cell_type": "code",
   "execution_count": 69,
   "metadata": {
    "ExecuteTime": {
     "end_time": "2022-06-15T13:37:29.718677Z",
     "start_time": "2022-06-15T13:37:29.698730Z"
    },
    "id": "aCsM0_3mbHe6"
   },
   "outputs": [
    {
     "data": {
      "text/plain": [
       "count    394.000000\n",
       "mean      -3.941624\n",
       "std      126.995158\n",
       "min     -479.000000\n",
       "25%      -58.750000\n",
       "50%        2.500000\n",
       "75%       49.500000\n",
       "max      495.000000\n",
       "Name: Insulin, dtype: float64"
      ]
     },
     "execution_count": 69,
     "metadata": {},
     "output_type": "execute_result"
    }
   ],
   "source": [
    "# 오차값에 대한 describe 값을 구합니다.\n",
    "error.describe()"
   ]
  },
  {
   "cell_type": "code",
   "execution_count": 70,
   "metadata": {
    "ExecuteTime": {
     "end_time": "2022-06-15T13:37:30.234428Z",
     "start_time": "2022-06-15T13:37:30.223459Z"
    }
   },
   "outputs": [
    {
     "data": {
      "text/plain": [
       "count    394.000000\n",
       "mean      86.571066\n",
       "std       92.896321\n",
       "min        0.000000\n",
       "25%       22.250000\n",
       "50%       55.000000\n",
       "75%      115.000000\n",
       "max      495.000000\n",
       "Name: Insulin, dtype: float64"
      ]
     },
     "execution_count": 70,
     "metadata": {},
     "output_type": "execute_result"
    }
   ],
   "source": [
    "# abs == absolute 절대값\n",
    "abs(error).describe()"
   ]
  },
  {
   "cell_type": "code",
   "execution_count": 71,
   "metadata": {
    "ExecuteTime": {
     "end_time": "2022-06-15T13:37:30.917083Z",
     "start_time": "2022-06-15T13:37:30.679087Z"
    },
    "id": "-Ov7obc6bHe7"
   },
   "outputs": [
    {
     "data": {
      "text/plain": [
       "<seaborn.axisgrid.FacetGrid at 0x1e3b8db9d30>"
      ]
     },
     "execution_count": 71,
     "metadata": {},
     "output_type": "execute_result"
    },
    {
     "data": {
      "image/png": "[encoded data removed]",
      "text/plain": [
       "<Figure size 720x144 with 1 Axes>"
      ]
     },
     "metadata": {
      "needs_background": "light"
     },
     "output_type": "display_data"
    }
   ],
   "source": [
    "# displot으로 오차값의 분포를 그립니다.\n",
    "sns.displot(abs(error), height=2, aspect=5)"
   ]
  },
  {
   "cell_type": "markdown",
   "metadata": {
    "id": "UN1aOn-lbHe7"
   },
   "source": [
    "### MAE(Mean Absolute Error)\n",
    "* [Mean absolute error - Wikipedia](https://en.wikipedia.org/wiki/Mean_absolute_error)"
   ]
  },
  {
   "cell_type": "code",
   "execution_count": 72,
   "metadata": {
    "ExecuteTime": {
     "end_time": "2022-06-15T13:37:31.923135Z",
     "start_time": "2022-06-15T13:37:31.904152Z"
    },
    "id": "h-SYCZuTbHe8"
   },
   "outputs": [
    {
     "data": {
      "text/plain": [
       "86.57106598984771"
      ]
     },
     "execution_count": 72,
     "metadata": {},
     "output_type": "execute_result"
    }
   ],
   "source": [
    "# 예측값과 실제값의 차이에 대한 절대값의 평균\n",
    "# mae\n",
    "\n",
    "error = y_train - y_valid_predict\n",
    "mae = abs(error).mean()\n",
    "mae"
   ]
  },
  {
   "cell_type": "markdown",
   "metadata": {
    "id": "3T5EToSpbHe9"
   },
   "source": [
    "### MAPE(Mean Absolute Percentage Error)"
   ]
  },
  {
   "cell_type": "code",
   "execution_count": 73,
   "metadata": {
    "ExecuteTime": {
     "end_time": "2022-06-15T13:37:33.193982Z",
     "start_time": "2022-06-15T13:37:33.178029Z"
    },
    "id": "wmu3dP2gbHe-"
   },
   "outputs": [
    {
     "data": {
      "text/plain": [
       "0.687125648313691"
      ]
     },
     "execution_count": 73,
     "metadata": {},
     "output_type": "execute_result"
    }
   ],
   "source": [
    "# (실제값 - 예측값 / 실제값)의 절대값에 대한 평균\n",
    "error = y_train - y_valid_predict\n",
    "mape = abs(error / y_train).mean()\n",
    "mape"
   ]
  },
  {
   "cell_type": "markdown",
   "metadata": {
    "id": "cA9EY99pbHe_"
   },
   "source": [
    "### MSE(Mean Squared Error)"
   ]
  },
  {
   "cell_type": "code",
   "execution_count": 74,
   "metadata": {
    "ExecuteTime": {
     "end_time": "2022-06-15T13:37:34.369819Z",
     "start_time": "2022-06-15T13:37:34.355856Z"
    },
    "id": "nUB7tB5xbHe_"
   },
   "outputs": [
    {
     "data": {
      "text/plain": [
       "16102.373096446701"
      ]
     },
     "execution_count": 74,
     "metadata": {},
     "output_type": "execute_result"
    }
   ],
   "source": [
    "# 실제값 - 예측값의 차이의 제곱의 평균\n",
    "# MAE와 비슷해 보이나 제곱을 통해 음수를 양수로 변환함\n",
    "# 분산과 유사한 공식\n",
    "# mse\n",
    "error = y_train - y_valid_predict\n",
    "mse = np.square(error).mean()\n",
    "mse"
   ]
  },
  {
   "cell_type": "markdown",
   "metadata": {
    "id": "eqQsULpAbHfA"
   },
   "source": [
    "### RMSE(Root Mean Squared Error)"
   ]
  },
  {
   "cell_type": "code",
   "execution_count": 75,
   "metadata": {
    "ExecuteTime": {
     "end_time": "2022-06-15T13:37:35.452955Z",
     "start_time": "2022-06-15T13:37:35.434006Z"
    },
    "id": "9c-zVcOubHfB"
   },
   "outputs": [
    {
     "data": {
      "text/plain": [
       "126.89512636995443"
      ]
     },
     "execution_count": 75,
     "metadata": {},
     "output_type": "execute_result"
    }
   ],
   "source": [
    "# RMSE\n",
    "rmse = np.sqrt(mse)\n",
    "rmse"
   ]
  },
  {
   "cell_type": "markdown",
   "metadata": {
    "id": "AhJvx5_pbHfB"
   },
   "source": [
    "## 트리 알고리즘 분석하기\n",
    "* 피처의 중요도를 구합니다."
   ]
  },
  {
   "cell_type": "code",
   "execution_count": 76,
   "metadata": {
    "ExecuteTime": {
     "end_time": "2022-06-15T13:37:36.368418Z",
     "start_time": "2022-06-15T13:37:36.355453Z"
    },
    "id": "2Lt3jIqmbHfB"
   },
   "outputs": [
    {
     "data": {
      "text/plain": [
       "array([4.20201517e-02, 4.08219914e-01, 6.24932543e-02, 5.97519119e-02,\n",
       "       1.10296456e-01, 1.63917473e-01, 1.52984660e-01, 3.16179009e-04])"
      ]
     },
     "execution_count": 76,
     "metadata": {},
     "output_type": "execute_result"
    }
   ],
   "source": [
    "# 피처의 중요도를 추출하기\n",
    "model.feature_importances_"
   ]
  },
  {
   "cell_type": "code",
   "execution_count": 77,
   "metadata": {
    "ExecuteTime": {
     "end_time": "2022-06-15T13:37:37.203288Z",
     "start_time": "2022-06-15T13:37:36.875171Z"
    },
    "id": "HMqI5Wt8bHfC"
   },
   "outputs": [
    {
     "data": {
      "text/plain": [
       "<AxesSubplot:>"
      ]
     },
     "execution_count": 77,
     "metadata": {},
     "output_type": "execute_result"
    },
    {
     "data": {
      "image/png": "[encoded data removed]",
      "text/plain": [
       "<Figure size 432x288 with 1 Axes>"
      ]
     },
     "metadata": {
      "needs_background": "light"
     },
     "output_type": "display_data"
    }
   ],
   "source": [
    "# 피처의 중요도 시각화 하기\n",
    "sns.barplot(x=model.feature_importances_, y=feature_names)"
   ]
  },
  {
   "cell_type": "markdown",
   "metadata": {
    "id": "jSORGwa5bHfD"
   },
   "source": [
    "## 예측\n",
    "* 실전 시험문제(X_test)라고 보면 됩니다. 우리가 정답을 직접 예측합니다.\n",
    "* Insulin 이 0인 값을 예측 했기 때문에 정답을 알 수 없습니다.\n",
    "* 따라서 점수는 train set로 측정한 값을 참고합니다."
   ]
  },
  {
   "cell_type": "code",
   "execution_count": 78,
   "metadata": {
    "ExecuteTime": {
     "end_time": "2022-06-15T13:37:39.165153Z",
     "start_time": "2022-06-15T13:37:39.150224Z"
    },
    "id": "QL6BDe_3bHfH"
   },
   "outputs": [
    {
     "data": {
      "text/plain": [
       "array([168.,  37., 145.,  36., 182.])"
      ]
     },
     "execution_count": 78,
     "metadata": {},
     "output_type": "execute_result"
    }
   ],
   "source": [
    "\n",
    "\n",
    "\n",
    "# y_test \n",
    "y_predict = model.predict(X_test)\n",
    "y_predict[:5]"
   ]
  },
  {
   "cell_type": "markdown",
   "metadata": {
    "id": "w-xT6A8WbHfK"
   },
   "source": [
    "### 실제값과 예측값 비교하기"
   ]
  },
  {
   "cell_type": "code",
   "execution_count": 79,
   "metadata": {
    "ExecuteTime": {
     "end_time": "2022-06-15T13:37:40.142917Z",
     "start_time": "2022-06-15T13:37:40.103023Z"
    },
    "id": "zmCmmVXobHfM"
   },
   "outputs": [
    {
     "data": {
      "text/html": [
       "<div>\n",
       "<style scoped>\n",
       "    .dataframe tbody tr th:only-of-type {\n",
       "        vertical-align: middle;\n",
       "    }\n",
       "\n",
       "    .dataframe tbody tr th {\n",
       "        vertical-align: top;\n",
       "    }\n",
       "\n",
       "    .dataframe thead th {\n",
       "        text-align: right;\n",
       "    }\n",
       "</style>\n",
       "<table border=\"1\" class=\"dataframe\">\n",
       "  <thead>\n",
       "    <tr style=\"text-align: right;\">\n",
       "      <th></th>\n",
       "      <th>count</th>\n",
       "      <th>mean</th>\n",
       "      <th>std</th>\n",
       "      <th>min</th>\n",
       "      <th>25%</th>\n",
       "      <th>50%</th>\n",
       "      <th>75%</th>\n",
       "      <th>max</th>\n",
       "    </tr>\n",
       "    <tr>\n",
       "      <th>Outcome</th>\n",
       "      <th></th>\n",
       "      <th></th>\n",
       "      <th></th>\n",
       "      <th></th>\n",
       "      <th></th>\n",
       "      <th></th>\n",
       "      <th></th>\n",
       "      <th></th>\n",
       "    </tr>\n",
       "  </thead>\n",
       "  <tbody>\n",
       "    <tr>\n",
       "      <th>0</th>\n",
       "      <td>264.0</td>\n",
       "      <td>130.287879</td>\n",
       "      <td>102.482237</td>\n",
       "      <td>15.0</td>\n",
       "      <td>66.0</td>\n",
       "      <td>102.5</td>\n",
       "      <td>161.25</td>\n",
       "      <td>744.0</td>\n",
       "    </tr>\n",
       "    <tr>\n",
       "      <th>1</th>\n",
       "      <td>130.0</td>\n",
       "      <td>206.846154</td>\n",
       "      <td>132.699898</td>\n",
       "      <td>14.0</td>\n",
       "      <td>127.5</td>\n",
       "      <td>169.5</td>\n",
       "      <td>239.25</td>\n",
       "      <td>846.0</td>\n",
       "    </tr>\n",
       "  </tbody>\n",
       "</table>\n",
       "</div>"
      ],
      "text/plain": [
       "         count        mean         std   min    25%    50%     75%    max\n",
       "Outcome                                                                  \n",
       "0        264.0  130.287879  102.482237  15.0   66.0  102.5  161.25  744.0\n",
       "1        130.0  206.846154  132.699898  14.0  127.5  169.5  239.25  846.0"
      ]
     },
     "execution_count": 79,
     "metadata": {},
     "output_type": "execute_result"
    }
   ],
   "source": [
    "# train 데이터셋의 Outcome 값에 따라 Insulin 수치 describe 로 비교해 보기\n",
    "train.groupby(\"Outcome\")[\"Insulin\"].describe()"
   ]
  },
  {
   "cell_type": "code",
   "execution_count": 80,
   "metadata": {
    "ExecuteTime": {
     "end_time": "2022-06-15T13:37:40.492734Z",
     "start_time": "2022-06-15T13:37:40.483760Z"
    },
    "id": "Y8pHpbOHbHfM"
   },
   "outputs": [
    {
     "name": "stderr",
     "output_type": "stream",
     "text": [
      "C:\\Users\\computer\\AppData\\Local\\Temp/ipykernel_30928/882383279.py:2: SettingWithCopyWarning: \n",
      "A value is trying to be set on a copy of a slice from a DataFrame.\n",
      "Try using .loc[row_indexer,col_indexer] = value instead\n",
      "\n",
      "See the caveats in the documentation: https://pandas.pydata.org/pandas-docs/stable/user_guide/indexing.html#returning-a-view-versus-a-copy\n",
      "  test[\"Insulin\"] = y_predict\n"
     ]
    }
   ],
   "source": [
    "# test 의 Insulin 값을 y_test 에 반영합니다.\n",
    "test[\"Insulin\"] = y_predict"
   ]
  },
  {
   "cell_type": "code",
   "execution_count": 81,
   "metadata": {
    "ExecuteTime": {
     "end_time": "2022-06-15T13:37:40.903894Z",
     "start_time": "2022-06-15T13:37:40.882919Z"
    },
    "id": "genHvBOFbHfN"
   },
   "outputs": [
    {
     "data": {
      "text/html": [
       "<div>\n",
       "<style scoped>\n",
       "    .dataframe tbody tr th:only-of-type {\n",
       "        vertical-align: middle;\n",
       "    }\n",
       "\n",
       "    .dataframe tbody tr th {\n",
       "        vertical-align: top;\n",
       "    }\n",
       "\n",
       "    .dataframe thead th {\n",
       "        text-align: right;\n",
       "    }\n",
       "</style>\n",
       "<table border=\"1\" class=\"dataframe\">\n",
       "  <thead>\n",
       "    <tr style=\"text-align: right;\">\n",
       "      <th></th>\n",
       "      <th>count</th>\n",
       "      <th>mean</th>\n",
       "      <th>std</th>\n",
       "      <th>min</th>\n",
       "      <th>25%</th>\n",
       "      <th>50%</th>\n",
       "      <th>75%</th>\n",
       "      <th>max</th>\n",
       "    </tr>\n",
       "    <tr>\n",
       "      <th>Outcome</th>\n",
       "      <th></th>\n",
       "      <th></th>\n",
       "      <th></th>\n",
       "      <th></th>\n",
       "      <th></th>\n",
       "      <th></th>\n",
       "      <th></th>\n",
       "      <th></th>\n",
       "    </tr>\n",
       "  </thead>\n",
       "  <tbody>\n",
       "    <tr>\n",
       "      <th>0</th>\n",
       "      <td>236.0</td>\n",
       "      <td>133.161017</td>\n",
       "      <td>102.224032</td>\n",
       "      <td>15.0</td>\n",
       "      <td>64.0</td>\n",
       "      <td>99.5</td>\n",
       "      <td>158.25</td>\n",
       "      <td>600.0</td>\n",
       "    </tr>\n",
       "    <tr>\n",
       "      <th>1</th>\n",
       "      <td>138.0</td>\n",
       "      <td>212.434783</td>\n",
       "      <td>141.952236</td>\n",
       "      <td>44.0</td>\n",
       "      <td>115.0</td>\n",
       "      <td>176.0</td>\n",
       "      <td>267.00</td>\n",
       "      <td>846.0</td>\n",
       "    </tr>\n",
       "  </tbody>\n",
       "</table>\n",
       "</div>"
      ],
      "text/plain": [
       "         count        mean         std   min    25%    50%     75%    max\n",
       "Outcome                                                                  \n",
       "0        236.0  133.161017  102.224032  15.0   64.0   99.5  158.25  600.0\n",
       "1        138.0  212.434783  141.952236  44.0  115.0  176.0  267.00  846.0"
      ]
     },
     "execution_count": 81,
     "metadata": {},
     "output_type": "execute_result"
    }
   ],
   "source": [
    "# test 데이터셋의 Outcome 값에 따라 Insulin 수치 describe 로 비교해 보기\n",
    "test.groupby(\"Outcome\")[\"Insulin\"].describe()"
   ]
  },
  {
   "cell_type": "code",
   "execution_count": null,
   "metadata": {
    "id": "Kv9FJ34fbHfQ"
   },
   "outputs": [],
   "source": []
  },
  {
   "cell_type": "code",
   "execution_count": null,
   "metadata": {
    "id": "dBSBApthbHfg"
   },
   "outputs": [],
   "source": []
  }
 ],
 "metadata": {
  "colab": {
   "name": "0501-pima-regression-boosting-input.ipynb",
   "provenance": []
  },
  "kernelspec": {
   "display_name": "Python 3 (ipykernel)",
   "language": "python",
   "name": "python3"
  },
  "language_info": {
   "codemirror_mode": {
    "name": "ipython",
    "version": 3
   },
   "file_extension": ".py",
   "mimetype": "text/x-python",
   "name": "python",
   "nbconvert_exporter": "python",
   "pygments_lexer": "ipython3",
   "version": "3.9.7"
  },
  "toc": {
   "base_numbering": 1,
   "nav_menu": {},
   "number_sections": true,
   "sideBar": true,
   "skip_h1_title": false,
   "title_cell": "Table of Contents",
   "title_sidebar": "Contents",
   "toc_cell": false,
   "toc_position": {},
   "toc_section_display": true,
   "toc_window_display": false
  },
  "varInspector": {
   "cols": {
    "lenName": 16,
    "lenType": 16,
    "lenVar": 40
   },
   "kernels_config": {
    "python": {
     "delete_cmd_postfix": "",
     "delete_cmd_prefix": "del ",
     "library": "var_list.py",
     "varRefreshCmd": "print(var_dic_list())"
    },
    "r": {
     "delete_cmd_postfix": ") ",
     "delete_cmd_prefix": "rm(",
     "library": "var_list.r",
     "varRefreshCmd": "cat(var_dic_list()) "
    }
   },
   "types_to_exclude": [
    "module",
    "function",
    "builtin_function_or_method",
    "instance",
    "_Feature"
   ],
   "window_display": false
  }
 },
 "nbformat": 4,
 "nbformat_minor": 1
}
