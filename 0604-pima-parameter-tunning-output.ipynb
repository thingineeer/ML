{
 "cells": [
  {
   "cell_type": "markdown",
   "metadata": {
    "id": "uhlO9GP1yzfF"
   },
   "source": [
    "## 파라미터 튜닝으로 모델의 성능 개선하기\n",
    "\n",
    "## 데이터셋 출처\n",
    "* [Pima Indians Diabetes Database | Kaggle](https://www.kaggle.com/uciml/pima-indians-diabetes-database)\n",
    "* https://scikit-learn.org/stable/modules/generated/sklearn.datasets.load_diabetes.html\n",
    "\n",
    "\n",
    "### 데이터 구성\n",
    "\n",
    "* Pregnancies : 임신 횟수\n",
    "* Glucose : 2시간 동안의 경구 포도당 내성 검사에서 혈장 포도당 농도 \n",
    "* BloodPressure : 이완기 혈압 (mm Hg)\n",
    "* SkinThickness : 삼두근 피부 주름 두께 (mm), 체지방을 추정하는데 사용되는 값\n",
    "* Insulin : 2시간 혈청 인슐린 (mu U / ml)\n",
    "* BMI : 체질량 지수 (체중kg / 키(m)^2)\n",
    "* DiabetesPedigreeFunction : 당뇨병 혈통 기능\n",
    "* Age : 나이\n",
    "* Outcome : 768개 중에 268개의 결과 클래스 변수(0 또는 1)는 1이고 나머지는 0입니다.\n",
    "\n",
    "\n",
    "## 필요한 라이브러리 로드"
   ]
  },
  {
   "cell_type": "code",
   "execution_count": 1,
   "metadata": {
    "ExecuteTime": {
     "end_time": "2022-06-16T14:10:37.360416Z",
     "start_time": "2022-06-16T14:10:24.216757Z"
    },
    "id": "Q3XRNSsuyzfQ"
   },
   "outputs": [],
   "source": [
    "# 필요한 라이브러리 로드합니다.\n",
    "import pandas as pd\n",
    "import numpy as np\n",
    "import seaborn as sns\n",
    "import matplotlib.pyplot as plt"
   ]
  },
  {
   "cell_type": "markdown",
   "metadata": {
    "id": "7G5os19uyzfV"
   },
   "source": [
    "## 데이터 로드하기"
   ]
  },
  {
   "cell_type": "code",
   "execution_count": 2,
   "metadata": {
    "ExecuteTime": {
     "end_time": "2022-06-16T14:10:46.308645Z",
     "start_time": "2022-06-16T14:10:37.370718Z"
    },
    "id": "LXSFbiUuyzfW"
   },
   "outputs": [
    {
     "data": {
      "text/plain": [
       "(768, 9)"
      ]
     },
     "execution_count": 2,
     "metadata": {},
     "output_type": "execute_result"
    }
   ],
   "source": [
    "df = pd.read_csv(\"http://bit.ly/data-diabetes-csv\")\n",
    "df.shape"
   ]
  },
  {
   "cell_type": "code",
   "execution_count": 3,
   "metadata": {
    "ExecuteTime": {
     "end_time": "2022-06-16T14:10:46.353525Z",
     "start_time": "2022-06-16T14:10:46.310675Z"
    },
    "id": "xf2cpF7ryzfa"
   },
   "outputs": [
    {
     "data": {
      "text/html": [
       "<div>\n",
       "<style scoped>\n",
       "    .dataframe tbody tr th:only-of-type {\n",
       "        vertical-align: middle;\n",
       "    }\n",
       "\n",
       "    .dataframe tbody tr th {\n",
       "        vertical-align: top;\n",
       "    }\n",
       "\n",
       "    .dataframe thead th {\n",
       "        text-align: right;\n",
       "    }\n",
       "</style>\n",
       "<table border=\"1\" class=\"dataframe\">\n",
       "  <thead>\n",
       "    <tr style=\"text-align: right;\">\n",
       "      <th></th>\n",
       "      <th>Pregnancies</th>\n",
       "      <th>Glucose</th>\n",
       "      <th>BloodPressure</th>\n",
       "      <th>SkinThickness</th>\n",
       "      <th>Insulin</th>\n",
       "      <th>BMI</th>\n",
       "      <th>DiabetesPedigreeFunction</th>\n",
       "      <th>Age</th>\n",
       "      <th>Outcome</th>\n",
       "    </tr>\n",
       "  </thead>\n",
       "  <tbody>\n",
       "    <tr>\n",
       "      <th>0</th>\n",
       "      <td>6</td>\n",
       "      <td>148</td>\n",
       "      <td>72</td>\n",
       "      <td>35</td>\n",
       "      <td>0</td>\n",
       "      <td>33.6</td>\n",
       "      <td>0.627</td>\n",
       "      <td>50</td>\n",
       "      <td>1</td>\n",
       "    </tr>\n",
       "    <tr>\n",
       "      <th>1</th>\n",
       "      <td>1</td>\n",
       "      <td>85</td>\n",
       "      <td>66</td>\n",
       "      <td>29</td>\n",
       "      <td>0</td>\n",
       "      <td>26.6</td>\n",
       "      <td>0.351</td>\n",
       "      <td>31</td>\n",
       "      <td>0</td>\n",
       "    </tr>\n",
       "    <tr>\n",
       "      <th>2</th>\n",
       "      <td>8</td>\n",
       "      <td>183</td>\n",
       "      <td>64</td>\n",
       "      <td>0</td>\n",
       "      <td>0</td>\n",
       "      <td>23.3</td>\n",
       "      <td>0.672</td>\n",
       "      <td>32</td>\n",
       "      <td>1</td>\n",
       "    </tr>\n",
       "    <tr>\n",
       "      <th>3</th>\n",
       "      <td>1</td>\n",
       "      <td>89</td>\n",
       "      <td>66</td>\n",
       "      <td>23</td>\n",
       "      <td>94</td>\n",
       "      <td>28.1</td>\n",
       "      <td>0.167</td>\n",
       "      <td>21</td>\n",
       "      <td>0</td>\n",
       "    </tr>\n",
       "    <tr>\n",
       "      <th>4</th>\n",
       "      <td>0</td>\n",
       "      <td>137</td>\n",
       "      <td>40</td>\n",
       "      <td>35</td>\n",
       "      <td>168</td>\n",
       "      <td>43.1</td>\n",
       "      <td>2.288</td>\n",
       "      <td>33</td>\n",
       "      <td>1</td>\n",
       "    </tr>\n",
       "  </tbody>\n",
       "</table>\n",
       "</div>"
      ],
      "text/plain": [
       "   Pregnancies  Glucose  BloodPressure  SkinThickness  Insulin   BMI  \\\n",
       "0            6      148             72             35        0  33.6   \n",
       "1            1       85             66             29        0  26.6   \n",
       "2            8      183             64              0        0  23.3   \n",
       "3            1       89             66             23       94  28.1   \n",
       "4            0      137             40             35      168  43.1   \n",
       "\n",
       "   DiabetesPedigreeFunction  Age  Outcome  \n",
       "0                     0.627   50        1  \n",
       "1                     0.351   31        0  \n",
       "2                     0.672   32        1  \n",
       "3                     0.167   21        0  \n",
       "4                     2.288   33        1  "
      ]
     },
     "execution_count": 3,
     "metadata": {},
     "output_type": "execute_result"
    }
   ],
   "source": [
    "# 데이터 프레임에서 가장 앞에 있는 5개의 행(기본값)을 출력합니다.\n",
    "df.head()"
   ]
  },
  {
   "cell_type": "markdown",
   "metadata": {
    "id": "Q6EjE_zOyzfb"
   },
   "source": [
    "## 전처리"
   ]
  },
  {
   "cell_type": "code",
   "execution_count": 4,
   "metadata": {
    "ExecuteTime": {
     "end_time": "2022-06-16T14:10:49.749503Z",
     "start_time": "2022-06-16T14:10:49.697586Z"
    }
   },
   "outputs": [
    {
     "data": {
      "text/html": [
       "<div>\n",
       "<style scoped>\n",
       "    .dataframe tbody tr th:only-of-type {\n",
       "        vertical-align: middle;\n",
       "    }\n",
       "\n",
       "    .dataframe tbody tr th {\n",
       "        vertical-align: top;\n",
       "    }\n",
       "\n",
       "    .dataframe thead th {\n",
       "        text-align: right;\n",
       "    }\n",
       "</style>\n",
       "<table border=\"1\" class=\"dataframe\">\n",
       "  <thead>\n",
       "    <tr style=\"text-align: right;\">\n",
       "      <th></th>\n",
       "      <th>count</th>\n",
       "      <th>mean</th>\n",
       "      <th>std</th>\n",
       "      <th>min</th>\n",
       "      <th>25%</th>\n",
       "      <th>50%</th>\n",
       "      <th>75%</th>\n",
       "      <th>max</th>\n",
       "    </tr>\n",
       "    <tr>\n",
       "      <th>Outcome</th>\n",
       "      <th></th>\n",
       "      <th></th>\n",
       "      <th></th>\n",
       "      <th></th>\n",
       "      <th></th>\n",
       "      <th></th>\n",
       "      <th></th>\n",
       "      <th></th>\n",
       "    </tr>\n",
       "  </thead>\n",
       "  <tbody>\n",
       "    <tr>\n",
       "      <th>0</th>\n",
       "      <td>264.0</td>\n",
       "      <td>130.287879</td>\n",
       "      <td>102.482237</td>\n",
       "      <td>15.0</td>\n",
       "      <td>66.0</td>\n",
       "      <td>102.5</td>\n",
       "      <td>161.25</td>\n",
       "      <td>744.0</td>\n",
       "    </tr>\n",
       "    <tr>\n",
       "      <th>1</th>\n",
       "      <td>130.0</td>\n",
       "      <td>206.846154</td>\n",
       "      <td>132.699898</td>\n",
       "      <td>14.0</td>\n",
       "      <td>127.5</td>\n",
       "      <td>169.5</td>\n",
       "      <td>239.25</td>\n",
       "      <td>846.0</td>\n",
       "    </tr>\n",
       "  </tbody>\n",
       "</table>\n",
       "</div>"
      ],
      "text/plain": [
       "         count        mean         std   min    25%    50%     75%    max\n",
       "Outcome                                                                  \n",
       "0        264.0  130.287879  102.482237  15.0   66.0  102.5  161.25  744.0\n",
       "1        130.0  206.846154  132.699898  14.0  127.5  169.5  239.25  846.0"
      ]
     },
     "execution_count": 4,
     "metadata": {},
     "output_type": "execute_result"
    }
   ],
   "source": [
    "df[\"Insulin_nan\"] = df[\"Insulin\"].replace(0, np.nan)\n",
    "in_desc = df.groupby(\"Outcome\")[\"Insulin_nan\"].describe() # 답안으로 통계나고 Insulin_nan 만 봄\n",
    "in_desc"
   ]
  },
  {
   "cell_type": "code",
   "execution_count": 5,
   "metadata": {
    "ExecuteTime": {
     "end_time": "2022-06-16T14:10:50.078569Z",
     "start_time": "2022-06-16T14:10:50.067598Z"
    }
   },
   "outputs": [
    {
     "data": {
      "text/plain": [
       "102.5"
      ]
     },
     "execution_count": 5,
     "metadata": {},
     "output_type": "execute_result"
    }
   ],
   "source": [
    "in_desc.loc[0, \"50%\"]"
   ]
  },
  {
   "cell_type": "code",
   "execution_count": 6,
   "metadata": {
    "ExecuteTime": {
     "end_time": "2022-06-16T14:10:50.454897Z",
     "start_time": "2022-06-16T14:10:50.437613Z"
    }
   },
   "outputs": [],
   "source": [
    "# 인슐린 0 값 중앙값으로 대체\n",
    "\n",
    "df[\"Insulin_filled\"] = df[\"Insulin\"] \n",
    "\n",
    "df.loc[(df[\"Insulin\"] == 0) & (df[\"Outcome\"] == 0), \"Insulin_filled\"] = in_desc.loc[0, \"50%\"]\n",
    "df.loc[(df[\"Insulin\"] == 0) & (df[\"Outcome\"] == 1), \"Insulin_filled\"] = in_desc.loc[1, \"50%\"]"
   ]
  },
  {
   "cell_type": "code",
   "execution_count": 7,
   "metadata": {
    "ExecuteTime": {
     "end_time": "2022-06-16T14:10:50.800638Z",
     "start_time": "2022-06-16T14:10:50.755759Z"
    }
   },
   "outputs": [
    {
     "data": {
      "text/html": [
       "<div>\n",
       "<style scoped>\n",
       "    .dataframe tbody tr th:only-of-type {\n",
       "        vertical-align: middle;\n",
       "    }\n",
       "\n",
       "    .dataframe tbody tr th {\n",
       "        vertical-align: top;\n",
       "    }\n",
       "\n",
       "    .dataframe thead th {\n",
       "        text-align: right;\n",
       "    }\n",
       "</style>\n",
       "<table border=\"1\" class=\"dataframe\">\n",
       "  <thead>\n",
       "    <tr style=\"text-align: right;\">\n",
       "      <th></th>\n",
       "      <th>count</th>\n",
       "      <th>mean</th>\n",
       "      <th>std</th>\n",
       "      <th>min</th>\n",
       "      <th>25%</th>\n",
       "      <th>50%</th>\n",
       "      <th>75%</th>\n",
       "      <th>max</th>\n",
       "    </tr>\n",
       "    <tr>\n",
       "      <th>Outcome</th>\n",
       "      <th></th>\n",
       "      <th></th>\n",
       "      <th></th>\n",
       "      <th></th>\n",
       "      <th></th>\n",
       "      <th></th>\n",
       "      <th></th>\n",
       "      <th></th>\n",
       "    </tr>\n",
       "  </thead>\n",
       "  <tbody>\n",
       "    <tr>\n",
       "      <th>0</th>\n",
       "      <td>500.0</td>\n",
       "      <td>117.172000</td>\n",
       "      <td>75.685302</td>\n",
       "      <td>15.0</td>\n",
       "      <td>95.0</td>\n",
       "      <td>102.5</td>\n",
       "      <td>105.0</td>\n",
       "      <td>744.0</td>\n",
       "    </tr>\n",
       "    <tr>\n",
       "      <th>1</th>\n",
       "      <td>268.0</td>\n",
       "      <td>187.615672</td>\n",
       "      <td>94.114420</td>\n",
       "      <td>14.0</td>\n",
       "      <td>169.5</td>\n",
       "      <td>169.5</td>\n",
       "      <td>169.5</td>\n",
       "      <td>846.0</td>\n",
       "    </tr>\n",
       "  </tbody>\n",
       "</table>\n",
       "</div>"
      ],
      "text/plain": [
       "         count        mean        std   min    25%    50%    75%    max\n",
       "Outcome                                                                \n",
       "0        500.0  117.172000  75.685302  15.0   95.0  102.5  105.0  744.0\n",
       "1        268.0  187.615672  94.114420  14.0  169.5  169.5  169.5  846.0"
      ]
     },
     "execution_count": 7,
     "metadata": {},
     "output_type": "execute_result"
    }
   ],
   "source": [
    "df.groupby(\"Outcome\")[\"Insulin_filled\"].describe()"
   ]
  },
  {
   "cell_type": "markdown",
   "metadata": {
    "id": "OyaFCdFyyzfl"
   },
   "source": [
    "## 학습, 예측 데이터셋 나누기\n",
    "\n",
    "### 정답값이자 예측해야 될 값"
   ]
  },
  {
   "cell_type": "code",
   "execution_count": 8,
   "metadata": {
    "ExecuteTime": {
     "end_time": "2022-06-16T14:10:51.235554Z",
     "start_time": "2022-06-16T14:10:51.219521Z"
    },
    "id": "Afvxp4Jpyzfm"
   },
   "outputs": [
    {
     "data": {
      "text/plain": [
       "'Outcome'"
      ]
     },
     "execution_count": 8,
     "metadata": {},
     "output_type": "execute_result"
    }
   ],
   "source": [
    "# label_name 이라는 변수에 예측할 컬럼 이름을 담습니다.\n",
    "# label_name\n",
    "label_name = \"Outcome\"\n",
    "label_name"
   ]
  },
  {
   "cell_type": "markdown",
   "metadata": {
    "id": "En5pooe-yzfh"
   },
   "source": [
    "### 학습, 예측에 사용할 컬럼"
   ]
  },
  {
   "cell_type": "code",
   "execution_count": 15,
   "metadata": {
    "ExecuteTime": {
     "end_time": "2022-06-16T14:13:10.797570Z",
     "start_time": "2022-06-16T14:13:10.772636Z"
    },
    "id": "FseSbqGWyzfk"
   },
   "outputs": [
    {
     "data": {
      "text/plain": [
       "['Pregnancies',\n",
       " 'Glucose',\n",
       " 'BloodPressure',\n",
       " 'SkinThickness',\n",
       " 'BMI',\n",
       " 'DiabetesPedigreeFunction',\n",
       " 'Age',\n",
       " 'Insulin_filled']"
      ]
     },
     "execution_count": 15,
     "metadata": {},
     "output_type": "execute_result"
    }
   ],
   "source": [
    "\n",
    "# 학습, 예측에 사용할 컬럼에 이름 지정합니다.\n",
    "feature_names = df.columns.tolist()\n",
    "feature_names.remove(label_name)\n",
    "feature_names.remove(\"Insulin\")\n",
    "feature_names.remove(\"Insulin_nan\")\n",
    "feature_names"
   ]
  },
  {
   "cell_type": "markdown",
   "metadata": {
    "id": "Wd2iOmj1yzfn"
   },
   "source": [
    "### 문제(feature)와 답안(label)을 나누기\n",
    "\n",
    "* X, y를 만들어 줍니다.\n",
    "* X는 feature, 독립변수, 예) 시험의 문제\n",
    "* y는 label, 종속변수, 예) 시험의 정답"
   ]
  },
  {
   "cell_type": "code",
   "execution_count": 16,
   "metadata": {
    "ExecuteTime": {
     "end_time": "2022-06-16T14:13:21.729411Z",
     "start_time": "2022-06-16T14:13:21.717967Z"
    },
    "id": "a9iNQrh_yzfo"
   },
   "outputs": [
    {
     "data": {
      "text/plain": [
       "((768, 8), (768,))"
      ]
     },
     "execution_count": 16,
     "metadata": {},
     "output_type": "execute_result"
    }
   ],
   "source": [
    "# X, y를 만들어 줍니다.\n",
    "X = df[feature_names]\n",
    "y = df[label_name]\n",
    "X.shape, y.shape"
   ]
  },
  {
   "cell_type": "markdown",
   "metadata": {
    "id": "p5-ZjSltyzfo"
   },
   "source": [
    "### 학습, 예측 데이터셋 만들기\n",
    "* X_train : 학습 세트 만들기, 행렬, 판다스의 데이터프레임, 2차원 리스트(배열) 구조,  예) 시험의 기출문제\n",
    "* y_train : 정답 값을 만들기, 벡터, 판다스의 시리즈, 1차원 리스트(배열) 구조, 예) 기출문제의 정답\n",
    "* X_test : 예측에 사용할 데이터세트를 만듭니다. 예) 실전 시험 문제\n",
    "* y_test : 예측의 정답값 예) 실전 시험 문제의 정답"
   ]
  },
  {
   "cell_type": "code",
   "execution_count": 17,
   "metadata": {
    "ExecuteTime": {
     "end_time": "2022-06-16T14:13:26.932952Z",
     "start_time": "2022-06-16T14:13:26.919924Z"
    },
    "scrolled": true
   },
   "outputs": [
    {
     "data": {
      "text/plain": [
       "0    65.104167\n",
       "1    34.895833\n",
       "Name: Outcome, dtype: float64"
      ]
     },
     "execution_count": 17,
     "metadata": {},
     "output_type": "execute_result"
    }
   ],
   "source": [
    "y.value_counts(normalize=True) * 100"
   ]
  },
  {
   "cell_type": "code",
   "execution_count": 18,
   "metadata": {
    "ExecuteTime": {
     "end_time": "2022-06-16T14:13:27.509819Z",
     "start_time": "2022-06-16T14:13:27.492903Z"
    },
    "id": "9YVwiDJByzfp"
   },
   "outputs": [],
   "source": [
    "# train_test_split 으로 무작위로 데이터셋을 train 과 test 로 나눕니다.\n",
    "from sklearn.model_selection import train_test_split\n",
    "\n",
    "X_train, X_test, y_train, y_test = train_test_split(\n",
    "    X, y, test_size=0.2, stratify=y, random_state=42)   # train_size : default = 0.25"
   ]
  },
  {
   "cell_type": "code",
   "execution_count": 19,
   "metadata": {
    "ExecuteTime": {
     "end_time": "2022-06-16T14:13:28.250147Z",
     "start_time": "2022-06-16T14:13:28.233161Z"
    },
    "id": "AJvknwIwyzfq"
   },
   "outputs": [
    {
     "data": {
      "text/plain": [
       "((614, 8), (154, 8), (614,), (154,))"
      ]
     },
     "execution_count": 19,
     "metadata": {},
     "output_type": "execute_result"
    }
   ],
   "source": [
    "# 데이터의 행과 열의 개수를 확인합니다.\n",
    "\n",
    "X_train.shape, X_test.shape, y_train.shape, y_test.shape"
   ]
  },
  {
   "cell_type": "markdown",
   "metadata": {},
   "source": [
    "### stratify 로 클래스 별로 균등하게 잘 나뉘었는지 확인"
   ]
  },
  {
   "cell_type": "code",
   "execution_count": 14,
   "metadata": {
    "ExecuteTime": {
     "end_time": "2022-06-16T14:10:55.435249Z",
     "start_time": "2022-06-16T14:10:55.410317Z"
    }
   },
   "outputs": [
    {
     "data": {
      "text/plain": [
       "0    65.14658\n",
       "1    34.85342\n",
       "Name: Outcome, dtype: float64"
      ]
     },
     "execution_count": 14,
     "metadata": {},
     "output_type": "execute_result"
    }
   ],
   "source": [
    "y_train.value_counts(normalize=True) * 100"
   ]
  },
  {
   "cell_type": "code",
   "execution_count": 16,
   "metadata": {
    "ExecuteTime": {
     "end_time": "2022-06-15T13:36:17.933156Z",
     "start_time": "2022-06-15T13:36:17.923180Z"
    }
   },
   "outputs": [
    {
     "data": {
      "text/plain": [
       "0    64.935065\n",
       "1    35.064935\n",
       "Name: Outcome, dtype: float64"
      ]
     },
     "execution_count": 16,
     "metadata": {},
     "output_type": "execute_result"
    }
   ],
   "source": [
    "y_test.value_counts(normalize=True) * 100"
   ]
  },
  {
   "cell_type": "markdown",
   "metadata": {
    "id": "nACsbOMkyzft"
   },
   "source": [
    "## 머신러닝 모델"
   ]
  },
  {
   "cell_type": "markdown",
   "metadata": {
    "id": "Jsmr_2vxA7IU"
   },
   "source": [
    "## 하이퍼파라미터 튜닝\n",
    "\n",
    "* 하이퍼파라미터 (Hyper Parameter)\n",
    "    * 머신러닝 모델을 생성할 때 사용자가 직접 설정하는 값으로, 이를 어떻게 설정하느냐에 따라 모델의 성능이 달라집니다.\n",
    "    \n",
    "* 수동튜닝\n",
    "    * 만족할만한 하이퍼파라미터들의 조합을 찾을 때까지 수동으로 조정\n",
    "\n",
    "* GridSearchCV()\n",
    "    * 시도할 하이퍼파라미터들을 지정하면, 모든 조합에 대해 교차검증 후 가장 좋은 성능을 내는 하이퍼파라미터 조합을 찾음\n",
    "\n",
    "* RandomizedSearchCV()\n",
    "    * GridSearch 와 동일한 방식으로 사용하지만 모든 조합을 다 시도하지는 않고, 각 반복마다 임의의 값만 대입해 지정한 횟수만큼 평가"
   ]
  },
  {
   "cell_type": "code",
   "execution_count": 17,
   "metadata": {
    "ExecuteTime": {
     "end_time": "2022-06-15T13:36:19.335949Z",
     "start_time": "2022-06-15T13:36:19.164514Z"
    },
    "id": "TkejnwbZyzfu"
   },
   "outputs": [],
   "source": [
    "from sklearn.tree import DecisionTreeClassifier\n",
    "from sklearn.model_selection import cross_val_predict"
   ]
  },
  {
   "cell_type": "code",
   "execution_count": 18,
   "metadata": {
    "ExecuteTime": {
     "end_time": "2022-06-15T13:36:19.651160Z",
     "start_time": "2022-06-15T13:36:19.644182Z"
    },
    "id": "qveRGlKeyzfv",
    "scrolled": true
   },
   "outputs": [
    {
     "data": {
      "text/plain": [
       "[2, 3, 5, 7, 9, 10]"
      ]
     },
     "execution_count": 18,
     "metadata": {},
     "output_type": "execute_result"
    }
   ],
   "source": [
    "# 트리의 깊이\n",
    "max_depth_list = [2, 3, 5, 7, 9, 10]\n",
    "max_depth_list"
   ]
  },
  {
   "cell_type": "code",
   "execution_count": 19,
   "metadata": {
    "ExecuteTime": {
     "end_time": "2022-06-15T13:36:20.270338Z",
     "start_time": "2022-06-15T13:36:20.261367Z"
    }
   },
   "outputs": [
    {
     "data": {
      "text/plain": [
       "array([0.50311218, 0.23648406, 0.32984214, 0.40904564, 0.41747166,\n",
       "       0.46658473, 0.37279072, 0.49247353, 0.58817069, 0.48607173])"
      ]
     },
     "execution_count": 19,
     "metadata": {},
     "output_type": "execute_result"
    }
   ],
   "source": [
    "np.random.uniform(0.2, 0.6, 10)"
   ]
  },
  {
   "cell_type": "code",
   "execution_count": 20,
   "metadata": {
    "ExecuteTime": {
     "end_time": "2022-06-15T13:36:20.786662Z",
     "start_time": "2022-06-15T13:36:20.777718Z"
    },
    "id": "RFRMPKsNyzfw"
   },
   "outputs": [
    {
     "data": {
      "text/plain": [
       "[0.4, 0.5, 0.6]"
      ]
     },
     "execution_count": 20,
     "metadata": {},
     "output_type": "execute_result"
    }
   ],
   "source": [
    "# max_features 비율\n",
    "max_features_list = [0.4, 0.5, 0.6]\n",
    "max_features_list"
   ]
  },
  {
   "cell_type": "code",
   "execution_count": 21,
   "metadata": {
    "ExecuteTime": {
     "end_time": "2022-06-15T13:36:21.643519Z",
     "start_time": "2022-06-15T13:36:21.624967Z"
    }
   },
   "outputs": [],
   "source": [
    "# accuracy_list = []\n",
    "# for max_depth in max_depth_list:\n",
    "#     for max_features in max_features_list:\n",
    "#         acc_list = []\n",
    "#         model = DecisionTreeClassifier(max_depth=max_depth, max_features=max_features, random_state=42)\n",
    "#         y_predict = cross_val_predict(model, X_train, y_train, cv=3, n_jobs=-1)\n",
    "#         acc = (y_train == y_predict).mean()\n",
    "\n",
    "#         acc_list.append(max_depth)\n",
    "#         acc_list.append(max_features)\n",
    "#         acc_list.append(acc)\n",
    "#         accuracy_list.append(acc_list)"
   ]
  },
  {
   "cell_type": "code",
   "execution_count": 22,
   "metadata": {
    "ExecuteTime": {
     "end_time": "2022-06-15T13:36:22.272870Z",
     "start_time": "2022-06-15T13:36:22.257911Z"
    }
   },
   "outputs": [],
   "source": [
    "# df_acc = pd.DataFrame(accuracy_list, columns=[\"max_depth\", \"max_features\", \"accuracy\"])\n",
    "# df_acc.nlargest(5, \"accuracy\")"
   ]
  },
  {
   "cell_type": "markdown",
   "metadata": {},
   "source": [
    "### GridSearch"
   ]
  },
  {
   "cell_type": "code",
   "execution_count": 23,
   "metadata": {
    "ExecuteTime": {
     "end_time": "2022-06-15T13:36:23.746166Z",
     "start_time": "2022-06-15T13:36:23.734316Z"
    }
   },
   "outputs": [
    {
     "data": {
      "text/plain": [
       "DecisionTreeClassifier(random_state=42)"
      ]
     },
     "execution_count": 23,
     "metadata": {},
     "output_type": "execute_result"
    }
   ],
   "source": [
    "model = DecisionTreeClassifier(random_state=42)\n",
    "model"
   ]
  },
  {
   "cell_type": "code",
   "execution_count": 24,
   "metadata": {
    "ExecuteTime": {
     "end_time": "2022-06-15T13:36:24.396238Z",
     "start_time": "2022-06-15T13:36:24.372301Z"
    }
   },
   "outputs": [
    {
     "data": {
      "text/plain": [
       "array([2, 4, 5, 6])"
      ]
     },
     "execution_count": 24,
     "metadata": {},
     "output_type": "execute_result"
    }
   ],
   "source": [
    "max_depth_list = np.random.randint(2, 7, 10)\n",
    "max_depth_list = np.unique(max_depth_list)\n",
    "max_depth_list"
   ]
  },
  {
   "cell_type": "code",
   "execution_count": 25,
   "metadata": {
    "ExecuteTime": {
     "end_time": "2022-06-15T13:36:24.911750Z",
     "start_time": "2022-06-15T13:36:24.897789Z"
    }
   },
   "outputs": [
    {
     "data": {
      "text/plain": [
       "array([0.39700539, 0.62445215, 0.32097601, 0.6683319 , 0.40022096,\n",
       "       0.64341675, 0.62017772, 0.41473814, 0.59189586, 0.52402812])"
      ]
     },
     "execution_count": 25,
     "metadata": {},
     "output_type": "execute_result"
    }
   ],
   "source": [
    "max_features_list = np.random.uniform(0.3, 0.7, 10)\n",
    "max_features_list"
   ]
  },
  {
   "cell_type": "code",
   "execution_count": 30,
   "metadata": {
    "ExecuteTime": {
     "end_time": "2022-06-15T13:37:04.447419Z",
     "start_time": "2022-06-15T13:36:56.748386Z"
    }
   },
   "outputs": [
    {
     "name": "stdout",
     "output_type": "stream",
     "text": [
      "Fitting 5 folds for each of 50 candidates, totalling 250 fits\n"
     ]
    },
    {
     "data": {
      "text/plain": [
       "GridSearchCV(cv=5, estimator=DecisionTreeClassifier(random_state=42), n_jobs=-1,\n",
       "             param_grid={'max_depth': array([2, 3, 4, 5, 6]),\n",
       "                         'max_features': array([0.39700539, 0.62445215, 0.32097601, 0.6683319 , 0.40022096,\n",
       "       0.64341675, 0.62017772, 0.41473814, 0.59189586, 0.52402812])},\n",
       "             scoring='accuracy', verbose=2)"
      ]
     },
     "execution_count": 30,
     "metadata": {},
     "output_type": "execute_result"
    }
   ],
   "source": [
    "from sklearn.model_selection import GridSearchCV\n",
    "\n",
    "parameters = {'max_depth': max_depth_list, 'max_features': max_features_list}\n",
    "\n",
    "clf = GridSearchCV(model, param_grid=parameters, scoring=\"accuracy\", n_jobs=-1, cv=5, verbose=2)\n",
    "clf.fit(X_train, y_train)"
   ]
  },
  {
   "cell_type": "code",
   "execution_count": 31,
   "metadata": {
    "ExecuteTime": {
     "end_time": "2022-06-15T13:37:04.462372Z",
     "start_time": "2022-06-15T13:37:04.454396Z"
    }
   },
   "outputs": [
    {
     "data": {
      "text/plain": [
       "0.858296681327469"
      ]
     },
     "execution_count": 31,
     "metadata": {},
     "output_type": "execute_result"
    }
   ],
   "source": [
    "clf.best_score_"
   ]
  },
  {
   "cell_type": "code",
   "execution_count": 32,
   "metadata": {
    "ExecuteTime": {
     "end_time": "2022-06-15T13:37:05.536787Z",
     "start_time": "2022-06-15T13:37:05.514847Z"
    }
   },
   "outputs": [
    {
     "data": {
      "text/plain": [
       "DecisionTreeClassifier(max_depth=6, max_features=0.6683319042134976,\n",
       "                       random_state=42)"
      ]
     },
     "execution_count": 32,
     "metadata": {},
     "output_type": "execute_result"
    }
   ],
   "source": [
    "clf.best_estimator_"
   ]
  },
  {
   "cell_type": "code",
   "execution_count": 33,
   "metadata": {
    "ExecuteTime": {
     "end_time": "2022-06-15T13:37:06.297581Z",
     "start_time": "2022-06-15T13:37:06.238280Z"
    },
    "scrolled": false
   },
   "outputs": [
    {
     "data": {
      "text/html": [
       "<div>\n",
       "<style scoped>\n",
       "    .dataframe tbody tr th:only-of-type {\n",
       "        vertical-align: middle;\n",
       "    }\n",
       "\n",
       "    .dataframe tbody tr th {\n",
       "        vertical-align: top;\n",
       "    }\n",
       "\n",
       "    .dataframe thead th {\n",
       "        text-align: right;\n",
       "    }\n",
       "</style>\n",
       "<table border=\"1\" class=\"dataframe\">\n",
       "  <thead>\n",
       "    <tr style=\"text-align: right;\">\n",
       "      <th></th>\n",
       "      <th>mean_fit_time</th>\n",
       "      <th>std_fit_time</th>\n",
       "      <th>mean_score_time</th>\n",
       "      <th>std_score_time</th>\n",
       "      <th>param_max_depth</th>\n",
       "      <th>param_max_features</th>\n",
       "      <th>params</th>\n",
       "      <th>split0_test_score</th>\n",
       "      <th>split1_test_score</th>\n",
       "      <th>split2_test_score</th>\n",
       "      <th>split3_test_score</th>\n",
       "      <th>split4_test_score</th>\n",
       "      <th>mean_test_score</th>\n",
       "      <th>std_test_score</th>\n",
       "      <th>rank_test_score</th>\n",
       "    </tr>\n",
       "  </thead>\n",
       "  <tbody>\n",
       "    <tr>\n",
       "      <th>45</th>\n",
       "      <td>0.005585</td>\n",
       "      <td>7.985020e-04</td>\n",
       "      <td>0.003790</td>\n",
       "      <td>7.476446e-04</td>\n",
       "      <td>6</td>\n",
       "      <td>0.643417</td>\n",
       "      <td>{'max_depth': 6, 'max_features': 0.64341675341...</td>\n",
       "      <td>0.813008</td>\n",
       "      <td>0.878049</td>\n",
       "      <td>0.869919</td>\n",
       "      <td>0.878049</td>\n",
       "      <td>0.852459</td>\n",
       "      <td>0.858297</td>\n",
       "      <td>0.024497</td>\n",
       "      <td>1</td>\n",
       "    </tr>\n",
       "    <tr>\n",
       "      <th>43</th>\n",
       "      <td>0.006782</td>\n",
       "      <td>1.162549e-03</td>\n",
       "      <td>0.003192</td>\n",
       "      <td>7.461236e-04</td>\n",
       "      <td>6</td>\n",
       "      <td>0.668332</td>\n",
       "      <td>{'max_depth': 6, 'max_features': 0.66833190421...</td>\n",
       "      <td>0.813008</td>\n",
       "      <td>0.878049</td>\n",
       "      <td>0.869919</td>\n",
       "      <td>0.878049</td>\n",
       "      <td>0.852459</td>\n",
       "      <td>0.858297</td>\n",
       "      <td>0.024497</td>\n",
       "      <td>1</td>\n",
       "    </tr>\n",
       "    <tr>\n",
       "      <th>49</th>\n",
       "      <td>0.004700</td>\n",
       "      <td>4.849890e-04</td>\n",
       "      <td>0.002452</td>\n",
       "      <td>4.543116e-04</td>\n",
       "      <td>6</td>\n",
       "      <td>0.524028</td>\n",
       "      <td>{'max_depth': 6, 'max_features': 0.52402812212...</td>\n",
       "      <td>0.869919</td>\n",
       "      <td>0.878049</td>\n",
       "      <td>0.829268</td>\n",
       "      <td>0.861789</td>\n",
       "      <td>0.844262</td>\n",
       "      <td>0.856657</td>\n",
       "      <td>0.017684</td>\n",
       "      <td>3</td>\n",
       "    </tr>\n",
       "    <tr>\n",
       "      <th>46</th>\n",
       "      <td>0.005386</td>\n",
       "      <td>4.882663e-04</td>\n",
       "      <td>0.002793</td>\n",
       "      <td>3.989936e-04</td>\n",
       "      <td>6</td>\n",
       "      <td>0.620178</td>\n",
       "      <td>{'max_depth': 6, 'max_features': 0.62017771858...</td>\n",
       "      <td>0.869919</td>\n",
       "      <td>0.878049</td>\n",
       "      <td>0.829268</td>\n",
       "      <td>0.861789</td>\n",
       "      <td>0.844262</td>\n",
       "      <td>0.856657</td>\n",
       "      <td>0.017684</td>\n",
       "      <td>3</td>\n",
       "    </tr>\n",
       "    <tr>\n",
       "      <th>48</th>\n",
       "      <td>0.004587</td>\n",
       "      <td>4.889284e-04</td>\n",
       "      <td>0.002394</td>\n",
       "      <td>4.898237e-04</td>\n",
       "      <td>6</td>\n",
       "      <td>0.591896</td>\n",
       "      <td>{'max_depth': 6, 'max_features': 0.59189585664...</td>\n",
       "      <td>0.869919</td>\n",
       "      <td>0.878049</td>\n",
       "      <td>0.829268</td>\n",
       "      <td>0.861789</td>\n",
       "      <td>0.844262</td>\n",
       "      <td>0.856657</td>\n",
       "      <td>0.017684</td>\n",
       "      <td>3</td>\n",
       "    </tr>\n",
       "    <tr>\n",
       "      <th>41</th>\n",
       "      <td>0.006383</td>\n",
       "      <td>7.978806e-04</td>\n",
       "      <td>0.003391</td>\n",
       "      <td>7.982974e-04</td>\n",
       "      <td>6</td>\n",
       "      <td>0.624452</td>\n",
       "      <td>{'max_depth': 6, 'max_features': 0.62445214666...</td>\n",
       "      <td>0.869919</td>\n",
       "      <td>0.878049</td>\n",
       "      <td>0.829268</td>\n",
       "      <td>0.861789</td>\n",
       "      <td>0.844262</td>\n",
       "      <td>0.856657</td>\n",
       "      <td>0.017684</td>\n",
       "      <td>3</td>\n",
       "    </tr>\n",
       "    <tr>\n",
       "      <th>39</th>\n",
       "      <td>0.006383</td>\n",
       "      <td>1.017028e-03</td>\n",
       "      <td>0.003591</td>\n",
       "      <td>7.987264e-04</td>\n",
       "      <td>5</td>\n",
       "      <td>0.524028</td>\n",
       "      <td>{'max_depth': 5, 'max_features': 0.52402812212...</td>\n",
       "      <td>0.861789</td>\n",
       "      <td>0.861789</td>\n",
       "      <td>0.861789</td>\n",
       "      <td>0.845528</td>\n",
       "      <td>0.844262</td>\n",
       "      <td>0.855031</td>\n",
       "      <td>0.008286</td>\n",
       "      <td>7</td>\n",
       "    </tr>\n",
       "    <tr>\n",
       "      <th>38</th>\n",
       "      <td>0.006183</td>\n",
       "      <td>1.323463e-03</td>\n",
       "      <td>0.002793</td>\n",
       "      <td>3.984214e-04</td>\n",
       "      <td>5</td>\n",
       "      <td>0.591896</td>\n",
       "      <td>{'max_depth': 5, 'max_features': 0.59189585664...</td>\n",
       "      <td>0.861789</td>\n",
       "      <td>0.861789</td>\n",
       "      <td>0.861789</td>\n",
       "      <td>0.845528</td>\n",
       "      <td>0.844262</td>\n",
       "      <td>0.855031</td>\n",
       "      <td>0.008286</td>\n",
       "      <td>7</td>\n",
       "    </tr>\n",
       "    <tr>\n",
       "      <th>36</th>\n",
       "      <td>0.005385</td>\n",
       "      <td>1.351833e-03</td>\n",
       "      <td>0.002993</td>\n",
       "      <td>6.306019e-04</td>\n",
       "      <td>5</td>\n",
       "      <td>0.620178</td>\n",
       "      <td>{'max_depth': 5, 'max_features': 0.62017771858...</td>\n",
       "      <td>0.861789</td>\n",
       "      <td>0.861789</td>\n",
       "      <td>0.861789</td>\n",
       "      <td>0.845528</td>\n",
       "      <td>0.844262</td>\n",
       "      <td>0.855031</td>\n",
       "      <td>0.008286</td>\n",
       "      <td>7</td>\n",
       "    </tr>\n",
       "    <tr>\n",
       "      <th>31</th>\n",
       "      <td>0.005385</td>\n",
       "      <td>1.018037e-03</td>\n",
       "      <td>0.002593</td>\n",
       "      <td>4.888128e-04</td>\n",
       "      <td>5</td>\n",
       "      <td>0.624452</td>\n",
       "      <td>{'max_depth': 5, 'max_features': 0.62445214666...</td>\n",
       "      <td>0.861789</td>\n",
       "      <td>0.861789</td>\n",
       "      <td>0.861789</td>\n",
       "      <td>0.845528</td>\n",
       "      <td>0.844262</td>\n",
       "      <td>0.855031</td>\n",
       "      <td>0.008286</td>\n",
       "      <td>7</td>\n",
       "    </tr>\n",
       "    <tr>\n",
       "      <th>25</th>\n",
       "      <td>0.006185</td>\n",
       "      <td>3.988802e-04</td>\n",
       "      <td>0.004388</td>\n",
       "      <td>1.850220e-03</td>\n",
       "      <td>4</td>\n",
       "      <td>0.643417</td>\n",
       "      <td>{'max_depth': 4, 'max_features': 0.64341675341...</td>\n",
       "      <td>0.813008</td>\n",
       "      <td>0.837398</td>\n",
       "      <td>0.861789</td>\n",
       "      <td>0.861789</td>\n",
       "      <td>0.844262</td>\n",
       "      <td>0.843649</td>\n",
       "      <td>0.018091</td>\n",
       "      <td>11</td>\n",
       "    </tr>\n",
       "    <tr>\n",
       "      <th>23</th>\n",
       "      <td>0.006981</td>\n",
       "      <td>2.092351e-03</td>\n",
       "      <td>0.002993</td>\n",
       "      <td>6.305249e-04</td>\n",
       "      <td>4</td>\n",
       "      <td>0.668332</td>\n",
       "      <td>{'max_depth': 4, 'max_features': 0.66833190421...</td>\n",
       "      <td>0.813008</td>\n",
       "      <td>0.837398</td>\n",
       "      <td>0.861789</td>\n",
       "      <td>0.861789</td>\n",
       "      <td>0.844262</td>\n",
       "      <td>0.843649</td>\n",
       "      <td>0.018091</td>\n",
       "      <td>11</td>\n",
       "    </tr>\n",
       "    <tr>\n",
       "      <th>35</th>\n",
       "      <td>0.006583</td>\n",
       "      <td>1.017065e-03</td>\n",
       "      <td>0.003390</td>\n",
       "      <td>7.980353e-04</td>\n",
       "      <td>5</td>\n",
       "      <td>0.643417</td>\n",
       "      <td>{'max_depth': 5, 'max_features': 0.64341675341...</td>\n",
       "      <td>0.845528</td>\n",
       "      <td>0.845528</td>\n",
       "      <td>0.845528</td>\n",
       "      <td>0.869919</td>\n",
       "      <td>0.811475</td>\n",
       "      <td>0.843596</td>\n",
       "      <td>0.018632</td>\n",
       "      <td>13</td>\n",
       "    </tr>\n",
       "    <tr>\n",
       "      <th>33</th>\n",
       "      <td>0.005785</td>\n",
       "      <td>7.463541e-04</td>\n",
       "      <td>0.003191</td>\n",
       "      <td>3.986620e-04</td>\n",
       "      <td>5</td>\n",
       "      <td>0.668332</td>\n",
       "      <td>{'max_depth': 5, 'max_features': 0.66833190421...</td>\n",
       "      <td>0.845528</td>\n",
       "      <td>0.845528</td>\n",
       "      <td>0.845528</td>\n",
       "      <td>0.869919</td>\n",
       "      <td>0.811475</td>\n",
       "      <td>0.843596</td>\n",
       "      <td>0.018632</td>\n",
       "      <td>13</td>\n",
       "    </tr>\n",
       "    <tr>\n",
       "      <th>40</th>\n",
       "      <td>0.006184</td>\n",
       "      <td>9.775545e-04</td>\n",
       "      <td>0.003191</td>\n",
       "      <td>3.991608e-04</td>\n",
       "      <td>6</td>\n",
       "      <td>0.397005</td>\n",
       "      <td>{'max_depth': 6, 'max_features': 0.39700538819...</td>\n",
       "      <td>0.804878</td>\n",
       "      <td>0.837398</td>\n",
       "      <td>0.861789</td>\n",
       "      <td>0.845528</td>\n",
       "      <td>0.844262</td>\n",
       "      <td>0.838771</td>\n",
       "      <td>0.018742</td>\n",
       "      <td>15</td>\n",
       "    </tr>\n",
       "    <tr>\n",
       "      <th>47</th>\n",
       "      <td>0.004587</td>\n",
       "      <td>4.885587e-04</td>\n",
       "      <td>0.002394</td>\n",
       "      <td>4.888122e-04</td>\n",
       "      <td>6</td>\n",
       "      <td>0.414738</td>\n",
       "      <td>{'max_depth': 6, 'max_features': 0.41473814402...</td>\n",
       "      <td>0.804878</td>\n",
       "      <td>0.837398</td>\n",
       "      <td>0.861789</td>\n",
       "      <td>0.845528</td>\n",
       "      <td>0.844262</td>\n",
       "      <td>0.838771</td>\n",
       "      <td>0.018742</td>\n",
       "      <td>15</td>\n",
       "    </tr>\n",
       "    <tr>\n",
       "      <th>44</th>\n",
       "      <td>0.005786</td>\n",
       "      <td>3.982827e-04</td>\n",
       "      <td>0.002791</td>\n",
       "      <td>7.462666e-04</td>\n",
       "      <td>6</td>\n",
       "      <td>0.400221</td>\n",
       "      <td>{'max_depth': 6, 'max_features': 0.40022095519...</td>\n",
       "      <td>0.804878</td>\n",
       "      <td>0.837398</td>\n",
       "      <td>0.861789</td>\n",
       "      <td>0.845528</td>\n",
       "      <td>0.844262</td>\n",
       "      <td>0.838771</td>\n",
       "      <td>0.018742</td>\n",
       "      <td>15</td>\n",
       "    </tr>\n",
       "    <tr>\n",
       "      <th>30</th>\n",
       "      <td>0.005585</td>\n",
       "      <td>4.890072e-04</td>\n",
       "      <td>0.003391</td>\n",
       "      <td>4.893955e-04</td>\n",
       "      <td>5</td>\n",
       "      <td>0.397005</td>\n",
       "      <td>{'max_depth': 5, 'max_features': 0.39700538819...</td>\n",
       "      <td>0.829268</td>\n",
       "      <td>0.853659</td>\n",
       "      <td>0.869919</td>\n",
       "      <td>0.821138</td>\n",
       "      <td>0.819672</td>\n",
       "      <td>0.838731</td>\n",
       "      <td>0.019788</td>\n",
       "      <td>18</td>\n",
       "    </tr>\n",
       "    <tr>\n",
       "      <th>37</th>\n",
       "      <td>0.005785</td>\n",
       "      <td>1.323010e-03</td>\n",
       "      <td>0.003191</td>\n",
       "      <td>3.990182e-04</td>\n",
       "      <td>5</td>\n",
       "      <td>0.414738</td>\n",
       "      <td>{'max_depth': 5, 'max_features': 0.41473814402...</td>\n",
       "      <td>0.829268</td>\n",
       "      <td>0.853659</td>\n",
       "      <td>0.869919</td>\n",
       "      <td>0.821138</td>\n",
       "      <td>0.819672</td>\n",
       "      <td>0.838731</td>\n",
       "      <td>0.019788</td>\n",
       "      <td>18</td>\n",
       "    </tr>\n",
       "    <tr>\n",
       "      <th>34</th>\n",
       "      <td>0.005784</td>\n",
       "      <td>4.002575e-04</td>\n",
       "      <td>0.003391</td>\n",
       "      <td>4.885194e-04</td>\n",
       "      <td>5</td>\n",
       "      <td>0.400221</td>\n",
       "      <td>{'max_depth': 5, 'max_features': 0.40022095519...</td>\n",
       "      <td>0.829268</td>\n",
       "      <td>0.853659</td>\n",
       "      <td>0.869919</td>\n",
       "      <td>0.821138</td>\n",
       "      <td>0.819672</td>\n",
       "      <td>0.838731</td>\n",
       "      <td>0.019788</td>\n",
       "      <td>18</td>\n",
       "    </tr>\n",
       "    <tr>\n",
       "      <th>29</th>\n",
       "      <td>0.006781</td>\n",
       "      <td>1.716787e-03</td>\n",
       "      <td>0.002993</td>\n",
       "      <td>6.468134e-07</td>\n",
       "      <td>4</td>\n",
       "      <td>0.524028</td>\n",
       "      <td>{'max_depth': 4, 'max_features': 0.52402812212...</td>\n",
       "      <td>0.853659</td>\n",
       "      <td>0.845528</td>\n",
       "      <td>0.829268</td>\n",
       "      <td>0.837398</td>\n",
       "      <td>0.819672</td>\n",
       "      <td>0.837105</td>\n",
       "      <td>0.011920</td>\n",
       "      <td>21</td>\n",
       "    </tr>\n",
       "    <tr>\n",
       "      <th>28</th>\n",
       "      <td>0.005784</td>\n",
       "      <td>7.464684e-04</td>\n",
       "      <td>0.003191</td>\n",
       "      <td>1.163538e-03</td>\n",
       "      <td>4</td>\n",
       "      <td>0.591896</td>\n",
       "      <td>{'max_depth': 4, 'max_features': 0.59189585664...</td>\n",
       "      <td>0.853659</td>\n",
       "      <td>0.845528</td>\n",
       "      <td>0.829268</td>\n",
       "      <td>0.837398</td>\n",
       "      <td>0.819672</td>\n",
       "      <td>0.837105</td>\n",
       "      <td>0.011920</td>\n",
       "      <td>21</td>\n",
       "    </tr>\n",
       "    <tr>\n",
       "      <th>26</th>\n",
       "      <td>0.004986</td>\n",
       "      <td>6.310541e-04</td>\n",
       "      <td>0.002593</td>\n",
       "      <td>4.898237e-04</td>\n",
       "      <td>4</td>\n",
       "      <td>0.620178</td>\n",
       "      <td>{'max_depth': 4, 'max_features': 0.62017771858...</td>\n",
       "      <td>0.853659</td>\n",
       "      <td>0.845528</td>\n",
       "      <td>0.829268</td>\n",
       "      <td>0.837398</td>\n",
       "      <td>0.819672</td>\n",
       "      <td>0.837105</td>\n",
       "      <td>0.011920</td>\n",
       "      <td>21</td>\n",
       "    </tr>\n",
       "    <tr>\n",
       "      <th>21</th>\n",
       "      <td>0.005784</td>\n",
       "      <td>7.457924e-04</td>\n",
       "      <td>0.003192</td>\n",
       "      <td>3.997808e-04</td>\n",
       "      <td>4</td>\n",
       "      <td>0.624452</td>\n",
       "      <td>{'max_depth': 4, 'max_features': 0.62445214666...</td>\n",
       "      <td>0.853659</td>\n",
       "      <td>0.845528</td>\n",
       "      <td>0.829268</td>\n",
       "      <td>0.837398</td>\n",
       "      <td>0.819672</td>\n",
       "      <td>0.837105</td>\n",
       "      <td>0.011920</td>\n",
       "      <td>21</td>\n",
       "    </tr>\n",
       "    <tr>\n",
       "      <th>14</th>\n",
       "      <td>0.005186</td>\n",
       "      <td>3.995186e-04</td>\n",
       "      <td>0.002793</td>\n",
       "      <td>4.000434e-04</td>\n",
       "      <td>3</td>\n",
       "      <td>0.400221</td>\n",
       "      <td>{'max_depth': 3, 'max_features': 0.40022095519...</td>\n",
       "      <td>0.845528</td>\n",
       "      <td>0.845528</td>\n",
       "      <td>0.821138</td>\n",
       "      <td>0.837398</td>\n",
       "      <td>0.819672</td>\n",
       "      <td>0.833853</td>\n",
       "      <td>0.011384</td>\n",
       "      <td>25</td>\n",
       "    </tr>\n",
       "    <tr>\n",
       "      <th>10</th>\n",
       "      <td>0.004633</td>\n",
       "      <td>4.806181e-04</td>\n",
       "      <td>0.002392</td>\n",
       "      <td>4.866778e-04</td>\n",
       "      <td>3</td>\n",
       "      <td>0.397005</td>\n",
       "      <td>{'max_depth': 3, 'max_features': 0.39700538819...</td>\n",
       "      <td>0.845528</td>\n",
       "      <td>0.845528</td>\n",
       "      <td>0.821138</td>\n",
       "      <td>0.837398</td>\n",
       "      <td>0.819672</td>\n",
       "      <td>0.833853</td>\n",
       "      <td>0.011384</td>\n",
       "      <td>25</td>\n",
       "    </tr>\n",
       "    <tr>\n",
       "      <th>17</th>\n",
       "      <td>0.004588</td>\n",
       "      <td>4.884636e-04</td>\n",
       "      <td>0.002792</td>\n",
       "      <td>3.991130e-04</td>\n",
       "      <td>3</td>\n",
       "      <td>0.414738</td>\n",
       "      <td>{'max_depth': 3, 'max_features': 0.41473814402...</td>\n",
       "      <td>0.845528</td>\n",
       "      <td>0.845528</td>\n",
       "      <td>0.821138</td>\n",
       "      <td>0.837398</td>\n",
       "      <td>0.819672</td>\n",
       "      <td>0.833853</td>\n",
       "      <td>0.011384</td>\n",
       "      <td>25</td>\n",
       "    </tr>\n",
       "    <tr>\n",
       "      <th>11</th>\n",
       "      <td>0.003192</td>\n",
       "      <td>3.986598e-04</td>\n",
       "      <td>0.002194</td>\n",
       "      <td>7.462510e-04</td>\n",
       "      <td>3</td>\n",
       "      <td>0.624452</td>\n",
       "      <td>{'max_depth': 3, 'max_features': 0.62445214666...</td>\n",
       "      <td>0.845528</td>\n",
       "      <td>0.845528</td>\n",
       "      <td>0.813008</td>\n",
       "      <td>0.837398</td>\n",
       "      <td>0.819672</td>\n",
       "      <td>0.832227</td>\n",
       "      <td>0.013473</td>\n",
       "      <td>28</td>\n",
       "    </tr>\n",
       "    <tr>\n",
       "      <th>19</th>\n",
       "      <td>0.004986</td>\n",
       "      <td>1.544526e-03</td>\n",
       "      <td>0.003192</td>\n",
       "      <td>7.467098e-04</td>\n",
       "      <td>3</td>\n",
       "      <td>0.524028</td>\n",
       "      <td>{'max_depth': 3, 'max_features': 0.52402812212...</td>\n",
       "      <td>0.845528</td>\n",
       "      <td>0.845528</td>\n",
       "      <td>0.813008</td>\n",
       "      <td>0.837398</td>\n",
       "      <td>0.819672</td>\n",
       "      <td>0.832227</td>\n",
       "      <td>0.013473</td>\n",
       "      <td>28</td>\n",
       "    </tr>\n",
       "    <tr>\n",
       "      <th>18</th>\n",
       "      <td>0.004588</td>\n",
       "      <td>1.016953e-03</td>\n",
       "      <td>0.002394</td>\n",
       "      <td>4.888504e-04</td>\n",
       "      <td>3</td>\n",
       "      <td>0.591896</td>\n",
       "      <td>{'max_depth': 3, 'max_features': 0.59189585664...</td>\n",
       "      <td>0.845528</td>\n",
       "      <td>0.845528</td>\n",
       "      <td>0.813008</td>\n",
       "      <td>0.837398</td>\n",
       "      <td>0.819672</td>\n",
       "      <td>0.832227</td>\n",
       "      <td>0.013473</td>\n",
       "      <td>28</td>\n",
       "    </tr>\n",
       "    <tr>\n",
       "      <th>16</th>\n",
       "      <td>0.004788</td>\n",
       "      <td>9.768449e-04</td>\n",
       "      <td>0.002592</td>\n",
       "      <td>4.877633e-04</td>\n",
       "      <td>3</td>\n",
       "      <td>0.620178</td>\n",
       "      <td>{'max_depth': 3, 'max_features': 0.62017771858...</td>\n",
       "      <td>0.845528</td>\n",
       "      <td>0.845528</td>\n",
       "      <td>0.813008</td>\n",
       "      <td>0.837398</td>\n",
       "      <td>0.819672</td>\n",
       "      <td>0.832227</td>\n",
       "      <td>0.013473</td>\n",
       "      <td>28</td>\n",
       "    </tr>\n",
       "    <tr>\n",
       "      <th>15</th>\n",
       "      <td>0.004787</td>\n",
       "      <td>3.977075e-04</td>\n",
       "      <td>0.002792</td>\n",
       "      <td>3.993286e-04</td>\n",
       "      <td>3</td>\n",
       "      <td>0.643417</td>\n",
       "      <td>{'max_depth': 3, 'max_features': 0.64341675341...</td>\n",
       "      <td>0.829268</td>\n",
       "      <td>0.845528</td>\n",
       "      <td>0.821138</td>\n",
       "      <td>0.837398</td>\n",
       "      <td>0.819672</td>\n",
       "      <td>0.830601</td>\n",
       "      <td>0.009796</td>\n",
       "      <td>32</td>\n",
       "    </tr>\n",
       "    <tr>\n",
       "      <th>13</th>\n",
       "      <td>0.004987</td>\n",
       "      <td>1.051207e-06</td>\n",
       "      <td>0.002792</td>\n",
       "      <td>3.983749e-04</td>\n",
       "      <td>3</td>\n",
       "      <td>0.668332</td>\n",
       "      <td>{'max_depth': 3, 'max_features': 0.66833190421...</td>\n",
       "      <td>0.829268</td>\n",
       "      <td>0.845528</td>\n",
       "      <td>0.821138</td>\n",
       "      <td>0.837398</td>\n",
       "      <td>0.819672</td>\n",
       "      <td>0.830601</td>\n",
       "      <td>0.009796</td>\n",
       "      <td>32</td>\n",
       "    </tr>\n",
       "    <tr>\n",
       "      <th>0</th>\n",
       "      <td>0.008214</td>\n",
       "      <td>9.769663e-04</td>\n",
       "      <td>0.003189</td>\n",
       "      <td>4.007585e-04</td>\n",
       "      <td>2</td>\n",
       "      <td>0.397005</td>\n",
       "      <td>{'max_depth': 2, 'max_features': 0.39700538819...</td>\n",
       "      <td>0.837398</td>\n",
       "      <td>0.837398</td>\n",
       "      <td>0.813008</td>\n",
       "      <td>0.837398</td>\n",
       "      <td>0.819672</td>\n",
       "      <td>0.828975</td>\n",
       "      <td>0.010529</td>\n",
       "      <td>34</td>\n",
       "    </tr>\n",
       "    <tr>\n",
       "      <th>7</th>\n",
       "      <td>0.005089</td>\n",
       "      <td>4.850084e-04</td>\n",
       "      <td>0.003391</td>\n",
       "      <td>4.885589e-04</td>\n",
       "      <td>2</td>\n",
       "      <td>0.414738</td>\n",
       "      <td>{'max_depth': 2, 'max_features': 0.41473814402...</td>\n",
       "      <td>0.837398</td>\n",
       "      <td>0.837398</td>\n",
       "      <td>0.813008</td>\n",
       "      <td>0.837398</td>\n",
       "      <td>0.819672</td>\n",
       "      <td>0.828975</td>\n",
       "      <td>0.010529</td>\n",
       "      <td>34</td>\n",
       "    </tr>\n",
       "    <tr>\n",
       "      <th>4</th>\n",
       "      <td>0.006020</td>\n",
       "      <td>8.897839e-04</td>\n",
       "      <td>0.003401</td>\n",
       "      <td>4.811783e-04</td>\n",
       "      <td>2</td>\n",
       "      <td>0.400221</td>\n",
       "      <td>{'max_depth': 2, 'max_features': 0.40022095519...</td>\n",
       "      <td>0.837398</td>\n",
       "      <td>0.837398</td>\n",
       "      <td>0.813008</td>\n",
       "      <td>0.837398</td>\n",
       "      <td>0.819672</td>\n",
       "      <td>0.828975</td>\n",
       "      <td>0.010529</td>\n",
       "      <td>34</td>\n",
       "    </tr>\n",
       "    <tr>\n",
       "      <th>27</th>\n",
       "      <td>0.004987</td>\n",
       "      <td>6.106495e-07</td>\n",
       "      <td>0.002993</td>\n",
       "      <td>2.707495e-06</td>\n",
       "      <td>4</td>\n",
       "      <td>0.414738</td>\n",
       "      <td>{'max_depth': 4, 'max_features': 0.41473814402...</td>\n",
       "      <td>0.845528</td>\n",
       "      <td>0.813008</td>\n",
       "      <td>0.837398</td>\n",
       "      <td>0.845528</td>\n",
       "      <td>0.803279</td>\n",
       "      <td>0.828948</td>\n",
       "      <td>0.017517</td>\n",
       "      <td>37</td>\n",
       "    </tr>\n",
       "    <tr>\n",
       "      <th>20</th>\n",
       "      <td>0.004587</td>\n",
       "      <td>4.882273e-04</td>\n",
       "      <td>0.003191</td>\n",
       "      <td>7.463793e-04</td>\n",
       "      <td>4</td>\n",
       "      <td>0.397005</td>\n",
       "      <td>{'max_depth': 4, 'max_features': 0.39700538819...</td>\n",
       "      <td>0.845528</td>\n",
       "      <td>0.813008</td>\n",
       "      <td>0.837398</td>\n",
       "      <td>0.845528</td>\n",
       "      <td>0.803279</td>\n",
       "      <td>0.828948</td>\n",
       "      <td>0.017517</td>\n",
       "      <td>37</td>\n",
       "    </tr>\n",
       "    <tr>\n",
       "      <th>24</th>\n",
       "      <td>0.006184</td>\n",
       "      <td>1.163244e-03</td>\n",
       "      <td>0.003191</td>\n",
       "      <td>3.984935e-04</td>\n",
       "      <td>4</td>\n",
       "      <td>0.400221</td>\n",
       "      <td>{'max_depth': 4, 'max_features': 0.40022095519...</td>\n",
       "      <td>0.845528</td>\n",
       "      <td>0.813008</td>\n",
       "      <td>0.837398</td>\n",
       "      <td>0.845528</td>\n",
       "      <td>0.803279</td>\n",
       "      <td>0.828948</td>\n",
       "      <td>0.017517</td>\n",
       "      <td>37</td>\n",
       "    </tr>\n",
       "    <tr>\n",
       "      <th>9</th>\n",
       "      <td>0.004598</td>\n",
       "      <td>8.038083e-04</td>\n",
       "      <td>0.002394</td>\n",
       "      <td>4.898833e-04</td>\n",
       "      <td>2</td>\n",
       "      <td>0.524028</td>\n",
       "      <td>{'max_depth': 2, 'max_features': 0.52402812212...</td>\n",
       "      <td>0.837398</td>\n",
       "      <td>0.829268</td>\n",
       "      <td>0.813008</td>\n",
       "      <td>0.837398</td>\n",
       "      <td>0.819672</td>\n",
       "      <td>0.827349</td>\n",
       "      <td>0.009698</td>\n",
       "      <td>40</td>\n",
       "    </tr>\n",
       "    <tr>\n",
       "      <th>8</th>\n",
       "      <td>0.005307</td>\n",
       "      <td>3.847366e-04</td>\n",
       "      <td>0.003705</td>\n",
       "      <td>8.702633e-04</td>\n",
       "      <td>2</td>\n",
       "      <td>0.591896</td>\n",
       "      <td>{'max_depth': 2, 'max_features': 0.59189585664...</td>\n",
       "      <td>0.837398</td>\n",
       "      <td>0.829268</td>\n",
       "      <td>0.813008</td>\n",
       "      <td>0.837398</td>\n",
       "      <td>0.819672</td>\n",
       "      <td>0.827349</td>\n",
       "      <td>0.009698</td>\n",
       "      <td>40</td>\n",
       "    </tr>\n",
       "    <tr>\n",
       "      <th>6</th>\n",
       "      <td>0.005490</td>\n",
       "      <td>4.464150e-04</td>\n",
       "      <td>0.004092</td>\n",
       "      <td>2.002407e-03</td>\n",
       "      <td>2</td>\n",
       "      <td>0.620178</td>\n",
       "      <td>{'max_depth': 2, 'max_features': 0.62017771858...</td>\n",
       "      <td>0.837398</td>\n",
       "      <td>0.829268</td>\n",
       "      <td>0.813008</td>\n",
       "      <td>0.837398</td>\n",
       "      <td>0.819672</td>\n",
       "      <td>0.827349</td>\n",
       "      <td>0.009698</td>\n",
       "      <td>40</td>\n",
       "    </tr>\n",
       "    <tr>\n",
       "      <th>5</th>\n",
       "      <td>0.005791</td>\n",
       "      <td>7.629449e-04</td>\n",
       "      <td>0.003401</td>\n",
       "      <td>5.000958e-04</td>\n",
       "      <td>2</td>\n",
       "      <td>0.643417</td>\n",
       "      <td>{'max_depth': 2, 'max_features': 0.64341675341...</td>\n",
       "      <td>0.837398</td>\n",
       "      <td>0.829268</td>\n",
       "      <td>0.813008</td>\n",
       "      <td>0.837398</td>\n",
       "      <td>0.819672</td>\n",
       "      <td>0.827349</td>\n",
       "      <td>0.009698</td>\n",
       "      <td>40</td>\n",
       "    </tr>\n",
       "    <tr>\n",
       "      <th>3</th>\n",
       "      <td>0.005905</td>\n",
       "      <td>1.029109e-03</td>\n",
       "      <td>0.003205</td>\n",
       "      <td>5.206452e-04</td>\n",
       "      <td>2</td>\n",
       "      <td>0.668332</td>\n",
       "      <td>{'max_depth': 2, 'max_features': 0.66833190421...</td>\n",
       "      <td>0.837398</td>\n",
       "      <td>0.829268</td>\n",
       "      <td>0.813008</td>\n",
       "      <td>0.837398</td>\n",
       "      <td>0.819672</td>\n",
       "      <td>0.827349</td>\n",
       "      <td>0.009698</td>\n",
       "      <td>40</td>\n",
       "    </tr>\n",
       "    <tr>\n",
       "      <th>1</th>\n",
       "      <td>0.006884</td>\n",
       "      <td>9.130587e-04</td>\n",
       "      <td>0.003598</td>\n",
       "      <td>4.935364e-04</td>\n",
       "      <td>2</td>\n",
       "      <td>0.624452</td>\n",
       "      <td>{'max_depth': 2, 'max_features': 0.62445214666...</td>\n",
       "      <td>0.837398</td>\n",
       "      <td>0.829268</td>\n",
       "      <td>0.813008</td>\n",
       "      <td>0.837398</td>\n",
       "      <td>0.819672</td>\n",
       "      <td>0.827349</td>\n",
       "      <td>0.009698</td>\n",
       "      <td>40</td>\n",
       "    </tr>\n",
       "    <tr>\n",
       "      <th>22</th>\n",
       "      <td>0.005785</td>\n",
       "      <td>7.467230e-04</td>\n",
       "      <td>0.002792</td>\n",
       "      <td>3.988269e-04</td>\n",
       "      <td>4</td>\n",
       "      <td>0.320976</td>\n",
       "      <td>{'max_depth': 4, 'max_features': 0.32097600838...</td>\n",
       "      <td>0.821138</td>\n",
       "      <td>0.821138</td>\n",
       "      <td>0.796748</td>\n",
       "      <td>0.837398</td>\n",
       "      <td>0.852459</td>\n",
       "      <td>0.825776</td>\n",
       "      <td>0.018616</td>\n",
       "      <td>46</td>\n",
       "    </tr>\n",
       "    <tr>\n",
       "      <th>32</th>\n",
       "      <td>0.004388</td>\n",
       "      <td>4.886968e-04</td>\n",
       "      <td>0.002593</td>\n",
       "      <td>4.885791e-04</td>\n",
       "      <td>5</td>\n",
       "      <td>0.320976</td>\n",
       "      <td>{'max_depth': 5, 'max_features': 0.32097600838...</td>\n",
       "      <td>0.780488</td>\n",
       "      <td>0.813008</td>\n",
       "      <td>0.821138</td>\n",
       "      <td>0.813008</td>\n",
       "      <td>0.762295</td>\n",
       "      <td>0.797987</td>\n",
       "      <td>0.022660</td>\n",
       "      <td>47</td>\n",
       "    </tr>\n",
       "    <tr>\n",
       "      <th>42</th>\n",
       "      <td>0.005586</td>\n",
       "      <td>4.884812e-04</td>\n",
       "      <td>0.003391</td>\n",
       "      <td>4.884611e-04</td>\n",
       "      <td>6</td>\n",
       "      <td>0.320976</td>\n",
       "      <td>{'max_depth': 6, 'max_features': 0.32097600838...</td>\n",
       "      <td>0.813008</td>\n",
       "      <td>0.821138</td>\n",
       "      <td>0.747967</td>\n",
       "      <td>0.756098</td>\n",
       "      <td>0.680328</td>\n",
       "      <td>0.763708</td>\n",
       "      <td>0.050964</td>\n",
       "      <td>48</td>\n",
       "    </tr>\n",
       "    <tr>\n",
       "      <th>2</th>\n",
       "      <td>0.005203</td>\n",
       "      <td>3.920101e-04</td>\n",
       "      <td>0.003188</td>\n",
       "      <td>7.469198e-04</td>\n",
       "      <td>2</td>\n",
       "      <td>0.320976</td>\n",
       "      <td>{'max_depth': 2, 'max_features': 0.32097600838...</td>\n",
       "      <td>0.764228</td>\n",
       "      <td>0.772358</td>\n",
       "      <td>0.739837</td>\n",
       "      <td>0.739837</td>\n",
       "      <td>0.770492</td>\n",
       "      <td>0.757350</td>\n",
       "      <td>0.014551</td>\n",
       "      <td>49</td>\n",
       "    </tr>\n",
       "    <tr>\n",
       "      <th>12</th>\n",
       "      <td>0.004189</td>\n",
       "      <td>7.471562e-04</td>\n",
       "      <td>0.002793</td>\n",
       "      <td>7.470043e-04</td>\n",
       "      <td>3</td>\n",
       "      <td>0.320976</td>\n",
       "      <td>{'max_depth': 3, 'max_features': 0.32097600838...</td>\n",
       "      <td>0.756098</td>\n",
       "      <td>0.723577</td>\n",
       "      <td>0.788618</td>\n",
       "      <td>0.772358</td>\n",
       "      <td>0.729508</td>\n",
       "      <td>0.754032</td>\n",
       "      <td>0.024760</td>\n",
       "      <td>50</td>\n",
       "    </tr>\n",
       "  </tbody>\n",
       "</table>\n",
       "</div>"
      ],
      "text/plain": [
       "    mean_fit_time  std_fit_time  mean_score_time  std_score_time  \\\n",
       "45       0.005585  7.985020e-04         0.003790    7.476446e-04   \n",
       "43       0.006782  1.162549e-03         0.003192    7.461236e-04   \n",
       "49       0.004700  4.849890e-04         0.002452    4.543116e-04   \n",
       "46       0.005386  4.882663e-04         0.002793    3.989936e-04   \n",
       "48       0.004587  4.889284e-04         0.002394    4.898237e-04   \n",
       "41       0.006383  7.978806e-04         0.003391    7.982974e-04   \n",
       "39       0.006383  1.017028e-03         0.003591    7.987264e-04   \n",
       "38       0.006183  1.323463e-03         0.002793    3.984214e-04   \n",
       "36       0.005385  1.351833e-03         0.002993    6.306019e-04   \n",
       "31       0.005385  1.018037e-03         0.002593    4.888128e-04   \n",
       "25       0.006185  3.988802e-04         0.004388    1.850220e-03   \n",
       "23       0.006981  2.092351e-03         0.002993    6.305249e-04   \n",
       "35       0.006583  1.017065e-03         0.003390    7.980353e-04   \n",
       "33       0.005785  7.463541e-04         0.003191    3.986620e-04   \n",
       "40       0.006184  9.775545e-04         0.003191    3.991608e-04   \n",
       "47       0.004587  4.885587e-04         0.002394    4.888122e-04   \n",
       "44       0.005786  3.982827e-04         0.002791    7.462666e-04   \n",
       "30       0.005585  4.890072e-04         0.003391    4.893955e-04   \n",
       "37       0.005785  1.323010e-03         0.003191    3.990182e-04   \n",
       "34       0.005784  4.002575e-04         0.003391    4.885194e-04   \n",
       "29       0.006781  1.716787e-03         0.002993    6.468134e-07   \n",
       "28       0.005784  7.464684e-04         0.003191    1.163538e-03   \n",
       "26       0.004986  6.310541e-04         0.002593    4.898237e-04   \n",
       "21       0.005784  7.457924e-04         0.003192    3.997808e-04   \n",
       "14       0.005186  3.995186e-04         0.002793    4.000434e-04   \n",
       "10       0.004633  4.806181e-04         0.002392    4.866778e-04   \n",
       "17       0.004588  4.884636e-04         0.002792    3.991130e-04   \n",
       "11       0.003192  3.986598e-04         0.002194    7.462510e-04   \n",
       "19       0.004986  1.544526e-03         0.003192    7.467098e-04   \n",
       "18       0.004588  1.016953e-03         0.002394    4.888504e-04   \n",
       "16       0.004788  9.768449e-04         0.002592    4.877633e-04   \n",
       "15       0.004787  3.977075e-04         0.002792    3.993286e-04   \n",
       "13       0.004987  1.051207e-06         0.002792    3.983749e-04   \n",
       "0        0.008214  9.769663e-04         0.003189    4.007585e-04   \n",
       "7        0.005089  4.850084e-04         0.003391    4.885589e-04   \n",
       "4        0.006020  8.897839e-04         0.003401    4.811783e-04   \n",
       "27       0.004987  6.106495e-07         0.002993    2.707495e-06   \n",
       "20       0.004587  4.882273e-04         0.003191    7.463793e-04   \n",
       "24       0.006184  1.163244e-03         0.003191    3.984935e-04   \n",
       "9        0.004598  8.038083e-04         0.002394    4.898833e-04   \n",
       "8        0.005307  3.847366e-04         0.003705    8.702633e-04   \n",
       "6        0.005490  4.464150e-04         0.004092    2.002407e-03   \n",
       "5        0.005791  7.629449e-04         0.003401    5.000958e-04   \n",
       "3        0.005905  1.029109e-03         0.003205    5.206452e-04   \n",
       "1        0.006884  9.130587e-04         0.003598    4.935364e-04   \n",
       "22       0.005785  7.467230e-04         0.002792    3.988269e-04   \n",
       "32       0.004388  4.886968e-04         0.002593    4.885791e-04   \n",
       "42       0.005586  4.884812e-04         0.003391    4.884611e-04   \n",
       "2        0.005203  3.920101e-04         0.003188    7.469198e-04   \n",
       "12       0.004189  7.471562e-04         0.002793    7.470043e-04   \n",
       "\n",
       "   param_max_depth param_max_features  \\\n",
       "45               6           0.643417   \n",
       "43               6           0.668332   \n",
       "49               6           0.524028   \n",
       "46               6           0.620178   \n",
       "48               6           0.591896   \n",
       "41               6           0.624452   \n",
       "39               5           0.524028   \n",
       "38               5           0.591896   \n",
       "36               5           0.620178   \n",
       "31               5           0.624452   \n",
       "25               4           0.643417   \n",
       "23               4           0.668332   \n",
       "35               5           0.643417   \n",
       "33               5           0.668332   \n",
       "40               6           0.397005   \n",
       "47               6           0.414738   \n",
       "44               6           0.400221   \n",
       "30               5           0.397005   \n",
       "37               5           0.414738   \n",
       "34               5           0.400221   \n",
       "29               4           0.524028   \n",
       "28               4           0.591896   \n",
       "26               4           0.620178   \n",
       "21               4           0.624452   \n",
       "14               3           0.400221   \n",
       "10               3           0.397005   \n",
       "17               3           0.414738   \n",
       "11               3           0.624452   \n",
       "19               3           0.524028   \n",
       "18               3           0.591896   \n",
       "16               3           0.620178   \n",
       "15               3           0.643417   \n",
       "13               3           0.668332   \n",
       "0                2           0.397005   \n",
       "7                2           0.414738   \n",
       "4                2           0.400221   \n",
       "27               4           0.414738   \n",
       "20               4           0.397005   \n",
       "24               4           0.400221   \n",
       "9                2           0.524028   \n",
       "8                2           0.591896   \n",
       "6                2           0.620178   \n",
       "5                2           0.643417   \n",
       "3                2           0.668332   \n",
       "1                2           0.624452   \n",
       "22               4           0.320976   \n",
       "32               5           0.320976   \n",
       "42               6           0.320976   \n",
       "2                2           0.320976   \n",
       "12               3           0.320976   \n",
       "\n",
       "                                               params  split0_test_score  \\\n",
       "45  {'max_depth': 6, 'max_features': 0.64341675341...           0.813008   \n",
       "43  {'max_depth': 6, 'max_features': 0.66833190421...           0.813008   \n",
       "49  {'max_depth': 6, 'max_features': 0.52402812212...           0.869919   \n",
       "46  {'max_depth': 6, 'max_features': 0.62017771858...           0.869919   \n",
       "48  {'max_depth': 6, 'max_features': 0.59189585664...           0.869919   \n",
       "41  {'max_depth': 6, 'max_features': 0.62445214666...           0.869919   \n",
       "39  {'max_depth': 5, 'max_features': 0.52402812212...           0.861789   \n",
       "38  {'max_depth': 5, 'max_features': 0.59189585664...           0.861789   \n",
       "36  {'max_depth': 5, 'max_features': 0.62017771858...           0.861789   \n",
       "31  {'max_depth': 5, 'max_features': 0.62445214666...           0.861789   \n",
       "25  {'max_depth': 4, 'max_features': 0.64341675341...           0.813008   \n",
       "23  {'max_depth': 4, 'max_features': 0.66833190421...           0.813008   \n",
       "35  {'max_depth': 5, 'max_features': 0.64341675341...           0.845528   \n",
       "33  {'max_depth': 5, 'max_features': 0.66833190421...           0.845528   \n",
       "40  {'max_depth': 6, 'max_features': 0.39700538819...           0.804878   \n",
       "47  {'max_depth': 6, 'max_features': 0.41473814402...           0.804878   \n",
       "44  {'max_depth': 6, 'max_features': 0.40022095519...           0.804878   \n",
       "30  {'max_depth': 5, 'max_features': 0.39700538819...           0.829268   \n",
       "37  {'max_depth': 5, 'max_features': 0.41473814402...           0.829268   \n",
       "34  {'max_depth': 5, 'max_features': 0.40022095519...           0.829268   \n",
       "29  {'max_depth': 4, 'max_features': 0.52402812212...           0.853659   \n",
       "28  {'max_depth': 4, 'max_features': 0.59189585664...           0.853659   \n",
       "26  {'max_depth': 4, 'max_features': 0.62017771858...           0.853659   \n",
       "21  {'max_depth': 4, 'max_features': 0.62445214666...           0.853659   \n",
       "14  {'max_depth': 3, 'max_features': 0.40022095519...           0.845528   \n",
       "10  {'max_depth': 3, 'max_features': 0.39700538819...           0.845528   \n",
       "17  {'max_depth': 3, 'max_features': 0.41473814402...           0.845528   \n",
       "11  {'max_depth': 3, 'max_features': 0.62445214666...           0.845528   \n",
       "19  {'max_depth': 3, 'max_features': 0.52402812212...           0.845528   \n",
       "18  {'max_depth': 3, 'max_features': 0.59189585664...           0.845528   \n",
       "16  {'max_depth': 3, 'max_features': 0.62017771858...           0.845528   \n",
       "15  {'max_depth': 3, 'max_features': 0.64341675341...           0.829268   \n",
       "13  {'max_depth': 3, 'max_features': 0.66833190421...           0.829268   \n",
       "0   {'max_depth': 2, 'max_features': 0.39700538819...           0.837398   \n",
       "7   {'max_depth': 2, 'max_features': 0.41473814402...           0.837398   \n",
       "4   {'max_depth': 2, 'max_features': 0.40022095519...           0.837398   \n",
       "27  {'max_depth': 4, 'max_features': 0.41473814402...           0.845528   \n",
       "20  {'max_depth': 4, 'max_features': 0.39700538819...           0.845528   \n",
       "24  {'max_depth': 4, 'max_features': 0.40022095519...           0.845528   \n",
       "9   {'max_depth': 2, 'max_features': 0.52402812212...           0.837398   \n",
       "8   {'max_depth': 2, 'max_features': 0.59189585664...           0.837398   \n",
       "6   {'max_depth': 2, 'max_features': 0.62017771858...           0.837398   \n",
       "5   {'max_depth': 2, 'max_features': 0.64341675341...           0.837398   \n",
       "3   {'max_depth': 2, 'max_features': 0.66833190421...           0.837398   \n",
       "1   {'max_depth': 2, 'max_features': 0.62445214666...           0.837398   \n",
       "22  {'max_depth': 4, 'max_features': 0.32097600838...           0.821138   \n",
       "32  {'max_depth': 5, 'max_features': 0.32097600838...           0.780488   \n",
       "42  {'max_depth': 6, 'max_features': 0.32097600838...           0.813008   \n",
       "2   {'max_depth': 2, 'max_features': 0.32097600838...           0.764228   \n",
       "12  {'max_depth': 3, 'max_features': 0.32097600838...           0.756098   \n",
       "\n",
       "    split1_test_score  split2_test_score  split3_test_score  \\\n",
       "45           0.878049           0.869919           0.878049   \n",
       "43           0.878049           0.869919           0.878049   \n",
       "49           0.878049           0.829268           0.861789   \n",
       "46           0.878049           0.829268           0.861789   \n",
       "48           0.878049           0.829268           0.861789   \n",
       "41           0.878049           0.829268           0.861789   \n",
       "39           0.861789           0.861789           0.845528   \n",
       "38           0.861789           0.861789           0.845528   \n",
       "36           0.861789           0.861789           0.845528   \n",
       "31           0.861789           0.861789           0.845528   \n",
       "25           0.837398           0.861789           0.861789   \n",
       "23           0.837398           0.861789           0.861789   \n",
       "35           0.845528           0.845528           0.869919   \n",
       "33           0.845528           0.845528           0.869919   \n",
       "40           0.837398           0.861789           0.845528   \n",
       "47           0.837398           0.861789           0.845528   \n",
       "44           0.837398           0.861789           0.845528   \n",
       "30           0.853659           0.869919           0.821138   \n",
       "37           0.853659           0.869919           0.821138   \n",
       "34           0.853659           0.869919           0.821138   \n",
       "29           0.845528           0.829268           0.837398   \n",
       "28           0.845528           0.829268           0.837398   \n",
       "26           0.845528           0.829268           0.837398   \n",
       "21           0.845528           0.829268           0.837398   \n",
       "14           0.845528           0.821138           0.837398   \n",
       "10           0.845528           0.821138           0.837398   \n",
       "17           0.845528           0.821138           0.837398   \n",
       "11           0.845528           0.813008           0.837398   \n",
       "19           0.845528           0.813008           0.837398   \n",
       "18           0.845528           0.813008           0.837398   \n",
       "16           0.845528           0.813008           0.837398   \n",
       "15           0.845528           0.821138           0.837398   \n",
       "13           0.845528           0.821138           0.837398   \n",
       "0            0.837398           0.813008           0.837398   \n",
       "7            0.837398           0.813008           0.837398   \n",
       "4            0.837398           0.813008           0.837398   \n",
       "27           0.813008           0.837398           0.845528   \n",
       "20           0.813008           0.837398           0.845528   \n",
       "24           0.813008           0.837398           0.845528   \n",
       "9            0.829268           0.813008           0.837398   \n",
       "8            0.829268           0.813008           0.837398   \n",
       "6            0.829268           0.813008           0.837398   \n",
       "5            0.829268           0.813008           0.837398   \n",
       "3            0.829268           0.813008           0.837398   \n",
       "1            0.829268           0.813008           0.837398   \n",
       "22           0.821138           0.796748           0.837398   \n",
       "32           0.813008           0.821138           0.813008   \n",
       "42           0.821138           0.747967           0.756098   \n",
       "2            0.772358           0.739837           0.739837   \n",
       "12           0.723577           0.788618           0.772358   \n",
       "\n",
       "    split4_test_score  mean_test_score  std_test_score  rank_test_score  \n",
       "45           0.852459         0.858297        0.024497                1  \n",
       "43           0.852459         0.858297        0.024497                1  \n",
       "49           0.844262         0.856657        0.017684                3  \n",
       "46           0.844262         0.856657        0.017684                3  \n",
       "48           0.844262         0.856657        0.017684                3  \n",
       "41           0.844262         0.856657        0.017684                3  \n",
       "39           0.844262         0.855031        0.008286                7  \n",
       "38           0.844262         0.855031        0.008286                7  \n",
       "36           0.844262         0.855031        0.008286                7  \n",
       "31           0.844262         0.855031        0.008286                7  \n",
       "25           0.844262         0.843649        0.018091               11  \n",
       "23           0.844262         0.843649        0.018091               11  \n",
       "35           0.811475         0.843596        0.018632               13  \n",
       "33           0.811475         0.843596        0.018632               13  \n",
       "40           0.844262         0.838771        0.018742               15  \n",
       "47           0.844262         0.838771        0.018742               15  \n",
       "44           0.844262         0.838771        0.018742               15  \n",
       "30           0.819672         0.838731        0.019788               18  \n",
       "37           0.819672         0.838731        0.019788               18  \n",
       "34           0.819672         0.838731        0.019788               18  \n",
       "29           0.819672         0.837105        0.011920               21  \n",
       "28           0.819672         0.837105        0.011920               21  \n",
       "26           0.819672         0.837105        0.011920               21  \n",
       "21           0.819672         0.837105        0.011920               21  \n",
       "14           0.819672         0.833853        0.011384               25  \n",
       "10           0.819672         0.833853        0.011384               25  \n",
       "17           0.819672         0.833853        0.011384               25  \n",
       "11           0.819672         0.832227        0.013473               28  \n",
       "19           0.819672         0.832227        0.013473               28  \n",
       "18           0.819672         0.832227        0.013473               28  \n",
       "16           0.819672         0.832227        0.013473               28  \n",
       "15           0.819672         0.830601        0.009796               32  \n",
       "13           0.819672         0.830601        0.009796               32  \n",
       "0            0.819672         0.828975        0.010529               34  \n",
       "7            0.819672         0.828975        0.010529               34  \n",
       "4            0.819672         0.828975        0.010529               34  \n",
       "27           0.803279         0.828948        0.017517               37  \n",
       "20           0.803279         0.828948        0.017517               37  \n",
       "24           0.803279         0.828948        0.017517               37  \n",
       "9            0.819672         0.827349        0.009698               40  \n",
       "8            0.819672         0.827349        0.009698               40  \n",
       "6            0.819672         0.827349        0.009698               40  \n",
       "5            0.819672         0.827349        0.009698               40  \n",
       "3            0.819672         0.827349        0.009698               40  \n",
       "1            0.819672         0.827349        0.009698               40  \n",
       "22           0.852459         0.825776        0.018616               46  \n",
       "32           0.762295         0.797987        0.022660               47  \n",
       "42           0.680328         0.763708        0.050964               48  \n",
       "2            0.770492         0.757350        0.014551               49  \n",
       "12           0.729508         0.754032        0.024760               50  "
      ]
     },
     "execution_count": 33,
     "metadata": {},
     "output_type": "execute_result"
    }
   ],
   "source": [
    "pd.DataFrame(clf.cv_results_).sort_values(\"rank_test_score\")"
   ]
  },
  {
   "cell_type": "markdown",
   "metadata": {},
   "source": [
    "### RandomSearchCV"
   ]
  },
  {
   "cell_type": "code",
   "execution_count": 34,
   "metadata": {
    "ExecuteTime": {
     "end_time": "2022-06-15T13:37:10.111850Z",
     "start_time": "2022-06-15T13:37:10.103872Z"
    }
   },
   "outputs": [
    {
     "data": {
      "text/plain": [
       "array([2, 3, 5, 6])"
      ]
     },
     "execution_count": 34,
     "metadata": {},
     "output_type": "execute_result"
    }
   ],
   "source": [
    "max_depth_list = np.random.randint(2, 7, 10)\n",
    "max_depth_list = np.unique(max_depth_list)\n",
    "max_depth_list"
   ]
  },
  {
   "cell_type": "code",
   "execution_count": 35,
   "metadata": {
    "ExecuteTime": {
     "end_time": "2022-06-15T13:37:10.598485Z",
     "start_time": "2022-06-15T13:37:10.588512Z"
    }
   },
   "outputs": [
    {
     "data": {
      "text/plain": [
       "array([0.90931959, 0.86697688, 0.8353597 , 0.91989115, 0.92633106])"
      ]
     },
     "execution_count": 35,
     "metadata": {},
     "output_type": "execute_result"
    }
   ],
   "source": [
    "max_features_list = np.random.uniform(0.5, 0.98, 5)\n",
    "max_features_list"
   ]
  },
  {
   "cell_type": "code",
   "execution_count": 36,
   "metadata": {
    "ExecuteTime": {
     "end_time": "2022-06-15T13:37:11.248894Z",
     "start_time": "2022-06-15T13:37:11.112281Z"
    }
   },
   "outputs": [
    {
     "name": "stdout",
     "output_type": "stream",
     "text": [
      "Fitting 6 folds for each of 5 candidates, totalling 30 fits\n"
     ]
    },
    {
     "data": {
      "text/plain": [
       "RandomizedSearchCV(cv=6, estimator=DecisionTreeClassifier(random_state=42),\n",
       "                   n_iter=5, n_jobs=-1,\n",
       "                   param_distributions={'max_depth': array([2, 3, 4, 5, 6]),\n",
       "                                        'max_features': array([0.74809867, 0.51161819, 0.71872377, 0.57863102, 0.77005269])},\n",
       "                   random_state=42, verbose=2)"
      ]
     },
     "execution_count": 36,
     "metadata": {},
     "output_type": "execute_result"
    }
   ],
   "source": [
    "from sklearn.model_selection import RandomizedSearchCV\n",
    "\n",
    "param_distributions = {\"max_depth\": np.unique(np.random.randint(2, 7, 10)), \n",
    "                       \"max_features\": np.random.uniform(0.5, 0.98, 5)}\n",
    "clf = RandomizedSearchCV(model, param_distributions, n_iter=5, cv=6, \n",
    "                         n_jobs=-1, verbose=2, random_state=42)\n",
    "clf.fit(X_train, y_train)"
   ]
  },
  {
   "cell_type": "code",
   "execution_count": 37,
   "metadata": {
    "ExecuteTime": {
     "end_time": "2022-06-15T13:37:11.629524Z",
     "start_time": "2022-06-15T13:37:11.610574Z"
    }
   },
   "outputs": [
    {
     "data": {
      "text/plain": [
       "DecisionTreeClassifier(max_depth=5, max_features=0.5116181886897082,\n",
       "                       random_state=42)"
      ]
     },
     "execution_count": 37,
     "metadata": {},
     "output_type": "execute_result"
    }
   ],
   "source": [
    "clf.best_estimator_"
   ]
  },
  {
   "cell_type": "code",
   "execution_count": 38,
   "metadata": {
    "ExecuteTime": {
     "end_time": "2022-06-15T13:37:12.127954Z",
     "start_time": "2022-06-15T13:37:12.109018Z"
    }
   },
   "outputs": [
    {
     "data": {
      "text/plain": [
       "0.8534805507963702"
      ]
     },
     "execution_count": 38,
     "metadata": {},
     "output_type": "execute_result"
    }
   ],
   "source": [
    "clf.best_score_"
   ]
  },
  {
   "cell_type": "code",
   "execution_count": 39,
   "metadata": {
    "ExecuteTime": {
     "end_time": "2022-06-15T13:37:12.569159Z",
     "start_time": "2022-06-15T13:37:12.538241Z"
    }
   },
   "outputs": [
    {
     "data": {
      "text/html": [
       "<div>\n",
       "<style scoped>\n",
       "    .dataframe tbody tr th:only-of-type {\n",
       "        vertical-align: middle;\n",
       "    }\n",
       "\n",
       "    .dataframe tbody tr th {\n",
       "        vertical-align: top;\n",
       "    }\n",
       "\n",
       "    .dataframe thead th {\n",
       "        text-align: right;\n",
       "    }\n",
       "</style>\n",
       "<table border=\"1\" class=\"dataframe\">\n",
       "  <thead>\n",
       "    <tr style=\"text-align: right;\">\n",
       "      <th></th>\n",
       "      <th>mean_fit_time</th>\n",
       "      <th>std_fit_time</th>\n",
       "      <th>mean_score_time</th>\n",
       "      <th>std_score_time</th>\n",
       "      <th>param_max_features</th>\n",
       "      <th>param_max_depth</th>\n",
       "      <th>params</th>\n",
       "      <th>split0_test_score</th>\n",
       "      <th>split1_test_score</th>\n",
       "      <th>split2_test_score</th>\n",
       "      <th>split3_test_score</th>\n",
       "      <th>split4_test_score</th>\n",
       "      <th>split5_test_score</th>\n",
       "      <th>mean_test_score</th>\n",
       "      <th>std_test_score</th>\n",
       "      <th>rank_test_score</th>\n",
       "    </tr>\n",
       "  </thead>\n",
       "  <tbody>\n",
       "    <tr>\n",
       "      <th>1</th>\n",
       "      <td>0.004652</td>\n",
       "      <td>0.000743</td>\n",
       "      <td>0.002662</td>\n",
       "      <td>0.000747</td>\n",
       "      <td>0.511618</td>\n",
       "      <td>5</td>\n",
       "      <td>{'max_features': 0.5116181886897082, 'max_dept...</td>\n",
       "      <td>0.854369</td>\n",
       "      <td>0.815534</td>\n",
       "      <td>0.892157</td>\n",
       "      <td>0.872549</td>\n",
       "      <td>0.823529</td>\n",
       "      <td>0.862745</td>\n",
       "      <td>0.853481</td>\n",
       "      <td>0.026718</td>\n",
       "      <td>1</td>\n",
       "    </tr>\n",
       "    <tr>\n",
       "      <th>3</th>\n",
       "      <td>0.005486</td>\n",
       "      <td>0.001255</td>\n",
       "      <td>0.002494</td>\n",
       "      <td>0.000762</td>\n",
       "      <td>0.578631</td>\n",
       "      <td>6</td>\n",
       "      <td>{'max_features': 0.5786310204511778, 'max_dept...</td>\n",
       "      <td>0.834951</td>\n",
       "      <td>0.834951</td>\n",
       "      <td>0.872549</td>\n",
       "      <td>0.882353</td>\n",
       "      <td>0.784314</td>\n",
       "      <td>0.843137</td>\n",
       "      <td>0.842043</td>\n",
       "      <td>0.031596</td>\n",
       "      <td>2</td>\n",
       "    </tr>\n",
       "    <tr>\n",
       "      <th>4</th>\n",
       "      <td>0.004325</td>\n",
       "      <td>0.000472</td>\n",
       "      <td>0.001824</td>\n",
       "      <td>0.000686</td>\n",
       "      <td>0.511618</td>\n",
       "      <td>4</td>\n",
       "      <td>{'max_features': 0.5116181886897082, 'max_dept...</td>\n",
       "      <td>0.883495</td>\n",
       "      <td>0.796117</td>\n",
       "      <td>0.872549</td>\n",
       "      <td>0.833333</td>\n",
       "      <td>0.774510</td>\n",
       "      <td>0.872549</td>\n",
       "      <td>0.838759</td>\n",
       "      <td>0.041353</td>\n",
       "      <td>3</td>\n",
       "    </tr>\n",
       "    <tr>\n",
       "      <th>0</th>\n",
       "      <td>0.004654</td>\n",
       "      <td>0.001245</td>\n",
       "      <td>0.002660</td>\n",
       "      <td>0.000470</td>\n",
       "      <td>0.578631</td>\n",
       "      <td>3</td>\n",
       "      <td>{'max_features': 0.5786310204511778, 'max_dept...</td>\n",
       "      <td>0.844660</td>\n",
       "      <td>0.805825</td>\n",
       "      <td>0.862745</td>\n",
       "      <td>0.833333</td>\n",
       "      <td>0.823529</td>\n",
       "      <td>0.852941</td>\n",
       "      <td>0.837172</td>\n",
       "      <td>0.018895</td>\n",
       "      <td>4</td>\n",
       "    </tr>\n",
       "    <tr>\n",
       "      <th>2</th>\n",
       "      <td>0.005320</td>\n",
       "      <td>0.001370</td>\n",
       "      <td>0.003490</td>\n",
       "      <td>0.000954</td>\n",
       "      <td>0.748099</td>\n",
       "      <td>2</td>\n",
       "      <td>{'max_features': 0.748098674125978, 'max_depth...</td>\n",
       "      <td>0.834951</td>\n",
       "      <td>0.796117</td>\n",
       "      <td>0.852941</td>\n",
       "      <td>0.823529</td>\n",
       "      <td>0.803922</td>\n",
       "      <td>0.833333</td>\n",
       "      <td>0.824132</td>\n",
       "      <td>0.019259</td>\n",
       "      <td>5</td>\n",
       "    </tr>\n",
       "  </tbody>\n",
       "</table>\n",
       "</div>"
      ],
      "text/plain": [
       "   mean_fit_time  std_fit_time  mean_score_time  std_score_time  \\\n",
       "1       0.004652      0.000743         0.002662        0.000747   \n",
       "3       0.005486      0.001255         0.002494        0.000762   \n",
       "4       0.004325      0.000472         0.001824        0.000686   \n",
       "0       0.004654      0.001245         0.002660        0.000470   \n",
       "2       0.005320      0.001370         0.003490        0.000954   \n",
       "\n",
       "  param_max_features param_max_depth  \\\n",
       "1           0.511618               5   \n",
       "3           0.578631               6   \n",
       "4           0.511618               4   \n",
       "0           0.578631               3   \n",
       "2           0.748099               2   \n",
       "\n",
       "                                              params  split0_test_score  \\\n",
       "1  {'max_features': 0.5116181886897082, 'max_dept...           0.854369   \n",
       "3  {'max_features': 0.5786310204511778, 'max_dept...           0.834951   \n",
       "4  {'max_features': 0.5116181886897082, 'max_dept...           0.883495   \n",
       "0  {'max_features': 0.5786310204511778, 'max_dept...           0.844660   \n",
       "2  {'max_features': 0.748098674125978, 'max_depth...           0.834951   \n",
       "\n",
       "   split1_test_score  split2_test_score  split3_test_score  split4_test_score  \\\n",
       "1           0.815534           0.892157           0.872549           0.823529   \n",
       "3           0.834951           0.872549           0.882353           0.784314   \n",
       "4           0.796117           0.872549           0.833333           0.774510   \n",
       "0           0.805825           0.862745           0.833333           0.823529   \n",
       "2           0.796117           0.852941           0.823529           0.803922   \n",
       "\n",
       "   split5_test_score  mean_test_score  std_test_score  rank_test_score  \n",
       "1           0.862745         0.853481        0.026718                1  \n",
       "3           0.843137         0.842043        0.031596                2  \n",
       "4           0.872549         0.838759        0.041353                3  \n",
       "0           0.852941         0.837172        0.018895                4  \n",
       "2           0.833333         0.824132        0.019259                5  "
      ]
     },
     "execution_count": 39,
     "metadata": {},
     "output_type": "execute_result"
    }
   ],
   "source": [
    "pd.DataFrame(clf.cv_results_).nsmallest(5,\"rank_test_score\")"
   ]
  },
  {
   "cell_type": "markdown",
   "metadata": {},
   "source": [
    "## Best Estimator"
   ]
  },
  {
   "cell_type": "code",
   "execution_count": 40,
   "metadata": {
    "ExecuteTime": {
     "end_time": "2022-06-15T13:37:13.561236Z",
     "start_time": "2022-06-15T13:37:13.543253Z"
    },
    "id": "qS2UVZy6yzf5"
   },
   "outputs": [
    {
     "data": {
      "text/plain": [
       "DecisionTreeClassifier(max_depth=5, max_features=0.5116181886897082,\n",
       "                       random_state=42)"
      ]
     },
     "execution_count": 40,
     "metadata": {},
     "output_type": "execute_result"
    }
   ],
   "source": [
    "# 데이터를 머신러닝 모델로 학습(fit)합니다.\n",
    "best_model = clf.best_estimator_\n",
    "best_model.fit(X_train, y_train)"
   ]
  },
  {
   "cell_type": "code",
   "execution_count": 41,
   "metadata": {
    "ExecuteTime": {
     "end_time": "2022-06-15T13:37:14.018574Z",
     "start_time": "2022-06-15T13:37:13.997634Z"
    },
    "id": "OEx2c1Wkyzf5"
   },
   "outputs": [
    {
     "data": {
      "text/plain": [
       "array([0, 0, 0, 1, 0], dtype=int64)"
      ]
     },
     "execution_count": 41,
     "metadata": {},
     "output_type": "execute_result"
    }
   ],
   "source": [
    "# 데이터를 머신러닝 모델로 예측(predict)합니다.\n",
    "y_predict = best_model.predict(X_test)\n",
    "y_predict[:5]"
   ]
  },
  {
   "cell_type": "markdown",
   "metadata": {
    "id": "7bI-_wBRyzf5"
   },
   "source": [
    "## 모델 평가하기"
   ]
  },
  {
   "cell_type": "code",
   "execution_count": 42,
   "metadata": {
    "ExecuteTime": {
     "end_time": "2022-06-15T13:37:15.394124Z",
     "start_time": "2022-06-15T13:37:15.381161Z"
    },
    "id": "ILu6KL6lyzf6"
   },
   "outputs": [
    {
     "data": {
      "text/plain": [
       "array([0.00835682, 0.13229679, 0.01034036, 0.09540118, 0.01274828,\n",
       "       0.01878292, 0.06826214, 0.6538115 ])"
      ]
     },
     "execution_count": 42,
     "metadata": {},
     "output_type": "execute_result"
    }
   ],
   "source": [
    "# feature_importances_ 를 통해 모델의 피처 중요도를 추출합니다.\n",
    "best_model.feature_importances_"
   ]
  },
  {
   "cell_type": "code",
   "execution_count": 43,
   "metadata": {
    "ExecuteTime": {
     "end_time": "2022-06-15T13:37:16.154029Z",
     "start_time": "2022-06-15T13:37:15.943597Z"
    },
    "id": "gcL64Pwpyzf6"
   },
   "outputs": [
    {
     "data": {
      "text/plain": [
       "<AxesSubplot:>"
      ]
     },
     "execution_count": 43,
     "metadata": {},
     "output_type": "execute_result"
    },
    {
     "data": {
      "image/png": "[encoded data removed]",
      "text/plain": [
       "<Figure size 432x288 with 1 Axes>"
      ]
     },
     "metadata": {
      "needs_background": "light"
     },
     "output_type": "display_data"
    }
   ],
   "source": [
    "# 피처 중요도를 시각화 합니다.\n",
    "sns.barplot(x=best_model.feature_importances_, y=feature_names)"
   ]
  },
  {
   "cell_type": "markdown",
   "metadata": {
    "id": "DdW1Kiwxyzf7"
   },
   "source": [
    "### 점수 측정하기\n",
    "#### Accuracy"
   ]
  },
  {
   "cell_type": "code",
   "execution_count": 44,
   "metadata": {
    "ExecuteTime": {
     "end_time": "2022-06-15T13:37:17.004282Z",
     "start_time": "2022-06-15T13:37:16.992316Z"
    },
    "id": "PNAXFaiIyzf7"
   },
   "outputs": [
    {
     "data": {
      "text/plain": [
       "0.8896103896103896"
      ]
     },
     "execution_count": 44,
     "metadata": {},
     "output_type": "execute_result"
    }
   ],
   "source": [
    "(y_test == y_predict).mean()"
   ]
  },
  {
   "cell_type": "code",
   "execution_count": null,
   "metadata": {},
   "outputs": [],
   "source": []
  }
 ],
 "metadata": {
  "colab": {
   "collapsed_sections": [],
   "name": "telco_prediction_03.ipynb",
   "provenance": []
  },
  "kernelspec": {
   "display_name": "Python 3 (ipykernel)",
   "language": "python",
   "name": "python3"
  },
  "language_info": {
   "codemirror_mode": {
    "name": "ipython",
    "version": 3
   },
   "file_extension": ".py",
   "mimetype": "text/x-python",
   "name": "python",
   "nbconvert_exporter": "python",
   "pygments_lexer": "ipython3",
   "version": "3.9.12"
  },
  "toc": {
   "base_numbering": 1,
   "nav_menu": {},
   "number_sections": true,
   "sideBar": true,
   "skip_h1_title": false,
   "title_cell": "Table of Contents",
   "title_sidebar": "Contents",
   "toc_cell": false,
   "toc_position": {},
   "toc_section_display": true,
   "toc_window_display": false
  },
  "varInspector": {
   "cols": {
    "lenName": 16,
    "lenType": 16,
    "lenVar": 40
   },
   "kernels_config": {
    "python": {
     "delete_cmd_postfix": "",
     "delete_cmd_prefix": "del ",
     "library": "var_list.py",
     "varRefreshCmd": "print(var_dic_list())"
    },
    "r": {
     "delete_cmd_postfix": ") ",
     "delete_cmd_prefix": "rm(",
     "library": "var_list.r",
     "varRefreshCmd": "cat(var_dic_list()) "
    }
   },
   "types_to_exclude": [
    "module",
    "function",
    "builtin_function_or_method",
    "instance",
    "_Feature"
   ],
   "window_display": false
  }
 },
 "nbformat": 4,
 "nbformat_minor": 1
}
