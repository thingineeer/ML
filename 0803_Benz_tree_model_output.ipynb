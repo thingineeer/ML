{
  "cells": [
    {
      "cell_type": "markdown",
      "id": "cfe19584",
      "metadata": {
        "id": "cfe19584"
      },
      "source": [
        "https://www.kaggle.com/c/mercedes-benz-greener-manufacturing\n",
        "\n",
        "\n",
        "## 설치\n",
        "* [Xgboost :: Anaconda.org](https://anaconda.org/conda-forge/xgboost)\n",
        "\n",
        "`conda install -c conda-forge xgboost`\n",
        "\n",
        "* [Lightgbm :: Anaconda.org](https://anaconda.org/conda-forge/lightgbm)\n",
        "\n",
        "`conda install -c conda-forge lightgbm`\n",
        "\n",
        "* [conda install - Python package installation | CatBoost](https://catboost.ai/en/docs/installation/python-installation-method-conda-install)\n",
        "\n",
        "\n",
        "\n",
        "## 다양한 머신러닝 모델에 대해서\n",
        "\n",
        "* 버스, 승합차, 일반 중형차, 경차, 트럭 등 차에는 종류가 다양합니다.\n",
        "* 차의 종류마다 쓰는 기름의 종류, 작동 원리, 주 사용처 등이 달라집니다.\n",
        "* 마치 자동차처럼 머신러닝 모델도 원리에 따라 서로 다른 특징을 갖고 있습니다.\n",
        "\n",
        "* 모델이 작동하는 기본 원리가 다르기 때문에, 데이터에 따라 최선의 모델은 항상 달라집니다.\n",
        "* 따라서 상황에 따라서 적절한 머신러닝 모델을 적용할 수 있어야 합니다.\n",
        "* 데이터에 여러 모델을 적용해보고 비교해보겠습니다.\n",
        "\n",
        "## 목표\n",
        "\n",
        "* 선형회귀 모델 외에 다양한 모델을 생성하고 사용해봅니다.\n",
        "* 모델의 작동 원리와 특징에 대해서 간단히 살펴봅니다."
      ]
    },
    {
      "cell_type": "markdown",
      "id": "30f3ffee",
      "metadata": {
        "id": "30f3ffee"
      },
      "source": [
        "## 라이브러리 설명\n",
        "\n",
        "### DecisionTreeRegressor\n",
        "* 결정트리 모델을 구현한 라이브러리입니다.\n",
        "*  https://scikit-learn.org/stable/modules/generated/sklearn.tree.DecisionTreeRegressor.html\n",
        "\n",
        "### RandomForestRegressor\n",
        "* 앙상블 모델 중 배깅을 이용한 모델을 구현한 라이브러리입니다.\n",
        "*  https://scikit-learn.org/stable/modules/generated/sklearn.ensemble.RandomForestRegressor.html\n",
        "\n",
        "### GradientBoostingRegressor\n",
        "* 앙상블 모델 중 부스팅을 이용한 모델을 구현한 라이브러리입니다.\n",
        "*  https://scikit-learn.org/stable/modules/generated/sklearn.ensemble.GradientBoostingRegressor.html\n",
        "\n",
        "### ExtraTreesRegressor\n",
        "* 앙상블 모델 중 Extremely Randomized Tree 를 이용한 모델을 구현한 라이브러리입니다.\n",
        "* https://scikit-learn.org/stable/modules/generated/sklearn.ensemble.ExtraTreesRegressor.html\n",
        "\n",
        "### xgboost\n",
        "* Gradient Boosting Tree에서 병렬 학습을 지원하는 모델을 구현한 라이브러리입니다.\n",
        "*  https://xgboost.readthedocs.io/en/stable/\n",
        "\n",
        "### lightgbm\n",
        "* XGBoost와 성능은 비슷하지만 시간과 메모리 측면에서 더 효율적인 모델을 구현한 라이브러리입니다.\n",
        "* https://lightgbm.readthedocs.io\n",
        "\n",
        "### catboost\n",
        "* Gradient Boosting Tree에서 과적합 방지와 범주형 변수에 대해 강점을 가진 모델을 구현한 라이브러리입니다.\n",
        "*  https://catboost.ai/"
      ]
    },
    {
      "cell_type": "code",
      "execution_count": 1,
      "id": "neiO2dhYe2YD",
      "metadata": {
        "id": "neiO2dhYe2YD",
        "colab": {
          "base_uri": "https://localhost:8080/"
        },
        "outputId": "9d6bb6e0-d1e3-450e-f277-f3a97de8c107"
      },
      "outputs": [
        {
          "output_type": "stream",
          "name": "stdout",
          "text": [
            "Looking in indexes: https://pypi.org/simple, https://us-python.pkg.dev/colab-wheels/public/simple/\n",
            "Collecting catboost\n",
            "  Downloading catboost-1.0.6-cp37-none-manylinux1_x86_64.whl (76.6 MB)\n",
            "\u001b[K     |████████████████████████████████| 76.6 MB 87 kB/s \n",
            "\u001b[?25hRequirement already satisfied: plotly in /usr/local/lib/python3.7/dist-packages (from catboost) (5.5.0)\n",
            "Requirement already satisfied: pandas>=0.24.0 in /usr/local/lib/python3.7/dist-packages (from catboost) (1.3.5)\n",
            "Requirement already satisfied: six in /usr/local/lib/python3.7/dist-packages (from catboost) (1.15.0)\n",
            "Requirement already satisfied: graphviz in /usr/local/lib/python3.7/dist-packages (from catboost) (0.10.1)\n",
            "Requirement already satisfied: scipy in /usr/local/lib/python3.7/dist-packages (from catboost) (1.4.1)\n",
            "Requirement already satisfied: matplotlib in /usr/local/lib/python3.7/dist-packages (from catboost) (3.2.2)\n",
            "Requirement already satisfied: numpy>=1.16.0 in /usr/local/lib/python3.7/dist-packages (from catboost) (1.21.6)\n",
            "Requirement already satisfied: pytz>=2017.3 in /usr/local/lib/python3.7/dist-packages (from pandas>=0.24.0->catboost) (2022.1)\n",
            "Requirement already satisfied: python-dateutil>=2.7.3 in /usr/local/lib/python3.7/dist-packages (from pandas>=0.24.0->catboost) (2.8.2)\n",
            "Requirement already satisfied: pyparsing!=2.0.4,!=2.1.2,!=2.1.6,>=2.0.1 in /usr/local/lib/python3.7/dist-packages (from matplotlib->catboost) (3.0.9)\n",
            "Requirement already satisfied: cycler>=0.10 in /usr/local/lib/python3.7/dist-packages (from matplotlib->catboost) (0.11.0)\n",
            "Requirement already satisfied: kiwisolver>=1.0.1 in /usr/local/lib/python3.7/dist-packages (from matplotlib->catboost) (1.4.3)\n",
            "Requirement already satisfied: typing-extensions in /usr/local/lib/python3.7/dist-packages (from kiwisolver>=1.0.1->matplotlib->catboost) (4.1.1)\n",
            "Requirement already satisfied: tenacity>=6.2.0 in /usr/local/lib/python3.7/dist-packages (from plotly->catboost) (8.0.1)\n",
            "Installing collected packages: catboost\n",
            "Successfully installed catboost-1.0.6\n"
          ]
        }
      ],
      "source": [
        "# catboost 라이브러리가 설치되어 있지 않다면, 설치해주세요.\n",
        "!pip install catboost"
      ]
    },
    {
      "cell_type": "markdown",
      "id": "7cb70d38",
      "metadata": {
        "id": "7cb70d38"
      },
      "source": [
        "## 라이브러리 로드"
      ]
    },
    {
      "cell_type": "code",
      "execution_count": 2,
      "id": "e1f01ce4",
      "metadata": {
        "id": "e1f01ce4"
      },
      "outputs": [],
      "source": [
        "# numpy는 수학적 계산과 관련된 작업을 돕는 라이브러리입니다.\n",
        "# pandas는 큰 데이터를 다룰 수 있도록 돕는 라이브러리입니다.\n",
        "import numpy as np\n",
        "import pandas as pd\n",
        "\n",
        "# matplotlib.pyplot은 데이터와 관련된 그래프를 그릴 수 있도록 돕는 라이브러리입니다.\n",
        "# seaborn은 데이터와 관련된 그래프를 그릴 수 있도록 돕는 라이브러리입니다.\n",
        "import matplotlib.pyplot as plt\n",
        "import seaborn as sns\n",
        "\n",
        "# sklearn.preprocessing은 데이터 전처리를 돕는 라이브러리입니다.\n",
        "from sklearn import preprocessing\n",
        "\n",
        "# os는 운영체제와 관련된 작업을 돕는 라이브러리입니다.\n",
        "import os"
      ]
    },
    {
      "cell_type": "markdown",
      "id": "46fd9cb7",
      "metadata": {
        "id": "46fd9cb7"
      },
      "source": [
        "## 준비 과정"
      ]
    },
    {
      "cell_type": "code",
      "execution_count": 3,
      "id": "81fdac36",
      "metadata": {
        "id": "81fdac36"
      },
      "outputs": [],
      "source": [
        "base_path = \".\"\n",
        "\n",
        "# train 변수에 train.csv 데이터를 불러옵니다.\n",
        "# test 변수에 test.csv 데이터를 불러옵니다.\n",
        "# sub 변수에 sample_submission.csv 데이터를 불러옵니다.\n",
        "train = pd.read_csv(f'{base_path}/train_preprocessed.csv')\n",
        "test = pd.read_csv(f'{base_path}/test_preprocessed.csv')\n",
        "sub = pd.read_csv(f'{base_path}/sample_submission.csv.zip')"
      ]
    },
    {
      "cell_type": "code",
      "execution_count": 4,
      "id": "a6f0d0d3",
      "metadata": {
        "id": "a6f0d0d3",
        "colab": {
          "base_uri": "https://localhost:8080/",
          "height": 424
        },
        "outputId": "685c14a4-afce-4114-b07f-5d0aac72d6b8"
      },
      "outputs": [
        {
          "output_type": "execute_result",
          "data": {
            "text/plain": [
              "      target  X0  X1  X2  X3  X4  X5  X6  X8  X10  ...  X375  X376  X377  \\\n",
              "0     130.81  32  23  17   0   3  24   9  14    0  ...     0     0     1   \n",
              "1      88.53  32  21  19   4   3  28  11  14    0  ...     1     0     0   \n",
              "2      76.26  20  24  34   2   3  27   9  23    0  ...     0     0     0   \n",
              "3      80.62  20  21  34   5   3  27  11   4    0  ...     0     0     0   \n",
              "4      78.02  20  23  34   5   3  12   3  13    0  ...     0     0     0   \n",
              "...      ...  ..  ..  ..  ..  ..  ..  ..  ..  ...  ...   ...   ...   ...   \n",
              "4203  107.39   8  20  16   2   3   0   3  16    0  ...     1     0     0   \n",
              "4204  108.77  31  16  40   3   3   0   7   7    0  ...     0     1     0   \n",
              "4205  109.22   8  23  38   0   3   0   6   4    0  ...     0     0     1   \n",
              "4206   87.48   9  19  25   5   3   0  11  20    0  ...     0     0     0   \n",
              "4207  110.85  46  19   3   2   3   0   6  22    0  ...     1     0     0   \n",
              "\n",
              "      X378  X379  X380  X382  X383  X384  X385  \n",
              "0        0     0     0     0     0     0     0  \n",
              "1        0     0     0     0     0     0     0  \n",
              "2        0     0     0     1     0     0     0  \n",
              "3        0     0     0     0     0     0     0  \n",
              "4        0     0     0     0     0     0     0  \n",
              "...    ...   ...   ...   ...   ...   ...   ...  \n",
              "4203     0     0     0     0     0     0     0  \n",
              "4204     0     0     0     0     0     0     0  \n",
              "4205     0     0     0     0     0     0     0  \n",
              "4206     0     0     0     0     0     0     0  \n",
              "4207     0     0     0     0     0     0     0  \n",
              "\n",
              "[4208 rows x 365 columns]"
            ],
            "text/html": [
              "\n",
              "  <div id=\"df-828e36a6-10a3-4a4c-8af1-ddd56bc2ed99\">\n",
              "    <div class=\"colab-df-container\">\n",
              "      <div>\n",
              "<style scoped>\n",
              "    .dataframe tbody tr th:only-of-type {\n",
              "        vertical-align: middle;\n",
              "    }\n",
              "\n",
              "    .dataframe tbody tr th {\n",
              "        vertical-align: top;\n",
              "    }\n",
              "\n",
              "    .dataframe thead th {\n",
              "        text-align: right;\n",
              "    }\n",
              "</style>\n",
              "<table border=\"1\" class=\"dataframe\">\n",
              "  <thead>\n",
              "    <tr style=\"text-align: right;\">\n",
              "      <th></th>\n",
              "      <th>target</th>\n",
              "      <th>X0</th>\n",
              "      <th>X1</th>\n",
              "      <th>X2</th>\n",
              "      <th>X3</th>\n",
              "      <th>X4</th>\n",
              "      <th>X5</th>\n",
              "      <th>X6</th>\n",
              "      <th>X8</th>\n",
              "      <th>X10</th>\n",
              "      <th>...</th>\n",
              "      <th>X375</th>\n",
              "      <th>X376</th>\n",
              "      <th>X377</th>\n",
              "      <th>X378</th>\n",
              "      <th>X379</th>\n",
              "      <th>X380</th>\n",
              "      <th>X382</th>\n",
              "      <th>X383</th>\n",
              "      <th>X384</th>\n",
              "      <th>X385</th>\n",
              "    </tr>\n",
              "  </thead>\n",
              "  <tbody>\n",
              "    <tr>\n",
              "      <th>0</th>\n",
              "      <td>130.81</td>\n",
              "      <td>32</td>\n",
              "      <td>23</td>\n",
              "      <td>17</td>\n",
              "      <td>0</td>\n",
              "      <td>3</td>\n",
              "      <td>24</td>\n",
              "      <td>9</td>\n",
              "      <td>14</td>\n",
              "      <td>0</td>\n",
              "      <td>...</td>\n",
              "      <td>0</td>\n",
              "      <td>0</td>\n",
              "      <td>1</td>\n",
              "      <td>0</td>\n",
              "      <td>0</td>\n",
              "      <td>0</td>\n",
              "      <td>0</td>\n",
              "      <td>0</td>\n",
              "      <td>0</td>\n",
              "      <td>0</td>\n",
              "    </tr>\n",
              "    <tr>\n",
              "      <th>1</th>\n",
              "      <td>88.53</td>\n",
              "      <td>32</td>\n",
              "      <td>21</td>\n",
              "      <td>19</td>\n",
              "      <td>4</td>\n",
              "      <td>3</td>\n",
              "      <td>28</td>\n",
              "      <td>11</td>\n",
              "      <td>14</td>\n",
              "      <td>0</td>\n",
              "      <td>...</td>\n",
              "      <td>1</td>\n",
              "      <td>0</td>\n",
              "      <td>0</td>\n",
              "      <td>0</td>\n",
              "      <td>0</td>\n",
              "      <td>0</td>\n",
              "      <td>0</td>\n",
              "      <td>0</td>\n",
              "      <td>0</td>\n",
              "      <td>0</td>\n",
              "    </tr>\n",
              "    <tr>\n",
              "      <th>2</th>\n",
              "      <td>76.26</td>\n",
              "      <td>20</td>\n",
              "      <td>24</td>\n",
              "      <td>34</td>\n",
              "      <td>2</td>\n",
              "      <td>3</td>\n",
              "      <td>27</td>\n",
              "      <td>9</td>\n",
              "      <td>23</td>\n",
              "      <td>0</td>\n",
              "      <td>...</td>\n",
              "      <td>0</td>\n",
              "      <td>0</td>\n",
              "      <td>0</td>\n",
              "      <td>0</td>\n",
              "      <td>0</td>\n",
              "      <td>0</td>\n",
              "      <td>1</td>\n",
              "      <td>0</td>\n",
              "      <td>0</td>\n",
              "      <td>0</td>\n",
              "    </tr>\n",
              "    <tr>\n",
              "      <th>3</th>\n",
              "      <td>80.62</td>\n",
              "      <td>20</td>\n",
              "      <td>21</td>\n",
              "      <td>34</td>\n",
              "      <td>5</td>\n",
              "      <td>3</td>\n",
              "      <td>27</td>\n",
              "      <td>11</td>\n",
              "      <td>4</td>\n",
              "      <td>0</td>\n",
              "      <td>...</td>\n",
              "      <td>0</td>\n",
              "      <td>0</td>\n",
              "      <td>0</td>\n",
              "      <td>0</td>\n",
              "      <td>0</td>\n",
              "      <td>0</td>\n",
              "      <td>0</td>\n",
              "      <td>0</td>\n",
              "      <td>0</td>\n",
              "      <td>0</td>\n",
              "    </tr>\n",
              "    <tr>\n",
              "      <th>4</th>\n",
              "      <td>78.02</td>\n",
              "      <td>20</td>\n",
              "      <td>23</td>\n",
              "      <td>34</td>\n",
              "      <td>5</td>\n",
              "      <td>3</td>\n",
              "      <td>12</td>\n",
              "      <td>3</td>\n",
              "      <td>13</td>\n",
              "      <td>0</td>\n",
              "      <td>...</td>\n",
              "      <td>0</td>\n",
              "      <td>0</td>\n",
              "      <td>0</td>\n",
              "      <td>0</td>\n",
              "      <td>0</td>\n",
              "      <td>0</td>\n",
              "      <td>0</td>\n",
              "      <td>0</td>\n",
              "      <td>0</td>\n",
              "      <td>0</td>\n",
              "    </tr>\n",
              "    <tr>\n",
              "      <th>...</th>\n",
              "      <td>...</td>\n",
              "      <td>...</td>\n",
              "      <td>...</td>\n",
              "      <td>...</td>\n",
              "      <td>...</td>\n",
              "      <td>...</td>\n",
              "      <td>...</td>\n",
              "      <td>...</td>\n",
              "      <td>...</td>\n",
              "      <td>...</td>\n",
              "      <td>...</td>\n",
              "      <td>...</td>\n",
              "      <td>...</td>\n",
              "      <td>...</td>\n",
              "      <td>...</td>\n",
              "      <td>...</td>\n",
              "      <td>...</td>\n",
              "      <td>...</td>\n",
              "      <td>...</td>\n",
              "      <td>...</td>\n",
              "      <td>...</td>\n",
              "    </tr>\n",
              "    <tr>\n",
              "      <th>4203</th>\n",
              "      <td>107.39</td>\n",
              "      <td>8</td>\n",
              "      <td>20</td>\n",
              "      <td>16</td>\n",
              "      <td>2</td>\n",
              "      <td>3</td>\n",
              "      <td>0</td>\n",
              "      <td>3</td>\n",
              "      <td>16</td>\n",
              "      <td>0</td>\n",
              "      <td>...</td>\n",
              "      <td>1</td>\n",
              "      <td>0</td>\n",
              "      <td>0</td>\n",
              "      <td>0</td>\n",
              "      <td>0</td>\n",
              "      <td>0</td>\n",
              "      <td>0</td>\n",
              "      <td>0</td>\n",
              "      <td>0</td>\n",
              "      <td>0</td>\n",
              "    </tr>\n",
              "    <tr>\n",
              "      <th>4204</th>\n",
              "      <td>108.77</td>\n",
              "      <td>31</td>\n",
              "      <td>16</td>\n",
              "      <td>40</td>\n",
              "      <td>3</td>\n",
              "      <td>3</td>\n",
              "      <td>0</td>\n",
              "      <td>7</td>\n",
              "      <td>7</td>\n",
              "      <td>0</td>\n",
              "      <td>...</td>\n",
              "      <td>0</td>\n",
              "      <td>1</td>\n",
              "      <td>0</td>\n",
              "      <td>0</td>\n",
              "      <td>0</td>\n",
              "      <td>0</td>\n",
              "      <td>0</td>\n",
              "      <td>0</td>\n",
              "      <td>0</td>\n",
              "      <td>0</td>\n",
              "    </tr>\n",
              "    <tr>\n",
              "      <th>4205</th>\n",
              "      <td>109.22</td>\n",
              "      <td>8</td>\n",
              "      <td>23</td>\n",
              "      <td>38</td>\n",
              "      <td>0</td>\n",
              "      <td>3</td>\n",
              "      <td>0</td>\n",
              "      <td>6</td>\n",
              "      <td>4</td>\n",
              "      <td>0</td>\n",
              "      <td>...</td>\n",
              "      <td>0</td>\n",
              "      <td>0</td>\n",
              "      <td>1</td>\n",
              "      <td>0</td>\n",
              "      <td>0</td>\n",
              "      <td>0</td>\n",
              "      <td>0</td>\n",
              "      <td>0</td>\n",
              "      <td>0</td>\n",
              "      <td>0</td>\n",
              "    </tr>\n",
              "    <tr>\n",
              "      <th>4206</th>\n",
              "      <td>87.48</td>\n",
              "      <td>9</td>\n",
              "      <td>19</td>\n",
              "      <td>25</td>\n",
              "      <td>5</td>\n",
              "      <td>3</td>\n",
              "      <td>0</td>\n",
              "      <td>11</td>\n",
              "      <td>20</td>\n",
              "      <td>0</td>\n",
              "      <td>...</td>\n",
              "      <td>0</td>\n",
              "      <td>0</td>\n",
              "      <td>0</td>\n",
              "      <td>0</td>\n",
              "      <td>0</td>\n",
              "      <td>0</td>\n",
              "      <td>0</td>\n",
              "      <td>0</td>\n",
              "      <td>0</td>\n",
              "      <td>0</td>\n",
              "    </tr>\n",
              "    <tr>\n",
              "      <th>4207</th>\n",
              "      <td>110.85</td>\n",
              "      <td>46</td>\n",
              "      <td>19</td>\n",
              "      <td>3</td>\n",
              "      <td>2</td>\n",
              "      <td>3</td>\n",
              "      <td>0</td>\n",
              "      <td>6</td>\n",
              "      <td>22</td>\n",
              "      <td>0</td>\n",
              "      <td>...</td>\n",
              "      <td>1</td>\n",
              "      <td>0</td>\n",
              "      <td>0</td>\n",
              "      <td>0</td>\n",
              "      <td>0</td>\n",
              "      <td>0</td>\n",
              "      <td>0</td>\n",
              "      <td>0</td>\n",
              "      <td>0</td>\n",
              "      <td>0</td>\n",
              "    </tr>\n",
              "  </tbody>\n",
              "</table>\n",
              "<p>4208 rows × 365 columns</p>\n",
              "</div>\n",
              "      <button class=\"colab-df-convert\" onclick=\"convertToInteractive('df-828e36a6-10a3-4a4c-8af1-ddd56bc2ed99')\"\n",
              "              title=\"Convert this dataframe to an interactive table.\"\n",
              "              style=\"display:none;\">\n",
              "        \n",
              "  <svg xmlns=\"http://www.w3.org/2000/svg\" height=\"24px\"viewBox=\"0 0 24 24\"\n",
              "       width=\"24px\">\n",
              "    <path d=\"M0 0h24v24H0V0z\" fill=\"none\"/>\n",
              "    <path d=\"M18.56 5.44l.94 2.06.94-2.06 2.06-.94-2.06-.94-.94-2.06-.94 2.06-2.06.94zm-11 1L8.5 8.5l.94-2.06 2.06-.94-2.06-.94L8.5 2.5l-.94 2.06-2.06.94zm10 10l.94 2.06.94-2.06 2.06-.94-2.06-.94-.94-2.06-.94 2.06-2.06.94z\"/><path d=\"M17.41 7.96l-1.37-1.37c-.4-.4-.92-.59-1.43-.59-.52 0-1.04.2-1.43.59L10.3 9.45l-7.72 7.72c-.78.78-.78 2.05 0 2.83L4 21.41c.39.39.9.59 1.41.59.51 0 1.02-.2 1.41-.59l7.78-7.78 2.81-2.81c.8-.78.8-2.07 0-2.86zM5.41 20L4 18.59l7.72-7.72 1.47 1.35L5.41 20z\"/>\n",
              "  </svg>\n",
              "      </button>\n",
              "      \n",
              "  <style>\n",
              "    .colab-df-container {\n",
              "      display:flex;\n",
              "      flex-wrap:wrap;\n",
              "      gap: 12px;\n",
              "    }\n",
              "\n",
              "    .colab-df-convert {\n",
              "      background-color: #E8F0FE;\n",
              "      border: none;\n",
              "      border-radius: 50%;\n",
              "      cursor: pointer;\n",
              "      display: none;\n",
              "      fill: #1967D2;\n",
              "      height: 32px;\n",
              "      padding: 0 0 0 0;\n",
              "      width: 32px;\n",
              "    }\n",
              "\n",
              "    .colab-df-convert:hover {\n",
              "      background-color: #E2EBFA;\n",
              "      box-shadow: 0px 1px 2px rgba(60, 64, 67, 0.3), 0px 1px 3px 1px rgba(60, 64, 67, 0.15);\n",
              "      fill: #174EA6;\n",
              "    }\n",
              "\n",
              "    [theme=dark] .colab-df-convert {\n",
              "      background-color: #3B4455;\n",
              "      fill: #D2E3FC;\n",
              "    }\n",
              "\n",
              "    [theme=dark] .colab-df-convert:hover {\n",
              "      background-color: #434B5C;\n",
              "      box-shadow: 0px 1px 3px 1px rgba(0, 0, 0, 0.15);\n",
              "      filter: drop-shadow(0px 1px 2px rgba(0, 0, 0, 0.3));\n",
              "      fill: #FFFFFF;\n",
              "    }\n",
              "  </style>\n",
              "\n",
              "      <script>\n",
              "        const buttonEl =\n",
              "          document.querySelector('#df-828e36a6-10a3-4a4c-8af1-ddd56bc2ed99 button.colab-df-convert');\n",
              "        buttonEl.style.display =\n",
              "          google.colab.kernel.accessAllowed ? 'block' : 'none';\n",
              "\n",
              "        async function convertToInteractive(key) {\n",
              "          const element = document.querySelector('#df-828e36a6-10a3-4a4c-8af1-ddd56bc2ed99');\n",
              "          const dataTable =\n",
              "            await google.colab.kernel.invokeFunction('convertToInteractive',\n",
              "                                                     [key], {});\n",
              "          if (!dataTable) return;\n",
              "\n",
              "          const docLinkHtml = 'Like what you see? Visit the ' +\n",
              "            '<a target=\"_blank\" href=https://colab.research.google.com/notebooks/data_table.ipynb>data table notebook</a>'\n",
              "            + ' to learn more about interactive tables.';\n",
              "          element.innerHTML = '';\n",
              "          dataTable['output_type'] = 'display_data';\n",
              "          await google.colab.output.renderOutput(dataTable, element);\n",
              "          const docLink = document.createElement('div');\n",
              "          docLink.innerHTML = docLinkHtml;\n",
              "          element.appendChild(docLink);\n",
              "        }\n",
              "      </script>\n",
              "    </div>\n",
              "  </div>\n",
              "  "
            ]
          },
          "metadata": {},
          "execution_count": 4
        }
      ],
      "source": [
        "# train의 'y'행을 'target'으로 재명명(rename)합니다.\n",
        "# train을 확인합니다.\n",
        "train = train.rename(columns={'y':'target'})\n",
        "train"
      ]
    },
    {
      "cell_type": "code",
      "execution_count": 5,
      "id": "692062dc",
      "metadata": {
        "id": "692062dc"
      },
      "outputs": [],
      "source": [
        "# 변수 X에 'target' 값을 제외한 나머지 변수를 넣습니다.\n",
        "# 변수 y에 'target' 값을 넣습니다.\n",
        "X = train.drop(columns=['target'])\n",
        "y = train['target']"
      ]
    },
    {
      "cell_type": "code",
      "execution_count": 6,
      "id": "a50471fe",
      "metadata": {
        "id": "a50471fe"
      },
      "outputs": [],
      "source": [
        "# sklearn.model_selection의 train_test_split은 학습 데이터와 검증 데이터를 편리하게 나눠주는 함수입니다.\n",
        "from sklearn.model_selection import train_test_split\n",
        "\n",
        "# train_test_split을 이용해 X, y 값을 X_train, X_valid, y_train, y_valid 으로 나눠줍니다.\n",
        "# 이 때, 학습할 데이터와 테스트할 데이터의 값의 비율은 9대 1로, random_state는 0으로 하겠습니다.\n",
        "X_train, X_valid, y_train, y_valid = train_test_split(X, y, train_size = 0.9, random_state=0)"
      ]
    },
    {
      "cell_type": "markdown",
      "id": "5746ace9",
      "metadata": {
        "id": "5746ace9"
      },
      "source": [
        "## 점수 산출 함수화"
      ]
    },
    {
      "cell_type": "code",
      "execution_count": 8,
      "id": "bbb924be",
      "metadata": {
        "id": "bbb924be"
      },
      "outputs": [],
      "source": [
        "# 점수 산출하는 과정을 함수화합니다.\n",
        "def scoreModel(model, X_train, X_valid, y_train, y_valid):\n",
        "    '''\n",
        "        머신러닝 모델과 X_train, X_valid, y_train, y_valid 변수를 받아서\n",
        "        모델명, 학습용 세트 정확도(R2 score), 테스트 세트 정확도(R2 score)를 출력하는 함수\n",
        "    '''\n",
        "    print(\"모델 : {}\".format(model))\n",
        "    print(\"학습용 세트 정확도: {:.3f}\".format(model.score(X_train, y_train)))\n",
        "    valid_score = model.score(X_valid, y_valid)\n",
        "    print(\"검증 세트 정확도: {:.3f}\".format(valid_score))\n",
        "    return valid_score"
      ]
    },
    {
      "cell_type": "markdown",
      "id": "NrAGO2oLkkiP",
      "metadata": {
        "id": "NrAGO2oLkkiP"
      },
      "source": [
        "## random_state\n",
        "* 모델이 무작위성을 가지고 있을 경우 실행할 때마다 결과가 달라집니다.\n",
        "* random_state 파라미터는 난수를 고정시켜 매 실행마다 결과가 같아지게 합니다."
      ]
    },
    {
      "cell_type": "markdown",
      "id": "454f88ce",
      "metadata": {
        "id": "454f88ce"
      },
      "source": [
        "## 결정트리 모델\n",
        "* 결정트리 모델은 데이터 특성에서 추론된 간단한 결정 규칙을 학습하여 대상 변수의 값을 예측하는 모델을 만드는 것입니다.\n",
        "* 돼지, 닭, 소를 구분할 수 있는 간단한 결정트리 모델을 만든다고 상상해봅시다.\n",
        "* 먼저 다리가 두 개인 경우와 그렇지 않은 경우를 구분합니다. 이 때 닭과 나머지로 구분됩니다.\n",
        "* 그 뒤에 머리에 뿔이 있는 경우와 그렇지 않은 경우를 구분합니다. 이 때 소와 돼지를 구분할 수 있습니다.\n",
        "* 이런 식으로 데이터에 규칙을 적용해가며 값을 예측하는 모델이 결정트리 모델입니다.\n",
        "\n",
        "### 주요 파라미터\n",
        "* criterion : {“squared_error”, “friedman_mse”, “absolute_error”, “poisson”}, default=”squared_error”\n",
        "    * 분할의 품질을 측정하는 기능입니다.\n",
        "* splitter : {“best”, “random”}, default=”best”\n",
        "    * 각 노드에서 분할을 선택하는 데 사용되는 전략입니다.\n",
        "* max_depth : int, default=None\n",
        "    * 트리의 최대 깊이입니다.\n",
        "* min_samples_split : int or float, default=2\n",
        "    * 내부 노드를 분할하는 데 필요한 최소 샘플 수입니다.\n",
        "* max_features : int, float or {“auto”, “sqrt”, “log2”}, default=None\n",
        "    * 최상의 분할을 찾을 때 고려해야 할 피처의 수입니다.\n",
        "* random_state : int, RandomState instance or None, default=None\n",
        "    * 추정기의 무작위성을 제어합니다. \n",
        "* https://scikit-learn.org/stable/modules/generated/sklearn.tree.DecisionTreeRegressor.html"
      ]
    },
    {
      "cell_type": "code",
      "execution_count": 42,
      "id": "4606386a",
      "metadata": {
        "id": "4606386a"
      },
      "outputs": [],
      "source": [
        "# sklearn.tree의 DecisionTreeRegressor는 결정 트리 모델을 구현한 라이브러리입니다.\n",
        "from sklearn.tree import DecisionTreeRegressor\n",
        "\n",
        "# 결정트리 모델을 생성합니다.\n",
        "model_dt = DecisionTreeRegressor(max_depth=4, max_features=.9, random_state=42)"
      ]
    },
    {
      "cell_type": "code",
      "source": [
        "# DecisionTreeRegressor?"
      ],
      "metadata": {
        "id": "TKtNYJu0IpyN"
      },
      "id": "TKtNYJu0IpyN",
      "execution_count": 43,
      "outputs": []
    },
    {
      "cell_type": "code",
      "execution_count": 44,
      "id": "eddaa063",
      "metadata": {
        "id": "eddaa063",
        "colab": {
          "base_uri": "https://localhost:8080/"
        },
        "outputId": "9b8b7e4c-edda-4c3b-800b-7bb5de38b9c3"
      },
      "outputs": [
        {
          "output_type": "execute_result",
          "data": {
            "text/plain": [
              "DecisionTreeRegressor(max_depth=4, max_features=0.9, random_state=42)"
            ]
          },
          "metadata": {},
          "execution_count": 44
        }
      ],
      "source": [
        "# 모델을 학습시킵니다.\n",
        "model_dt.fit(X_train, y_train)"
      ]
    },
    {
      "cell_type": "code",
      "execution_count": 45,
      "id": "6475da95",
      "metadata": {
        "id": "6475da95",
        "colab": {
          "base_uri": "https://localhost:8080/"
        },
        "outputId": "bf7945e6-d2aa-4fe3-ce24-e7a3e87cfcd8"
      },
      "outputs": [
        {
          "output_type": "stream",
          "name": "stdout",
          "text": [
            "모델 : DecisionTreeRegressor(max_depth=4, max_features=0.9, random_state=42)\n",
            "학습용 세트 정확도: 0.617\n",
            "검증 세트 정확도: 0.519\n"
          ]
        }
      ],
      "source": [
        "# 모델에 대한 점수를 산출합니다.\n",
        "score = scoreModel(model_dt, X_train, X_valid, y_train, y_valid)"
      ]
    },
    {
      "cell_type": "code",
      "execution_count": 46,
      "id": "7663030f",
      "metadata": {
        "id": "7663030f",
        "colab": {
          "base_uri": "https://localhost:8080/"
        },
        "outputId": "43199314-ec5d-437f-f320-4a90f698b325"
      },
      "outputs": [
        {
          "output_type": "execute_result",
          "data": {
            "text/plain": [
              "array([ 77.66272152,  93.9079061 ,  77.66272152, ...,  93.9079061 ,\n",
              "       112.53620976,  93.9079061 ])"
            ]
          },
          "metadata": {},
          "execution_count": 46
        }
      ],
      "source": [
        "# 모델의 예측값을 변수에 담습니다.\n",
        "# 예측값을 확인합니다.\n",
        "prediction_dt = model_dt.predict(test)\n",
        "prediction_dt"
      ]
    },
    {
      "cell_type": "code",
      "execution_count": 47,
      "id": "8d551aac",
      "metadata": {
        "id": "8d551aac",
        "colab": {
          "base_uri": "https://localhost:8080/",
          "height": 424
        },
        "outputId": "019d7cd9-db6a-4454-b0bf-06cb4e5b8a4b"
      },
      "outputs": [
        {
          "output_type": "execute_result",
          "data": {
            "text/plain": [
              "        ID           y\n",
              "0        1   77.662722\n",
              "1        2   93.907906\n",
              "2        3   77.662722\n",
              "3        4   77.662722\n",
              "4        5  112.536210\n",
              "...    ...         ...\n",
              "4204  8410  103.230188\n",
              "4205  8411   93.907906\n",
              "4206  8413   93.907906\n",
              "4207  8414  112.536210\n",
              "4208  8416   93.907906\n",
              "\n",
              "[4209 rows x 2 columns]"
            ],
            "text/html": [
              "\n",
              "  <div id=\"df-9744c8f1-a04e-4d89-acc6-c2f9443119d6\">\n",
              "    <div class=\"colab-df-container\">\n",
              "      <div>\n",
              "<style scoped>\n",
              "    .dataframe tbody tr th:only-of-type {\n",
              "        vertical-align: middle;\n",
              "    }\n",
              "\n",
              "    .dataframe tbody tr th {\n",
              "        vertical-align: top;\n",
              "    }\n",
              "\n",
              "    .dataframe thead th {\n",
              "        text-align: right;\n",
              "    }\n",
              "</style>\n",
              "<table border=\"1\" class=\"dataframe\">\n",
              "  <thead>\n",
              "    <tr style=\"text-align: right;\">\n",
              "      <th></th>\n",
              "      <th>ID</th>\n",
              "      <th>y</th>\n",
              "    </tr>\n",
              "  </thead>\n",
              "  <tbody>\n",
              "    <tr>\n",
              "      <th>0</th>\n",
              "      <td>1</td>\n",
              "      <td>77.662722</td>\n",
              "    </tr>\n",
              "    <tr>\n",
              "      <th>1</th>\n",
              "      <td>2</td>\n",
              "      <td>93.907906</td>\n",
              "    </tr>\n",
              "    <tr>\n",
              "      <th>2</th>\n",
              "      <td>3</td>\n",
              "      <td>77.662722</td>\n",
              "    </tr>\n",
              "    <tr>\n",
              "      <th>3</th>\n",
              "      <td>4</td>\n",
              "      <td>77.662722</td>\n",
              "    </tr>\n",
              "    <tr>\n",
              "      <th>4</th>\n",
              "      <td>5</td>\n",
              "      <td>112.536210</td>\n",
              "    </tr>\n",
              "    <tr>\n",
              "      <th>...</th>\n",
              "      <td>...</td>\n",
              "      <td>...</td>\n",
              "    </tr>\n",
              "    <tr>\n",
              "      <th>4204</th>\n",
              "      <td>8410</td>\n",
              "      <td>103.230188</td>\n",
              "    </tr>\n",
              "    <tr>\n",
              "      <th>4205</th>\n",
              "      <td>8411</td>\n",
              "      <td>93.907906</td>\n",
              "    </tr>\n",
              "    <tr>\n",
              "      <th>4206</th>\n",
              "      <td>8413</td>\n",
              "      <td>93.907906</td>\n",
              "    </tr>\n",
              "    <tr>\n",
              "      <th>4207</th>\n",
              "      <td>8414</td>\n",
              "      <td>112.536210</td>\n",
              "    </tr>\n",
              "    <tr>\n",
              "      <th>4208</th>\n",
              "      <td>8416</td>\n",
              "      <td>93.907906</td>\n",
              "    </tr>\n",
              "  </tbody>\n",
              "</table>\n",
              "<p>4209 rows × 2 columns</p>\n",
              "</div>\n",
              "      <button class=\"colab-df-convert\" onclick=\"convertToInteractive('df-9744c8f1-a04e-4d89-acc6-c2f9443119d6')\"\n",
              "              title=\"Convert this dataframe to an interactive table.\"\n",
              "              style=\"display:none;\">\n",
              "        \n",
              "  <svg xmlns=\"http://www.w3.org/2000/svg\" height=\"24px\"viewBox=\"0 0 24 24\"\n",
              "       width=\"24px\">\n",
              "    <path d=\"M0 0h24v24H0V0z\" fill=\"none\"/>\n",
              "    <path d=\"M18.56 5.44l.94 2.06.94-2.06 2.06-.94-2.06-.94-.94-2.06-.94 2.06-2.06.94zm-11 1L8.5 8.5l.94-2.06 2.06-.94-2.06-.94L8.5 2.5l-.94 2.06-2.06.94zm10 10l.94 2.06.94-2.06 2.06-.94-2.06-.94-.94-2.06-.94 2.06-2.06.94z\"/><path d=\"M17.41 7.96l-1.37-1.37c-.4-.4-.92-.59-1.43-.59-.52 0-1.04.2-1.43.59L10.3 9.45l-7.72 7.72c-.78.78-.78 2.05 0 2.83L4 21.41c.39.39.9.59 1.41.59.51 0 1.02-.2 1.41-.59l7.78-7.78 2.81-2.81c.8-.78.8-2.07 0-2.86zM5.41 20L4 18.59l7.72-7.72 1.47 1.35L5.41 20z\"/>\n",
              "  </svg>\n",
              "      </button>\n",
              "      \n",
              "  <style>\n",
              "    .colab-df-container {\n",
              "      display:flex;\n",
              "      flex-wrap:wrap;\n",
              "      gap: 12px;\n",
              "    }\n",
              "\n",
              "    .colab-df-convert {\n",
              "      background-color: #E8F0FE;\n",
              "      border: none;\n",
              "      border-radius: 50%;\n",
              "      cursor: pointer;\n",
              "      display: none;\n",
              "      fill: #1967D2;\n",
              "      height: 32px;\n",
              "      padding: 0 0 0 0;\n",
              "      width: 32px;\n",
              "    }\n",
              "\n",
              "    .colab-df-convert:hover {\n",
              "      background-color: #E2EBFA;\n",
              "      box-shadow: 0px 1px 2px rgba(60, 64, 67, 0.3), 0px 1px 3px 1px rgba(60, 64, 67, 0.15);\n",
              "      fill: #174EA6;\n",
              "    }\n",
              "\n",
              "    [theme=dark] .colab-df-convert {\n",
              "      background-color: #3B4455;\n",
              "      fill: #D2E3FC;\n",
              "    }\n",
              "\n",
              "    [theme=dark] .colab-df-convert:hover {\n",
              "      background-color: #434B5C;\n",
              "      box-shadow: 0px 1px 3px 1px rgba(0, 0, 0, 0.15);\n",
              "      filter: drop-shadow(0px 1px 2px rgba(0, 0, 0, 0.3));\n",
              "      fill: #FFFFFF;\n",
              "    }\n",
              "  </style>\n",
              "\n",
              "      <script>\n",
              "        const buttonEl =\n",
              "          document.querySelector('#df-9744c8f1-a04e-4d89-acc6-c2f9443119d6 button.colab-df-convert');\n",
              "        buttonEl.style.display =\n",
              "          google.colab.kernel.accessAllowed ? 'block' : 'none';\n",
              "\n",
              "        async function convertToInteractive(key) {\n",
              "          const element = document.querySelector('#df-9744c8f1-a04e-4d89-acc6-c2f9443119d6');\n",
              "          const dataTable =\n",
              "            await google.colab.kernel.invokeFunction('convertToInteractive',\n",
              "                                                     [key], {});\n",
              "          if (!dataTable) return;\n",
              "\n",
              "          const docLinkHtml = 'Like what you see? Visit the ' +\n",
              "            '<a target=\"_blank\" href=https://colab.research.google.com/notebooks/data_table.ipynb>data table notebook</a>'\n",
              "            + ' to learn more about interactive tables.';\n",
              "          element.innerHTML = '';\n",
              "          dataTable['output_type'] = 'display_data';\n",
              "          await google.colab.output.renderOutput(dataTable, element);\n",
              "          const docLink = document.createElement('div');\n",
              "          docLink.innerHTML = docLinkHtml;\n",
              "          element.appendChild(docLink);\n",
              "        }\n",
              "      </script>\n",
              "    </div>\n",
              "  </div>\n",
              "  "
            ]
          },
          "metadata": {},
          "execution_count": 47
        }
      ],
      "source": [
        "# sub의 'y' 변수에 예측값을 넣습니다.\n",
        "# sub를 확인합니다.\n",
        "sub['y'] = prediction_dt\n",
        "sub"
      ]
    },
    {
      "cell_type": "code",
      "execution_count": 48,
      "id": "687cc073",
      "metadata": {
        "id": "687cc073"
      },
      "outputs": [],
      "source": [
        "# sub를 csv 파일로 내보냅니다.\n",
        "sub.to_csv(f'{base_path}/sub_dt_{score}.csv', index=False)"
      ]
    },
    {
      "cell_type": "markdown",
      "id": "910fff46",
      "metadata": {
        "id": "910fff46"
      },
      "source": [
        "## 랜덤포레스트 모델\n",
        "* 랜덤포레스트 모델 또한 트리를 이용한 앙상블 모델입니다.\n",
        "* GBT와 달리, 배깅이라는 앙상블 기법을 이용합니다.\n",
        "\n",
        "### 주요 파라미터\n",
        "* n_estimators : int, default=100\n",
        "    * 숲에 있는 나무의 수입니다.\n",
        "* criterion : {“squared_error”, “absolute_error”, “poisson”}, default=”squared_error”\n",
        "    * 분할의 품질을 측정하는 기능입니다. \n",
        "* max_depth : int, default=None\n",
        "    * 트리의 최대 깊이입니다.\n",
        "* min_samples_split : int or float, default=2\n",
        "    * 내부 노드를 분할하는 데 필요한 최소 샘플 수\n",
        "* max_features : {“auto”, “sqrt”, “log2”}, int or float, default=”auto”\n",
        "    * 최상의 분할을 찾을 때 고려해야 할 기능의 수\n",
        "* https://scikit-learn.org/stable/modules/generated/sklearn.ensemble.RandomForestRegressor.html"
      ]
    },
    {
      "cell_type": "code",
      "execution_count": 52,
      "id": "1194bc78",
      "metadata": {
        "id": "1194bc78"
      },
      "outputs": [],
      "source": [
        "# sklearn.ensemble의 RandomForestRegressor는 앙상블 모델 중 랜덤포레스트 모델을 구현한 라이브러리입니다.\n",
        "from sklearn.ensemble import RandomForestRegressor\n",
        "\n",
        "# 랜덤포레스트 모델을 생성합니다.\n",
        "model_rf = RandomForestRegressor(n_estimators=1000, max_depth=4, \n",
        "                                 max_features=0.9, random_state=42)"
      ]
    },
    {
      "cell_type": "code",
      "execution_count": 53,
      "id": "ae1568a7",
      "metadata": {
        "id": "ae1568a7",
        "colab": {
          "base_uri": "https://localhost:8080/"
        },
        "outputId": "973a26f3-a7c5-41f5-dc85-d6b3f5f1d8cd"
      },
      "outputs": [
        {
          "output_type": "execute_result",
          "data": {
            "text/plain": [
              "RandomForestRegressor(max_depth=4, max_features=0.9, n_estimators=1000,\n",
              "                      random_state=42)"
            ]
          },
          "metadata": {},
          "execution_count": 53
        }
      ],
      "source": [
        "# 모델을 학습시킵니다.\n",
        "model_rf.fit(X_train, y_train)"
      ]
    },
    {
      "cell_type": "code",
      "execution_count": 54,
      "id": "f16c1d87",
      "metadata": {
        "id": "f16c1d87",
        "colab": {
          "base_uri": "https://localhost:8080/"
        },
        "outputId": "8a510157-e3a2-4789-c9ed-f34162425b67"
      },
      "outputs": [
        {
          "output_type": "stream",
          "name": "stdout",
          "text": [
            "모델 : RandomForestRegressor(max_depth=4, max_features=0.9, n_estimators=1000,\n",
            "                      random_state=42)\n",
            "학습용 세트 정확도: 0.624\n",
            "검증 세트 정확도: 0.525\n"
          ]
        }
      ],
      "source": [
        "# 모델에 대한 점수를 산출합니다.\n",
        "score = scoreModel(model_rf, X_train, X_valid, y_train, y_valid)"
      ]
    },
    {
      "cell_type": "code",
      "execution_count": 55,
      "id": "c9136652",
      "metadata": {
        "id": "c9136652",
        "colab": {
          "base_uri": "https://localhost:8080/"
        },
        "outputId": "9eb36330-50e1-43ec-d188-e3695dcc76fa"
      },
      "outputs": [
        {
          "output_type": "execute_result",
          "data": {
            "text/plain": [
              "array([ 77.62921135,  98.35955393,  78.30642182, ...,  93.91913239,\n",
              "       112.45080594,  93.92222246])"
            ]
          },
          "metadata": {},
          "execution_count": 55
        }
      ],
      "source": [
        "# 모델의 예측값을 변수에 담습니다.\n",
        "# 예측값을 확인합니다.\n",
        "prediction_rf = model_rf.predict(test)\n",
        "prediction_rf"
      ]
    },
    {
      "cell_type": "code",
      "execution_count": 56,
      "id": "eb1bc191",
      "metadata": {
        "id": "eb1bc191",
        "colab": {
          "base_uri": "https://localhost:8080/",
          "height": 424
        },
        "outputId": "8794fc33-0e96-467d-b7a8-b064a0d64a36"
      },
      "outputs": [
        {
          "output_type": "execute_result",
          "data": {
            "text/plain": [
              "        ID           y\n",
              "0        1   77.629211\n",
              "1        2   98.359554\n",
              "2        3   78.306422\n",
              "3        4   77.595674\n",
              "4        5  112.102729\n",
              "...    ...         ...\n",
              "4204  8410  103.603615\n",
              "4205  8411   93.955112\n",
              "4206  8413   93.919132\n",
              "4207  8414  112.450806\n",
              "4208  8416   93.922222\n",
              "\n",
              "[4209 rows x 2 columns]"
            ],
            "text/html": [
              "\n",
              "  <div id=\"df-92e0d16a-48b9-4a20-969c-005e430d956c\">\n",
              "    <div class=\"colab-df-container\">\n",
              "      <div>\n",
              "<style scoped>\n",
              "    .dataframe tbody tr th:only-of-type {\n",
              "        vertical-align: middle;\n",
              "    }\n",
              "\n",
              "    .dataframe tbody tr th {\n",
              "        vertical-align: top;\n",
              "    }\n",
              "\n",
              "    .dataframe thead th {\n",
              "        text-align: right;\n",
              "    }\n",
              "</style>\n",
              "<table border=\"1\" class=\"dataframe\">\n",
              "  <thead>\n",
              "    <tr style=\"text-align: right;\">\n",
              "      <th></th>\n",
              "      <th>ID</th>\n",
              "      <th>y</th>\n",
              "    </tr>\n",
              "  </thead>\n",
              "  <tbody>\n",
              "    <tr>\n",
              "      <th>0</th>\n",
              "      <td>1</td>\n",
              "      <td>77.629211</td>\n",
              "    </tr>\n",
              "    <tr>\n",
              "      <th>1</th>\n",
              "      <td>2</td>\n",
              "      <td>98.359554</td>\n",
              "    </tr>\n",
              "    <tr>\n",
              "      <th>2</th>\n",
              "      <td>3</td>\n",
              "      <td>78.306422</td>\n",
              "    </tr>\n",
              "    <tr>\n",
              "      <th>3</th>\n",
              "      <td>4</td>\n",
              "      <td>77.595674</td>\n",
              "    </tr>\n",
              "    <tr>\n",
              "      <th>4</th>\n",
              "      <td>5</td>\n",
              "      <td>112.102729</td>\n",
              "    </tr>\n",
              "    <tr>\n",
              "      <th>...</th>\n",
              "      <td>...</td>\n",
              "      <td>...</td>\n",
              "    </tr>\n",
              "    <tr>\n",
              "      <th>4204</th>\n",
              "      <td>8410</td>\n",
              "      <td>103.603615</td>\n",
              "    </tr>\n",
              "    <tr>\n",
              "      <th>4205</th>\n",
              "      <td>8411</td>\n",
              "      <td>93.955112</td>\n",
              "    </tr>\n",
              "    <tr>\n",
              "      <th>4206</th>\n",
              "      <td>8413</td>\n",
              "      <td>93.919132</td>\n",
              "    </tr>\n",
              "    <tr>\n",
              "      <th>4207</th>\n",
              "      <td>8414</td>\n",
              "      <td>112.450806</td>\n",
              "    </tr>\n",
              "    <tr>\n",
              "      <th>4208</th>\n",
              "      <td>8416</td>\n",
              "      <td>93.922222</td>\n",
              "    </tr>\n",
              "  </tbody>\n",
              "</table>\n",
              "<p>4209 rows × 2 columns</p>\n",
              "</div>\n",
              "      <button class=\"colab-df-convert\" onclick=\"convertToInteractive('df-92e0d16a-48b9-4a20-969c-005e430d956c')\"\n",
              "              title=\"Convert this dataframe to an interactive table.\"\n",
              "              style=\"display:none;\">\n",
              "        \n",
              "  <svg xmlns=\"http://www.w3.org/2000/svg\" height=\"24px\"viewBox=\"0 0 24 24\"\n",
              "       width=\"24px\">\n",
              "    <path d=\"M0 0h24v24H0V0z\" fill=\"none\"/>\n",
              "    <path d=\"M18.56 5.44l.94 2.06.94-2.06 2.06-.94-2.06-.94-.94-2.06-.94 2.06-2.06.94zm-11 1L8.5 8.5l.94-2.06 2.06-.94-2.06-.94L8.5 2.5l-.94 2.06-2.06.94zm10 10l.94 2.06.94-2.06 2.06-.94-2.06-.94-.94-2.06-.94 2.06-2.06.94z\"/><path d=\"M17.41 7.96l-1.37-1.37c-.4-.4-.92-.59-1.43-.59-.52 0-1.04.2-1.43.59L10.3 9.45l-7.72 7.72c-.78.78-.78 2.05 0 2.83L4 21.41c.39.39.9.59 1.41.59.51 0 1.02-.2 1.41-.59l7.78-7.78 2.81-2.81c.8-.78.8-2.07 0-2.86zM5.41 20L4 18.59l7.72-7.72 1.47 1.35L5.41 20z\"/>\n",
              "  </svg>\n",
              "      </button>\n",
              "      \n",
              "  <style>\n",
              "    .colab-df-container {\n",
              "      display:flex;\n",
              "      flex-wrap:wrap;\n",
              "      gap: 12px;\n",
              "    }\n",
              "\n",
              "    .colab-df-convert {\n",
              "      background-color: #E8F0FE;\n",
              "      border: none;\n",
              "      border-radius: 50%;\n",
              "      cursor: pointer;\n",
              "      display: none;\n",
              "      fill: #1967D2;\n",
              "      height: 32px;\n",
              "      padding: 0 0 0 0;\n",
              "      width: 32px;\n",
              "    }\n",
              "\n",
              "    .colab-df-convert:hover {\n",
              "      background-color: #E2EBFA;\n",
              "      box-shadow: 0px 1px 2px rgba(60, 64, 67, 0.3), 0px 1px 3px 1px rgba(60, 64, 67, 0.15);\n",
              "      fill: #174EA6;\n",
              "    }\n",
              "\n",
              "    [theme=dark] .colab-df-convert {\n",
              "      background-color: #3B4455;\n",
              "      fill: #D2E3FC;\n",
              "    }\n",
              "\n",
              "    [theme=dark] .colab-df-convert:hover {\n",
              "      background-color: #434B5C;\n",
              "      box-shadow: 0px 1px 3px 1px rgba(0, 0, 0, 0.15);\n",
              "      filter: drop-shadow(0px 1px 2px rgba(0, 0, 0, 0.3));\n",
              "      fill: #FFFFFF;\n",
              "    }\n",
              "  </style>\n",
              "\n",
              "      <script>\n",
              "        const buttonEl =\n",
              "          document.querySelector('#df-92e0d16a-48b9-4a20-969c-005e430d956c button.colab-df-convert');\n",
              "        buttonEl.style.display =\n",
              "          google.colab.kernel.accessAllowed ? 'block' : 'none';\n",
              "\n",
              "        async function convertToInteractive(key) {\n",
              "          const element = document.querySelector('#df-92e0d16a-48b9-4a20-969c-005e430d956c');\n",
              "          const dataTable =\n",
              "            await google.colab.kernel.invokeFunction('convertToInteractive',\n",
              "                                                     [key], {});\n",
              "          if (!dataTable) return;\n",
              "\n",
              "          const docLinkHtml = 'Like what you see? Visit the ' +\n",
              "            '<a target=\"_blank\" href=https://colab.research.google.com/notebooks/data_table.ipynb>data table notebook</a>'\n",
              "            + ' to learn more about interactive tables.';\n",
              "          element.innerHTML = '';\n",
              "          dataTable['output_type'] = 'display_data';\n",
              "          await google.colab.output.renderOutput(dataTable, element);\n",
              "          const docLink = document.createElement('div');\n",
              "          docLink.innerHTML = docLinkHtml;\n",
              "          element.appendChild(docLink);\n",
              "        }\n",
              "      </script>\n",
              "    </div>\n",
              "  </div>\n",
              "  "
            ]
          },
          "metadata": {},
          "execution_count": 56
        }
      ],
      "source": [
        "# sub의 'y' 변수에 예측값을 넣습니다.\n",
        "# sub를 확인합니다.\n",
        "sub['y'] = prediction_rf\n",
        "sub"
      ]
    },
    {
      "cell_type": "code",
      "execution_count": 57,
      "id": "d67ba2ab",
      "metadata": {
        "id": "d67ba2ab"
      },
      "outputs": [],
      "source": [
        "# sub를 csv 파일로 내보냅니다.\n",
        "sub.to_csv(f'{base_path}/sub_rf_{score}.csv', encoding='utf-8', index=False)"
      ]
    },
    {
      "cell_type": "markdown",
      "id": "ccf580bc",
      "metadata": {
        "id": "ccf580bc"
      },
      "source": [
        "## 그래디언트 부스팅 트리 모델\n",
        "* 흔히 GBT라고 줄여 부르는 Gradient Boosting Tree 모델은 트리를 이용한 앙상블 모델입니다.\n",
        "* 앙상블은 내부적으로 여러 모델을 생성한 후 모델들을 종합해 최종 모델을 생성하는 방법론입니다.\n",
        "* GBT는 부스팅이라는 앙상블 기법을 사용합니다.\n",
        "\n",
        "### 주요 파라미터\n",
        "* loss : {‘squared_error’, ‘absolute_error’, ‘huber’, ‘quantile’}, default=’squared_error’\n",
        "    * 최적화할 손실 함수입니다.\n",
        "* learning_rate : float, default=0.1\n",
        "    * 각 트리의 기여도를 learning_rate로 제한합니다.\n",
        "* n_estimators : int, default=100\n",
        "    * 숲에 있는 나무의 수입니다.\n",
        "* criterion : {‘friedman_mse’, ‘squared_error’, ‘mse’, ‘mae’}, default=’friedman_mse’\n",
        "    * 분할의 품질을 측정하는 기능입니다. \n",
        "* max_depth : int, default=3\n",
        "    * 트리의 최대 깊이입니다.\n",
        "* max_features : {‘auto’, ‘sqrt’, ‘log2’}, int or float, default=None\n",
        "    * 최상의 분할을 찾을 때 고려해야 할 기능의 수\n",
        "* https://scikit-learn.org/stable/modules/generated/sklearn.ensemble.GradientBoostingRegressor.html"
      ]
    },
    {
      "cell_type": "code",
      "execution_count": 71,
      "id": "11a3e11e",
      "metadata": {
        "id": "11a3e11e",
        "colab": {
          "base_uri": "https://localhost:8080/"
        },
        "outputId": "d8ff2969-2ea1-439a-d39c-ffe3ec475d3a"
      },
      "outputs": [
        {
          "output_type": "execute_result",
          "data": {
            "text/plain": [
              "GradientBoostingRegressor(random_state=42)"
            ]
          },
          "metadata": {},
          "execution_count": 71
        }
      ],
      "source": [
        "# sklearn.ensemble의 GradientBoostingRegressor는 앙상블 방법론 중 부스팅을 이용한 트리 모델을 구현한 라이브러리입니다.\n",
        "# 그래디언트 부스팅 트리 모델을 생성합니다.\n",
        "\n",
        "from sklearn.ensemble import GradientBoostingRegressor\n",
        "\n",
        "model_gbt = GradientBoostingRegressor(random_state=42)\n",
        "model_gbt"
      ]
    },
    {
      "cell_type": "code",
      "execution_count": 72,
      "id": "a08251b8",
      "metadata": {
        "id": "a08251b8",
        "colab": {
          "base_uri": "https://localhost:8080/"
        },
        "outputId": "22b9b04a-b4ee-4ada-9af0-0722e5b743a0"
      },
      "outputs": [
        {
          "output_type": "execute_result",
          "data": {
            "text/plain": [
              "GradientBoostingRegressor(random_state=42)"
            ]
          },
          "metadata": {},
          "execution_count": 72
        }
      ],
      "source": [
        "# 모델을 학습시킵니다.\n",
        "model_gbt.fit(X_train, y_train)"
      ]
    },
    {
      "cell_type": "code",
      "execution_count": 73,
      "id": "89f9c42f",
      "metadata": {
        "id": "89f9c42f",
        "colab": {
          "base_uri": "https://localhost:8080/"
        },
        "outputId": "8757d9d2-41a7-4ccd-9792-4d8a24a7c7b2"
      },
      "outputs": [
        {
          "output_type": "stream",
          "name": "stdout",
          "text": [
            "모델 : GradientBoostingRegressor(random_state=42)\n",
            "학습용 세트 정확도: 0.658\n",
            "검증 세트 정확도: 0.523\n"
          ]
        }
      ],
      "source": [
        "# 모델에 대한 점수를 산출합니다.\n",
        "score = scoreModel(model_gbt, X_train, X_valid, y_train, y_valid)"
      ]
    },
    {
      "cell_type": "markdown",
      "id": "75851bee",
      "metadata": {
        "id": "75851bee"
      },
      "source": [
        "* 테스트 세트 정확도가 0.519으로 지금까지 시도했던 모델 중 가장 높습니다.\n",
        "* 테스트 세트 정확도가 높아진 이유가 무엇일까요? 생각해봅시다."
      ]
    },
    {
      "cell_type": "code",
      "execution_count": 74,
      "id": "fad2e8e5",
      "metadata": {
        "id": "fad2e8e5",
        "colab": {
          "base_uri": "https://localhost:8080/"
        },
        "outputId": "ffe99bcc-774c-4b0b-a253-6b3207b63403"
      },
      "outputs": [
        {
          "output_type": "execute_result",
          "data": {
            "text/plain": [
              "array([ 91.29248291, 113.17111767,  90.04850181, ...,  93.1142925 ,\n",
              "       111.40851162,  93.79720456])"
            ]
          },
          "metadata": {},
          "execution_count": 74
        }
      ],
      "source": [
        "# 모델의 예측값을 변수에 담습니다.\n",
        "# 예측값을 확인합니다.\n",
        "prediction_gbt = model_gbt.predict(test)\n",
        "prediction_gbt"
      ]
    },
    {
      "cell_type": "code",
      "execution_count": 75,
      "id": "ea9d5299",
      "metadata": {
        "id": "ea9d5299",
        "scrolled": true,
        "colab": {
          "base_uri": "https://localhost:8080/",
          "height": 424
        },
        "outputId": "d1125d6e-2970-43ba-fde6-d4c43f53e704"
      },
      "outputs": [
        {
          "output_type": "execute_result",
          "data": {
            "text/plain": [
              "        ID           y\n",
              "0        1   91.292483\n",
              "1        2  113.171118\n",
              "2        3   90.048502\n",
              "3        4   74.959193\n",
              "4        5  110.813350\n",
              "...    ...         ...\n",
              "4204  8410  103.818216\n",
              "4205  8411   96.376442\n",
              "4206  8413   93.114293\n",
              "4207  8414  111.408512\n",
              "4208  8416   93.797205\n",
              "\n",
              "[4209 rows x 2 columns]"
            ],
            "text/html": [
              "\n",
              "  <div id=\"df-b180e123-e112-42d2-909e-5ba98b2ab30b\">\n",
              "    <div class=\"colab-df-container\">\n",
              "      <div>\n",
              "<style scoped>\n",
              "    .dataframe tbody tr th:only-of-type {\n",
              "        vertical-align: middle;\n",
              "    }\n",
              "\n",
              "    .dataframe tbody tr th {\n",
              "        vertical-align: top;\n",
              "    }\n",
              "\n",
              "    .dataframe thead th {\n",
              "        text-align: right;\n",
              "    }\n",
              "</style>\n",
              "<table border=\"1\" class=\"dataframe\">\n",
              "  <thead>\n",
              "    <tr style=\"text-align: right;\">\n",
              "      <th></th>\n",
              "      <th>ID</th>\n",
              "      <th>y</th>\n",
              "    </tr>\n",
              "  </thead>\n",
              "  <tbody>\n",
              "    <tr>\n",
              "      <th>0</th>\n",
              "      <td>1</td>\n",
              "      <td>91.292483</td>\n",
              "    </tr>\n",
              "    <tr>\n",
              "      <th>1</th>\n",
              "      <td>2</td>\n",
              "      <td>113.171118</td>\n",
              "    </tr>\n",
              "    <tr>\n",
              "      <th>2</th>\n",
              "      <td>3</td>\n",
              "      <td>90.048502</td>\n",
              "    </tr>\n",
              "    <tr>\n",
              "      <th>3</th>\n",
              "      <td>4</td>\n",
              "      <td>74.959193</td>\n",
              "    </tr>\n",
              "    <tr>\n",
              "      <th>4</th>\n",
              "      <td>5</td>\n",
              "      <td>110.813350</td>\n",
              "    </tr>\n",
              "    <tr>\n",
              "      <th>...</th>\n",
              "      <td>...</td>\n",
              "      <td>...</td>\n",
              "    </tr>\n",
              "    <tr>\n",
              "      <th>4204</th>\n",
              "      <td>8410</td>\n",
              "      <td>103.818216</td>\n",
              "    </tr>\n",
              "    <tr>\n",
              "      <th>4205</th>\n",
              "      <td>8411</td>\n",
              "      <td>96.376442</td>\n",
              "    </tr>\n",
              "    <tr>\n",
              "      <th>4206</th>\n",
              "      <td>8413</td>\n",
              "      <td>93.114293</td>\n",
              "    </tr>\n",
              "    <tr>\n",
              "      <th>4207</th>\n",
              "      <td>8414</td>\n",
              "      <td>111.408512</td>\n",
              "    </tr>\n",
              "    <tr>\n",
              "      <th>4208</th>\n",
              "      <td>8416</td>\n",
              "      <td>93.797205</td>\n",
              "    </tr>\n",
              "  </tbody>\n",
              "</table>\n",
              "<p>4209 rows × 2 columns</p>\n",
              "</div>\n",
              "      <button class=\"colab-df-convert\" onclick=\"convertToInteractive('df-b180e123-e112-42d2-909e-5ba98b2ab30b')\"\n",
              "              title=\"Convert this dataframe to an interactive table.\"\n",
              "              style=\"display:none;\">\n",
              "        \n",
              "  <svg xmlns=\"http://www.w3.org/2000/svg\" height=\"24px\"viewBox=\"0 0 24 24\"\n",
              "       width=\"24px\">\n",
              "    <path d=\"M0 0h24v24H0V0z\" fill=\"none\"/>\n",
              "    <path d=\"M18.56 5.44l.94 2.06.94-2.06 2.06-.94-2.06-.94-.94-2.06-.94 2.06-2.06.94zm-11 1L8.5 8.5l.94-2.06 2.06-.94-2.06-.94L8.5 2.5l-.94 2.06-2.06.94zm10 10l.94 2.06.94-2.06 2.06-.94-2.06-.94-.94-2.06-.94 2.06-2.06.94z\"/><path d=\"M17.41 7.96l-1.37-1.37c-.4-.4-.92-.59-1.43-.59-.52 0-1.04.2-1.43.59L10.3 9.45l-7.72 7.72c-.78.78-.78 2.05 0 2.83L4 21.41c.39.39.9.59 1.41.59.51 0 1.02-.2 1.41-.59l7.78-7.78 2.81-2.81c.8-.78.8-2.07 0-2.86zM5.41 20L4 18.59l7.72-7.72 1.47 1.35L5.41 20z\"/>\n",
              "  </svg>\n",
              "      </button>\n",
              "      \n",
              "  <style>\n",
              "    .colab-df-container {\n",
              "      display:flex;\n",
              "      flex-wrap:wrap;\n",
              "      gap: 12px;\n",
              "    }\n",
              "\n",
              "    .colab-df-convert {\n",
              "      background-color: #E8F0FE;\n",
              "      border: none;\n",
              "      border-radius: 50%;\n",
              "      cursor: pointer;\n",
              "      display: none;\n",
              "      fill: #1967D2;\n",
              "      height: 32px;\n",
              "      padding: 0 0 0 0;\n",
              "      width: 32px;\n",
              "    }\n",
              "\n",
              "    .colab-df-convert:hover {\n",
              "      background-color: #E2EBFA;\n",
              "      box-shadow: 0px 1px 2px rgba(60, 64, 67, 0.3), 0px 1px 3px 1px rgba(60, 64, 67, 0.15);\n",
              "      fill: #174EA6;\n",
              "    }\n",
              "\n",
              "    [theme=dark] .colab-df-convert {\n",
              "      background-color: #3B4455;\n",
              "      fill: #D2E3FC;\n",
              "    }\n",
              "\n",
              "    [theme=dark] .colab-df-convert:hover {\n",
              "      background-color: #434B5C;\n",
              "      box-shadow: 0px 1px 3px 1px rgba(0, 0, 0, 0.15);\n",
              "      filter: drop-shadow(0px 1px 2px rgba(0, 0, 0, 0.3));\n",
              "      fill: #FFFFFF;\n",
              "    }\n",
              "  </style>\n",
              "\n",
              "      <script>\n",
              "        const buttonEl =\n",
              "          document.querySelector('#df-b180e123-e112-42d2-909e-5ba98b2ab30b button.colab-df-convert');\n",
              "        buttonEl.style.display =\n",
              "          google.colab.kernel.accessAllowed ? 'block' : 'none';\n",
              "\n",
              "        async function convertToInteractive(key) {\n",
              "          const element = document.querySelector('#df-b180e123-e112-42d2-909e-5ba98b2ab30b');\n",
              "          const dataTable =\n",
              "            await google.colab.kernel.invokeFunction('convertToInteractive',\n",
              "                                                     [key], {});\n",
              "          if (!dataTable) return;\n",
              "\n",
              "          const docLinkHtml = 'Like what you see? Visit the ' +\n",
              "            '<a target=\"_blank\" href=https://colab.research.google.com/notebooks/data_table.ipynb>data table notebook</a>'\n",
              "            + ' to learn more about interactive tables.';\n",
              "          element.innerHTML = '';\n",
              "          dataTable['output_type'] = 'display_data';\n",
              "          await google.colab.output.renderOutput(dataTable, element);\n",
              "          const docLink = document.createElement('div');\n",
              "          docLink.innerHTML = docLinkHtml;\n",
              "          element.appendChild(docLink);\n",
              "        }\n",
              "      </script>\n",
              "    </div>\n",
              "  </div>\n",
              "  "
            ]
          },
          "metadata": {},
          "execution_count": 75
        }
      ],
      "source": [
        "# sub의 'y' 변수에 예측값을 넣습니다.\n",
        "# sub를 확인합니다.\n",
        "sub['y'] = prediction_gbt\n",
        "sub"
      ]
    },
    {
      "cell_type": "code",
      "execution_count": 70,
      "id": "3dd06ece",
      "metadata": {
        "id": "3dd06ece"
      },
      "outputs": [],
      "source": [
        "# sub를 csv 파일로 내보냅니다.\n",
        "sub.to_csv(f'{base_path}/sub_gbt_{score}.csv', index=False)"
      ]
    },
    {
      "cell_type": "markdown",
      "id": "6e516f3e",
      "metadata": {
        "id": "6e516f3e"
      },
      "source": [
        "## 엑스트라 트리 모델\n",
        "* 엑스트라 트리 모델은 극도로 무작위화(Extremely Randomized Tree)된 모델입니다.\n",
        "* 랜덤 포레스트에서와 같이 후보 기능의 무작위 하위 집합이 사용되지만 가장 차별적인 임계값을 찾는 대신 각 후보 기능에 대해 임계값이 무작위로 그려지고 무작위로 생성된 임계값 중 가장 좋은 것이 분할 규칙으로 선택됩니다.\n",
        "* 이것은 일반적으로 약간 더 큰 편향 증가를 희생시키면서 모델의 분산을 조금 더 줄일 수 있습니다.\n",
        "\n",
        "### 주요 파라미터\n",
        "* 이 클래스는 데이터 세트의 다양한 하위 샘플에 여러 무작위 결정 트리(추가 트리라고도 함)에 맞는 메타 추정기를 구현하고 평균을 사용하여 예측 정확도를 개선하고 과적합을 제어합니다.\n",
        "* n_estimators : int, default=100\n",
        "    * 숲에 있는 나무의 수입니다.\n",
        "* criterion : {“squared_error”, “absolute_error”}, default=”squared_error”\n",
        "    * 분할의 품질을 측정하는 기능입니다. \n",
        "* max_depth : int, default=None\n",
        "    * 트리의 최대 깊이입니다.\n",
        "* min_samples_split : int or float, default=2\n",
        "    * 내부 노드를 분할하는 데 필요한 최소 샘플 수\n",
        "* max_features : {“auto”, “sqrt”, “log2”}, int or float, default=”auto”\n",
        "    * 최상의 분할을 찾을 때 고려해야 할 기능의 수\n",
        "* https://scikit-learn.org/stable/modules/generated/sklearn.ensemble.ExtraTreesRegressor.html"
      ]
    },
    {
      "cell_type": "code",
      "execution_count": 88,
      "id": "7d8698ad",
      "metadata": {
        "id": "7d8698ad",
        "colab": {
          "base_uri": "https://localhost:8080/"
        },
        "outputId": "d62cdf65-06d7-4c5d-d604-95ef14a655de"
      },
      "outputs": [
        {
          "output_type": "execute_result",
          "data": {
            "text/plain": [
              "ExtraTreesRegressor(max_depth=4, max_features=0.9, random_state=42)"
            ]
          },
          "metadata": {},
          "execution_count": 88
        }
      ],
      "source": [
        "# sklearn.ensemble의 ExtraTreesRegressor는 앙상블 모델 중 엑스트라 트리 모델을 구현한 라이브러리입니다.\n",
        "# 엑스트라 트리 모델을 생성합니다.\n",
        "\n",
        "from sklearn.ensemble import ExtraTreesRegressor\n",
        "\n",
        "model_et = ExtraTreesRegressor(random_state=42, max_depth=4, max_features=0.9)\n",
        "model_et"
      ]
    },
    {
      "cell_type": "code",
      "execution_count": 89,
      "id": "0f9f54b5",
      "metadata": {
        "id": "0f9f54b5",
        "colab": {
          "base_uri": "https://localhost:8080/"
        },
        "outputId": "6c67f8c0-3f16-4c53-ede9-f1e4b8ad3724"
      },
      "outputs": [
        {
          "output_type": "execute_result",
          "data": {
            "text/plain": [
              "ExtraTreesRegressor(max_depth=4, max_features=0.9, random_state=42)"
            ]
          },
          "metadata": {},
          "execution_count": 89
        }
      ],
      "source": [
        "# 모델을 학습시킵니다.\n",
        "model_et.fit(X_train, y_train)"
      ]
    },
    {
      "cell_type": "code",
      "execution_count": 90,
      "id": "c114448f",
      "metadata": {
        "id": "c114448f",
        "colab": {
          "base_uri": "https://localhost:8080/"
        },
        "outputId": "7ae791fa-292c-43e8-cc67-6a95f28789b3"
      },
      "outputs": [
        {
          "output_type": "stream",
          "name": "stdout",
          "text": [
            "모델 : ExtraTreesRegressor(max_depth=4, max_features=0.9, random_state=42)\n",
            "학습용 세트 정확도: 0.618\n",
            "검증 세트 정확도: 0.522\n"
          ]
        }
      ],
      "source": [
        "# 모델에 대한 점수를 산출합니다.\n",
        "score = scoreModel(model_et, X_train, X_valid, y_train, y_valid)"
      ]
    },
    {
      "cell_type": "code",
      "execution_count": 91,
      "id": "337a04b5",
      "metadata": {
        "id": "337a04b5",
        "colab": {
          "base_uri": "https://localhost:8080/"
        },
        "outputId": "34b3907d-a064-4421-9739-f113a2dc04c7"
      },
      "outputs": [
        {
          "output_type": "execute_result",
          "data": {
            "text/plain": [
              "array([ 77.75133486,  95.02599166,  77.62235105, ...,  93.90924556,\n",
              "       112.56203336,  93.92163333])"
            ]
          },
          "metadata": {},
          "execution_count": 91
        }
      ],
      "source": [
        "# 모델의 예측값을 변수에 담습니다.\n",
        "# 예측값을 확인합니다.\n",
        "prediction_et = model_et.predict(test)\n",
        "prediction_et"
      ]
    },
    {
      "cell_type": "code",
      "execution_count": 92,
      "id": "ff282e91",
      "metadata": {
        "id": "ff282e91",
        "scrolled": true,
        "colab": {
          "base_uri": "https://localhost:8080/",
          "height": 424
        },
        "outputId": "9a926f92-2f9f-423e-8afa-d08cdb363794"
      },
      "outputs": [
        {
          "output_type": "execute_result",
          "data": {
            "text/plain": [
              "        ID           y\n",
              "0        1   77.751335\n",
              "1        2   95.025992\n",
              "2        3   77.622351\n",
              "3        4   77.751335\n",
              "4        5  112.519203\n",
              "...    ...         ...\n",
              "4204  8410  103.221901\n",
              "4205  8411   93.921633\n",
              "4206  8413   93.909246\n",
              "4207  8414  112.562033\n",
              "4208  8416   93.921633\n",
              "\n",
              "[4209 rows x 2 columns]"
            ],
            "text/html": [
              "\n",
              "  <div id=\"df-af4c1186-cadf-4a3c-8772-b17a951b9de7\">\n",
              "    <div class=\"colab-df-container\">\n",
              "      <div>\n",
              "<style scoped>\n",
              "    .dataframe tbody tr th:only-of-type {\n",
              "        vertical-align: middle;\n",
              "    }\n",
              "\n",
              "    .dataframe tbody tr th {\n",
              "        vertical-align: top;\n",
              "    }\n",
              "\n",
              "    .dataframe thead th {\n",
              "        text-align: right;\n",
              "    }\n",
              "</style>\n",
              "<table border=\"1\" class=\"dataframe\">\n",
              "  <thead>\n",
              "    <tr style=\"text-align: right;\">\n",
              "      <th></th>\n",
              "      <th>ID</th>\n",
              "      <th>y</th>\n",
              "    </tr>\n",
              "  </thead>\n",
              "  <tbody>\n",
              "    <tr>\n",
              "      <th>0</th>\n",
              "      <td>1</td>\n",
              "      <td>77.751335</td>\n",
              "    </tr>\n",
              "    <tr>\n",
              "      <th>1</th>\n",
              "      <td>2</td>\n",
              "      <td>95.025992</td>\n",
              "    </tr>\n",
              "    <tr>\n",
              "      <th>2</th>\n",
              "      <td>3</td>\n",
              "      <td>77.622351</td>\n",
              "    </tr>\n",
              "    <tr>\n",
              "      <th>3</th>\n",
              "      <td>4</td>\n",
              "      <td>77.751335</td>\n",
              "    </tr>\n",
              "    <tr>\n",
              "      <th>4</th>\n",
              "      <td>5</td>\n",
              "      <td>112.519203</td>\n",
              "    </tr>\n",
              "    <tr>\n",
              "      <th>...</th>\n",
              "      <td>...</td>\n",
              "      <td>...</td>\n",
              "    </tr>\n",
              "    <tr>\n",
              "      <th>4204</th>\n",
              "      <td>8410</td>\n",
              "      <td>103.221901</td>\n",
              "    </tr>\n",
              "    <tr>\n",
              "      <th>4205</th>\n",
              "      <td>8411</td>\n",
              "      <td>93.921633</td>\n",
              "    </tr>\n",
              "    <tr>\n",
              "      <th>4206</th>\n",
              "      <td>8413</td>\n",
              "      <td>93.909246</td>\n",
              "    </tr>\n",
              "    <tr>\n",
              "      <th>4207</th>\n",
              "      <td>8414</td>\n",
              "      <td>112.562033</td>\n",
              "    </tr>\n",
              "    <tr>\n",
              "      <th>4208</th>\n",
              "      <td>8416</td>\n",
              "      <td>93.921633</td>\n",
              "    </tr>\n",
              "  </tbody>\n",
              "</table>\n",
              "<p>4209 rows × 2 columns</p>\n",
              "</div>\n",
              "      <button class=\"colab-df-convert\" onclick=\"convertToInteractive('df-af4c1186-cadf-4a3c-8772-b17a951b9de7')\"\n",
              "              title=\"Convert this dataframe to an interactive table.\"\n",
              "              style=\"display:none;\">\n",
              "        \n",
              "  <svg xmlns=\"http://www.w3.org/2000/svg\" height=\"24px\"viewBox=\"0 0 24 24\"\n",
              "       width=\"24px\">\n",
              "    <path d=\"M0 0h24v24H0V0z\" fill=\"none\"/>\n",
              "    <path d=\"M18.56 5.44l.94 2.06.94-2.06 2.06-.94-2.06-.94-.94-2.06-.94 2.06-2.06.94zm-11 1L8.5 8.5l.94-2.06 2.06-.94-2.06-.94L8.5 2.5l-.94 2.06-2.06.94zm10 10l.94 2.06.94-2.06 2.06-.94-2.06-.94-.94-2.06-.94 2.06-2.06.94z\"/><path d=\"M17.41 7.96l-1.37-1.37c-.4-.4-.92-.59-1.43-.59-.52 0-1.04.2-1.43.59L10.3 9.45l-7.72 7.72c-.78.78-.78 2.05 0 2.83L4 21.41c.39.39.9.59 1.41.59.51 0 1.02-.2 1.41-.59l7.78-7.78 2.81-2.81c.8-.78.8-2.07 0-2.86zM5.41 20L4 18.59l7.72-7.72 1.47 1.35L5.41 20z\"/>\n",
              "  </svg>\n",
              "      </button>\n",
              "      \n",
              "  <style>\n",
              "    .colab-df-container {\n",
              "      display:flex;\n",
              "      flex-wrap:wrap;\n",
              "      gap: 12px;\n",
              "    }\n",
              "\n",
              "    .colab-df-convert {\n",
              "      background-color: #E8F0FE;\n",
              "      border: none;\n",
              "      border-radius: 50%;\n",
              "      cursor: pointer;\n",
              "      display: none;\n",
              "      fill: #1967D2;\n",
              "      height: 32px;\n",
              "      padding: 0 0 0 0;\n",
              "      width: 32px;\n",
              "    }\n",
              "\n",
              "    .colab-df-convert:hover {\n",
              "      background-color: #E2EBFA;\n",
              "      box-shadow: 0px 1px 2px rgba(60, 64, 67, 0.3), 0px 1px 3px 1px rgba(60, 64, 67, 0.15);\n",
              "      fill: #174EA6;\n",
              "    }\n",
              "\n",
              "    [theme=dark] .colab-df-convert {\n",
              "      background-color: #3B4455;\n",
              "      fill: #D2E3FC;\n",
              "    }\n",
              "\n",
              "    [theme=dark] .colab-df-convert:hover {\n",
              "      background-color: #434B5C;\n",
              "      box-shadow: 0px 1px 3px 1px rgba(0, 0, 0, 0.15);\n",
              "      filter: drop-shadow(0px 1px 2px rgba(0, 0, 0, 0.3));\n",
              "      fill: #FFFFFF;\n",
              "    }\n",
              "  </style>\n",
              "\n",
              "      <script>\n",
              "        const buttonEl =\n",
              "          document.querySelector('#df-af4c1186-cadf-4a3c-8772-b17a951b9de7 button.colab-df-convert');\n",
              "        buttonEl.style.display =\n",
              "          google.colab.kernel.accessAllowed ? 'block' : 'none';\n",
              "\n",
              "        async function convertToInteractive(key) {\n",
              "          const element = document.querySelector('#df-af4c1186-cadf-4a3c-8772-b17a951b9de7');\n",
              "          const dataTable =\n",
              "            await google.colab.kernel.invokeFunction('convertToInteractive',\n",
              "                                                     [key], {});\n",
              "          if (!dataTable) return;\n",
              "\n",
              "          const docLinkHtml = 'Like what you see? Visit the ' +\n",
              "            '<a target=\"_blank\" href=https://colab.research.google.com/notebooks/data_table.ipynb>data table notebook</a>'\n",
              "            + ' to learn more about interactive tables.';\n",
              "          element.innerHTML = '';\n",
              "          dataTable['output_type'] = 'display_data';\n",
              "          await google.colab.output.renderOutput(dataTable, element);\n",
              "          const docLink = document.createElement('div');\n",
              "          docLink.innerHTML = docLinkHtml;\n",
              "          element.appendChild(docLink);\n",
              "        }\n",
              "      </script>\n",
              "    </div>\n",
              "  </div>\n",
              "  "
            ]
          },
          "metadata": {},
          "execution_count": 92
        }
      ],
      "source": [
        "# sub의 'y' 변수에 예측값을 넣습니다.\n",
        "# sub를 확인합니다.\n",
        "sub['y'] = prediction_et\n",
        "sub"
      ]
    },
    {
      "cell_type": "code",
      "execution_count": 93,
      "id": "e6641a98",
      "metadata": {
        "id": "e6641a98"
      },
      "outputs": [],
      "source": [
        "# sub를 csv 파일로 내보냅니다.\n",
        "sub.to_csv(f'{base_path}/sub_et_{score}.csv', index=False)"
      ]
    },
    {
      "cell_type": "markdown",
      "id": "-ZcWyHWpg1IJ",
      "metadata": {
        "id": "-ZcWyHWpg1IJ"
      },
      "source": [
        "## 사이킷런 이외 모델들\n",
        "* 지금부터 소개할 xgboost, lightgbm, catboost 모델은 GBT에서 단점을 보완하고 개선한 모델들입니다.\n",
        "* 결정트리, 그래디언트 부스팅 트리, 랜덤 포레스트에 비하면 비교적 최신 모델들입니다.\n",
        "* 최신 모델이라고 해서 앞에 소개한 모델들을 완전히 대체한다는 것은 아닙니다.\n",
        "* 상황에 따라 적절한 모델을 선택하는 것이 중요합니다.\n",
        "* 소개할 세 모델은 Kaggle이나 Dacon에서 높은 성적을 거두는 참가자들이 많이 사용해왔고 좋은 성과를 보여왔습니다."
      ]
    },
    {
      "cell_type": "markdown",
      "id": "jrxWYqoJgpcm",
      "metadata": {
        "id": "jrxWYqoJgpcm"
      },
      "source": [
        "## XGBoost 모델\n",
        "* xgboost는 GBT에서 병렬 학습을 지원하여 학습 속도가 빨라진 모델입니다.\n",
        "* 기본 GBT에 비해 더 효율적이고, 다양한 종류의 데이터에 대응할 수 있으며 이식성이 높습니다.\n",
        "\n",
        "\n",
        "### XGBoost Parameter\n",
        "\n",
        "* 부스팅 파라미터\n",
        "    * Learning_rate[ 기본값 : 0.3] : Learning rate가 높을수록 과적합되기 쉬움\n",
        "    * n_estimators [기본값 : 100] :  생성할 weaker learner 수, learning_rate가 낮을 땐, n_estimators를 높여야 과적합이 방지됨, value가 너무 낮으면 underfitting이 되고 이는 낮은 정확성의 prediction이 되는반면 value가 너무 높으면 overfitting이 되고 training data 에는 정확한 prediction을 보이지만 test data에서는 정확성이 낮은 prediction을 가짐\n",
        "    * max_depth [ 기본값 : 6 ] :  트리의 maximum depth, 적절한 값이 제시되어야 하고 보통 3-10 사이 값이 적용됨, max_depth가 높을수록 모델의 복잡도가 커져 과적합되기 쉬움\n",
        "    * min_child_weight [ 기본값 : 1 ] : 관측치에 대한 가중치 합의 최소를 말함, 값이 높을수록 과적합이 방지됨\n",
        "    * gamma [ 기본값 : 0 ] : 리프노드의 추가분할을 결정할 최소손실 감소값, 해당값보다 손실이 크게 감소할 때 분리, 값이 높을수록 과적합이 방지됨\n",
        "    * subsample [ 기본값 : 1 ] : weak learner가 학습에 사용하는 데이터 샘플링 비율, 보통 0.5 ~ 1 사용됨, 값이 낮을수록 과적합이 방지됨\n",
        "    * colsample_bytree [ 기본값 : 1 ] : 각 tree 별 사용된 feature의 퍼센테이지, 보통 0.5 ~ 1 사용됨, 값이 낮을수록 과적합이 방지됨\n",
        "* 일반 파라미터\n",
        "    * booster [기본값 = gbtree] : 어떤 부스터 구조를 쓸지 결정, 의사결정기반모형(gbtree), 선형모형(gblinear), dart\n",
        "    * n_jobs : XGBoost를 실행하는 데 사용되는 병렬 스레드 수\n",
        "    * verbosity [기본값 = 1] : 로그출력여부 0 (무음), 1 (경고), 2 (정보), 3 (디버그)\n",
        "    * early_stopping_rounds :  손실함수 값이 n번정도 개선이 없으면 학습을 중단\n",
        "* 학습과정 파라미터\n",
        "    * eval_metric:\n",
        "        * rmse: root mean square error\n",
        "        * mae: mean absolute error\n",
        "        * logloss: negative log-likelihood\n",
        "        * error: Binary classification error rate (0.5 threshold)\n",
        "        * merror: Multiclass classification error rate\n",
        "        * mlogloss: Multiclass logloss\n",
        "        * auc: Area under the curve\n",
        "        * map (mean average precision)"
      ]
    },
    {
      "cell_type": "code",
      "execution_count": 114,
      "id": "gNiPDjl8g7Ua",
      "metadata": {
        "id": "gNiPDjl8g7Ua",
        "colab": {
          "base_uri": "https://localhost:8080/"
        },
        "outputId": "4405dd06-1b30-45c9-bda2-0cf032c3cfa4"
      },
      "outputs": [
        {
          "output_type": "execute_result",
          "data": {
            "text/plain": [
              "XGBRegressor(learning_rate=0.05, random_state=42, verbosity=0)"
            ]
          },
          "metadata": {},
          "execution_count": 114
        }
      ],
      "source": [
        "# xgboost는 gradient boosting tree(GBT)의 병렬 학습을 구현한 라이브러리입니다.\n",
        "# xgboost 모델을 생성합니다.\n",
        "\n",
        "import xgboost as xgb\n",
        "model_xgb = xgb.XGBRegressor(random_state=42, learning_rate=0.05, verbosity=0)\n",
        "model_xgb"
      ]
    },
    {
      "cell_type": "code",
      "execution_count": 115,
      "id": "kIapQVSNg7_c",
      "metadata": {
        "id": "kIapQVSNg7_c",
        "colab": {
          "base_uri": "https://localhost:8080/"
        },
        "outputId": "7a96d95b-c9ca-482e-dbe9-8e32753a48f7"
      },
      "outputs": [
        {
          "output_type": "execute_result",
          "data": {
            "text/plain": [
              "XGBRegressor(learning_rate=0.05, random_state=42, verbosity=0)"
            ]
          },
          "metadata": {},
          "execution_count": 115
        }
      ],
      "source": [
        "# 모델을 학습시킵니다.\n",
        "model_xgb.fit(X_train, y_train)"
      ]
    },
    {
      "cell_type": "code",
      "source": [
        "# model_xgb.feature_importances_"
      ],
      "metadata": {
        "id": "lu7_VngppHAw"
      },
      "id": "lu7_VngppHAw",
      "execution_count": 117,
      "outputs": []
    },
    {
      "cell_type": "code",
      "source": [
        "xgb.plot_importance(model_xgb)"
      ],
      "metadata": {
        "colab": {
          "base_uri": "https://localhost:8080/",
          "height": 312
        },
        "id": "TKdGDvFGWEd5",
        "outputId": "b2433744-7eb2-46e3-ed80-ada3f46e02de"
      },
      "id": "TKdGDvFGWEd5",
      "execution_count": 105,
      "outputs": [
        {
          "output_type": "execute_result",
          "data": {
            "text/plain": [
              "<matplotlib.axes._subplots.AxesSubplot at 0x7efc1278e2d0>"
            ]
          },
          "metadata": {},
          "execution_count": 105
        },
        {
          "output_type": "display_data",
          "data": {
            "text/plain": [
              "<Figure size 432x288 with 1 Axes>"
            ],
            "image/png": "[encoded data removed]"
          },
          "metadata": {
            "needs_background": "light"
          }
        }
      ]
    },
    {
      "cell_type": "code",
      "source": [
        "xgb.plot_tree(model_xgb, num_trees=1)\n",
        "fig = plt.gcf()\n",
        "fig.set_size_inches(30, 20)"
      ],
      "metadata": {
        "colab": {
          "base_uri": "https://localhost:8080/",
          "height": 654
        },
        "id": "_A_CU0K5WbI9",
        "outputId": "f959823f-2056-490b-d407-b44df7f5be8a"
      },
      "id": "_A_CU0K5WbI9",
      "execution_count": 119,
      "outputs": [
        {
          "output_type": "display_data",
          "data": {
            "text/plain": [
              "<Figure size 2160x1440 with 1 Axes>"
            ],
            "image/png": "[encoded data removed]"
          },
          "metadata": {
            "needs_background": "light"
          }
        }
      ]
    },
    {
      "cell_type": "code",
      "execution_count": 120,
      "id": "1e7yTKUKg93v",
      "metadata": {
        "id": "1e7yTKUKg93v",
        "colab": {
          "base_uri": "https://localhost:8080/"
        },
        "outputId": "269a10a8-fb34-4a82-d5af-4707eee24db7"
      },
      "outputs": [
        {
          "output_type": "stream",
          "name": "stdout",
          "text": [
            "모델 : XGBRegressor(learning_rate=0.05, random_state=42, verbosity=0)\n",
            "학습용 세트 정확도: 0.624\n",
            "검증 세트 정확도: 0.525\n"
          ]
        }
      ],
      "source": [
        "# 모델에 대한 점수를 산출합니다.\n",
        "score = scoreModel(model_xgb, X_train, X_valid, y_train, y_valid)"
      ]
    },
    {
      "cell_type": "code",
      "execution_count": 121,
      "id": "ltnbh1wxhDSD",
      "metadata": {
        "id": "ltnbh1wxhDSD",
        "colab": {
          "base_uri": "https://localhost:8080/"
        },
        "outputId": "4bdf125d-8a21-44bd-e40b-e2ef6ba18c9c"
      },
      "outputs": [
        {
          "output_type": "execute_result",
          "data": {
            "text/plain": [
              "array([ 81.75616 ,  98.13999 ,  82.37521 , ...,  93.31716 , 111.55746 ,\n",
              "        93.405495], dtype=float32)"
            ]
          },
          "metadata": {},
          "execution_count": 121
        }
      ],
      "source": [
        "# 모델의 예측값을 변수에 담습니다.\n",
        "# 예측값을 확인합니다.\n",
        "prediction_xgb = model_xgb.predict(test)\n",
        "prediction_xgb"
      ]
    },
    {
      "cell_type": "code",
      "execution_count": 122,
      "id": "oA-27aMahEcr",
      "metadata": {
        "id": "oA-27aMahEcr",
        "colab": {
          "base_uri": "https://localhost:8080/",
          "height": 424
        },
        "outputId": "f70948ec-2e23-42d2-fd9a-21fc21448dd3"
      },
      "outputs": [
        {
          "output_type": "execute_result",
          "data": {
            "text/plain": [
              "        ID           y\n",
              "0        1   81.756157\n",
              "1        2   98.139992\n",
              "2        3   82.375214\n",
              "3        4   77.117210\n",
              "4        5  110.080521\n",
              "...    ...         ...\n",
              "4204  8410  103.039459\n",
              "4205  8411   93.515785\n",
              "4206  8413   93.317162\n",
              "4207  8414  111.557457\n",
              "4208  8416   93.405495\n",
              "\n",
              "[4209 rows x 2 columns]"
            ],
            "text/html": [
              "\n",
              "  <div id=\"df-8e4456d8-cfb9-4e21-9ff4-4fb18ee4fcb9\">\n",
              "    <div class=\"colab-df-container\">\n",
              "      <div>\n",
              "<style scoped>\n",
              "    .dataframe tbody tr th:only-of-type {\n",
              "        vertical-align: middle;\n",
              "    }\n",
              "\n",
              "    .dataframe tbody tr th {\n",
              "        vertical-align: top;\n",
              "    }\n",
              "\n",
              "    .dataframe thead th {\n",
              "        text-align: right;\n",
              "    }\n",
              "</style>\n",
              "<table border=\"1\" class=\"dataframe\">\n",
              "  <thead>\n",
              "    <tr style=\"text-align: right;\">\n",
              "      <th></th>\n",
              "      <th>ID</th>\n",
              "      <th>y</th>\n",
              "    </tr>\n",
              "  </thead>\n",
              "  <tbody>\n",
              "    <tr>\n",
              "      <th>0</th>\n",
              "      <td>1</td>\n",
              "      <td>81.756157</td>\n",
              "    </tr>\n",
              "    <tr>\n",
              "      <th>1</th>\n",
              "      <td>2</td>\n",
              "      <td>98.139992</td>\n",
              "    </tr>\n",
              "    <tr>\n",
              "      <th>2</th>\n",
              "      <td>3</td>\n",
              "      <td>82.375214</td>\n",
              "    </tr>\n",
              "    <tr>\n",
              "      <th>3</th>\n",
              "      <td>4</td>\n",
              "      <td>77.117210</td>\n",
              "    </tr>\n",
              "    <tr>\n",
              "      <th>4</th>\n",
              "      <td>5</td>\n",
              "      <td>110.080521</td>\n",
              "    </tr>\n",
              "    <tr>\n",
              "      <th>...</th>\n",
              "      <td>...</td>\n",
              "      <td>...</td>\n",
              "    </tr>\n",
              "    <tr>\n",
              "      <th>4204</th>\n",
              "      <td>8410</td>\n",
              "      <td>103.039459</td>\n",
              "    </tr>\n",
              "    <tr>\n",
              "      <th>4205</th>\n",
              "      <td>8411</td>\n",
              "      <td>93.515785</td>\n",
              "    </tr>\n",
              "    <tr>\n",
              "      <th>4206</th>\n",
              "      <td>8413</td>\n",
              "      <td>93.317162</td>\n",
              "    </tr>\n",
              "    <tr>\n",
              "      <th>4207</th>\n",
              "      <td>8414</td>\n",
              "      <td>111.557457</td>\n",
              "    </tr>\n",
              "    <tr>\n",
              "      <th>4208</th>\n",
              "      <td>8416</td>\n",
              "      <td>93.405495</td>\n",
              "    </tr>\n",
              "  </tbody>\n",
              "</table>\n",
              "<p>4209 rows × 2 columns</p>\n",
              "</div>\n",
              "      <button class=\"colab-df-convert\" onclick=\"convertToInteractive('df-8e4456d8-cfb9-4e21-9ff4-4fb18ee4fcb9')\"\n",
              "              title=\"Convert this dataframe to an interactive table.\"\n",
              "              style=\"display:none;\">\n",
              "        \n",
              "  <svg xmlns=\"http://www.w3.org/2000/svg\" height=\"24px\"viewBox=\"0 0 24 24\"\n",
              "       width=\"24px\">\n",
              "    <path d=\"M0 0h24v24H0V0z\" fill=\"none\"/>\n",
              "    <path d=\"M18.56 5.44l.94 2.06.94-2.06 2.06-.94-2.06-.94-.94-2.06-.94 2.06-2.06.94zm-11 1L8.5 8.5l.94-2.06 2.06-.94-2.06-.94L8.5 2.5l-.94 2.06-2.06.94zm10 10l.94 2.06.94-2.06 2.06-.94-2.06-.94-.94-2.06-.94 2.06-2.06.94z\"/><path d=\"M17.41 7.96l-1.37-1.37c-.4-.4-.92-.59-1.43-.59-.52 0-1.04.2-1.43.59L10.3 9.45l-7.72 7.72c-.78.78-.78 2.05 0 2.83L4 21.41c.39.39.9.59 1.41.59.51 0 1.02-.2 1.41-.59l7.78-7.78 2.81-2.81c.8-.78.8-2.07 0-2.86zM5.41 20L4 18.59l7.72-7.72 1.47 1.35L5.41 20z\"/>\n",
              "  </svg>\n",
              "      </button>\n",
              "      \n",
              "  <style>\n",
              "    .colab-df-container {\n",
              "      display:flex;\n",
              "      flex-wrap:wrap;\n",
              "      gap: 12px;\n",
              "    }\n",
              "\n",
              "    .colab-df-convert {\n",
              "      background-color: #E8F0FE;\n",
              "      border: none;\n",
              "      border-radius: 50%;\n",
              "      cursor: pointer;\n",
              "      display: none;\n",
              "      fill: #1967D2;\n",
              "      height: 32px;\n",
              "      padding: 0 0 0 0;\n",
              "      width: 32px;\n",
              "    }\n",
              "\n",
              "    .colab-df-convert:hover {\n",
              "      background-color: #E2EBFA;\n",
              "      box-shadow: 0px 1px 2px rgba(60, 64, 67, 0.3), 0px 1px 3px 1px rgba(60, 64, 67, 0.15);\n",
              "      fill: #174EA6;\n",
              "    }\n",
              "\n",
              "    [theme=dark] .colab-df-convert {\n",
              "      background-color: #3B4455;\n",
              "      fill: #D2E3FC;\n",
              "    }\n",
              "\n",
              "    [theme=dark] .colab-df-convert:hover {\n",
              "      background-color: #434B5C;\n",
              "      box-shadow: 0px 1px 3px 1px rgba(0, 0, 0, 0.15);\n",
              "      filter: drop-shadow(0px 1px 2px rgba(0, 0, 0, 0.3));\n",
              "      fill: #FFFFFF;\n",
              "    }\n",
              "  </style>\n",
              "\n",
              "      <script>\n",
              "        const buttonEl =\n",
              "          document.querySelector('#df-8e4456d8-cfb9-4e21-9ff4-4fb18ee4fcb9 button.colab-df-convert');\n",
              "        buttonEl.style.display =\n",
              "          google.colab.kernel.accessAllowed ? 'block' : 'none';\n",
              "\n",
              "        async function convertToInteractive(key) {\n",
              "          const element = document.querySelector('#df-8e4456d8-cfb9-4e21-9ff4-4fb18ee4fcb9');\n",
              "          const dataTable =\n",
              "            await google.colab.kernel.invokeFunction('convertToInteractive',\n",
              "                                                     [key], {});\n",
              "          if (!dataTable) return;\n",
              "\n",
              "          const docLinkHtml = 'Like what you see? Visit the ' +\n",
              "            '<a target=\"_blank\" href=https://colab.research.google.com/notebooks/data_table.ipynb>data table notebook</a>'\n",
              "            + ' to learn more about interactive tables.';\n",
              "          element.innerHTML = '';\n",
              "          dataTable['output_type'] = 'display_data';\n",
              "          await google.colab.output.renderOutput(dataTable, element);\n",
              "          const docLink = document.createElement('div');\n",
              "          docLink.innerHTML = docLinkHtml;\n",
              "          element.appendChild(docLink);\n",
              "        }\n",
              "      </script>\n",
              "    </div>\n",
              "  </div>\n",
              "  "
            ]
          },
          "metadata": {},
          "execution_count": 122
        }
      ],
      "source": [
        "# sub의 'y' 변수에 예측값을 넣습니다.\n",
        "# sub를 확인합니다.\n",
        "sub['y'] = prediction_xgb\n",
        "sub"
      ]
    },
    {
      "cell_type": "code",
      "execution_count": 123,
      "id": "t_dgHPshhF-9",
      "metadata": {
        "id": "t_dgHPshhF-9"
      },
      "outputs": [],
      "source": [
        "# sub를 csv 파일로 내보냅니다.\n",
        "sub.to_csv(f'{base_path}/sub_xgb_{score}.csv', index=False)"
      ]
    },
    {
      "cell_type": "markdown",
      "id": "2x5_wnRZi_MC",
      "metadata": {
        "id": "2x5_wnRZi_MC"
      },
      "source": [
        "## lightgbm 모델\n",
        "* XGBoost에 비해 성능은 비슷하지만 학습 시간을 단축시킨 모델이다.\n",
        "* XGBoost에 비해 더 적은 시간, 더 적은 메모리를 사용한다.\n",
        "\n",
        "### LightGBM Parameters\n",
        "\n",
        "* max_depth : 나무의 깊이. 단일 결정나무에서는 충분히 데이터를 고려하기 위해 depth를 적당한 깊이로 만들지만, 보정되기 때문에 부스팅에서는 깊이 하나짜리도 만드는 등, 깊이가 짧은것이 크리티컬하지 않음\n",
        "* min_data_in_leaf : 잎이 가질 수 있는 최소 레코드 수, 기본값은 20, 과적합을 다루기 위해 사용\n",
        "feature_fraction : 부스팅 대상 모델이 랜덤포레스트일때, 랜덤포레스트는 feature의 일부만을 선택하여 훈련하는데, 이를 통제하기 위한 파라미터, 0.8이라면 LightGBM이 각 반복에서 80%의 파라미터를 무작위로 선택하여 트리를 생성\n",
        "* bagging_fraction : 데이터의 일부만을 사용하는 bagging의 비율\n",
        "예를들어 오버피팅을 방지하기 위해 데이터의 일부만을 가져와서 훈련시키는데, 이는 오버피팅을 방지하며 약한예측기를 모두 합칠경우는 오히려 예측성능이 좋아질 수 있음\n",
        "훈련 속도를 높이고 과적합을 방지하는 데 사용\n",
        "* early_stopping_round : 더이상 validation데이터에서 정확도가 좋아지지 않으면 멈춰버림 훈련데이터는 거의 에러율이 0에 가깝게 좋아지기 마련인데, validation데이터는 훈련에 사용되지 않기때문에 일정이상 좋아지지 않기 때문\n",
        "* lambda : 정규화에 사용되는 파라미터, 일반적인 값의 범위는 0 ~ 1\n",
        "* min_gain_to_split : 분기가 되는 최소 정보이득, 트리에서 유용한 분할 수를 제어하는 데 사용\n",
        "* max_cat_group : 범주형 변수가 많으면, 하나로 퉁쳐서 처리하게끔 만드는 최소단위\n",
        "\n",
        "* objective : lightgbm은 regression, binary, multiclass 모두 가능\n",
        "* boosting: gbdt(gradient boosting decision tree), rf(random forest), dart(dropouts meet multiple additive regression trees), goss(Gradient-based One-Side Sampling)\n",
        "* num_leaves: 결정나무에 있을 수 있는 최대 잎사귀 수. 기본값은 0.31\n",
        "* learning_rate : 각 예측기마다의 학습률 learning_rate은 아래의 num_boost_round와도 맞춰주어야 함\n",
        "* num_boost_round : boosting을 얼마나 돌릴지 지정한다. 보통 100정도면 너무 빠르게 끝나며, 시험용이 아니면 1000정도 설정하며,  early_stopping_round가 지정되어있으면 더이상 진전이 없을 경우 알아서 멈춤\n",
        "* device : gpu, cpu\n",
        "* metric: loss를 측정하기 위한 기준. mae (mean absolute error), mse (mean squared error), 등\n",
        "* max_bin : 최대 bin\n",
        "* categorical_feature : 범주형 변수 지정\n",
        "* ignore_column : 컬럼을 무시한다. 무시하지 않을경우 모두 training에 넣는데, 뭔가 남겨놓아야할 컬럼이 있으면 설정\n",
        "* save_binary: True 메모리 절약\n",
        "\n",
        "https://lightgbm.readthedocs.io/en/latest/Parameters.html"
      ]
    },
    {
      "cell_type": "code",
      "execution_count": 152,
      "id": "vyjPsQ7vjQs4",
      "metadata": {
        "id": "vyjPsQ7vjQs4",
        "colab": {
          "base_uri": "https://localhost:8080/"
        },
        "outputId": "e18c7727-8d30-493e-e06a-bc6f9aa9aa50"
      },
      "outputs": [
        {
          "output_type": "execute_result",
          "data": {
            "text/plain": [
              "LGBMRegressor(boosting_type='goss', learning_rate=0.01, max_depth=1,\n",
              "              n_estimators=1400, random_state=42)"
            ]
          },
          "metadata": {},
          "execution_count": 152
        }
      ],
      "source": [
        "# ligthgbm은 xgboost에서 시간과 메모리 효율을 높인 라이브러리입니다.\n",
        "# lightgbm 모델을 생성합니다.\n",
        "import lightgbm as lgbm\n",
        "\n",
        "model_lgbm = lgbm.LGBMRegressor(boosting_type=\"goss\", learning_rate=0.01, \n",
        "                                max_depth=1, random_state=42, \n",
        "                                n_estimators=1400)\n",
        "model_lgbm"
      ]
    },
    {
      "cell_type": "code",
      "execution_count": 153,
      "id": "vaCDA9pklT4-",
      "metadata": {
        "id": "vaCDA9pklT4-",
        "colab": {
          "base_uri": "https://localhost:8080/"
        },
        "outputId": "17d00ac2-b842-4af0-86ad-c1afe6ec5652"
      },
      "outputs": [
        {
          "output_type": "execute_result",
          "data": {
            "text/plain": [
              "LGBMRegressor(boosting_type='goss', learning_rate=0.01, max_depth=1,\n",
              "              n_estimators=1400, random_state=42)"
            ]
          },
          "metadata": {},
          "execution_count": 153
        }
      ],
      "source": [
        "# 모델을 학습시킵니다.\n",
        "model_lgbm.fit(X_train, y_train)"
      ]
    },
    {
      "cell_type": "code",
      "source": [
        "lgbm.plot_importance(model_lgbm)"
      ],
      "metadata": {
        "colab": {
          "base_uri": "https://localhost:8080/",
          "height": 312
        },
        "id": "0Mln4w8zqrDX",
        "outputId": "18df0034-5457-4a8d-93df-fe4649c32d79"
      },
      "id": "0Mln4w8zqrDX",
      "execution_count": 154,
      "outputs": [
        {
          "output_type": "execute_result",
          "data": {
            "text/plain": [
              "<matplotlib.axes._subplots.AxesSubplot at 0x7efc0dae41d0>"
            ]
          },
          "metadata": {},
          "execution_count": 154
        },
        {
          "output_type": "display_data",
          "data": {
            "text/plain": [
              "<Figure size 432x288 with 1 Axes>"
            ],
            "image/png": "[encoded data removed]"
          },
          "metadata": {
            "needs_background": "light"
          }
        }
      ]
    },
    {
      "cell_type": "code",
      "source": [
        "lgbm.plot_tree(model_lgbm, figsize=(20, 20), tree_index=0, \n",
        "               show_info=['split_gain', 'internal_value', 'internal_count', 'leaf_count'])"
      ],
      "metadata": {
        "colab": {
          "base_uri": "https://localhost:8080/",
          "height": 492
        },
        "id": "CgY8Fagwq0_Z",
        "outputId": "bf28486e-066e-4356-e69d-d5ea971b71c5"
      },
      "id": "CgY8Fagwq0_Z",
      "execution_count": 155,
      "outputs": [
        {
          "output_type": "execute_result",
          "data": {
            "text/plain": [
              "<matplotlib.axes._subplots.AxesSubplot at 0x7efc0d87f750>"
            ]
          },
          "metadata": {},
          "execution_count": 155
        },
        {
          "output_type": "display_data",
          "data": {
            "text/plain": [
              "<Figure size 1440x1440 with 1 Axes>"
            ],
            "image/png": "[encoded data removed]"
          },
          "metadata": {
            "needs_background": "light"
          }
        }
      ]
    },
    {
      "cell_type": "code",
      "execution_count": 156,
      "id": "7V40YOhalVm2",
      "metadata": {
        "id": "7V40YOhalVm2",
        "colab": {
          "base_uri": "https://localhost:8080/"
        },
        "outputId": "bd74b670-5e40-42af-c01a-4aa47405ffd3"
      },
      "outputs": [
        {
          "output_type": "stream",
          "name": "stdout",
          "text": [
            "모델 : LGBMRegressor(boosting_type='goss', learning_rate=0.01, max_depth=1,\n",
            "              n_estimators=1400, random_state=42)\n",
            "학습용 세트 정확도: -28.898\n",
            "검증 세트 정확도: -28.949\n"
          ]
        }
      ],
      "source": [
        "# 모델에 대한 점수를 산출합니다.\n",
        "score = scoreModel(model_lgbm,X_train, X_valid, y_train, y_valid)"
      ]
    },
    {
      "cell_type": "code",
      "execution_count": 157,
      "id": "SBUy-hUVlXAC",
      "metadata": {
        "id": "SBUy-hUVlXAC",
        "colab": {
          "base_uri": "https://localhost:8080/"
        },
        "outputId": "c9598d41-6323-4f6f-841f-6530211ceaff"
      },
      "outputs": [
        {
          "output_type": "execute_result",
          "data": {
            "text/plain": [
              "array([ 88.21585966, 145.6622657 , -31.88006667, ...,  70.17384092,\n",
              "       215.46761438, 240.95281937])"
            ]
          },
          "metadata": {},
          "execution_count": 157
        }
      ],
      "source": [
        "# 모델의 예측값을 변수에 담습니다.\n",
        "# 예측값을 확인합니다.\n",
        "prediction_lgbm = model_lgbm.predict(test)\n",
        "prediction_lgbm"
      ]
    },
    {
      "cell_type": "code",
      "execution_count": 150,
      "id": "yxCBVdiOlaPu",
      "metadata": {
        "id": "yxCBVdiOlaPu",
        "colab": {
          "base_uri": "https://localhost:8080/",
          "height": 424
        },
        "outputId": "9a15b0fe-0547-452b-9b85-cadeb81ec81c"
      },
      "outputs": [
        {
          "output_type": "execute_result",
          "data": {
            "text/plain": [
              "        ID           y\n",
              "0        1   79.279507\n",
              "1        2   95.613356\n",
              "2        3   80.018193\n",
              "3        4   79.279507\n",
              "4        5  109.759799\n",
              "...    ...         ...\n",
              "4204  8410  106.597150\n",
              "4205  8411   95.613356\n",
              "4206  8413   92.492363\n",
              "4207  8414  110.439844\n",
              "4208  8416   95.613356\n",
              "\n",
              "[4209 rows x 2 columns]"
            ],
            "text/html": [
              "\n",
              "  <div id=\"df-252f27c7-b1f5-4b9e-8451-0cf838c38b87\">\n",
              "    <div class=\"colab-df-container\">\n",
              "      <div>\n",
              "<style scoped>\n",
              "    .dataframe tbody tr th:only-of-type {\n",
              "        vertical-align: middle;\n",
              "    }\n",
              "\n",
              "    .dataframe tbody tr th {\n",
              "        vertical-align: top;\n",
              "    }\n",
              "\n",
              "    .dataframe thead th {\n",
              "        text-align: right;\n",
              "    }\n",
              "</style>\n",
              "<table border=\"1\" class=\"dataframe\">\n",
              "  <thead>\n",
              "    <tr style=\"text-align: right;\">\n",
              "      <th></th>\n",
              "      <th>ID</th>\n",
              "      <th>y</th>\n",
              "    </tr>\n",
              "  </thead>\n",
              "  <tbody>\n",
              "    <tr>\n",
              "      <th>0</th>\n",
              "      <td>1</td>\n",
              "      <td>79.279507</td>\n",
              "    </tr>\n",
              "    <tr>\n",
              "      <th>1</th>\n",
              "      <td>2</td>\n",
              "      <td>95.613356</td>\n",
              "    </tr>\n",
              "    <tr>\n",
              "      <th>2</th>\n",
              "      <td>3</td>\n",
              "      <td>80.018193</td>\n",
              "    </tr>\n",
              "    <tr>\n",
              "      <th>3</th>\n",
              "      <td>4</td>\n",
              "      <td>79.279507</td>\n",
              "    </tr>\n",
              "    <tr>\n",
              "      <th>4</th>\n",
              "      <td>5</td>\n",
              "      <td>109.759799</td>\n",
              "    </tr>\n",
              "    <tr>\n",
              "      <th>...</th>\n",
              "      <td>...</td>\n",
              "      <td>...</td>\n",
              "    </tr>\n",
              "    <tr>\n",
              "      <th>4204</th>\n",
              "      <td>8410</td>\n",
              "      <td>106.597150</td>\n",
              "    </tr>\n",
              "    <tr>\n",
              "      <th>4205</th>\n",
              "      <td>8411</td>\n",
              "      <td>95.613356</td>\n",
              "    </tr>\n",
              "    <tr>\n",
              "      <th>4206</th>\n",
              "      <td>8413</td>\n",
              "      <td>92.492363</td>\n",
              "    </tr>\n",
              "    <tr>\n",
              "      <th>4207</th>\n",
              "      <td>8414</td>\n",
              "      <td>110.439844</td>\n",
              "    </tr>\n",
              "    <tr>\n",
              "      <th>4208</th>\n",
              "      <td>8416</td>\n",
              "      <td>95.613356</td>\n",
              "    </tr>\n",
              "  </tbody>\n",
              "</table>\n",
              "<p>4209 rows × 2 columns</p>\n",
              "</div>\n",
              "      <button class=\"colab-df-convert\" onclick=\"convertToInteractive('df-252f27c7-b1f5-4b9e-8451-0cf838c38b87')\"\n",
              "              title=\"Convert this dataframe to an interactive table.\"\n",
              "              style=\"display:none;\">\n",
              "        \n",
              "  <svg xmlns=\"http://www.w3.org/2000/svg\" height=\"24px\"viewBox=\"0 0 24 24\"\n",
              "       width=\"24px\">\n",
              "    <path d=\"M0 0h24v24H0V0z\" fill=\"none\"/>\n",
              "    <path d=\"M18.56 5.44l.94 2.06.94-2.06 2.06-.94-2.06-.94-.94-2.06-.94 2.06-2.06.94zm-11 1L8.5 8.5l.94-2.06 2.06-.94-2.06-.94L8.5 2.5l-.94 2.06-2.06.94zm10 10l.94 2.06.94-2.06 2.06-.94-2.06-.94-.94-2.06-.94 2.06-2.06.94z\"/><path d=\"M17.41 7.96l-1.37-1.37c-.4-.4-.92-.59-1.43-.59-.52 0-1.04.2-1.43.59L10.3 9.45l-7.72 7.72c-.78.78-.78 2.05 0 2.83L4 21.41c.39.39.9.59 1.41.59.51 0 1.02-.2 1.41-.59l7.78-7.78 2.81-2.81c.8-.78.8-2.07 0-2.86zM5.41 20L4 18.59l7.72-7.72 1.47 1.35L5.41 20z\"/>\n",
              "  </svg>\n",
              "      </button>\n",
              "      \n",
              "  <style>\n",
              "    .colab-df-container {\n",
              "      display:flex;\n",
              "      flex-wrap:wrap;\n",
              "      gap: 12px;\n",
              "    }\n",
              "\n",
              "    .colab-df-convert {\n",
              "      background-color: #E8F0FE;\n",
              "      border: none;\n",
              "      border-radius: 50%;\n",
              "      cursor: pointer;\n",
              "      display: none;\n",
              "      fill: #1967D2;\n",
              "      height: 32px;\n",
              "      padding: 0 0 0 0;\n",
              "      width: 32px;\n",
              "    }\n",
              "\n",
              "    .colab-df-convert:hover {\n",
              "      background-color: #E2EBFA;\n",
              "      box-shadow: 0px 1px 2px rgba(60, 64, 67, 0.3), 0px 1px 3px 1px rgba(60, 64, 67, 0.15);\n",
              "      fill: #174EA6;\n",
              "    }\n",
              "\n",
              "    [theme=dark] .colab-df-convert {\n",
              "      background-color: #3B4455;\n",
              "      fill: #D2E3FC;\n",
              "    }\n",
              "\n",
              "    [theme=dark] .colab-df-convert:hover {\n",
              "      background-color: #434B5C;\n",
              "      box-shadow: 0px 1px 3px 1px rgba(0, 0, 0, 0.15);\n",
              "      filter: drop-shadow(0px 1px 2px rgba(0, 0, 0, 0.3));\n",
              "      fill: #FFFFFF;\n",
              "    }\n",
              "  </style>\n",
              "\n",
              "      <script>\n",
              "        const buttonEl =\n",
              "          document.querySelector('#df-252f27c7-b1f5-4b9e-8451-0cf838c38b87 button.colab-df-convert');\n",
              "        buttonEl.style.display =\n",
              "          google.colab.kernel.accessAllowed ? 'block' : 'none';\n",
              "\n",
              "        async function convertToInteractive(key) {\n",
              "          const element = document.querySelector('#df-252f27c7-b1f5-4b9e-8451-0cf838c38b87');\n",
              "          const dataTable =\n",
              "            await google.colab.kernel.invokeFunction('convertToInteractive',\n",
              "                                                     [key], {});\n",
              "          if (!dataTable) return;\n",
              "\n",
              "          const docLinkHtml = 'Like what you see? Visit the ' +\n",
              "            '<a target=\"_blank\" href=https://colab.research.google.com/notebooks/data_table.ipynb>data table notebook</a>'\n",
              "            + ' to learn more about interactive tables.';\n",
              "          element.innerHTML = '';\n",
              "          dataTable['output_type'] = 'display_data';\n",
              "          await google.colab.output.renderOutput(dataTable, element);\n",
              "          const docLink = document.createElement('div');\n",
              "          docLink.innerHTML = docLinkHtml;\n",
              "          element.appendChild(docLink);\n",
              "        }\n",
              "      </script>\n",
              "    </div>\n",
              "  </div>\n",
              "  "
            ]
          },
          "metadata": {},
          "execution_count": 150
        }
      ],
      "source": [
        "# sub의 'y' 변수에 예측값을 넣습니다.\n",
        "# sub를 확인합니다.\n",
        "sub['y'] = prediction_lgbm\n",
        "sub"
      ]
    },
    {
      "cell_type": "code",
      "execution_count": null,
      "id": "KLDi9JLbRFqZ",
      "metadata": {
        "id": "KLDi9JLbRFqZ"
      },
      "outputs": [],
      "source": [
        "# plot_importance\n"
      ]
    },
    {
      "cell_type": "code",
      "execution_count": 158,
      "id": "fccWDmijGjf_",
      "metadata": {
        "id": "fccWDmijGjf_"
      },
      "outputs": [],
      "source": [
        "# plot_tree\n",
        "# show_info=['split_gain', 'internal_count', 'leaf_count']\n"
      ]
    },
    {
      "cell_type": "code",
      "execution_count": 159,
      "id": "VkXodO-kldji",
      "metadata": {
        "id": "VkXodO-kldji"
      },
      "outputs": [],
      "source": [
        "# sub를 csv 파일로 내보냅니다.\n",
        "sub.to_csv(f'{base_path}/sub_lgbm_{score}.csv', index=False)"
      ]
    },
    {
      "cell_type": "markdown",
      "id": "8RUe_GLGhIlx",
      "metadata": {
        "id": "8RUe_GLGhIlx"
      },
      "source": [
        "## CatBoost 모델\n",
        "* catboost는 기존 GBT의 느린 학습 속도와 과대적합 문제를 개선한 모델입니다.\n",
        "* 과대적합이란 모델이 지나친 학습으로 인해 경향이 학습용 세트에 쏠려 있는 현상을 말합니다.\n",
        "* 학습용 세트에서는 예측을 잘 하지만(특수한 상황), 일반적인 상황에서 예측 능력이 떨어지는 것입니다.\n",
        "\n",
        "### 주요 파라미터\n",
        "* cat_features \n",
        "    * 범주형 변수 인덱스 값\n",
        "* loss_function\n",
        "    * 손실 함수를 지정합니다.\n",
        "* eval_metric\n",
        "    * 평가 메트릭을 지정합니다.\n",
        "* iterations\n",
        "    * 머신러닝 중 만들어질 수 있는 트리의 최대 갯수를 지정합니다.\n",
        "* learning_rate\n",
        "    * 부스팅 과정 중 학습률을 지정합니다.\n",
        "* subsample\n",
        "    * 배깅을 위한 서브샘플 비율을 지정합니다.\n",
        "* max_leaves\n",
        "    * 최종 트리의 최대 리프 개수를 지정합니다.\n",
        "* https://catboost.ai/en/docs/references/training-parameters/common"
      ]
    },
    {
      "cell_type": "code",
      "execution_count": 185,
      "id": "JC7EKPUshMHQ",
      "metadata": {
        "id": "JC7EKPUshMHQ",
        "colab": {
          "base_uri": "https://localhost:8080/"
        },
        "outputId": "dbf7704d-80ee-4016-aadf-aeb6f138df49"
      },
      "outputs": [
        {
          "output_type": "execute_result",
          "data": {
            "text/plain": [
              "<catboost.core.CatBoostRegressor at 0x7efc0ddf1590>"
            ]
          },
          "metadata": {},
          "execution_count": 185
        }
      ],
      "source": [
        "# catboost는 gradient boosting tree(GBT)에서 카테고리형 변수와 과대적합 방지를 구현한 라이브러리입니다.\n",
        "# catboost 모델을 생성합니다.\n",
        "# model_cat\n",
        "import catboost\n",
        "\n",
        "model_cat = catboost.CatBoostRegressor(eval_metric='R2', verbose=False)\n",
        "model_cat"
      ]
    },
    {
      "cell_type": "code",
      "execution_count": 179,
      "id": "BOU6ApCqgZha",
      "metadata": {
        "id": "BOU6ApCqgZha"
      },
      "outputs": [],
      "source": [
        "# SymmetricTree - 대칭트리\n",
        "# Lossguide - 리프별 \n",
        "# Depthwise - 깊이별\n",
        "from scipy.stats import randint\n",
        "from sklearn.utils.fixes import loguniform\n",
        "\n",
        "param_grid = {\n",
        "    'n_estimators': randint(100, 300),\n",
        "    'depth': randint(1, 5),\n",
        "    'learning_rate': loguniform(1e-3, 0.1),\n",
        "    'min_child_samples': randint(10, 40),\n",
        "    'grow_policy': ['SymmetricTree', 'Lossguide', 'Depthwise']\n",
        "}"
      ]
    },
    {
      "cell_type": "code",
      "execution_count": null,
      "id": "HvqutIH8geEe",
      "metadata": {
        "id": "HvqutIH8geEe"
      },
      "outputs": [],
      "source": [
        "# randomized_search\n",
        "result = model_cat.randomized_search(param_grid, X_train, y_train, cv=3, n_iter=10)\n",
        "result"
      ]
    },
    {
      "cell_type": "code",
      "source": [
        "df_result = pd.DataFrame(result)\n",
        "df_result = df_result.loc[[\"train-R2-mean\", \"test-R2-mean\"], \"cv_results\"]\n",
        "df_result"
      ],
      "metadata": {
        "colab": {
          "base_uri": "https://localhost:8080/"
        },
        "id": "Ye8aGrM0xtMT",
        "outputId": "ca5b8fc3-ae25-464f-96f6-4783ce3ef8f8"
      },
      "id": "Ye8aGrM0xtMT",
      "execution_count": 191,
      "outputs": [
        {
          "output_type": "execute_result",
          "data": {
            "text/plain": [
              "train-R2-mean    [-59.21220527004606, -53.85562366333166, -48.9...\n",
              "test-R2-mean     [-59.262108543674834, -53.91728084033961, -49....\n",
              "Name: cv_results, dtype: object"
            ]
          },
          "metadata": {},
          "execution_count": 191
        }
      ]
    },
    {
      "cell_type": "code",
      "source": [
        "pd.DataFrame({\"train-R2-mean\": df_result.loc[\"train-R2-mean\"], \n",
        "              \"test-R2-mean\" :  df_result.loc[\"test-R2-mean\"] }).plot()"
      ],
      "metadata": {
        "colab": {
          "base_uri": "https://localhost:8080/",
          "height": 282
        },
        "id": "h-Ly0H89yMB-",
        "outputId": "8c773663-e8d8-4384-f711-ddc95792e518"
      },
      "id": "h-Ly0H89yMB-",
      "execution_count": 195,
      "outputs": [
        {
          "output_type": "execute_result",
          "data": {
            "text/plain": [
              "<matplotlib.axes._subplots.AxesSubplot at 0x7efc0039c950>"
            ]
          },
          "metadata": {},
          "execution_count": 195
        },
        {
          "output_type": "display_data",
          "data": {
            "text/plain": [
              "<Figure size 432x288 with 1 Axes>"
            ],
            "image/png": "[encoded data removed]"
          },
          "metadata": {
            "needs_background": "light"
          }
        }
      ]
    },
    {
      "cell_type": "code",
      "execution_count": 181,
      "id": "F7BcIufuhMsK",
      "metadata": {
        "id": "F7BcIufuhMsK",
        "colab": {
          "base_uri": "https://localhost:8080/"
        },
        "outputId": "022f7dab-0281-4c35-8c7c-86519d8390c8"
      },
      "outputs": [
        {
          "output_type": "execute_result",
          "data": {
            "text/plain": [
              "<catboost.core.CatBoostRegressor at 0x7efc012cfd50>"
            ]
          },
          "metadata": {},
          "execution_count": 181
        }
      ],
      "source": [
        "# 모델을 학습시킵니다.\n",
        "model_cat.fit(X_train, y_train)"
      ]
    },
    {
      "cell_type": "code",
      "execution_count": 182,
      "id": "RpWdDvLNhO56",
      "metadata": {
        "id": "RpWdDvLNhO56",
        "colab": {
          "base_uri": "https://localhost:8080/"
        },
        "outputId": "106ee427-09bb-4ad7-a3e1-46ce6d8993e5"
      },
      "outputs": [
        {
          "output_type": "stream",
          "name": "stdout",
          "text": [
            "모델 : <catboost.core.CatBoostRegressor object at 0x7efc012cfd50>\n",
            "학습용 세트 정확도: 0.777\n",
            "검증 세트 정확도: 0.491\n"
          ]
        }
      ],
      "source": [
        "# 모델에 대한 점수를 산출합니다.\n",
        "score = scoreModel(model_cat, X_train, X_valid, y_train, y_valid)"
      ]
    },
    {
      "cell_type": "code",
      "execution_count": 183,
      "id": "FttVp47RhQAL",
      "metadata": {
        "id": "FttVp47RhQAL",
        "colab": {
          "base_uri": "https://localhost:8080/"
        },
        "outputId": "aaae3200-ce9d-4cf3-8e33-c856bb85eee9"
      },
      "outputs": [
        {
          "output_type": "execute_result",
          "data": {
            "text/plain": [
              "array([ 91.21718364, 103.85164279,  90.18183113, ...,  91.61640805,\n",
              "       109.62007321,  93.81333062])"
            ]
          },
          "metadata": {},
          "execution_count": 183
        }
      ],
      "source": [
        "# 모델의 예측값을 변수에 담습니다.\n",
        "# 예측값을 확인합니다.\n",
        "prediction_cat = model_cat.predict(test)\n",
        "prediction_cat"
      ]
    },
    {
      "cell_type": "code",
      "execution_count": 184,
      "id": "SpLsVbbqhRCZ",
      "metadata": {
        "id": "SpLsVbbqhRCZ",
        "colab": {
          "base_uri": "https://localhost:8080/",
          "height": 424
        },
        "outputId": "1734b585-e228-4bdb-88e3-3e809cd77b23"
      },
      "outputs": [
        {
          "output_type": "execute_result",
          "data": {
            "text/plain": [
              "        ID           y\n",
              "0        1   91.217184\n",
              "1        2  103.851643\n",
              "2        3   90.181831\n",
              "3        4   74.486344\n",
              "4        5  111.057291\n",
              "...    ...         ...\n",
              "4204  8410  107.189781\n",
              "4205  8411   94.957424\n",
              "4206  8413   91.616408\n",
              "4207  8414  109.620073\n",
              "4208  8416   93.813331\n",
              "\n",
              "[4209 rows x 2 columns]"
            ],
            "text/html": [
              "\n",
              "  <div id=\"df-2faf1b2d-02b0-4560-8910-4036a0be4377\">\n",
              "    <div class=\"colab-df-container\">\n",
              "      <div>\n",
              "<style scoped>\n",
              "    .dataframe tbody tr th:only-of-type {\n",
              "        vertical-align: middle;\n",
              "    }\n",
              "\n",
              "    .dataframe tbody tr th {\n",
              "        vertical-align: top;\n",
              "    }\n",
              "\n",
              "    .dataframe thead th {\n",
              "        text-align: right;\n",
              "    }\n",
              "</style>\n",
              "<table border=\"1\" class=\"dataframe\">\n",
              "  <thead>\n",
              "    <tr style=\"text-align: right;\">\n",
              "      <th></th>\n",
              "      <th>ID</th>\n",
              "      <th>y</th>\n",
              "    </tr>\n",
              "  </thead>\n",
              "  <tbody>\n",
              "    <tr>\n",
              "      <th>0</th>\n",
              "      <td>1</td>\n",
              "      <td>91.217184</td>\n",
              "    </tr>\n",
              "    <tr>\n",
              "      <th>1</th>\n",
              "      <td>2</td>\n",
              "      <td>103.851643</td>\n",
              "    </tr>\n",
              "    <tr>\n",
              "      <th>2</th>\n",
              "      <td>3</td>\n",
              "      <td>90.181831</td>\n",
              "    </tr>\n",
              "    <tr>\n",
              "      <th>3</th>\n",
              "      <td>4</td>\n",
              "      <td>74.486344</td>\n",
              "    </tr>\n",
              "    <tr>\n",
              "      <th>4</th>\n",
              "      <td>5</td>\n",
              "      <td>111.057291</td>\n",
              "    </tr>\n",
              "    <tr>\n",
              "      <th>...</th>\n",
              "      <td>...</td>\n",
              "      <td>...</td>\n",
              "    </tr>\n",
              "    <tr>\n",
              "      <th>4204</th>\n",
              "      <td>8410</td>\n",
              "      <td>107.189781</td>\n",
              "    </tr>\n",
              "    <tr>\n",
              "      <th>4205</th>\n",
              "      <td>8411</td>\n",
              "      <td>94.957424</td>\n",
              "    </tr>\n",
              "    <tr>\n",
              "      <th>4206</th>\n",
              "      <td>8413</td>\n",
              "      <td>91.616408</td>\n",
              "    </tr>\n",
              "    <tr>\n",
              "      <th>4207</th>\n",
              "      <td>8414</td>\n",
              "      <td>109.620073</td>\n",
              "    </tr>\n",
              "    <tr>\n",
              "      <th>4208</th>\n",
              "      <td>8416</td>\n",
              "      <td>93.813331</td>\n",
              "    </tr>\n",
              "  </tbody>\n",
              "</table>\n",
              "<p>4209 rows × 2 columns</p>\n",
              "</div>\n",
              "      <button class=\"colab-df-convert\" onclick=\"convertToInteractive('df-2faf1b2d-02b0-4560-8910-4036a0be4377')\"\n",
              "              title=\"Convert this dataframe to an interactive table.\"\n",
              "              style=\"display:none;\">\n",
              "        \n",
              "  <svg xmlns=\"http://www.w3.org/2000/svg\" height=\"24px\"viewBox=\"0 0 24 24\"\n",
              "       width=\"24px\">\n",
              "    <path d=\"M0 0h24v24H0V0z\" fill=\"none\"/>\n",
              "    <path d=\"M18.56 5.44l.94 2.06.94-2.06 2.06-.94-2.06-.94-.94-2.06-.94 2.06-2.06.94zm-11 1L8.5 8.5l.94-2.06 2.06-.94-2.06-.94L8.5 2.5l-.94 2.06-2.06.94zm10 10l.94 2.06.94-2.06 2.06-.94-2.06-.94-.94-2.06-.94 2.06-2.06.94z\"/><path d=\"M17.41 7.96l-1.37-1.37c-.4-.4-.92-.59-1.43-.59-.52 0-1.04.2-1.43.59L10.3 9.45l-7.72 7.72c-.78.78-.78 2.05 0 2.83L4 21.41c.39.39.9.59 1.41.59.51 0 1.02-.2 1.41-.59l7.78-7.78 2.81-2.81c.8-.78.8-2.07 0-2.86zM5.41 20L4 18.59l7.72-7.72 1.47 1.35L5.41 20z\"/>\n",
              "  </svg>\n",
              "      </button>\n",
              "      \n",
              "  <style>\n",
              "    .colab-df-container {\n",
              "      display:flex;\n",
              "      flex-wrap:wrap;\n",
              "      gap: 12px;\n",
              "    }\n",
              "\n",
              "    .colab-df-convert {\n",
              "      background-color: #E8F0FE;\n",
              "      border: none;\n",
              "      border-radius: 50%;\n",
              "      cursor: pointer;\n",
              "      display: none;\n",
              "      fill: #1967D2;\n",
              "      height: 32px;\n",
              "      padding: 0 0 0 0;\n",
              "      width: 32px;\n",
              "    }\n",
              "\n",
              "    .colab-df-convert:hover {\n",
              "      background-color: #E2EBFA;\n",
              "      box-shadow: 0px 1px 2px rgba(60, 64, 67, 0.3), 0px 1px 3px 1px rgba(60, 64, 67, 0.15);\n",
              "      fill: #174EA6;\n",
              "    }\n",
              "\n",
              "    [theme=dark] .colab-df-convert {\n",
              "      background-color: #3B4455;\n",
              "      fill: #D2E3FC;\n",
              "    }\n",
              "\n",
              "    [theme=dark] .colab-df-convert:hover {\n",
              "      background-color: #434B5C;\n",
              "      box-shadow: 0px 1px 3px 1px rgba(0, 0, 0, 0.15);\n",
              "      filter: drop-shadow(0px 1px 2px rgba(0, 0, 0, 0.3));\n",
              "      fill: #FFFFFF;\n",
              "    }\n",
              "  </style>\n",
              "\n",
              "      <script>\n",
              "        const buttonEl =\n",
              "          document.querySelector('#df-2faf1b2d-02b0-4560-8910-4036a0be4377 button.colab-df-convert');\n",
              "        buttonEl.style.display =\n",
              "          google.colab.kernel.accessAllowed ? 'block' : 'none';\n",
              "\n",
              "        async function convertToInteractive(key) {\n",
              "          const element = document.querySelector('#df-2faf1b2d-02b0-4560-8910-4036a0be4377');\n",
              "          const dataTable =\n",
              "            await google.colab.kernel.invokeFunction('convertToInteractive',\n",
              "                                                     [key], {});\n",
              "          if (!dataTable) return;\n",
              "\n",
              "          const docLinkHtml = 'Like what you see? Visit the ' +\n",
              "            '<a target=\"_blank\" href=https://colab.research.google.com/notebooks/data_table.ipynb>data table notebook</a>'\n",
              "            + ' to learn more about interactive tables.';\n",
              "          element.innerHTML = '';\n",
              "          dataTable['output_type'] = 'display_data';\n",
              "          await google.colab.output.renderOutput(dataTable, element);\n",
              "          const docLink = document.createElement('div');\n",
              "          docLink.innerHTML = docLinkHtml;\n",
              "          element.appendChild(docLink);\n",
              "        }\n",
              "      </script>\n",
              "    </div>\n",
              "  </div>\n",
              "  "
            ]
          },
          "metadata": {},
          "execution_count": 184
        }
      ],
      "source": [
        "# sub의 'y' 변수에 예측값을 넣습니다.\n",
        "# sub를 확인합니다.\n",
        "sub['y'] = prediction_cat\n",
        "sub"
      ]
    },
    {
      "cell_type": "code",
      "execution_count": 175,
      "id": "uhzz3cgUhTtt",
      "metadata": {
        "id": "uhzz3cgUhTtt"
      },
      "outputs": [],
      "source": [
        "# sub를 csv 파일로 내보냅니다.\n",
        "sub.to_csv(f'{base_path}/sub_cat_{score}.csv', index=False)"
      ]
    },
    {
      "cell_type": "markdown",
      "id": "c90c737b",
      "metadata": {
        "id": "c90c737b"
      },
      "source": [
        "## 제출\n",
        "* 지금까지 각 모델로 예측한 값을 Kaggle에 제출합니다.\n",
        "* 테스트 세트 정확도와 public score, private score를 비교합니다.\n",
        "* 리더보드에서 다른 참가자의 점수도 확인해봅니다.\n",
        "\n",
        "https://www.kaggle.com/c/mercedes-benz-greener-manufacturing\n",
        "\n",
        "* 점수에는 public score와 private score가 있습니다.\n",
        "* 대회마다 public score와 private score를 매기는 방식이 다 다르지만, 일반적으로 public score는 전체 데이터 중 일부만을 샘플링하여 채점하고, private score는 전체 데이터 중 더 많은 데이터를 대상으로 채점합니다.\n",
        "* 참가자들이 얻은 public score는 리더보드에 공개되며 이를 바탕으로 현재 위치를 가늠할 수 있습니다.\n",
        "* 그러나 최종 결과는 private score로 결정됩니다."
      ]
    },
    {
      "cell_type": "markdown",
      "source": [
        "## 범주형 데이터 다루기"
      ],
      "metadata": {
        "id": "PrE3ITXF3txX"
      },
      "id": "PrE3ITXF3txX"
    },
    {
      "cell_type": "code",
      "execution_count": 219,
      "id": "a19ee9dc",
      "metadata": {
        "id": "a19ee9dc",
        "colab": {
          "base_uri": "https://localhost:8080/",
          "height": 141
        },
        "outputId": "64737ae2-ff8d-4d15-e40f-89055a39b71c"
      },
      "outputs": [
        {
          "output_type": "execute_result",
          "data": {
            "text/plain": [
              "        y X0 X1  X2 X3 X4 X5 X6 X8  X10  ...  X375  X376  X377  X378  X379  \\\n",
              "0  130.81  k  v  at  a  d  u  j  o    0  ...     0     0     1     0     0   \n",
              "1   88.53  k  t  av  e  d  y  l  o    0  ...     1     0     0     0     0   \n",
              "\n",
              "   X380  X382  X383  X384  X385  \n",
              "0     0     0     0     0     0  \n",
              "1     0     0     0     0     0  \n",
              "\n",
              "[2 rows x 377 columns]"
            ],
            "text/html": [
              "\n",
              "  <div id=\"df-525d7cef-c9e1-42cc-8d27-bd54bcc32147\">\n",
              "    <div class=\"colab-df-container\">\n",
              "      <div>\n",
              "<style scoped>\n",
              "    .dataframe tbody tr th:only-of-type {\n",
              "        vertical-align: middle;\n",
              "    }\n",
              "\n",
              "    .dataframe tbody tr th {\n",
              "        vertical-align: top;\n",
              "    }\n",
              "\n",
              "    .dataframe thead th {\n",
              "        text-align: right;\n",
              "    }\n",
              "</style>\n",
              "<table border=\"1\" class=\"dataframe\">\n",
              "  <thead>\n",
              "    <tr style=\"text-align: right;\">\n",
              "      <th></th>\n",
              "      <th>y</th>\n",
              "      <th>X0</th>\n",
              "      <th>X1</th>\n",
              "      <th>X2</th>\n",
              "      <th>X3</th>\n",
              "      <th>X4</th>\n",
              "      <th>X5</th>\n",
              "      <th>X6</th>\n",
              "      <th>X8</th>\n",
              "      <th>X10</th>\n",
              "      <th>...</th>\n",
              "      <th>X375</th>\n",
              "      <th>X376</th>\n",
              "      <th>X377</th>\n",
              "      <th>X378</th>\n",
              "      <th>X379</th>\n",
              "      <th>X380</th>\n",
              "      <th>X382</th>\n",
              "      <th>X383</th>\n",
              "      <th>X384</th>\n",
              "      <th>X385</th>\n",
              "    </tr>\n",
              "  </thead>\n",
              "  <tbody>\n",
              "    <tr>\n",
              "      <th>0</th>\n",
              "      <td>130.81</td>\n",
              "      <td>k</td>\n",
              "      <td>v</td>\n",
              "      <td>at</td>\n",
              "      <td>a</td>\n",
              "      <td>d</td>\n",
              "      <td>u</td>\n",
              "      <td>j</td>\n",
              "      <td>o</td>\n",
              "      <td>0</td>\n",
              "      <td>...</td>\n",
              "      <td>0</td>\n",
              "      <td>0</td>\n",
              "      <td>1</td>\n",
              "      <td>0</td>\n",
              "      <td>0</td>\n",
              "      <td>0</td>\n",
              "      <td>0</td>\n",
              "      <td>0</td>\n",
              "      <td>0</td>\n",
              "      <td>0</td>\n",
              "    </tr>\n",
              "    <tr>\n",
              "      <th>1</th>\n",
              "      <td>88.53</td>\n",
              "      <td>k</td>\n",
              "      <td>t</td>\n",
              "      <td>av</td>\n",
              "      <td>e</td>\n",
              "      <td>d</td>\n",
              "      <td>y</td>\n",
              "      <td>l</td>\n",
              "      <td>o</td>\n",
              "      <td>0</td>\n",
              "      <td>...</td>\n",
              "      <td>1</td>\n",
              "      <td>0</td>\n",
              "      <td>0</td>\n",
              "      <td>0</td>\n",
              "      <td>0</td>\n",
              "      <td>0</td>\n",
              "      <td>0</td>\n",
              "      <td>0</td>\n",
              "      <td>0</td>\n",
              "      <td>0</td>\n",
              "    </tr>\n",
              "  </tbody>\n",
              "</table>\n",
              "<p>2 rows × 377 columns</p>\n",
              "</div>\n",
              "      <button class=\"colab-df-convert\" onclick=\"convertToInteractive('df-525d7cef-c9e1-42cc-8d27-bd54bcc32147')\"\n",
              "              title=\"Convert this dataframe to an interactive table.\"\n",
              "              style=\"display:none;\">\n",
              "        \n",
              "  <svg xmlns=\"http://www.w3.org/2000/svg\" height=\"24px\"viewBox=\"0 0 24 24\"\n",
              "       width=\"24px\">\n",
              "    <path d=\"M0 0h24v24H0V0z\" fill=\"none\"/>\n",
              "    <path d=\"M18.56 5.44l.94 2.06.94-2.06 2.06-.94-2.06-.94-.94-2.06-.94 2.06-2.06.94zm-11 1L8.5 8.5l.94-2.06 2.06-.94-2.06-.94L8.5 2.5l-.94 2.06-2.06.94zm10 10l.94 2.06.94-2.06 2.06-.94-2.06-.94-.94-2.06-.94 2.06-2.06.94z\"/><path d=\"M17.41 7.96l-1.37-1.37c-.4-.4-.92-.59-1.43-.59-.52 0-1.04.2-1.43.59L10.3 9.45l-7.72 7.72c-.78.78-.78 2.05 0 2.83L4 21.41c.39.39.9.59 1.41.59.51 0 1.02-.2 1.41-.59l7.78-7.78 2.81-2.81c.8-.78.8-2.07 0-2.86zM5.41 20L4 18.59l7.72-7.72 1.47 1.35L5.41 20z\"/>\n",
              "  </svg>\n",
              "      </button>\n",
              "      \n",
              "  <style>\n",
              "    .colab-df-container {\n",
              "      display:flex;\n",
              "      flex-wrap:wrap;\n",
              "      gap: 12px;\n",
              "    }\n",
              "\n",
              "    .colab-df-convert {\n",
              "      background-color: #E8F0FE;\n",
              "      border: none;\n",
              "      border-radius: 50%;\n",
              "      cursor: pointer;\n",
              "      display: none;\n",
              "      fill: #1967D2;\n",
              "      height: 32px;\n",
              "      padding: 0 0 0 0;\n",
              "      width: 32px;\n",
              "    }\n",
              "\n",
              "    .colab-df-convert:hover {\n",
              "      background-color: #E2EBFA;\n",
              "      box-shadow: 0px 1px 2px rgba(60, 64, 67, 0.3), 0px 1px 3px 1px rgba(60, 64, 67, 0.15);\n",
              "      fill: #174EA6;\n",
              "    }\n",
              "\n",
              "    [theme=dark] .colab-df-convert {\n",
              "      background-color: #3B4455;\n",
              "      fill: #D2E3FC;\n",
              "    }\n",
              "\n",
              "    [theme=dark] .colab-df-convert:hover {\n",
              "      background-color: #434B5C;\n",
              "      box-shadow: 0px 1px 3px 1px rgba(0, 0, 0, 0.15);\n",
              "      filter: drop-shadow(0px 1px 2px rgba(0, 0, 0, 0.3));\n",
              "      fill: #FFFFFF;\n",
              "    }\n",
              "  </style>\n",
              "\n",
              "      <script>\n",
              "        const buttonEl =\n",
              "          document.querySelector('#df-525d7cef-c9e1-42cc-8d27-bd54bcc32147 button.colab-df-convert');\n",
              "        buttonEl.style.display =\n",
              "          google.colab.kernel.accessAllowed ? 'block' : 'none';\n",
              "\n",
              "        async function convertToInteractive(key) {\n",
              "          const element = document.querySelector('#df-525d7cef-c9e1-42cc-8d27-bd54bcc32147');\n",
              "          const dataTable =\n",
              "            await google.colab.kernel.invokeFunction('convertToInteractive',\n",
              "                                                     [key], {});\n",
              "          if (!dataTable) return;\n",
              "\n",
              "          const docLinkHtml = 'Like what you see? Visit the ' +\n",
              "            '<a target=\"_blank\" href=https://colab.research.google.com/notebooks/data_table.ipynb>data table notebook</a>'\n",
              "            + ' to learn more about interactive tables.';\n",
              "          element.innerHTML = '';\n",
              "          dataTable['output_type'] = 'display_data';\n",
              "          await google.colab.output.renderOutput(dataTable, element);\n",
              "          const docLink = document.createElement('div');\n",
              "          docLink.innerHTML = docLinkHtml;\n",
              "          element.appendChild(docLink);\n",
              "        }\n",
              "      </script>\n",
              "    </div>\n",
              "  </div>\n",
              "  "
            ]
          },
          "metadata": {},
          "execution_count": 219
        }
      ],
      "source": [
        "# 전처리 하지 않은 원본 데이터를 불러와서 실습합니다.\n",
        "train = pd.read_csv(\"train.csv.zip\", index_col=\"ID\").reset_index(drop=True)\n",
        "train.head(2)"
      ]
    },
    {
      "cell_type": "code",
      "source": [
        "test = pd.read_csv(\"test.csv.zip\", index_col=\"ID\").reset_index(drop=True)\n",
        "test.head(2)"
      ],
      "metadata": {
        "colab": {
          "base_uri": "https://localhost:8080/",
          "height": 141
        },
        "id": "4ePZMNph3igq",
        "outputId": "add271f4-ab90-4044-ae7f-1fe55dd91fac"
      },
      "id": "4ePZMNph3igq",
      "execution_count": 220,
      "outputs": [
        {
          "output_type": "execute_result",
          "data": {
            "text/plain": [
              "   X0 X1  X2 X3 X4 X5 X6 X8  X10  X11  ...  X375  X376  X377  X378  X379  \\\n",
              "0  az  v   n  f  d  t  a  w    0    0  ...     0     0     0     1     0   \n",
              "1   t  b  ai  a  d  b  g  y    0    0  ...     0     0     1     0     0   \n",
              "\n",
              "   X380  X382  X383  X384  X385  \n",
              "0     0     0     0     0     0  \n",
              "1     0     0     0     0     0  \n",
              "\n",
              "[2 rows x 376 columns]"
            ],
            "text/html": [
              "\n",
              "  <div id=\"df-93d17548-eadd-4fd7-96bf-00cb48423153\">\n",
              "    <div class=\"colab-df-container\">\n",
              "      <div>\n",
              "<style scoped>\n",
              "    .dataframe tbody tr th:only-of-type {\n",
              "        vertical-align: middle;\n",
              "    }\n",
              "\n",
              "    .dataframe tbody tr th {\n",
              "        vertical-align: top;\n",
              "    }\n",
              "\n",
              "    .dataframe thead th {\n",
              "        text-align: right;\n",
              "    }\n",
              "</style>\n",
              "<table border=\"1\" class=\"dataframe\">\n",
              "  <thead>\n",
              "    <tr style=\"text-align: right;\">\n",
              "      <th></th>\n",
              "      <th>X0</th>\n",
              "      <th>X1</th>\n",
              "      <th>X2</th>\n",
              "      <th>X3</th>\n",
              "      <th>X4</th>\n",
              "      <th>X5</th>\n",
              "      <th>X6</th>\n",
              "      <th>X8</th>\n",
              "      <th>X10</th>\n",
              "      <th>X11</th>\n",
              "      <th>...</th>\n",
              "      <th>X375</th>\n",
              "      <th>X376</th>\n",
              "      <th>X377</th>\n",
              "      <th>X378</th>\n",
              "      <th>X379</th>\n",
              "      <th>X380</th>\n",
              "      <th>X382</th>\n",
              "      <th>X383</th>\n",
              "      <th>X384</th>\n",
              "      <th>X385</th>\n",
              "    </tr>\n",
              "  </thead>\n",
              "  <tbody>\n",
              "    <tr>\n",
              "      <th>0</th>\n",
              "      <td>az</td>\n",
              "      <td>v</td>\n",
              "      <td>n</td>\n",
              "      <td>f</td>\n",
              "      <td>d</td>\n",
              "      <td>t</td>\n",
              "      <td>a</td>\n",
              "      <td>w</td>\n",
              "      <td>0</td>\n",
              "      <td>0</td>\n",
              "      <td>...</td>\n",
              "      <td>0</td>\n",
              "      <td>0</td>\n",
              "      <td>0</td>\n",
              "      <td>1</td>\n",
              "      <td>0</td>\n",
              "      <td>0</td>\n",
              "      <td>0</td>\n",
              "      <td>0</td>\n",
              "      <td>0</td>\n",
              "      <td>0</td>\n",
              "    </tr>\n",
              "    <tr>\n",
              "      <th>1</th>\n",
              "      <td>t</td>\n",
              "      <td>b</td>\n",
              "      <td>ai</td>\n",
              "      <td>a</td>\n",
              "      <td>d</td>\n",
              "      <td>b</td>\n",
              "      <td>g</td>\n",
              "      <td>y</td>\n",
              "      <td>0</td>\n",
              "      <td>0</td>\n",
              "      <td>...</td>\n",
              "      <td>0</td>\n",
              "      <td>0</td>\n",
              "      <td>1</td>\n",
              "      <td>0</td>\n",
              "      <td>0</td>\n",
              "      <td>0</td>\n",
              "      <td>0</td>\n",
              "      <td>0</td>\n",
              "      <td>0</td>\n",
              "      <td>0</td>\n",
              "    </tr>\n",
              "  </tbody>\n",
              "</table>\n",
              "<p>2 rows × 376 columns</p>\n",
              "</div>\n",
              "      <button class=\"colab-df-convert\" onclick=\"convertToInteractive('df-93d17548-eadd-4fd7-96bf-00cb48423153')\"\n",
              "              title=\"Convert this dataframe to an interactive table.\"\n",
              "              style=\"display:none;\">\n",
              "        \n",
              "  <svg xmlns=\"http://www.w3.org/2000/svg\" height=\"24px\"viewBox=\"0 0 24 24\"\n",
              "       width=\"24px\">\n",
              "    <path d=\"M0 0h24v24H0V0z\" fill=\"none\"/>\n",
              "    <path d=\"M18.56 5.44l.94 2.06.94-2.06 2.06-.94-2.06-.94-.94-2.06-.94 2.06-2.06.94zm-11 1L8.5 8.5l.94-2.06 2.06-.94-2.06-.94L8.5 2.5l-.94 2.06-2.06.94zm10 10l.94 2.06.94-2.06 2.06-.94-2.06-.94-.94-2.06-.94 2.06-2.06.94z\"/><path d=\"M17.41 7.96l-1.37-1.37c-.4-.4-.92-.59-1.43-.59-.52 0-1.04.2-1.43.59L10.3 9.45l-7.72 7.72c-.78.78-.78 2.05 0 2.83L4 21.41c.39.39.9.59 1.41.59.51 0 1.02-.2 1.41-.59l7.78-7.78 2.81-2.81c.8-.78.8-2.07 0-2.86zM5.41 20L4 18.59l7.72-7.72 1.47 1.35L5.41 20z\"/>\n",
              "  </svg>\n",
              "      </button>\n",
              "      \n",
              "  <style>\n",
              "    .colab-df-container {\n",
              "      display:flex;\n",
              "      flex-wrap:wrap;\n",
              "      gap: 12px;\n",
              "    }\n",
              "\n",
              "    .colab-df-convert {\n",
              "      background-color: #E8F0FE;\n",
              "      border: none;\n",
              "      border-radius: 50%;\n",
              "      cursor: pointer;\n",
              "      display: none;\n",
              "      fill: #1967D2;\n",
              "      height: 32px;\n",
              "      padding: 0 0 0 0;\n",
              "      width: 32px;\n",
              "    }\n",
              "\n",
              "    .colab-df-convert:hover {\n",
              "      background-color: #E2EBFA;\n",
              "      box-shadow: 0px 1px 2px rgba(60, 64, 67, 0.3), 0px 1px 3px 1px rgba(60, 64, 67, 0.15);\n",
              "      fill: #174EA6;\n",
              "    }\n",
              "\n",
              "    [theme=dark] .colab-df-convert {\n",
              "      background-color: #3B4455;\n",
              "      fill: #D2E3FC;\n",
              "    }\n",
              "\n",
              "    [theme=dark] .colab-df-convert:hover {\n",
              "      background-color: #434B5C;\n",
              "      box-shadow: 0px 1px 3px 1px rgba(0, 0, 0, 0.15);\n",
              "      filter: drop-shadow(0px 1px 2px rgba(0, 0, 0, 0.3));\n",
              "      fill: #FFFFFF;\n",
              "    }\n",
              "  </style>\n",
              "\n",
              "      <script>\n",
              "        const buttonEl =\n",
              "          document.querySelector('#df-93d17548-eadd-4fd7-96bf-00cb48423153 button.colab-df-convert');\n",
              "        buttonEl.style.display =\n",
              "          google.colab.kernel.accessAllowed ? 'block' : 'none';\n",
              "\n",
              "        async function convertToInteractive(key) {\n",
              "          const element = document.querySelector('#df-93d17548-eadd-4fd7-96bf-00cb48423153');\n",
              "          const dataTable =\n",
              "            await google.colab.kernel.invokeFunction('convertToInteractive',\n",
              "                                                     [key], {});\n",
              "          if (!dataTable) return;\n",
              "\n",
              "          const docLinkHtml = 'Like what you see? Visit the ' +\n",
              "            '<a target=\"_blank\" href=https://colab.research.google.com/notebooks/data_table.ipynb>data table notebook</a>'\n",
              "            + ' to learn more about interactive tables.';\n",
              "          element.innerHTML = '';\n",
              "          dataTable['output_type'] = 'display_data';\n",
              "          await google.colab.output.renderOutput(dataTable, element);\n",
              "          const docLink = document.createElement('div');\n",
              "          docLink.innerHTML = docLinkHtml;\n",
              "          element.appendChild(docLink);\n",
              "        }\n",
              "      </script>\n",
              "    </div>\n",
              "  </div>\n",
              "  "
            ]
          },
          "metadata": {},
          "execution_count": 220
        }
      ]
    },
    {
      "cell_type": "markdown",
      "source": [
        "### category type 변경"
      ],
      "metadata": {
        "id": "y1yEbCze5SaP"
      },
      "id": "y1yEbCze5SaP"
    },
    {
      "cell_type": "code",
      "source": [
        "cat_col = train.select_dtypes(include=\"object\").columns\n",
        "cat_col"
      ],
      "metadata": {
        "colab": {
          "base_uri": "https://localhost:8080/"
        },
        "id": "KvnicXFP4C-H",
        "outputId": "0d83c459-2be3-4c81-b022-1fae12289bd3"
      },
      "id": "KvnicXFP4C-H",
      "execution_count": 221,
      "outputs": [
        {
          "output_type": "execute_result",
          "data": {
            "text/plain": [
              "Index(['X0', 'X1', 'X2', 'X3', 'X4', 'X5', 'X6', 'X8'], dtype='object')"
            ]
          },
          "metadata": {},
          "execution_count": 221
        }
      ]
    },
    {
      "cell_type": "code",
      "source": [
        "for col in cat_col:\n",
        "    train[col] = train[col].astype(\"category\")\n",
        "    test[col] = test[col].astype(\"category\")"
      ],
      "metadata": {
        "id": "jM3QumO14M_D"
      },
      "id": "jM3QumO14M_D",
      "execution_count": 222,
      "outputs": []
    },
    {
      "cell_type": "code",
      "source": [
        "train.dtypes"
      ],
      "metadata": {
        "colab": {
          "base_uri": "https://localhost:8080/"
        },
        "id": "rHmjrrhV4Yvn",
        "outputId": "41da2d83-5e2f-4905-8bbd-84a988643fa9"
      },
      "id": "rHmjrrhV4Yvn",
      "execution_count": 223,
      "outputs": [
        {
          "output_type": "execute_result",
          "data": {
            "text/plain": [
              "y        float64\n",
              "X0      category\n",
              "X1      category\n",
              "X2      category\n",
              "X3      category\n",
              "          ...   \n",
              "X380       int64\n",
              "X382       int64\n",
              "X383       int64\n",
              "X384       int64\n",
              "X385       int64\n",
              "Length: 377, dtype: object"
            ]
          },
          "metadata": {},
          "execution_count": 223
        }
      ]
    },
    {
      "cell_type": "code",
      "source": [
        "X_train, X_valid, y_train, y_valid = train_test_split(train.drop(columns=\"y\"), train[\"y\"], \n",
        "                                                      train_size = 0.9, random_state=0)"
      ],
      "metadata": {
        "id": "kpcvcJSb3p0P"
      },
      "id": "kpcvcJSb3p0P",
      "execution_count": 224,
      "outputs": []
    },
    {
      "cell_type": "markdown",
      "source": [
        "### lightGBM"
      ],
      "metadata": {
        "id": "m4829gjR5M53"
      },
      "id": "m4829gjR5M53"
    },
    {
      "cell_type": "code",
      "source": [
        "model_lgbm = lgbm.LGBMRegressor(random_state=42)\n",
        "model_lgbm"
      ],
      "metadata": {
        "colab": {
          "base_uri": "https://localhost:8080/"
        },
        "id": "T02beya637ck",
        "outputId": "4260ece2-70dd-4564-f667-f4273a67943e"
      },
      "id": "T02beya637ck",
      "execution_count": 225,
      "outputs": [
        {
          "output_type": "execute_result",
          "data": {
            "text/plain": [
              "LGBMRegressor(random_state=42)"
            ]
          },
          "metadata": {},
          "execution_count": 225
        }
      ]
    },
    {
      "cell_type": "code",
      "source": [
        "model_lgbm.fit(X_train, y_train)\n",
        "score = scoreModel(model_lgbm,X_train, X_valid, y_train, y_valid)"
      ],
      "metadata": {
        "colab": {
          "base_uri": "https://localhost:8080/"
        },
        "id": "EtxNeRI74pQG",
        "outputId": "9c901201-f9fa-40dc-cc54-29a4b37524a5"
      },
      "id": "EtxNeRI74pQG",
      "execution_count": 226,
      "outputs": [
        {
          "output_type": "stream",
          "name": "stdout",
          "text": [
            "모델 : LGBMRegressor(random_state=42)\n",
            "학습용 세트 정확도: 0.835\n",
            "검증 세트 정확도: 0.298\n"
          ]
        }
      ]
    },
    {
      "cell_type": "markdown",
      "source": [
        "### catBoost"
      ],
      "metadata": {
        "id": "VXhJoDN88oYG"
      },
      "id": "VXhJoDN88oYG"
    },
    {
      "cell_type": "code",
      "source": [
        "model_cat = catboost.CatBoostRegressor(eval_metric='R2', verbose=False, \n",
        "                                       cat_features=cat_col.tolist())\n",
        "model_cat"
      ],
      "metadata": {
        "colab": {
          "base_uri": "https://localhost:8080/"
        },
        "id": "l3JCvrRZ4-9-",
        "outputId": "6868f742-1a88-4291-e740-5e702957e7aa"
      },
      "id": "l3JCvrRZ4-9-",
      "execution_count": 227,
      "outputs": [
        {
          "output_type": "execute_result",
          "data": {
            "text/plain": [
              "<catboost.core.CatBoostRegressor at 0x7efc01381210>"
            ]
          },
          "metadata": {},
          "execution_count": 227
        }
      ]
    },
    {
      "cell_type": "code",
      "source": [
        "model_cat.fit(X_train, y_train)"
      ],
      "metadata": {
        "colab": {
          "base_uri": "https://localhost:8080/"
        },
        "id": "sp19J_Of854m",
        "outputId": "68f1e208-ba0b-48c6-87d7-e9cbcca1d1a9"
      },
      "id": "sp19J_Of854m",
      "execution_count": 228,
      "outputs": [
        {
          "output_type": "execute_result",
          "data": {
            "text/plain": [
              "<catboost.core.CatBoostRegressor at 0x7efc01381210>"
            ]
          },
          "metadata": {},
          "execution_count": 228
        }
      ]
    },
    {
      "cell_type": "code",
      "source": [
        "score = scoreModel(model_cat,X_train, X_valid, y_train, y_valid)"
      ],
      "metadata": {
        "colab": {
          "base_uri": "https://localhost:8080/"
        },
        "id": "yzOt7BWR89Tf",
        "outputId": "9ca8da51-5e35-4832-f4d1-63823a6bc2de"
      },
      "id": "yzOt7BWR89Tf",
      "execution_count": 229,
      "outputs": [
        {
          "output_type": "stream",
          "name": "stdout",
          "text": [
            "모델 : <catboost.core.CatBoostRegressor object at 0x7efc01381210>\n",
            "학습용 세트 정확도: 0.682\n",
            "검증 세트 정확도: 0.330\n"
          ]
        }
      ]
    },
    {
      "cell_type": "code",
      "source": [
        ""
      ],
      "metadata": {
        "id": "JM2HDosw9PBI"
      },
      "id": "JM2HDosw9PBI",
      "execution_count": null,
      "outputs": []
    }
  ],
  "metadata": {
    "colab": {
      "collapsed_sections": [],
      "name": "0803-Benz-tree-model-output.ipynb",
      "provenance": []
    },
    "kernelspec": {
      "display_name": "Python 3 (ipykernel)",
      "language": "python",
      "name": "python3"
    },
    "language_info": {
      "codemirror_mode": {
        "name": "ipython",
        "version": 3
      },
      "file_extension": ".py",
      "mimetype": "text/x-python",
      "name": "python",
      "nbconvert_exporter": "python",
      "pygments_lexer": "ipython3",
      "version": "3.7.13"
    },
    "toc": {
      "base_numbering": 1,
      "nav_menu": {},
      "number_sections": true,
      "sideBar": true,
      "skip_h1_title": false,
      "title_cell": "Table of Contents",
      "title_sidebar": "Contents",
      "toc_cell": false,
      "toc_position": {},
      "toc_section_display": true,
      "toc_window_display": false
    },
    "varInspector": {
      "cols": {
        "lenName": 16,
        "lenType": 16,
        "lenVar": 40
      },
      "kernels_config": {
        "python": {
          "delete_cmd_postfix": "",
          "delete_cmd_prefix": "del ",
          "library": "var_list.py",
          "varRefreshCmd": "print(var_dic_list())"
        },
        "r": {
          "delete_cmd_postfix": ") ",
          "delete_cmd_prefix": "rm(",
          "library": "var_list.r",
          "varRefreshCmd": "cat(var_dic_list()) "
        }
      },
      "types_to_exclude": [
        "module",
        "function",
        "builtin_function_or_method",
        "instance",
        "_Feature"
      ],
      "window_display": false
    }
  },
  "nbformat": 4,
  "nbformat_minor": 5
}