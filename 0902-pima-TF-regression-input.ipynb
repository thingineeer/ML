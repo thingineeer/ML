{
 "cells": [
  {
   "cell_type": "markdown",
   "metadata": {
    "id": "lQiibFeJEAAA"
   },
   "source": [
    "## 텐서플로 회귀 모델 만들기\n",
    "* [자동차 연비 예측하기: 회귀  |  TensorFlow Core](https://www.tensorflow.org/tutorials/keras/regression)"
   ]
  },
  {
   "cell_type": "code",
   "execution_count": null,
   "metadata": {
    "id": "7AT2VWETEAAE"
   },
   "outputs": [],
   "source": [
    "import pandas as pd\n",
    "import numpy as np\n",
    "import seaborn as sns\n",
    "import matplotlib.pyplot as plt"
   ]
  },
  {
   "cell_type": "code",
   "execution_count": null,
   "metadata": {
    "id": "d_pM4n1pEAAG",
    "scrolled": true
   },
   "outputs": [],
   "source": [
    "df = pd.read_csv(\"http://bit.ly/data-diabetes-csv\")\n",
    "df.shape"
   ]
  },
  {
   "cell_type": "code",
   "execution_count": null,
   "metadata": {
    "id": "WwlW87NKEAAH"
   },
   "outputs": [],
   "source": [
    "df.head()"
   ]
  },
  {
   "cell_type": "code",
   "execution_count": null,
   "metadata": {
    "id": "xcNFEQnMEAAH"
   },
   "outputs": [],
   "source": [
    "# Insulin 값이 0보다 큰 값만 사용합니다.\n",
    "# df"
   ]
  },
  {
   "cell_type": "code",
   "execution_count": null,
   "metadata": {
    "id": "7BiXuIlmEAAL"
   },
   "outputs": [],
   "source": [
    "# label_name 을 Insulin 으로 합니다.\n",
    "# label_name\n"
   ]
  },
  {
   "cell_type": "code",
   "execution_count": null,
   "metadata": {
    "id": "PIiVno3eEAAK"
   },
   "outputs": [],
   "source": [
    "# train, test 데이터셋을 pandas 의 sample을 사용해서 8:2로 나눕니다.\n"
   ]
  },
  {
   "cell_type": "markdown",
   "metadata": {
    "id": "1VSU-7p0EAAO"
   },
   "source": [
    "<img src=\"https://cs231n.github.io/assets/nn1/neural_net.jpeg\" width=\"30%\"> <img src=\"https://cs231n.github.io/assets/nn1/neural_net2.jpeg\" width=\"40%\">\n",
    "\n",
    "* 이미지 출처 : https://cs231n.github.io/neural-networks-1/"
   ]
  },
  {
   "cell_type": "markdown",
   "metadata": {
    "id": "AWvRDwDVEAAP"
   },
   "source": [
    "## 딥러닝 레이어 만들기\n",
    "\n",
    "* [자동차 연비 예측하기: 회귀  |  TensorFlow Core](https://www.tensorflow.org/tutorials/keras/regression)\n",
    "\n",
    "* 층 설정\n",
    "    * 신경망의 기본 구성 요소는 층(layer)입니다. \n",
    "    * 층은 주입된 데이터에서 표현을 추출합니다. \n",
    "    * 대부분 딥러닝은 간단한 층을 연결하여 구성됩니다. \n",
    "    * tf.keras.layers.Dense와 같은 층들의 가중치(parameter)는 훈련하는 동안 학습됩니다.\n",
    "\n",
    "* Dense Layer: \n",
    "    * 밀집 연결(densely-connected) 또는 완전 연결(fully-connected) 층이라고 부릅니다. \n",
    "    * 첫 번째 Dense 층은 128개의 노드(또는 뉴런)를 가집니다. \n",
    "    * 마지막 층은 출력층 입니다.\n",
    "        * 소프트맥스 일 때 : 2개의 노드의 소프트맥스(softmax) 층입니다. 이 층은 2개의 확률을 반환하고 반환된 값의 전체 합은 1입니다. \n",
    "        * 각 노드는 현재 이미지가 2개 클래스 중 하나에 속할 확률을 출력합니다.\n",
    "        * 시그모이드 일 때 : 둘 중 하나를 예측할 때 1개의 출력값을 출력합니다. 확률을 받아 임계값 기준으로 True, False로 나눕니다.\n",
    "    \n",
    "    \n",
    "* 출력층 :\n",
    "    * 예측 값이 n개 일 때 :  tf.keras.layers.Dense(n, activation='softmax')\n",
    "    * 예측 값이 둘 중 하나일 때 : tf.keras.layers.Dense(1, activation='sigmoid')\n",
    "    \n",
    "    \n",
    "* 드롭아웃(dropout)은 신경망에서 가장 효과적이고 널리 사용하는 규제 기법 중 하나입니다. 토론토(Toronto) 대학의 힌튼(Hinton)과 그의 제자들이 개발했습니다. 드롭아웃을 층에 적용하면 훈련하는 동안 층의 출력 특성을 랜덤하게 끕니다(즉, 0으로 만듭니다). 훈련하는 동안 어떤 입력 샘플에 대해 [0.2, 0.5, 1.3, 0.8, 1.1] 벡터를 출력하는 층이 있다고 가정해 보죠. 드롭아웃을 적용하면 이 벡터에서 몇 개의 원소가 랜덤하게 0이 됩니다. 예를 들면, [0, 0.5, 1.3, 0, 1.1]가 됩니다. \"드롭아웃 비율\"은 0이 되는 특성의 비율입니다. 보통 0.2에서 0.5 사이를 사용합니다. 테스트 단계에서는 어떤 유닛도 드롭아웃하지 않습니다. 훈련 단계보다 더 많은 유닛이 활성화되기 때문에 균형을 맞추기 위해 층의 출력 값을 드롭아웃 비율만큼 줄입니다.\n",
    "\n",
    "* tf.keras에서는 Dropout 층을 이용해 네트워크에 드롭아웃을 추가할 수 있습니다. 이 층은 바로 이전 층의 출력에 드롭아웃을 적용합니다. (https://www.tensorflow.org/tutorials/keras/overfit_and_underfit)"
   ]
  },
  {
   "cell_type": "code",
   "execution_count": null,
   "metadata": {
    "id": "y7wYCza3EAAQ"
   },
   "outputs": [],
   "source": [
    "# tensorflow 를 tf로 불러오기\n"
   ]
  },
  {
   "cell_type": "code",
   "execution_count": null,
   "metadata": {
    "id": "MfSKzjmJEAAO"
   },
   "outputs": [],
   "source": [
    "# input_shape 값을 구합니다. feature의 수로 만듭니다.\n",
    "# input_shape"
   ]
  },
  {
   "cell_type": "code",
   "execution_count": null,
   "metadata": {
    "id": "hSUltkuXEAAQ"
   },
   "outputs": [],
   "source": [
    "# 입력 레이어를 Input 레이어로 사용할 수도 있습니다.  tf.keras.layers.Input(shape=(input_shape))\n",
    "# 분류와 똑같지만 회귀는 출력을 하나로 합니다.  tf.keras.layers.Dense(1)\n"
   ]
  },
  {
   "cell_type": "markdown",
   "metadata": {
    "id": "-3feIPeKEAAR"
   },
   "source": [
    "### 모델 컴파일\n",
    "모델을 훈련하기 전에 필요한 몇 가지 설정이 모델 컴파일 단계에서 추가됩니다:\n",
    "\n",
    "* 옵티마이저(Optimizer) - 데이터와 손실 함수를 바탕으로 모델의 업데이트 방법을 결정합니다.\n",
    "* 지표(Metrics) - 훈련 단계와 테스트 단계를 모니터링하기 위해 사용합니다. 다음 예에서는 올바르게 분류된 이미지의 비율인 정확도를 사용합니다.\n",
    "\n",
    "\n",
    "* 손실 함수(Loss function) - 훈련 하는 동안 모델의 오차를 측정합니다. 모델의 학습이 올바른 방향으로 향하도록 이 함수를 최소화해야 합니다. 최적의 가중치를 찾도록 해야함\n",
    "    * 회귀  : MSE, MAE\n",
    "    * 분류 : \n",
    "        * binary_crossentropy\n",
    "        * categorical_crossentropy(one-hot형태의 클래스 예: [0, 1, 0, 0])\n",
    "        * sparse_categorical_crossentropy(정답값이 0, 1, 2, 3, 4 와 같은 형태일 때)\n"
   ]
  },
  {
   "cell_type": "code",
   "execution_count": null,
   "metadata": {
    "id": "51-SXAWxEAAR"
   },
   "outputs": [],
   "source": [
    "# 모델을 컴파일 합니다.\n",
    "optimizer = tf.keras.optimizers.RMSprop(0.001)\n"
   ]
  },
  {
   "cell_type": "code",
   "execution_count": null,
   "metadata": {
    "id": "Tz6CJ_i6EAAS"
   },
   "outputs": [],
   "source": [
    "# 모델을 요약합니다.\n"
   ]
  },
  {
   "cell_type": "markdown",
   "metadata": {
    "id": "vl4NMYz6EAAT"
   },
   "source": [
    "## 학습\n",
    "* 에포크마다 훈련 상태를 점검하기 위해 EarlyStopping 콜백(callback)을 사용하겠습니다. 지정된 에포크 횟수 동안 성능 향상이 없으면 자동으로 훈련이 멈춥니다."
   ]
  },
  {
   "cell_type": "code",
   "execution_count": null,
   "metadata": {
    "id": "67yKveZ7EAAT"
   },
   "outputs": [],
   "source": [
    "# 모델을 학습합니다.\n",
    "# 학습결과를 history 변수에 할당합니다.\n",
    "early_stop = tf.keras.callbacks.EarlyStopping(monitor='val_loss', patience=10)\n",
    "# history "
   ]
  },
  {
   "cell_type": "code",
   "execution_count": null,
   "metadata": {
    "id": "REkXQdANEAAU"
   },
   "outputs": [],
   "source": [
    "# history 를 데이터프레임으로 만듭니다.\n"
   ]
  },
  {
   "cell_type": "code",
   "execution_count": null,
   "metadata": {
    "id": "OmgVWpFhEAAU"
   },
   "outputs": [],
   "source": [
    "# 학습결과를 시각화 합니다.\n"
   ]
  },
  {
   "cell_type": "markdown",
   "metadata": {
    "id": "bVfA8pZSEAAV"
   },
   "source": [
    "## 예측"
   ]
  },
  {
   "cell_type": "code",
   "execution_count": null,
   "metadata": {
    "id": "ZFs4Sb8uEAAW"
   },
   "outputs": [],
   "source": [
    "# y_pred\n"
   ]
  },
  {
   "cell_type": "code",
   "execution_count": null,
   "metadata": {
    "id": "77nm4TDmEAAW"
   },
   "outputs": [],
   "source": [
    "# 예측값을 flatten을 사용해 1차원으로 변환합니다. \n",
    "# y_predict\n"
   ]
  },
  {
   "cell_type": "markdown",
   "metadata": {
    "id": "aJH6WyhgEAAW"
   },
   "source": [
    "## 평가"
   ]
  },
  {
   "cell_type": "code",
   "execution_count": null,
   "metadata": {
    "id": "nYaiz_HREAAW"
   },
   "outputs": [],
   "source": [
    "# evaluate를 통해 평가하기\n",
    "# loss, mae, mse\n",
    "# print(\"테스트 세트의 평균 절대 오차: {:5.2f}\".format(mae))"
   ]
  },
  {
   "cell_type": "code",
   "execution_count": null,
   "metadata": {
    "id": "Y-95gUjYEAAX"
   },
   "outputs": [],
   "source": [
    "# jointplot 으로 실제값과 예측값을 시각화 합니다.\n"
   ]
  },
  {
   "cell_type": "markdown",
   "metadata": {
    "id": "9v4s8rlhEAAX"
   },
   "source": [
    "### MAE(Mean Absolute Error)\n",
    "* [Mean absolute error - Wikipedia](https://en.wikipedia.org/wiki/Mean_absolute_error)"
   ]
  },
  {
   "cell_type": "code",
   "execution_count": null,
   "metadata": {
    "id": "tguPkAjlEAAX"
   },
   "outputs": [],
   "source": [
    "# 예측값과 실제값의 차이에 대한 절대값의 평균\n",
    "# error\n",
    "# mae"
   ]
  },
  {
   "cell_type": "markdown",
   "metadata": {
    "id": "KtrUfRBLEAAX"
   },
   "source": [
    "### MAPE(Mean Absolute Percentage Error)"
   ]
  },
  {
   "cell_type": "code",
   "execution_count": null,
   "metadata": {
    "id": "RJD8SpfjEAAY"
   },
   "outputs": [],
   "source": [
    "# (실제값 - 예측값 / 실제값)의 절대값에 대한 평균\n",
    "# mape"
   ]
  },
  {
   "cell_type": "markdown",
   "metadata": {
    "id": "4XYPMgFyEAAY"
   },
   "source": [
    "### MSE(Mean Squared Error)"
   ]
  },
  {
   "cell_type": "code",
   "execution_count": null,
   "metadata": {
    "id": "4llqvcm5EAAY"
   },
   "outputs": [],
   "source": [
    "# 실제값 - 예측값의 차이의 제곱의 평균\n",
    "# MAE와 비슷해 보이나 제곱을 통해 음수를 양수로 변환함\n",
    "# 분산과 유사한 공식\n",
    "# mse "
   ]
  },
  {
   "cell_type": "markdown",
   "metadata": {
    "id": "dWP-mY5wEAAZ"
   },
   "source": [
    "### RMSE(Root Mean Squared Error)"
   ]
  },
  {
   "cell_type": "code",
   "execution_count": null,
   "metadata": {
    "id": "XP-WyT2-EAAZ"
   },
   "outputs": [],
   "source": [
    "# MSE 값에 Root를 취함, 표준편차와 유사한 공식\n"
   ]
  },
  {
   "cell_type": "code",
   "execution_count": null,
   "metadata": {
    "id": "p_UH7Dy-EAAZ"
   },
   "outputs": [],
   "source": []
  },
  {
   "cell_type": "code",
   "execution_count": null,
   "metadata": {
    "id": "szg8wWNlEAAZ"
   },
   "outputs": [],
   "source": []
  },
  {
   "cell_type": "code",
   "execution_count": null,
   "metadata": {
    "id": "88ElXNJdEAAa"
   },
   "outputs": [],
   "source": []
  },
  {
   "cell_type": "code",
   "execution_count": null,
   "metadata": {
    "id": "6a5wRZgBEAAa"
   },
   "outputs": [],
   "source": []
  }
 ],
 "metadata": {
  "colab": {
   "name": "0302-pima-tensorflow2-regression-input.ipynb",
   "provenance": []
  },
  "kernelspec": {
   "display_name": "Python 3 (ipykernel)",
   "language": "python",
   "name": "python3"
  },
  "language_info": {
   "codemirror_mode": {
    "name": "ipython",
    "version": 3
   },
   "file_extension": ".py",
   "mimetype": "text/x-python",
   "name": "python",
   "nbconvert_exporter": "python",
   "pygments_lexer": "ipython3",
   "version": "3.9.12"
  },
  "toc": {
   "base_numbering": 1,
   "nav_menu": {},
   "number_sections": true,
   "sideBar": true,
   "skip_h1_title": false,
   "title_cell": "Table of Contents",
   "title_sidebar": "Contents",
   "toc_cell": false,
   "toc_position": {},
   "toc_section_display": true,
   "toc_window_display": false
  },
  "varInspector": {
   "cols": {
    "lenName": 16,
    "lenType": 16,
    "lenVar": 40
   },
   "kernels_config": {
    "python": {
     "delete_cmd_postfix": "",
     "delete_cmd_prefix": "del ",
     "library": "var_list.py",
     "varRefreshCmd": "print(var_dic_list())"
    },
    "r": {
     "delete_cmd_postfix": ") ",
     "delete_cmd_prefix": "rm(",
     "library": "var_list.r",
     "varRefreshCmd": "cat(var_dic_list()) "
    }
   },
   "types_to_exclude": [
    "module",
    "function",
    "builtin_function_or_method",
    "instance",
    "_Feature"
   ],
   "window_display": false
  }
 },
 "nbformat": 4,
 "nbformat_minor": 1
}
