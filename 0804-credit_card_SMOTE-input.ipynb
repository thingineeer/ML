{
 "cells": [
  {
   "cell_type": "code",
   "execution_count": null,
   "id": "50a8916f",
   "metadata": {},
   "outputs": [],
   "source": [
    "# https://anaconda.org/conda-forge/imbalanced-learn\n",
    "# !conda install -c conda-forge imbalanced-learn"
   ]
  },
  {
   "cell_type": "markdown",
   "id": "01f9fe41",
   "metadata": {
    "id": "01f9fe41"
   },
   "source": [
    "## 불균형한 데이터\n",
    "* 데이터를 다룰 때 데이터의 값이 꼭 균형있게 분포되어 있지는 않습니다.\n",
    "* 데이터에 따라 한 값으로 극도로 치우쳐져 있기도 합니다.\n",
    "* 이런 데이터를 다루는 방법에 대해서 알아보겠습니다.\n",
    "\n",
    "### 대상 데이터\n",
    "* Credit Card Fraud Detection - Anonymized credit card transactions labeled as fraudulent or genuine\n",
    "* 신용카드 사용자들의 결제내역에 대한 데이터입니다.\n",
    "* 결제내역과 관련된 정보를 보고, 신용불량자인지 아닌지 분류하는 것이 목표입니다.\n",
    "* 시간(Time)과 결제액(Amount)를 제외하고 나머지 변수(V1~V28)는 익명화되어있습니다.\n",
    "* https://www.kaggle.com/mlg-ulb/creditcardfraud\n",
    "\n",
    "## 라이브러리 로드"
   ]
  },
  {
   "cell_type": "code",
   "execution_count": 1,
   "id": "a99a0c86",
   "metadata": {
    "ExecuteTime": {
     "end_time": "2022-06-29T07:18:43.436884Z",
     "start_time": "2022-06-29T07:18:42.477950Z"
    },
    "id": "a99a0c86"
   },
   "outputs": [],
   "source": [
    "import pandas as pd\n",
    "import seaborn as sns"
   ]
  },
  {
   "cell_type": "code",
   "execution_count": 2,
   "id": "2e34a122",
   "metadata": {
    "ExecuteTime": {
     "end_time": "2022-06-29T07:18:43.442488Z",
     "start_time": "2022-06-29T07:18:43.440699Z"
    },
    "id": "2e34a122"
   },
   "outputs": [],
   "source": [
    "# pandas가 모든 열을 표시하도록 옵션을 변경합니다.\n",
    "pd.set_option('display.max_columns', None)"
   ]
  },
  {
   "cell_type": "markdown",
   "id": "468d9a5d",
   "metadata": {
    "id": "468d9a5d"
   },
   "source": [
    "## 데이터 로드"
   ]
  },
  {
   "cell_type": "code",
   "execution_count": 3,
   "id": "d9258e3d",
   "metadata": {
    "ExecuteTime": {
     "end_time": "2022-06-29T07:18:44.985458Z",
     "start_time": "2022-06-29T07:18:43.902001Z"
    },
    "id": "d9258e3d",
    "outputId": "6cd77a3f-b4c8-4e7f-f32f-3f3e9200f871",
    "scrolled": false
   },
   "outputs": [
    {
     "data": {
      "text/html": [
       "<div>\n",
       "<style scoped>\n",
       "    .dataframe tbody tr th:only-of-type {\n",
       "        vertical-align: middle;\n",
       "    }\n",
       "\n",
       "    .dataframe tbody tr th {\n",
       "        vertical-align: top;\n",
       "    }\n",
       "\n",
       "    .dataframe thead th {\n",
       "        text-align: right;\n",
       "    }\n",
       "</style>\n",
       "<table border=\"1\" class=\"dataframe\">\n",
       "  <thead>\n",
       "    <tr style=\"text-align: right;\">\n",
       "      <th></th>\n",
       "      <th>Time</th>\n",
       "      <th>V1</th>\n",
       "      <th>V2</th>\n",
       "      <th>V3</th>\n",
       "      <th>V4</th>\n",
       "      <th>V5</th>\n",
       "      <th>V6</th>\n",
       "      <th>V7</th>\n",
       "      <th>V8</th>\n",
       "      <th>V9</th>\n",
       "      <th>V10</th>\n",
       "      <th>V11</th>\n",
       "      <th>V12</th>\n",
       "      <th>V13</th>\n",
       "      <th>V14</th>\n",
       "      <th>V15</th>\n",
       "      <th>V16</th>\n",
       "      <th>V17</th>\n",
       "      <th>V18</th>\n",
       "      <th>V19</th>\n",
       "      <th>V20</th>\n",
       "      <th>V21</th>\n",
       "      <th>V22</th>\n",
       "      <th>V23</th>\n",
       "      <th>V24</th>\n",
       "      <th>V25</th>\n",
       "      <th>V26</th>\n",
       "      <th>V27</th>\n",
       "      <th>V28</th>\n",
       "      <th>Amount</th>\n",
       "      <th>Class</th>\n",
       "    </tr>\n",
       "  </thead>\n",
       "  <tbody>\n",
       "    <tr>\n",
       "      <th>0</th>\n",
       "      <td>0.0</td>\n",
       "      <td>-1.359807</td>\n",
       "      <td>-0.072781</td>\n",
       "      <td>2.536347</td>\n",
       "      <td>1.378155</td>\n",
       "      <td>-0.338321</td>\n",
       "      <td>0.462388</td>\n",
       "      <td>0.239599</td>\n",
       "      <td>0.098698</td>\n",
       "      <td>0.363787</td>\n",
       "      <td>0.090794</td>\n",
       "      <td>-0.551600</td>\n",
       "      <td>-0.617801</td>\n",
       "      <td>-0.991390</td>\n",
       "      <td>-0.311169</td>\n",
       "      <td>1.468177</td>\n",
       "      <td>-0.470401</td>\n",
       "      <td>0.207971</td>\n",
       "      <td>0.025791</td>\n",
       "      <td>0.403993</td>\n",
       "      <td>0.251412</td>\n",
       "      <td>-0.018307</td>\n",
       "      <td>0.277838</td>\n",
       "      <td>-0.110474</td>\n",
       "      <td>0.066928</td>\n",
       "      <td>0.128539</td>\n",
       "      <td>-0.189115</td>\n",
       "      <td>0.133558</td>\n",
       "      <td>-0.021053</td>\n",
       "      <td>149.62</td>\n",
       "      <td>0</td>\n",
       "    </tr>\n",
       "    <tr>\n",
       "      <th>1</th>\n",
       "      <td>0.0</td>\n",
       "      <td>1.191857</td>\n",
       "      <td>0.266151</td>\n",
       "      <td>0.166480</td>\n",
       "      <td>0.448154</td>\n",
       "      <td>0.060018</td>\n",
       "      <td>-0.082361</td>\n",
       "      <td>-0.078803</td>\n",
       "      <td>0.085102</td>\n",
       "      <td>-0.255425</td>\n",
       "      <td>-0.166974</td>\n",
       "      <td>1.612727</td>\n",
       "      <td>1.065235</td>\n",
       "      <td>0.489095</td>\n",
       "      <td>-0.143772</td>\n",
       "      <td>0.635558</td>\n",
       "      <td>0.463917</td>\n",
       "      <td>-0.114805</td>\n",
       "      <td>-0.183361</td>\n",
       "      <td>-0.145783</td>\n",
       "      <td>-0.069083</td>\n",
       "      <td>-0.225775</td>\n",
       "      <td>-0.638672</td>\n",
       "      <td>0.101288</td>\n",
       "      <td>-0.339846</td>\n",
       "      <td>0.167170</td>\n",
       "      <td>0.125895</td>\n",
       "      <td>-0.008983</td>\n",
       "      <td>0.014724</td>\n",
       "      <td>2.69</td>\n",
       "      <td>0</td>\n",
       "    </tr>\n",
       "    <tr>\n",
       "      <th>2</th>\n",
       "      <td>1.0</td>\n",
       "      <td>-1.358354</td>\n",
       "      <td>-1.340163</td>\n",
       "      <td>1.773209</td>\n",
       "      <td>0.379780</td>\n",
       "      <td>-0.503198</td>\n",
       "      <td>1.800499</td>\n",
       "      <td>0.791461</td>\n",
       "      <td>0.247676</td>\n",
       "      <td>-1.514654</td>\n",
       "      <td>0.207643</td>\n",
       "      <td>0.624501</td>\n",
       "      <td>0.066084</td>\n",
       "      <td>0.717293</td>\n",
       "      <td>-0.165946</td>\n",
       "      <td>2.345865</td>\n",
       "      <td>-2.890083</td>\n",
       "      <td>1.109969</td>\n",
       "      <td>-0.121359</td>\n",
       "      <td>-2.261857</td>\n",
       "      <td>0.524980</td>\n",
       "      <td>0.247998</td>\n",
       "      <td>0.771679</td>\n",
       "      <td>0.909412</td>\n",
       "      <td>-0.689281</td>\n",
       "      <td>-0.327642</td>\n",
       "      <td>-0.139097</td>\n",
       "      <td>-0.055353</td>\n",
       "      <td>-0.059752</td>\n",
       "      <td>378.66</td>\n",
       "      <td>0</td>\n",
       "    </tr>\n",
       "    <tr>\n",
       "      <th>3</th>\n",
       "      <td>1.0</td>\n",
       "      <td>-0.966272</td>\n",
       "      <td>-0.185226</td>\n",
       "      <td>1.792993</td>\n",
       "      <td>-0.863291</td>\n",
       "      <td>-0.010309</td>\n",
       "      <td>1.247203</td>\n",
       "      <td>0.237609</td>\n",
       "      <td>0.377436</td>\n",
       "      <td>-1.387024</td>\n",
       "      <td>-0.054952</td>\n",
       "      <td>-0.226487</td>\n",
       "      <td>0.178228</td>\n",
       "      <td>0.507757</td>\n",
       "      <td>-0.287924</td>\n",
       "      <td>-0.631418</td>\n",
       "      <td>-1.059647</td>\n",
       "      <td>-0.684093</td>\n",
       "      <td>1.965775</td>\n",
       "      <td>-1.232622</td>\n",
       "      <td>-0.208038</td>\n",
       "      <td>-0.108300</td>\n",
       "      <td>0.005274</td>\n",
       "      <td>-0.190321</td>\n",
       "      <td>-1.175575</td>\n",
       "      <td>0.647376</td>\n",
       "      <td>-0.221929</td>\n",
       "      <td>0.062723</td>\n",
       "      <td>0.061458</td>\n",
       "      <td>123.50</td>\n",
       "      <td>0</td>\n",
       "    </tr>\n",
       "    <tr>\n",
       "      <th>4</th>\n",
       "      <td>2.0</td>\n",
       "      <td>-1.158233</td>\n",
       "      <td>0.877737</td>\n",
       "      <td>1.548718</td>\n",
       "      <td>0.403034</td>\n",
       "      <td>-0.407193</td>\n",
       "      <td>0.095921</td>\n",
       "      <td>0.592941</td>\n",
       "      <td>-0.270533</td>\n",
       "      <td>0.817739</td>\n",
       "      <td>0.753074</td>\n",
       "      <td>-0.822843</td>\n",
       "      <td>0.538196</td>\n",
       "      <td>1.345852</td>\n",
       "      <td>-1.119670</td>\n",
       "      <td>0.175121</td>\n",
       "      <td>-0.451449</td>\n",
       "      <td>-0.237033</td>\n",
       "      <td>-0.038195</td>\n",
       "      <td>0.803487</td>\n",
       "      <td>0.408542</td>\n",
       "      <td>-0.009431</td>\n",
       "      <td>0.798278</td>\n",
       "      <td>-0.137458</td>\n",
       "      <td>0.141267</td>\n",
       "      <td>-0.206010</td>\n",
       "      <td>0.502292</td>\n",
       "      <td>0.219422</td>\n",
       "      <td>0.215153</td>\n",
       "      <td>69.99</td>\n",
       "      <td>0</td>\n",
       "    </tr>\n",
       "    <tr>\n",
       "      <th>...</th>\n",
       "      <td>...</td>\n",
       "      <td>...</td>\n",
       "      <td>...</td>\n",
       "      <td>...</td>\n",
       "      <td>...</td>\n",
       "      <td>...</td>\n",
       "      <td>...</td>\n",
       "      <td>...</td>\n",
       "      <td>...</td>\n",
       "      <td>...</td>\n",
       "      <td>...</td>\n",
       "      <td>...</td>\n",
       "      <td>...</td>\n",
       "      <td>...</td>\n",
       "      <td>...</td>\n",
       "      <td>...</td>\n",
       "      <td>...</td>\n",
       "      <td>...</td>\n",
       "      <td>...</td>\n",
       "      <td>...</td>\n",
       "      <td>...</td>\n",
       "      <td>...</td>\n",
       "      <td>...</td>\n",
       "      <td>...</td>\n",
       "      <td>...</td>\n",
       "      <td>...</td>\n",
       "      <td>...</td>\n",
       "      <td>...</td>\n",
       "      <td>...</td>\n",
       "      <td>...</td>\n",
       "      <td>...</td>\n",
       "    </tr>\n",
       "    <tr>\n",
       "      <th>284802</th>\n",
       "      <td>172786.0</td>\n",
       "      <td>-11.881118</td>\n",
       "      <td>10.071785</td>\n",
       "      <td>-9.834783</td>\n",
       "      <td>-2.066656</td>\n",
       "      <td>-5.364473</td>\n",
       "      <td>-2.606837</td>\n",
       "      <td>-4.918215</td>\n",
       "      <td>7.305334</td>\n",
       "      <td>1.914428</td>\n",
       "      <td>4.356170</td>\n",
       "      <td>-1.593105</td>\n",
       "      <td>2.711941</td>\n",
       "      <td>-0.689256</td>\n",
       "      <td>4.626942</td>\n",
       "      <td>-0.924459</td>\n",
       "      <td>1.107641</td>\n",
       "      <td>1.991691</td>\n",
       "      <td>0.510632</td>\n",
       "      <td>-0.682920</td>\n",
       "      <td>1.475829</td>\n",
       "      <td>0.213454</td>\n",
       "      <td>0.111864</td>\n",
       "      <td>1.014480</td>\n",
       "      <td>-0.509348</td>\n",
       "      <td>1.436807</td>\n",
       "      <td>0.250034</td>\n",
       "      <td>0.943651</td>\n",
       "      <td>0.823731</td>\n",
       "      <td>0.77</td>\n",
       "      <td>0</td>\n",
       "    </tr>\n",
       "    <tr>\n",
       "      <th>284803</th>\n",
       "      <td>172787.0</td>\n",
       "      <td>-0.732789</td>\n",
       "      <td>-0.055080</td>\n",
       "      <td>2.035030</td>\n",
       "      <td>-0.738589</td>\n",
       "      <td>0.868229</td>\n",
       "      <td>1.058415</td>\n",
       "      <td>0.024330</td>\n",
       "      <td>0.294869</td>\n",
       "      <td>0.584800</td>\n",
       "      <td>-0.975926</td>\n",
       "      <td>-0.150189</td>\n",
       "      <td>0.915802</td>\n",
       "      <td>1.214756</td>\n",
       "      <td>-0.675143</td>\n",
       "      <td>1.164931</td>\n",
       "      <td>-0.711757</td>\n",
       "      <td>-0.025693</td>\n",
       "      <td>-1.221179</td>\n",
       "      <td>-1.545556</td>\n",
       "      <td>0.059616</td>\n",
       "      <td>0.214205</td>\n",
       "      <td>0.924384</td>\n",
       "      <td>0.012463</td>\n",
       "      <td>-1.016226</td>\n",
       "      <td>-0.606624</td>\n",
       "      <td>-0.395255</td>\n",
       "      <td>0.068472</td>\n",
       "      <td>-0.053527</td>\n",
       "      <td>24.79</td>\n",
       "      <td>0</td>\n",
       "    </tr>\n",
       "    <tr>\n",
       "      <th>284804</th>\n",
       "      <td>172788.0</td>\n",
       "      <td>1.919565</td>\n",
       "      <td>-0.301254</td>\n",
       "      <td>-3.249640</td>\n",
       "      <td>-0.557828</td>\n",
       "      <td>2.630515</td>\n",
       "      <td>3.031260</td>\n",
       "      <td>-0.296827</td>\n",
       "      <td>0.708417</td>\n",
       "      <td>0.432454</td>\n",
       "      <td>-0.484782</td>\n",
       "      <td>0.411614</td>\n",
       "      <td>0.063119</td>\n",
       "      <td>-0.183699</td>\n",
       "      <td>-0.510602</td>\n",
       "      <td>1.329284</td>\n",
       "      <td>0.140716</td>\n",
       "      <td>0.313502</td>\n",
       "      <td>0.395652</td>\n",
       "      <td>-0.577252</td>\n",
       "      <td>0.001396</td>\n",
       "      <td>0.232045</td>\n",
       "      <td>0.578229</td>\n",
       "      <td>-0.037501</td>\n",
       "      <td>0.640134</td>\n",
       "      <td>0.265745</td>\n",
       "      <td>-0.087371</td>\n",
       "      <td>0.004455</td>\n",
       "      <td>-0.026561</td>\n",
       "      <td>67.88</td>\n",
       "      <td>0</td>\n",
       "    </tr>\n",
       "    <tr>\n",
       "      <th>284805</th>\n",
       "      <td>172788.0</td>\n",
       "      <td>-0.240440</td>\n",
       "      <td>0.530483</td>\n",
       "      <td>0.702510</td>\n",
       "      <td>0.689799</td>\n",
       "      <td>-0.377961</td>\n",
       "      <td>0.623708</td>\n",
       "      <td>-0.686180</td>\n",
       "      <td>0.679145</td>\n",
       "      <td>0.392087</td>\n",
       "      <td>-0.399126</td>\n",
       "      <td>-1.933849</td>\n",
       "      <td>-0.962886</td>\n",
       "      <td>-1.042082</td>\n",
       "      <td>0.449624</td>\n",
       "      <td>1.962563</td>\n",
       "      <td>-0.608577</td>\n",
       "      <td>0.509928</td>\n",
       "      <td>1.113981</td>\n",
       "      <td>2.897849</td>\n",
       "      <td>0.127434</td>\n",
       "      <td>0.265245</td>\n",
       "      <td>0.800049</td>\n",
       "      <td>-0.163298</td>\n",
       "      <td>0.123205</td>\n",
       "      <td>-0.569159</td>\n",
       "      <td>0.546668</td>\n",
       "      <td>0.108821</td>\n",
       "      <td>0.104533</td>\n",
       "      <td>10.00</td>\n",
       "      <td>0</td>\n",
       "    </tr>\n",
       "    <tr>\n",
       "      <th>284806</th>\n",
       "      <td>172792.0</td>\n",
       "      <td>-0.533413</td>\n",
       "      <td>-0.189733</td>\n",
       "      <td>0.703337</td>\n",
       "      <td>-0.506271</td>\n",
       "      <td>-0.012546</td>\n",
       "      <td>-0.649617</td>\n",
       "      <td>1.577006</td>\n",
       "      <td>-0.414650</td>\n",
       "      <td>0.486180</td>\n",
       "      <td>-0.915427</td>\n",
       "      <td>-1.040458</td>\n",
       "      <td>-0.031513</td>\n",
       "      <td>-0.188093</td>\n",
       "      <td>-0.084316</td>\n",
       "      <td>0.041333</td>\n",
       "      <td>-0.302620</td>\n",
       "      <td>-0.660377</td>\n",
       "      <td>0.167430</td>\n",
       "      <td>-0.256117</td>\n",
       "      <td>0.382948</td>\n",
       "      <td>0.261057</td>\n",
       "      <td>0.643078</td>\n",
       "      <td>0.376777</td>\n",
       "      <td>0.008797</td>\n",
       "      <td>-0.473649</td>\n",
       "      <td>-0.818267</td>\n",
       "      <td>-0.002415</td>\n",
       "      <td>0.013649</td>\n",
       "      <td>217.00</td>\n",
       "      <td>0</td>\n",
       "    </tr>\n",
       "  </tbody>\n",
       "</table>\n",
       "<p>284807 rows × 31 columns</p>\n",
       "</div>"
      ],
      "text/plain": [
       "            Time         V1         V2        V3        V4        V5  \\\n",
       "0            0.0  -1.359807  -0.072781  2.536347  1.378155 -0.338321   \n",
       "1            0.0   1.191857   0.266151  0.166480  0.448154  0.060018   \n",
       "2            1.0  -1.358354  -1.340163  1.773209  0.379780 -0.503198   \n",
       "3            1.0  -0.966272  -0.185226  1.792993 -0.863291 -0.010309   \n",
       "4            2.0  -1.158233   0.877737  1.548718  0.403034 -0.407193   \n",
       "...          ...        ...        ...       ...       ...       ...   \n",
       "284802  172786.0 -11.881118  10.071785 -9.834783 -2.066656 -5.364473   \n",
       "284803  172787.0  -0.732789  -0.055080  2.035030 -0.738589  0.868229   \n",
       "284804  172788.0   1.919565  -0.301254 -3.249640 -0.557828  2.630515   \n",
       "284805  172788.0  -0.240440   0.530483  0.702510  0.689799 -0.377961   \n",
       "284806  172792.0  -0.533413  -0.189733  0.703337 -0.506271 -0.012546   \n",
       "\n",
       "              V6        V7        V8        V9       V10       V11       V12  \\\n",
       "0       0.462388  0.239599  0.098698  0.363787  0.090794 -0.551600 -0.617801   \n",
       "1      -0.082361 -0.078803  0.085102 -0.255425 -0.166974  1.612727  1.065235   \n",
       "2       1.800499  0.791461  0.247676 -1.514654  0.207643  0.624501  0.066084   \n",
       "3       1.247203  0.237609  0.377436 -1.387024 -0.054952 -0.226487  0.178228   \n",
       "4       0.095921  0.592941 -0.270533  0.817739  0.753074 -0.822843  0.538196   \n",
       "...          ...       ...       ...       ...       ...       ...       ...   \n",
       "284802 -2.606837 -4.918215  7.305334  1.914428  4.356170 -1.593105  2.711941   \n",
       "284803  1.058415  0.024330  0.294869  0.584800 -0.975926 -0.150189  0.915802   \n",
       "284804  3.031260 -0.296827  0.708417  0.432454 -0.484782  0.411614  0.063119   \n",
       "284805  0.623708 -0.686180  0.679145  0.392087 -0.399126 -1.933849 -0.962886   \n",
       "284806 -0.649617  1.577006 -0.414650  0.486180 -0.915427 -1.040458 -0.031513   \n",
       "\n",
       "             V13       V14       V15       V16       V17       V18       V19  \\\n",
       "0      -0.991390 -0.311169  1.468177 -0.470401  0.207971  0.025791  0.403993   \n",
       "1       0.489095 -0.143772  0.635558  0.463917 -0.114805 -0.183361 -0.145783   \n",
       "2       0.717293 -0.165946  2.345865 -2.890083  1.109969 -0.121359 -2.261857   \n",
       "3       0.507757 -0.287924 -0.631418 -1.059647 -0.684093  1.965775 -1.232622   \n",
       "4       1.345852 -1.119670  0.175121 -0.451449 -0.237033 -0.038195  0.803487   \n",
       "...          ...       ...       ...       ...       ...       ...       ...   \n",
       "284802 -0.689256  4.626942 -0.924459  1.107641  1.991691  0.510632 -0.682920   \n",
       "284803  1.214756 -0.675143  1.164931 -0.711757 -0.025693 -1.221179 -1.545556   \n",
       "284804 -0.183699 -0.510602  1.329284  0.140716  0.313502  0.395652 -0.577252   \n",
       "284805 -1.042082  0.449624  1.962563 -0.608577  0.509928  1.113981  2.897849   \n",
       "284806 -0.188093 -0.084316  0.041333 -0.302620 -0.660377  0.167430 -0.256117   \n",
       "\n",
       "             V20       V21       V22       V23       V24       V25       V26  \\\n",
       "0       0.251412 -0.018307  0.277838 -0.110474  0.066928  0.128539 -0.189115   \n",
       "1      -0.069083 -0.225775 -0.638672  0.101288 -0.339846  0.167170  0.125895   \n",
       "2       0.524980  0.247998  0.771679  0.909412 -0.689281 -0.327642 -0.139097   \n",
       "3      -0.208038 -0.108300  0.005274 -0.190321 -1.175575  0.647376 -0.221929   \n",
       "4       0.408542 -0.009431  0.798278 -0.137458  0.141267 -0.206010  0.502292   \n",
       "...          ...       ...       ...       ...       ...       ...       ...   \n",
       "284802  1.475829  0.213454  0.111864  1.014480 -0.509348  1.436807  0.250034   \n",
       "284803  0.059616  0.214205  0.924384  0.012463 -1.016226 -0.606624 -0.395255   \n",
       "284804  0.001396  0.232045  0.578229 -0.037501  0.640134  0.265745 -0.087371   \n",
       "284805  0.127434  0.265245  0.800049 -0.163298  0.123205 -0.569159  0.546668   \n",
       "284806  0.382948  0.261057  0.643078  0.376777  0.008797 -0.473649 -0.818267   \n",
       "\n",
       "             V27       V28  Amount  Class  \n",
       "0       0.133558 -0.021053  149.62      0  \n",
       "1      -0.008983  0.014724    2.69      0  \n",
       "2      -0.055353 -0.059752  378.66      0  \n",
       "3       0.062723  0.061458  123.50      0  \n",
       "4       0.219422  0.215153   69.99      0  \n",
       "...          ...       ...     ...    ...  \n",
       "284802  0.943651  0.823731    0.77      0  \n",
       "284803  0.068472 -0.053527   24.79      0  \n",
       "284804  0.004455 -0.026561   67.88      0  \n",
       "284805  0.108821  0.104533   10.00      0  \n",
       "284806 -0.002415  0.013649  217.00      0  \n",
       "\n",
       "[284807 rows x 31 columns]"
      ]
     },
     "execution_count": 3,
     "metadata": {},
     "output_type": "execute_result"
    }
   ],
   "source": [
    "# creditcard.csv를 pandas로 읽어와서 df 변수에 할당합니다.\n",
    "# 결과를 확인합니다.\n",
    "df = pd.read_csv(\"data/creditcard.csv\")\n",
    "df"
   ]
  },
  {
   "cell_type": "markdown",
   "id": "d9e2737c",
   "metadata": {
    "id": "d9e2737c"
   },
   "source": [
    "## 데이터 확인"
   ]
  },
  {
   "cell_type": "code",
   "execution_count": 4,
   "id": "0a897cf7",
   "metadata": {
    "ExecuteTime": {
     "end_time": "2022-06-29T07:18:52.898443Z",
     "start_time": "2022-06-29T07:18:52.860853Z"
    },
    "id": "0a897cf7",
    "outputId": "f3358de2-1426-4f4d-d679-4a8f9f1551ce"
   },
   "outputs": [
    {
     "name": "stdout",
     "output_type": "stream",
     "text": [
      "<class 'pandas.core.frame.DataFrame'>\n",
      "RangeIndex: 284807 entries, 0 to 284806\n",
      "Data columns (total 31 columns):\n",
      " #   Column  Non-Null Count   Dtype  \n",
      "---  ------  --------------   -----  \n",
      " 0   Time    284807 non-null  float64\n",
      " 1   V1      284807 non-null  float64\n",
      " 2   V2      284807 non-null  float64\n",
      " 3   V3      284807 non-null  float64\n",
      " 4   V4      284807 non-null  float64\n",
      " 5   V5      284807 non-null  float64\n",
      " 6   V6      284807 non-null  float64\n",
      " 7   V7      284807 non-null  float64\n",
      " 8   V8      284807 non-null  float64\n",
      " 9   V9      284807 non-null  float64\n",
      " 10  V10     284807 non-null  float64\n",
      " 11  V11     284807 non-null  float64\n",
      " 12  V12     284807 non-null  float64\n",
      " 13  V13     284807 non-null  float64\n",
      " 14  V14     284807 non-null  float64\n",
      " 15  V15     284807 non-null  float64\n",
      " 16  V16     284807 non-null  float64\n",
      " 17  V17     284807 non-null  float64\n",
      " 18  V18     284807 non-null  float64\n",
      " 19  V19     284807 non-null  float64\n",
      " 20  V20     284807 non-null  float64\n",
      " 21  V21     284807 non-null  float64\n",
      " 22  V22     284807 non-null  float64\n",
      " 23  V23     284807 non-null  float64\n",
      " 24  V24     284807 non-null  float64\n",
      " 25  V25     284807 non-null  float64\n",
      " 26  V26     284807 non-null  float64\n",
      " 27  V27     284807 non-null  float64\n",
      " 28  V28     284807 non-null  float64\n",
      " 29  Amount  284807 non-null  float64\n",
      " 30  Class   284807 non-null  int64  \n",
      "dtypes: float64(30), int64(1)\n",
      "memory usage: 67.4 MB\n"
     ]
    }
   ],
   "source": [
    "# info\n",
    "df.info()"
   ]
  },
  {
   "cell_type": "code",
   "execution_count": null,
   "id": "d09b7886",
   "metadata": {
    "id": "d09b7886",
    "outputId": "4312e754-e01a-4903-9196-07cbf7328c75"
   },
   "outputs": [],
   "source": [
    "# 결측치를 확인합니다.\n"
   ]
  },
  {
   "cell_type": "markdown",
   "id": "e46d5d73",
   "metadata": {},
   "source": [
    "## target 분포"
   ]
  },
  {
   "cell_type": "code",
   "execution_count": null,
   "id": "a5893c68",
   "metadata": {
    "id": "a5893c68",
    "outputId": "a0ba002b-bc34-412f-b0f6-e836b07fa995",
    "scrolled": true
   },
   "outputs": [],
   "source": [
    "# Class (value_counts)\n"
   ]
  },
  {
   "cell_type": "code",
   "execution_count": null,
   "id": "9cec60d4",
   "metadata": {
    "id": "9cec60d4",
    "outputId": "42063993-0158-4e4e-e4cc-96ed4981b5ee"
   },
   "outputs": [],
   "source": [
    "# \"Class\" value_counts normalize=True\n"
   ]
  },
  {
   "cell_type": "code",
   "execution_count": null,
   "id": "9a95c66d",
   "metadata": {},
   "outputs": [],
   "source": [
    "# countplot\n"
   ]
  },
  {
   "cell_type": "markdown",
   "id": "a6d141cc",
   "metadata": {
    "id": "a6d141cc"
   },
   "source": [
    "## 독립변수(문제)와 종속변수(정답) 분리"
   ]
  },
  {
   "cell_type": "code",
   "execution_count": null,
   "id": "d34fe952",
   "metadata": {
    "id": "d34fe952"
   },
   "outputs": [],
   "source": [
    "# input으로 들어갈 X와 기대값인 y를 분리합니다.\n",
    "# X에는 예측할 값인 \"Class\"를 제외한 값이 들어가야 합니다.\n",
    "# y에는 예측할 값인 \"Class\"만 들어가야 합니다.\n",
    "\n",
    "X, y"
   ]
  },
  {
   "cell_type": "markdown",
   "id": "d499e2b6",
   "metadata": {
    "id": "d499e2b6"
   },
   "source": [
    "### train_test_split\n",
    "\n",
    "* train_test_split은 sklearn에서 제공하는 데이터 분할 메서드입니다.\n",
    "* 입력 변수와 목표 변수를 입력하면 데이터를 학습용 데이터와 검증용 데이터로 나눠줍니다.\n",
    "* 머신러닝에서 데이터를 학습용 데이터와 검증용 데이터로 나누는 것은 매우 중요합니다.\n",
    "* 두 데이터가 제대로 분리되지 않으면, 모델이 답지를 보고 예상하는 것이나 마찬가지이기 때문입니다.\n",
    "* 이러한 상황을 데이터 유출(Data Leakage)라고 합니다.\n",
    "* tran_test_split의 파라미터 중에서 random_state와 stratify에 대해서 알아보겠습니다.\n",
    "* tran_test_split은 기본적으로 데이터를 분할할 때 섞어서(shuffle) 분할하도록 되어있습니다.\n",
    "* random_state는 난수를 고정시켜 같은 값을 넣었을 때 동일한 결과를 얻을 수 있도록 해줍니다.\n",
    "* 지금 다루는 것과 같은 불균형 데이터에서 train_test_split을 실행시켰을 때, 한 쪽 데이터에 희소한 값이 몰릴 가능성이 있습니다.\n",
    "* stratify는 원래 데이터의 값 비율대로 학습용 데이터와 검증용 데이터를 분할시켜줍니다.\n",
    "\n",
    "* https://scikit-learn.org/stable/modules/generated/sklearn.model_selection.train_test_split.html"
   ]
  },
  {
   "cell_type": "code",
   "execution_count": null,
   "id": "ffacca00",
   "metadata": {
    "id": "ffacca00"
   },
   "outputs": [],
   "source": [
    "# X와 y값을 학습용 데이터와 검증용 데이터로 나눕니다.(train_test_split)\n",
    "# X_train, X_test, y_train, y_test에 값을 반환받습니다.\n",
    "# stratify=y\n"
   ]
  },
  {
   "cell_type": "markdown",
   "id": "6496b939",
   "metadata": {
    "id": "6496b939"
   },
   "source": [
    "## 머신러닝 모델\n",
    "### DummyClassifier\n",
    "* DummyClassifier는 입력 변수를 무시하는 모델입니다.\n",
    "* DummyClassifier는 예측할 값에 대해서만 판단하여 예측값을 반환합니다.\n",
    "* 불균형한 데이터일 경우 정확도로만 예측 성능을 파악하기 어렵다는 것을 보이기 위해 DummyClassifier 모델을 학습시키겠습니다.\n",
    "* 단, DummyClassifier를 학습시킨다는 것을 일반적인 머신러닝 방식으로 학습시키는 것으로 오해해서는 안 됩니다.\n",
    "* DummyClassifier는 학습 데이터를 참고하지 않습니다.\n",
    "* 대신 DummyClassifier는 주어진 방식에 따라서 어떤 값을 반환할지 결정합니다.\n",
    "* 방식을 지정하지 않으면, DummyClassifier는 검증 값으로 주어진 데이터에서 최빈값을 조사해 반환합니다.\n",
    "* https://scikit-learn.org/stable/modules/generated/sklearn.dummy.DummyClassifier.html"
   ]
  },
  {
   "cell_type": "code",
   "execution_count": null,
   "id": "359db3cc",
   "metadata": {
    "id": "359db3cc"
   },
   "outputs": [],
   "source": [
    "# DummyClassifier는 sklearn에서 제공하는, 입력 변수를 무시하는 모델입니다.\n",
    "# DummyClassifier 모델 model_dummy를 선언합니다.\n",
    "from sklearn.dummy import DummyClassifier\n",
    "\n",
    "model_dummy = DummyClassifier()"
   ]
  },
  {
   "cell_type": "code",
   "execution_count": null,
   "id": "a3c0adb8",
   "metadata": {
    "id": "a3c0adb8",
    "outputId": "bf651c8a-757f-44b0-ae14-f7ca85a0080b"
   },
   "outputs": [],
   "source": [
    "# DummyClassifier 모델을 X_train, y_train으로 학습시킵니다.\n",
    "# 단, DummyClassifier는 실제로 머신러닝 방식으로 학습하는 것이 아닙니다.\n",
    "# y_train에서 최빈값을 찾아서 그 값으로 반환합니다.\n"
   ]
  },
  {
   "cell_type": "code",
   "execution_count": null,
   "id": "5bafa4d4",
   "metadata": {
    "id": "5bafa4d4",
    "outputId": "08fb388b-88e5-40d9-fbef-0ce3a506957d"
   },
   "outputs": [],
   "source": [
    "# X_test로 model_dummy가 예측하게 만들겠습니다.\n",
    "# DummyClassifier가 실제로 X_test을 참고하여 예측하는 것이 아님에 주의하세요.\n",
    "# 예측한 값을 확인합니다.\n",
    "# y_predict_dummy\n"
   ]
  },
  {
   "cell_type": "code",
   "execution_count": null,
   "id": "abd128c3",
   "metadata": {},
   "outputs": [],
   "source": [
    "# 예측값의 unique 값을 확인합니다.\n"
   ]
  },
  {
   "cell_type": "markdown",
   "id": "b27b789d",
   "metadata": {
    "id": "b27b789d"
   },
   "source": [
    "* 모두 0으로 예측한 것을 알 수 있습니다.\n",
    "* 이것은 y_train의 최빈값이 0이기 때문입니다.\n",
    "* DummyClassifiers는 아무것도 학습하지 않았습니다.\n",
    "* 대신 y_train의 최빈값을 계산하고 반환했을 뿐입니다."
   ]
  },
  {
   "cell_type": "code",
   "execution_count": null,
   "id": "cbc89a6e",
   "metadata": {
    "id": "cbc89a6e",
    "outputId": "6a45d4ca-653d-40f6-9362-956c2a56884f"
   },
   "outputs": [],
   "source": [
    "# model_dummy의 정확도를 계산(score)합니다.\n"
   ]
  },
  {
   "cell_type": "code",
   "execution_count": null,
   "id": "8eaf320d",
   "metadata": {
    "id": "8eaf320d",
    "outputId": "a8fa7f68-c2e5-475e-90f7-257f2184a83b"
   },
   "outputs": [],
   "source": [
    "# 실제 값과 DummyClassifier가 예측한 값으로 혼동 행렬을 출력합니다.\n"
   ]
  },
  {
   "cell_type": "code",
   "execution_count": null,
   "id": "29065059",
   "metadata": {
    "id": "29065059",
    "outputId": "2f8cbc76-4326-42e4-e506-0b82c3d21947",
    "scrolled": true
   },
   "outputs": [],
   "source": [
    "# DummyClassifier의 classification_report\n"
   ]
  },
  {
   "cell_type": "code",
   "execution_count": null,
   "id": "4601e068",
   "metadata": {},
   "outputs": [],
   "source": [
    "# accuracy\n"
   ]
  },
  {
   "cell_type": "code",
   "execution_count": null,
   "id": "4d0bb953",
   "metadata": {},
   "outputs": [],
   "source": [
    "# f1_score\n"
   ]
  },
  {
   "cell_type": "code",
   "execution_count": null,
   "id": "e293abd6",
   "metadata": {},
   "outputs": [],
   "source": [
    "# precision, recall\n"
   ]
  },
  {
   "cell_type": "markdown",
   "id": "ce103850",
   "metadata": {
    "id": "3b512182"
   },
   "source": [
    "* 결과가 0.99 로 매우 높습니다.\n",
    "* 그러면 DummyClassifier는 좋은 모델인 것일까요?\n",
    "* 그렇지 않다는 것을 알고 있습니다.\n",
    "* 정확도만으로는 예측 성능을 평가하기에 어려운 경우가 있습니다."
   ]
  },
  {
   "cell_type": "markdown",
   "id": "fa279832",
   "metadata": {
    "id": "fa279832"
   },
   "source": [
    "## 혼동 행렬(confusion matrix)\n",
    "\n",
    "<img src=\"https://oopy.lazyrockets.com/api/v2/notion/image?src=https%3A%2F%2Fs3-us-west-2.amazonaws.com%2Fsecure.notion-static.com%2Fa7fb3ffc-5c0e-4db5-89c6-021994823e01%2FUntitled.png&blockId=d5474d00-6501-48b7-a9a1-59d5bbb640d8\" width=\"500\">\n",
    "\n",
    "* https://driip.me/3ef36050-f5a3-41ea-9f23-874afe665342\n",
    "\n",
    "### 기본 용어\n",
    "\n",
    "* true positives (TP): 참으로 예측하고, 실제로 참이었던 경우\n",
    "* true negatives (TN): 거짓으로 예측하고, 실제로 거짓이었던 경우\n",
    "* false positives (FP): 참으로 예측했지만 거짓이었던 경우 (Type I error)\n",
    "* false negatives (FN): 거짓으로 예측했지만 참이었던 경우 (Type II error)\n",
    "\n",
    "### 정확도(Accuracy)\n",
    "\n",
    "<img src=\"https://wikimedia.org/api/rest_v1/media/math/render/svg/7bfe40cea126a04004b82f729cf7df1ec435fbf6\"/>\n",
    "\n",
    "* (TP+TN) / (TP+TN+FP+FN)\n",
    "* 전체 범위에서, 정확히 예측한 경우에 대한 비율을 의미합니다.\n",
    "* 일상적인 상황에서 예측의 성능에 대해서 이야기할 때, 정확도를 이야기합니다.\n",
    "* https://en.wikipedia.org/wiki/Accuracy_and_precision\n",
    "\n",
    "\n",
    "### 정확도의 문제점\n",
    "\n",
    "* 이진분류(binary classification)에서 예측의 성능을 평가하기 위한 도구입니다.\n",
    "* 이진분류의 경우 정확도(Accuracy)로만 예측을 평가하기 어렵습니다.\n",
    "* 주어진 상황이 불균형(imbalance)할 때, 많은 쪽으로 전부 예측할 경우 실제 예측 성능은 낮지만 정확도는 높기 때문입니다.\n",
    "    + 99%가 정상이고, 1%가 불량인 제품의 제조공정에서 불량품을 예측하는 경우를 생각해보겠습니다.\n",
    "    + 모두 정상이라고 판단할 경우 정확도는 99%지만, 이런 모델을 불량품 검출용으로 사용할 수는 없습니다.\n",
    "\n",
    "### 정밀도(precision)\n",
    "\n",
    "<img src=\"https://wikimedia.org/api/rest_v1/media/math/render/svg/26106935459abe7c266f7b1ebfa2a824b334c807\"/>\n",
    "\n",
    "* TP / (FP+TP)\n",
    "* 참으로 예측한 것들 중에서 실제로 참이었던 경우입니다.\n",
    "\n",
    "* https://ko.wikipedia.org/wiki/%EC%A0%95%EB%B0%80%EB%8F%84%EC%99%80_%EC%9E%AC%ED%98%84%EC%9C%A8\n",
    "\n",
    "### 재현율(recall)\n",
    "\n",
    "<img src=\"https://wikimedia.org/api/rest_v1/media/math/render/svg/4c233366865312bc99c832d1475e152c5074891b\"/>\n",
    "\n",
    "* TP / (FN+TP)\n",
    "* 실제 값이 참이었던 것들 중에서 참으로 예측한 경우입니다.\n",
    "\n",
    "* https://ko.wikipedia.org/wiki/%EC%A0%95%EB%B0%80%EB%8F%84%EC%99%80_%EC%9E%AC%ED%98%84%EC%9C%A8\n",
    "\n",
    "### F1 Score\n",
    "\n",
    "<img src=\"https://wikimedia.org/api/rest_v1/media/math/render/svg/4179c69cf1dde8418c4593177521847e862e7df8\"/>\n",
    "\n",
    "* F1 점수는 정밀도와 재현율의 조화평균입니다.\n",
    "* 정밀도와 재현율이 균형있게 올라야 F1 점수도 오르도록 되어 있습니다.\n",
    "* https://en.wikipedia.org/wiki/F-score\n",
    "\n",
    "### scikit-learn으로 지표 출력하기\n",
    "\n",
    "* 혼동 행렬의 경우 sklearn.metrics.confusion_matrix()를 이용해 생성할 수 있습니다.\n",
    "* sklearn에서는 앞에서 설명된 척도들을 쉽게 계산할 수 있도록 메서드로 제공하고 있습니다.\n",
    "* 정확도의 경우 sklearn.metrics.accuracy_score()\n",
    "* f1 점수의 경우 sklearn.metrics.f1_score()\n",
    "* 정밀도의 경우 sklearn.metrics.precision_score()\n",
    "* 재현도의 경우 sklearn.metrics.recall_score()\n",
    "* 위와 같은 메서드를 이용해서 계산할 수 있습니다.\n",
    "* 주요 지표에 대한 텍스트 보고서를 sklearn.metrics.classification_report()로 생성할 수 있습니다.\n",
    "* 위에서 살펴본 지표들을 모두 포함합니다.\n",
    "* 더 자세한 정보는 sklearn의 문서를 참고하세요.\n",
    "* https://scikit-learn.org/stable/modules/generated/sklearn.metrics.confusion_matrix.html\n",
    "* https://scikit-learn.org/stable/modules/model_evaluation.html\n",
    "* https://scikit-learn.org/stable/modules/generated/sklearn.metrics.classification_report.html\n",
    "\n",
    "### 표 해석하기\n",
    "* precision은 위에서 설명한 정밀도를 의미합니다.\n",
    "* recall은 위에서 설명한 재현도를 의미합니다.\n",
    "* f1-score는 위에서 설명한 f1 점수를 의미합니다.\n",
    "* support는 클래스의 실제 발생 횟수가 얼마인지 알려줍니다.\n",
    "    * 따라서 support는 모델에 따라 달라지는 숫자가 아닙니다.\n",
    "* accuracy는 위에서 설명한 정확도를 의미합니다.\n",
    "* macro avg는 각 레이블에 대한 측정항목을 계산하고 가중치가 적용되지 않은 평균을 찾습니다. 이것은 레이블 불균형을 고려하지 않습니다.\n",
    "* weighted avg는 각 레이블에 대한 메트릭을 계산하고 지원(각 레이블에 대한 실제 인스턴스 수)별로 가중치를 부여한 평균을 찾습니다.\n",
    "* weighted avg는 가중 평균을 의미하고, macro avg는 가중되지 않은 평균을 의미합니다.\n",
    "\n",
    "### 정확도와 f1 점수 차이\n",
    "* 왜 정밀도와 재현도가 모두 0일까요?\n",
    "* 그것은 모두 0으로 예측했기 때문입니다.\n",
    "* 모두 거짓으로 예측했기 때문에, TP가 0이므로 정밀도, 재현도, f1 점수 모두 0으로 출력됩니다.\n",
    "* 정확도는 약 0.998인데, f1 점수는 0점입니다.\n",
    "* 이러한 차이 때문에 불균형한 데이터 분류 문제에서 한 지표만 가지고 모델을 신뢰하기 어렵습니다."
   ]
  },
  {
   "cell_type": "markdown",
   "id": "3b512182",
   "metadata": {
    "id": "3b512182"
   },
   "source": [
    "### DecisionTreeClassifier"
   ]
  },
  {
   "cell_type": "code",
   "execution_count": null,
   "id": "85f37bd8",
   "metadata": {},
   "outputs": [],
   "source": [
    "# model_dt\n"
   ]
  },
  {
   "cell_type": "code",
   "execution_count": null,
   "id": "ac43b3a1",
   "metadata": {
    "id": "ac43b3a1",
    "outputId": "c07bc0c3-f09d-43fa-ecb6-ec77c423c150",
    "scrolled": true
   },
   "outputs": [],
   "source": [
    "# fit\n"
   ]
  },
  {
   "cell_type": "code",
   "execution_count": null,
   "id": "f0a6ebf9",
   "metadata": {
    "id": "f0a6ebf9",
    "outputId": "a57a10ce-e797-4778-c512-f9e75e9ee153"
   },
   "outputs": [],
   "source": [
    "# predict\n"
   ]
  },
  {
   "cell_type": "code",
   "execution_count": null,
   "id": "54970f80",
   "metadata": {
    "id": "54970f80",
    "outputId": "70abb412-0438-466c-a029-0b679c4e2f03"
   },
   "outputs": [],
   "source": [
    "# 예측 결과의 unique 값\n"
   ]
  },
  {
   "cell_type": "code",
   "execution_count": null,
   "id": "2cbe6cdf",
   "metadata": {
    "id": "2cbe6cdf",
    "outputId": "a69e0bd8-5ea5-44ea-ffce-3f491e515d08",
    "scrolled": true
   },
   "outputs": [],
   "source": [
    "# 정확도\n"
   ]
  },
  {
   "cell_type": "code",
   "execution_count": null,
   "id": "561b5dd3",
   "metadata": {},
   "outputs": [],
   "source": [
    "# crosstab\n"
   ]
  },
  {
   "cell_type": "code",
   "execution_count": null,
   "id": "b0b17bf4",
   "metadata": {
    "id": "b0b17bf4",
    "outputId": "ef202979-d05d-4035-9b12-9fcfe24f4dc9"
   },
   "outputs": [],
   "source": [
    "# confusion_matrix\n"
   ]
  },
  {
   "cell_type": "code",
   "execution_count": null,
   "id": "400f000c",
   "metadata": {
    "id": "400f000c",
    "outputId": "cac97c85-aad3-43c0-fbd1-c658153951ab",
    "scrolled": true
   },
   "outputs": [],
   "source": [
    "# classification_report\n"
   ]
  },
  {
   "cell_type": "code",
   "execution_count": null,
   "id": "2fca791f",
   "metadata": {},
   "outputs": [],
   "source": [
    "# accuracy\n"
   ]
  },
  {
   "cell_type": "code",
   "execution_count": null,
   "id": "89ed46df",
   "metadata": {},
   "outputs": [],
   "source": [
    "# f1_score\n"
   ]
  },
  {
   "cell_type": "code",
   "execution_count": null,
   "id": "d4ce3888",
   "metadata": {},
   "outputs": [],
   "source": [
    "#  precision_score, recall_score\n"
   ]
  },
  {
   "cell_type": "markdown",
   "id": "159f3222",
   "metadata": {
    "id": "159f3222"
   },
   "source": [
    "* 신용불량자가 아닌 케이스를 알고 싶은 것이 아니고, 신용불량자인 소수 케이스를 알아내고 싶은 것입니다.\n",
    "* 따라서 정확도만 가지고 비교하면 알기 어렵습니다.\n",
    "\n",
    "## 데이터 샘플링\n",
    "\n",
    "### 현실 속 데이터\n",
    "\n",
    "* 실제로 데이터를 탐색하다 보면 불균형한 데이터가 매우 많습니다.\n",
    "* 1년 중 눈이 오는 날과 눈이 오지 않는 날\n",
    "* 공장에서 정상 제품과 불량품\n",
    "* 등 5대 5로 균형 있게 분포되어 있는 분류 문제가 더 드뭅니다.\n",
    "* 이런 경우 어떻게 대처해야 할까요?\n",
    "\n",
    "### under-sampling과 over-sampling\n",
    "\n",
    "<img src=\"https://raw.githubusercontent.com/rafjaa/machine_learning_fecib/master/src/static/img/resampling.png\"/>\n",
    "\n",
    "* https://www.kaggle.com/rafjaa/resampling-strategies-for-imbalanced-datasets\n",
    "<br><br>\n",
    "* 이런 문제를 해결하기 위해서 불균형한 데이터는 전체 데이터에서 샘플링을 하는 방식을 달리합니다.\n",
    "* 방법은 크게 under-sampling과 over-sampling 두 가지가 있습니다.\n",
    "* 주요 골자는 두 값의 비율이 비슷하게 맞춰주는 것입니다.\n",
    "* under-sampling은 더 값이 많은 쪽에서 일부만 샘플링하여 비율을 맞춰주는 방법입니다.\n",
    "* over-sampling은 더 값이 적은 쪽에서 값을 늘려 비율을 맞춰준 방법입니다.\n",
    "* under-sampling은 구현이 쉽지만 전체 데이터가 줄어 머신러닝 모델 성능이 떨어질 우려가 있습니다.\n",
    "* 이번 예제에서는 over-sampling에 해당하는 SMOTE에 대해 알아보겠습니다.\n",
    "\n",
    "### SMOTE\n",
    "\n",
    "<img src=\"https://raw.githubusercontent.com/rafjaa/machine_learning_fecib/master/src/static/img/smote.png\"/>\n",
    "\n",
    "* https://www.kaggle.com/rafjaa/resampling-strategies-for-imbalanced-datasets\n",
    "<br><br>\n",
    "* SMOTE는 Synthetic Minority Over-sampling Technique의 약자로 합성 소수자 오버샘플링 기법입니다.\n",
    "* 적은 값을 늘릴 때, k-근접 이웃의 값을 이용하여 합성된 새로운 값을 추가합니다.\n",
    "* k-근접 이웃이란 가장 가까운 k개 이웃을 의미합니다.\n",
    "* https://imbalanced-learn.org/stable/references/generated/imblearn.over_sampling.SMOTE.html"
   ]
  },
  {
   "cell_type": "code",
   "execution_count": null,
   "id": "1300a6b5",
   "metadata": {
    "id": "1300a6b5"
   },
   "outputs": [],
   "source": [
    "# SMOTE는 Synthetic Minority Over-sampling Technique의 약자로 합성 소수자 오버샘플링 기법입니다.\n",
    "# X, y를 학습하고 다시 샘플링합니다(fit_resample).\n"
   ]
  },
  {
   "cell_type": "code",
   "execution_count": null,
   "id": "53917529",
   "metadata": {
    "id": "53917529",
    "outputId": "4806b7ee-c991-4f9c-d71b-909bbe650822"
   },
   "outputs": [],
   "source": [
    "# X shape\n"
   ]
  },
  {
   "cell_type": "code",
   "execution_count": null,
   "id": "104b9b30",
   "metadata": {
    "id": "104b9b30",
    "outputId": "2c31a63f-24f6-48ea-a2cf-0b5a5728b307"
   },
   "outputs": [],
   "source": [
    "# y shape\n"
   ]
  },
  {
   "cell_type": "code",
   "execution_count": null,
   "id": "1828fa36",
   "metadata": {
    "id": "1828fa36",
    "outputId": "d59216d8-2209-4d30-d2fe-011e9c4d6de1"
   },
   "outputs": [],
   "source": [
    "# y의 value_counts\n"
   ]
  },
  {
   "cell_type": "code",
   "execution_count": null,
   "id": "9c7d44ef",
   "metadata": {
    "id": "9c7d44ef",
    "outputId": "058bb6a2-7e34-4760-f65d-3b12cb74495a"
   },
   "outputs": [],
   "source": [
    "# y_resample의 value_counts\n"
   ]
  },
  {
   "cell_type": "markdown",
   "id": "30c4c4ca",
   "metadata": {
    "id": "30c4c4ca"
   },
   "source": [
    "## 데이터 분리"
   ]
  },
  {
   "cell_type": "code",
   "execution_count": null,
   "id": "b40ead8e",
   "metadata": {
    "id": "b40ead8e"
   },
   "outputs": [],
   "source": [
    "# resample X와 y값을 학습용 데이터와 검증용 데이터로 나눕니다.(train_test_split)\n",
    "# random_state는 난수 값을 고정하는 역할을 하는 파라미터입니다.\n",
    "# X_train, X_test, y_train, y_test에 값을 반환받습니다.\n"
   ]
  },
  {
   "cell_type": "markdown",
   "id": "6aa15046",
   "metadata": {
    "id": "6aa15046"
   },
   "source": [
    "## DummyClassifier"
   ]
  },
  {
   "cell_type": "code",
   "execution_count": null,
   "id": "ad8be243",
   "metadata": {
    "id": "ad8be243"
   },
   "outputs": [],
   "source": [
    "# DummyClassifier 모델 model_dummy를 선언합니다.\n"
   ]
  },
  {
   "cell_type": "code",
   "execution_count": null,
   "id": "ffc04219",
   "metadata": {
    "id": "ffc04219",
    "outputId": "69f93ac2-2a0c-4117-8240-1ccce96e68c6"
   },
   "outputs": [],
   "source": [
    "# DummyClassifier 모델을 X_train, y_train으로 학습시킵니다.\n",
    "# 단, DummyClassifier는 실제로 머신러닝 방식으로 학습하는 것이 아닙니다.\n",
    "# y_train에서 최빈값을 찾아서 그 값으로 반환합니다.\n"
   ]
  },
  {
   "cell_type": "code",
   "execution_count": null,
   "id": "53dc8b5e",
   "metadata": {
    "id": "53dc8b5e",
    "outputId": "b98ff18d-8a56-4b2d-c05f-0b3bf4ff528e"
   },
   "outputs": [],
   "source": [
    "# X_test로 model_dummy가 예측하게 만들겠습니다.\n",
    "# DummyClassifier가 실제로 X_test을 참고하여 예측하는 것이 아님에 주의하세요.\n",
    "# 예측한 값을 확인합니다.\n"
   ]
  },
  {
   "cell_type": "code",
   "execution_count": null,
   "id": "55ec3317",
   "metadata": {
    "id": "55ec3317"
   },
   "outputs": [],
   "source": [
    "# X_test로 model_dummy가 예측하게 만들겠습니다.\n",
    "# DummyClassifier가 실제로 X_test을 참고하여 예측하는 것이 아님에 주의하세요.\n",
    "# 예측한 값을 확인합니다.\n"
   ]
  },
  {
   "cell_type": "code",
   "execution_count": null,
   "id": "576f848b",
   "metadata": {
    "id": "576f848b",
    "outputId": "30761228-20c3-46c8-ef8a-6e9eeaf5d9ca"
   },
   "outputs": [],
   "source": [
    "# 예측값의 고유값을 확인합니다.\n"
   ]
  },
  {
   "cell_type": "code",
   "execution_count": null,
   "id": "4a90fb0e",
   "metadata": {
    "id": "4a90fb0e",
    "outputId": "c7d6f4f6-259b-4686-8f5d-e15ac0947ecc",
    "scrolled": true
   },
   "outputs": [],
   "source": [
    "# DummyClassifier의 classification_report\n"
   ]
  },
  {
   "cell_type": "markdown",
   "id": "0e383000",
   "metadata": {},
   "source": [
    "## DecisionTreeClassifier"
   ]
  },
  {
   "cell_type": "code",
   "execution_count": null,
   "id": "be437915",
   "metadata": {
    "id": "be437915"
   },
   "outputs": [],
   "source": [
    "# DecisionTreeClassifier\n"
   ]
  },
  {
   "cell_type": "code",
   "execution_count": null,
   "id": "0e972d16",
   "metadata": {
    "id": "0e972d16",
    "outputId": "ee89a2c9-7605-4ac7-ed14-7496e4380e54",
    "scrolled": true
   },
   "outputs": [],
   "source": [
    "# fit\n"
   ]
  },
  {
   "cell_type": "code",
   "execution_count": null,
   "id": "c1f1786c",
   "metadata": {
    "id": "c1f1786c"
   },
   "outputs": [],
   "source": [
    "# predict\n"
   ]
  },
  {
   "cell_type": "code",
   "execution_count": null,
   "id": "75e04740",
   "metadata": {
    "id": "75e04740",
    "outputId": "0e0a6134-4876-49eb-f6c5-5c0cc54592e2"
   },
   "outputs": [],
   "source": [
    "# 예측 결과의 고유한 값의 개수를 포함하는 Series를 반환합니다.\n"
   ]
  },
  {
   "cell_type": "code",
   "execution_count": null,
   "id": "6368d4b1",
   "metadata": {
    "id": "6368d4b1",
    "outputId": "b7527348-d955-46bf-8c91-dee631371a01"
   },
   "outputs": [],
   "source": [
    "# 정확도\n"
   ]
  },
  {
   "cell_type": "code",
   "execution_count": null,
   "id": "d8321581",
   "metadata": {
    "id": "d8321581",
    "outputId": "c399fc3f-f43a-45db-9f3a-a0ad9f7c86cd",
    "scrolled": true
   },
   "outputs": [],
   "source": [
    "# classification_report\n"
   ]
  },
  {
   "cell_type": "code",
   "execution_count": null,
   "id": "6344865c",
   "metadata": {
    "id": "6344865c"
   },
   "outputs": [],
   "source": [
    "# accuracy\n"
   ]
  },
  {
   "cell_type": "code",
   "execution_count": null,
   "id": "b17cb6c8",
   "metadata": {},
   "outputs": [],
   "source": [
    "# f1_score"
   ]
  },
  {
   "cell_type": "code",
   "execution_count": null,
   "id": "564215a0",
   "metadata": {},
   "outputs": [],
   "source": [
    "# precision, recall\n"
   ]
  },
  {
   "cell_type": "code",
   "execution_count": null,
   "id": "1c4030a0",
   "metadata": {},
   "outputs": [],
   "source": []
  }
 ],
 "metadata": {
  "colab": {
   "name": "신용카드데이터_분류의측정지표_SMOTE.ipynb",
   "provenance": []
  },
  "kernelspec": {
   "display_name": "Python 3 (ipykernel)",
   "language": "python",
   "name": "python3"
  },
  "language_info": {
   "codemirror_mode": {
    "name": "ipython",
    "version": 3
   },
   "file_extension": ".py",
   "mimetype": "text/x-python",
   "name": "python",
   "nbconvert_exporter": "python",
   "pygments_lexer": "ipython3",
   "version": "3.9.12"
  },
  "toc": {
   "base_numbering": 1,
   "nav_menu": {},
   "number_sections": true,
   "sideBar": true,
   "skip_h1_title": false,
   "title_cell": "Table of Contents",
   "title_sidebar": "Contents",
   "toc_cell": false,
   "toc_position": {},
   "toc_section_display": true,
   "toc_window_display": true
  },
  "varInspector": {
   "cols": {
    "lenName": 16,
    "lenType": 16,
    "lenVar": 40
   },
   "kernels_config": {
    "python": {
     "delete_cmd_postfix": "",
     "delete_cmd_prefix": "del ",
     "library": "var_list.py",
     "varRefreshCmd": "print(var_dic_list())"
    },
    "r": {
     "delete_cmd_postfix": ") ",
     "delete_cmd_prefix": "rm(",
     "library": "var_list.r",
     "varRefreshCmd": "cat(var_dic_list()) "
    }
   },
   "types_to_exclude": [
    "module",
    "function",
    "builtin_function_or_method",
    "instance",
    "_Feature"
   ],
   "window_display": false
  }
 },
 "nbformat": 4,
 "nbformat_minor": 5
}
